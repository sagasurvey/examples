{
 "cells": [
  {
   "cell_type": "code",
   "execution_count": 2,
   "metadata": {},
   "outputs": [
    {
     "name": "stdout",
     "output_type": "stream",
     "text": [
      "SAGA code version 0.6.1\n"
     ]
    }
   ],
   "source": [
    "import SAGA\n",
    "print('SAGA code version', SAGA.__version__)"
   ]
  },
  {
   "cell_type": "code",
   "execution_count": 11,
   "metadata": {},
   "outputs": [],
   "source": [
    "from SAGA import ObjectCuts as C\n",
    "from SAGA.utils import find_near_ra_dec"
   ]
  },
  {
   "cell_type": "code",
   "execution_count": 3,
   "metadata": {},
   "outputs": [
    {
     "name": "stdout",
     "output_type": "stream",
     "text": [
      "Downloading https://docs.google.com/spreadsheets/d/1b3k2eyFjHFDtmHce1xi6JKuj3ATOWYduTBFftx5oPp8/export?format=csv&gid=1471095077 [Done]\n"
     ]
    }
   ],
   "source": [
    "saga_database = SAGA.Database('/home/yymao/Dropbox/Academia/Collaborations/SAGA', '/home/yymao/Documents/Research/SAGA')\n",
    "saga_host_catalog = SAGA.HostCatalog(saga_database)\n",
    "saga_object_catalog = SAGA.ObjectCatalog(saga_database)"
   ]
  },
  {
   "cell_type": "code",
   "execution_count": 5,
   "metadata": {},
   "outputs": [
    {
     "data": {
      "text/plain": [
       "[61945, 132339, 147100, -1, -1, 165980]"
      ]
     },
     "execution_count": 5,
     "metadata": {},
     "output_type": "execute_result"
    }
   ],
   "source": [
    "saga_host_catalog.resolve_id(['AnaK', 'Narnia', 'Odyssey', 'pgc5619', 'pgc66934', 165980], 'NSA')"
   ]
  },
  {
   "cell_type": "code",
   "execution_count": 6,
   "metadata": {},
   "outputs": [
    {
     "data": {
      "text/plain": [
       "['AnaK', 'Narnia', 'Odyssey', None, None, None]"
      ]
     },
     "execution_count": 6,
     "metadata": {},
     "output_type": "execute_result"
    }
   ],
   "source": [
    "saga_host_catalog.resolve_id(['AnaK', 'Narnia', 'Odyssey', 'pgc5619', 'pgc66934', 165980], 'SAGA')"
   ]
  },
  {
   "cell_type": "code",
   "execution_count": 7,
   "metadata": {},
   "outputs": [
    {
     "data": {
      "text/plain": [
       "[7716, 1015, 6181, 578, 7079, 5894]"
      ]
     },
     "execution_count": 7,
     "metadata": {},
     "output_type": "execute_result"
    }
   ],
   "source": [
    "saga_host_catalog.resolve_id(['AnaK', 'Narnia', 'Odyssey', 'pgc5619', 'pgc66934', 165980], 'NGC')"
   ]
  },
  {
   "cell_type": "code",
   "execution_count": 9,
   "metadata": {},
   "outputs": [
    {
     "data": {
      "text/plain": [
       "[7817,\n",
       " -1,\n",
       " 1015,\n",
       " 2543,\n",
       " 3067,\n",
       " 3277,\n",
       " 4030,\n",
       " 4045,\n",
       " 4158,\n",
       " 5750,\n",
       " 5792,\n",
       " 5962,\n",
       " 6181,\n",
       " -1,\n",
       " 7541,\n",
       " 7716]"
      ]
     },
     "execution_count": 9,
     "metadata": {},
     "output_type": "execute_result"
    }
   ],
   "source": [
    "saga_host_catalog.resolve_id('paper1', 'NGC')"
   ]
  },
  {
   "cell_type": "code",
   "execution_count": 10,
   "metadata": {},
   "outputs": [
    {
     "data": {
      "text/html": [
       "<i>Row index=0 masked=True</i>\n",
       "<table id=\"table140440787931432\">\n",
       "<thead><tr><th>SAGA_name</th><th>NSAID</th><th>RA</th><th>Dec</th><th>PGC</th><th>NSA1ID</th><th>NGC</th><th>UGC</th><th>vhelio</th><th>distance</th><th>r</th><th>i</th><th>z</th><th>I</th><th>K</th><th>K_err</th><th>flag</th><th>K_abs</th><th>r_abs</th><th>b</th><th>dist_to_group</th><th>brightest_K_nearby</th><th>SDSS_FRACGOOD</th><th>RA_sub</th><th>Dec_sub</th><th>othername</th><th>vhelio_sub</th><th>vhelio_err</th><th>distance_sub</th><th>dist_2MASS_NSA</th><th>u</th><th>u_err</th><th>A_u</th><th>M_u</th><th>g</th><th>g_err</th><th>A_g</th><th>M_g</th><th>r_sub</th><th>r_err</th><th>A_r</th><th>M_r</th><th>i_sub</th><th>i_err</th><th>A_i</th><th>M_i</th><th>z_sub</th><th>z_err</th><th>A_z</th><th>M_z</th><th>J</th><th>J_err</th><th>A_J</th><th>M_J</th><th>H</th><th>H_err</th><th>A_H</th><th>M_H</th><th>K_sub</th><th>K_err_sub</th><th>A_K</th><th>M_K</th><th>stellar_mass</th><th>sersic_n</th><th>MK_compiled</th><th>des_dr1</th><th>decals_dr5</th><th>decals_dr6</th><th>coord</th></tr></thead>\n",
       "<thead><tr><th></th><th></th><th></th><th></th><th></th><th></th><th></th><th></th><th></th><th></th><th></th><th></th><th></th><th></th><th></th><th></th><th></th><th></th><th></th><th></th><th></th><th></th><th></th><th></th><th></th><th></th><th></th><th></th><th></th><th></th><th></th><th></th><th></th><th></th><th></th><th></th><th></th><th></th><th></th><th></th><th></th><th></th><th></th><th></th><th></th><th></th><th></th><th></th><th></th><th></th><th></th><th></th><th></th><th></th><th></th><th></th><th></th><th></th><th></th><th></th><th></th><th></th><th></th><th></th><th></th><th></th><th></th><th></th><th>deg,deg</th></tr></thead>\n",
       "<thead><tr><th>str11</th><th>int64</th><th>float64</th><th>float64</th><th>int64</th><th>int64</th><th>int64</th><th>int64</th><th>float64</th><th>float64</th><th>float64</th><th>float64</th><th>float64</th><th>float64</th><th>float64</th><th>float64</th><th>int64</th><th>float64</th><th>float64</th><th>float64</th><th>float64</th><th>float64</th><th>float64</th><th>float64</th><th>float64</th><th>str16</th><th>float64</th><th>int64</th><th>float64</th><th>float64</th><th>float64</th><th>float64</th><th>float64</th><th>float64</th><th>float64</th><th>float64</th><th>float64</th><th>float64</th><th>float64</th><th>float64</th><th>float64</th><th>float64</th><th>float64</th><th>float64</th><th>float64</th><th>float64</th><th>float64</th><th>float64</th><th>float64</th><th>float64</th><th>float64</th><th>float64</th><th>float64</th><th>float64</th><th>float64</th><th>float64</th><th>float64</th><th>float64</th><th>float64</th><th>float64</th><th>float64</th><th>float64</th><th>int64</th><th>float64</th><th>float64</th><th>float64</th><th>float64</th><th>float64</th><th>object</th></tr></thead>\n",
       "<tr><td>AnaK</td><td>61945</td><td>354.131</td><td>0.297265</td><td>71883</td><td>303634</td><td>7716</td><td>12702</td><td>2556.76</td><td>34.7674</td><td>12.0858</td><td>11.7031</td><td>11.4059</td><td>11.65</td><td>9.3</td><td>0.03</td><td>0</td><td>-23.4059</td><td>-20.6201</td><td>-57.1915</td><td>9.4085</td><td>12.75</td><td>0.988686</td><td>354.131</td><td>0.297265</td><td>23363144+0017501</td><td>2556.76</td><td>-1</td><td>34.7674</td><td>0.18565</td><td>13.9881</td><td>0.00362979</td><td>0.146192</td><td>-18.8929</td><td>12.2354</td><td>0.000889212</td><td>0.113912</td><td>-20.607</td><td>11.3966</td><td>0.000934616</td><td>0.0788036</td><td>-21.3986</td><td>10.9721</td><td>0.000835867</td><td>0.0585595</td><td>-21.8018</td><td>10.6397</td><td>0.00123655</td><td>0.0435575</td><td>-22.1167</td><td>10.239</td><td>0.019</td><td>0.0244515</td><td>-22.4891</td><td>9.594</td><td>0.025</td><td>0.0154848</td><td>-23.128</td><td>9.312</td><td>0.027</td><td>0.0104152</td><td>-23.3869</td><td>24700000000</td><td>6.0</td><td>-23.4059</td><td>1.0</td><td>1.0</td><td>0.0</td><td>354.131,0.297265</td></tr>\n",
       "</table>"
      ],
      "text/plain": [
       "<Row index=0 masked=True>\n",
       "SAGA_name NSAID    RA     Dec     PGC  NSA1ID  NGC   UGC   vhelio distance    r       i       z       I       K     K_err   flag  K_abs    r_abs      b     dist_to_group brightest_K_nearby SDSS_FRACGOOD  RA_sub Dec_sub     othername     vhelio_sub vhelio_err distance_sub dist_2MASS_NSA    u      u_err      A_u      M_u       g       g_err      A_g      M_g    r_sub     r_err       A_r      M_r     i_sub     i_err       A_i      M_i     z_sub    z_err       A_z      M_z       J     J_err     A_J      M_J       H     H_err     A_H      M_H    K_sub  K_err_sub    A_K      M_K    stellar_mass sersic_n MK_compiled des_dr1 decals_dr5 decals_dr6      coord      \n",
       "                                                                                                                                                                                                                                                                                                                                                                                                                                                                                                                                                                                                                                                                           deg,deg     \n",
       "  str11   int64 float64 float64  int64 int64  int64 int64 float64 float64  float64 float64 float64 float64 float64 float64 int64 float64  float64  float64     float64         float64          float64    float64 float64       str16        float64     int64      float64       float64     float64  float64   float64  float64  float64   float64   float64  float64 float64   float64    float64  float64  float64   float64    float64  float64  float64  float64    float64  float64  float64 float64  float64  float64  float64 float64  float64  float64 float64  float64   float64  float64     int64     float64    float64   float64  float64    float64        object     \n",
       "--------- ----- ------- -------- ----- ------ ----- ----- ------- -------- ------- ------- ------- ------- ------- ------- ----- -------- -------- -------- ------------- ------------------ ------------- ------- -------- ---------------- ---------- ---------- ------------ -------------- ------- ---------- -------- -------- ------- ----------- -------- ------- ------- ----------- --------- -------- ------- ----------- --------- -------- ------- ---------- --------- -------- ------- ------- --------- -------- ------- ------- --------- ------- ------- --------- --------- -------- ------------ -------- ----------- ------- ---------- ---------- ----------------\n",
       "     AnaK 61945 354.131 0.297265 71883 303634  7716 12702 2556.76  34.7674 12.0858 11.7031 11.4059   11.65     9.3    0.03     0 -23.4059 -20.6201 -57.1915        9.4085              12.75      0.988686 354.131 0.297265 23363144+0017501    2556.76         -1      34.7674        0.18565 13.9881 0.00362979 0.146192 -18.8929 12.2354 0.000889212 0.113912 -20.607 11.3966 0.000934616 0.0788036 -21.3986 10.9721 0.000835867 0.0585595 -21.8018 10.6397 0.00123655 0.0435575 -22.1167  10.239   0.019 0.0244515 -22.4891   9.594   0.025 0.0154848 -23.128   9.312     0.027 0.0104152 -23.3869  24700000000      6.0    -23.4059     1.0        1.0        0.0 354.131,0.297265"
      ]
     },
     "execution_count": 10,
     "metadata": {},
     "output_type": "execute_result"
    }
   ],
   "source": [
    "saga_host_catalog.load_single_near_ra_dec(354.1, 0.1)"
   ]
  },
  {
   "cell_type": "code",
   "execution_count": 15,
   "metadata": {},
   "outputs": [],
   "source": [
    "base = saga_object_catalog.load('AnaK', cuts=C.basic_cut, version='paper1').pop()"
   ]
  },
  {
   "cell_type": "code",
   "execution_count": 19,
   "metadata": {},
   "outputs": [
    {
     "data": {
      "text/html": [
       "<i>Table length=1</i>\n",
       "<table id=\"table140440785082632\" class=\"table-striped table-bordered table-condensed\">\n",
       "<thead><tr><th>OBJID</th><th>RA</th><th>DEC</th><th>PHOTPTYPE</th><th>PHOT_SG</th><th>FLAGS</th><th>clean</th><th>SATURATED</th><th>BAD_COUNTS_ERROR</th><th>BINNED1</th><th>TOO_FEW_GOOD_DETECTIONS</th><th>u</th><th>g</th><th>r</th><th>i</th><th>z</th><th>u_err</th><th>g_err</th><th>r_err</th><th>i_err</th><th>z_err</th><th>MODELMAGERR_U</th><th>MODELMAGERR_G</th><th>MODELMAGERR_R</th><th>MODELMAGERR_I</th><th>MODELMAGERR_Z</th><th>EXTINCTION_U</th><th>EXTINCTION_G</th><th>EXTINCTION_R</th><th>EXTINCTION_I</th><th>EXTINCTION_Z</th><th>DERED_U</th><th>DERED_G</th><th>DERED_R</th><th>DERED_I</th><th>DERED_Z</th><th>PETRORAD_U</th><th>PETRORAD_G</th><th>PETRORAD_R</th><th>PETRORAD_I</th><th>PETRORAD_Z</th><th>PETRORADERR_U</th><th>PETRORADERR_G</th><th>PETRORADERR_R</th><th>PETRORADERR_I</th><th>PETRORADERR_Z</th><th>DEVRAD_U</th><th>DEVRADERR_U</th><th>DEVRAD_G</th><th>DEVRADERR_G</th><th>DEVRAD_R</th><th>DEVRADERR_R</th><th>DEVRAD_I</th><th>DEVRADERR_I</th><th>DEVRAD_Z</th><th>DEVRADERR_Z</th><th>DEVAB_U</th><th>DEVAB_G</th><th>DEVAB_R</th><th>DEVAB_I</th><th>DEVAB_Z</th><th>CMODELMAG_U</th><th>CMODELMAGERR_U</th><th>CMODELMAG_G</th><th>CMODELMAGERR_G</th><th>CMODELMAG_R</th><th>CMODELMAGERR_R</th><th>CMODELMAG_I</th><th>CMODELMAGERR_I</th><th>CMODELMAG_Z</th><th>CMODELMAGERR_Z</th><th>PSFMAG_U</th><th>PSFMAGERR_U</th><th>PSFMAG_G</th><th>PSFMAGERR_G</th><th>PSFMAG_R</th><th>PSFMAGERR_R</th><th>PSFMAG_I</th><th>PSFMAGERR_I</th><th>PSFMAG_Z</th><th>PSFMAGERR_Z</th><th>FIBERMAG_U</th><th>FIBERMAGERR_U</th><th>FIBERMAG_G</th><th>FIBERMAGERR_G</th><th>FIBERMAG_R</th><th>FIBERMAGERR_R</th><th>FIBERMAG_I</th><th>FIBERMAGERR_I</th><th>FIBERMAG_Z</th><th>FIBERMAGERR_Z</th><th>FRACDEV_U</th><th>FRACDEV_G</th><th>FRACDEV_R</th><th>FRACDEV_I</th><th>FRACDEV_Z</th><th>Q_U</th><th>U_U</th><th>Q_G</th><th>U_G</th><th>Q_R</th><th>U_R</th><th>Q_I</th><th>U_I</th><th>Q_Z</th><th>U_Z</th><th>EXPAB_U</th><th>EXPRAD_U</th><th>EXPPHI_U</th><th>EXPAB_G</th><th>EXPRAD_G</th><th>EXPPHI_G</th><th>EXPAB_R</th><th>EXPRAD_R</th><th>EXPPHI_R</th><th>EXPAB_I</th><th>EXPRAD_I</th><th>EXPPHI_I</th><th>EXPAB_Z</th><th>EXPRAD_Z</th><th>EXPPHI_Z</th><th>FIBER2MAG_R</th><th>FIBER2MAGERR_R</th><th>EXPMAG_R</th><th>EXPMAGERR_R</th><th>PETROR50_R</th><th>PETROR90_R</th><th>PETROMAG_R</th><th>SB_EXP_R</th><th>SB_PETRO_R</th><th>J</th><th>JERR</th><th>H</th><th>HERR</th><th>K</th><th>KERR</th><th>survey</th><th>SPEC_Z</th><th>SPEC_Z_ERR</th><th>SPEC_Z_WARN</th><th>PHOTOZ</th><th>PHOTOZ_ERR</th><th>W1</th><th>W1ERR</th><th>W2</th><th>W2ERR</th><th>HOST_RA</th><th>HOST_DEC</th><th>HOST_DIST</th><th>HOST_VHOST</th><th>HOST_MK</th><th>HOST_MR</th><th>HOST_MG</th><th>HOST_NSAID</th><th>HOST_SAGA_NAME</th><th>HOST_NGC_NAME</th><th>RHOST_ARCM</th><th>RHOST_KPC</th><th>OBJ_NSAID</th><th>SATS</th><th>PROBABILITY_CLASS1</th><th>RESCALED_PROBABILITY_CLASS1</th><th>REMOVE</th><th>TELNAME</th><th>MASKNAME</th><th>ZQUALITY</th><th>SPEC_CLASS</th><th>SPECOBJID</th><th>SPEC_REPEAT</th><th>SPEC_SN</th><th>SPEC_HA_EW</th><th>SPEC_HA_EWERR</th><th>u_mag</th><th>g_mag</th><th>r_mag</th><th>i_mag</th><th>z_mag</th><th>ug</th><th>ug_err</th><th>gr</th><th>gr_err</th><th>ri</th><th>ri_err</th><th>iz</th><th>iz_err</th><th>rz</th><th>rz_err</th><th>coord</th></tr></thead>\n",
       "<thead><tr><th></th><th></th><th></th><th></th><th></th><th></th><th></th><th></th><th></th><th></th><th></th><th></th><th></th><th></th><th></th><th></th><th></th><th></th><th></th><th></th><th></th><th></th><th></th><th></th><th></th><th></th><th></th><th></th><th></th><th></th><th></th><th></th><th></th><th></th><th></th><th></th><th></th><th></th><th></th><th></th><th></th><th></th><th></th><th></th><th></th><th></th><th></th><th></th><th></th><th></th><th></th><th></th><th></th><th></th><th></th><th></th><th></th><th></th><th></th><th></th><th></th><th></th><th></th><th></th><th></th><th></th><th></th><th></th><th></th><th></th><th></th><th></th><th></th><th></th><th></th><th></th><th></th><th></th><th></th><th></th><th></th><th></th><th></th><th></th><th></th><th></th><th></th><th></th><th></th><th></th><th></th><th></th><th></th><th></th><th></th><th></th><th></th><th></th><th></th><th></th><th></th><th></th><th></th><th></th><th></th><th></th><th></th><th></th><th></th><th></th><th></th><th></th><th></th><th></th><th></th><th></th><th></th><th></th><th></th><th></th><th></th><th></th><th></th><th></th><th></th><th></th><th></th><th></th><th></th><th></th><th></th><th></th><th></th><th></th><th></th><th></th><th></th><th></th><th></th><th></th><th></th><th></th><th></th><th></th><th></th><th></th><th></th><th></th><th></th><th></th><th></th><th></th><th></th><th></th><th></th><th></th><th></th><th></th><th></th><th></th><th></th><th></th><th></th><th></th><th></th><th></th><th></th><th></th><th></th><th></th><th></th><th></th><th></th><th></th><th></th><th></th><th></th><th></th><th></th><th></th><th></th><th></th><th></th><th></th><th></th><th></th><th></th><th>deg,deg</th></tr></thead>\n",
       "<thead><tr><th>int64</th><th>float64</th><th>float64</th><th>int16</th><th>str40</th><th>int64</th><th>int32</th><th>int64</th><th>int64</th><th>int64</th><th>int64</th><th>float32</th><th>float32</th><th>float32</th><th>float32</th><th>float32</th><th>float32</th><th>float32</th><th>float32</th><th>float32</th><th>float32</th><th>float32</th><th>float32</th><th>float32</th><th>float32</th><th>float32</th><th>float32</th><th>float32</th><th>float32</th><th>float32</th><th>float32</th><th>float32</th><th>float32</th><th>float32</th><th>float32</th><th>float32</th><th>float32</th><th>float32</th><th>float32</th><th>float32</th><th>float32</th><th>float32</th><th>float32</th><th>float32</th><th>float32</th><th>float32</th><th>float32</th><th>float32</th><th>float32</th><th>float32</th><th>float32</th><th>float32</th><th>float32</th><th>float32</th><th>float32</th><th>float32</th><th>float32</th><th>float32</th><th>float32</th><th>float32</th><th>float32</th><th>float32</th><th>float32</th><th>float32</th><th>float32</th><th>float32</th><th>float32</th><th>float32</th><th>float32</th><th>float32</th><th>float32</th><th>float32</th><th>float32</th><th>float32</th><th>float32</th><th>float32</th><th>float32</th><th>float32</th><th>float32</th><th>float32</th><th>float32</th><th>float32</th><th>float32</th><th>float32</th><th>float32</th><th>float32</th><th>float32</th><th>float32</th><th>float32</th><th>float32</th><th>float32</th><th>float32</th><th>float32</th><th>float32</th><th>float32</th><th>float32</th><th>float32</th><th>float32</th><th>float32</th><th>float32</th><th>float32</th><th>float32</th><th>float32</th><th>float32</th><th>float32</th><th>float32</th><th>float32</th><th>float32</th><th>float32</th><th>float32</th><th>float32</th><th>float32</th><th>float32</th><th>float32</th><th>float32</th><th>float32</th><th>float32</th><th>float32</th><th>float32</th><th>float32</th><th>float32</th><th>float32</th><th>float32</th><th>float32</th><th>float32</th><th>float32</th><th>float32</th><th>float32</th><th>float64</th><th>float64</th><th>float32</th><th>float32</th><th>float32</th><th>float32</th><th>float32</th><th>float32</th><th>str32</th><th>float32</th><th>float32</th><th>int32</th><th>float32</th><th>float32</th><th>float64</th><th>float64</th><th>float64</th><th>float64</th><th>float64</th><th>float64</th><th>float64</th><th>float64</th><th>float64</th><th>float64</th><th>float64</th><th>int64</th><th>str48</th><th>str48</th><th>float64</th><th>float64</th><th>int64</th><th>int64</th><th>float64</th><th>float64</th><th>int64</th><th>str6</th><th>str48</th><th>int64</th><th>str2</th><th>str48</th><th>str48</th><th>float64</th><th>float64</th><th>float64</th><th>float32</th><th>float32</th><th>float32</th><th>float32</th><th>float32</th><th>float32</th><th>float32</th><th>float32</th><th>float32</th><th>float32</th><th>float32</th><th>float32</th><th>float32</th><th>float32</th><th>float32</th><th>object</th></tr></thead>\n",
       "<tr><td>1237663277925335850</td><td>354.52725311786776</td><td>0.533963323663697</td><td>3</td><td>GALAXY</td><td>387097114444120</td><td>0</td><td>0</td><td>0</td><td>268435456</td><td>281474976710656</td><td>23.157026</td><td>21.151005</td><td>20.511053</td><td>20.544523</td><td>20.521677</td><td>1.3062488</td><td>0.11611365</td><td>0.09069795</td><td>0.16032028</td><td>0.55363494</td><td>1.3062488</td><td>0.11611365</td><td>0.09069795</td><td>0.16032028</td><td>0.55363494</td><td>0.183577</td><td>0.1350742</td><td>0.09796708</td><td>0.07428547</td><td>0.052669324</td><td>22.97345</td><td>21.01593</td><td>20.413086</td><td>20.470238</td><td>20.469007</td><td>0.09888045</td><td>2.969777</td><td>3.972458</td><td>4.004749</td><td>2.9699438</td><td>0.56955683</td><td>-1000.0</td><td>0.2856129</td><td>3.8531563</td><td>-1000.0</td><td>4.1078606</td><td>24.357428</td><td>7.0083003</td><td>3.6127565</td><td>12.890882</td><td>6.009831</td><td>14.949388</td><td>17.985275</td><td>25.129976</td><td>180.23373</td><td>0.05</td><td>0.24997887</td><td>0.41231683</td><td>0.27017874</td><td>0.22774583</td><td>23.071022</td><td>1.1286737</td><td>21.251692</td><td>0.11374545</td><td>20.511024</td><td>0.10408531</td><td>20.629751</td><td>0.22221515</td><td>20.452154</td><td>1.1568093</td><td>24.274363</td><td>0.6490783</td><td>23.02407</td><td>0.15188469</td><td>22.758207</td><td>0.14878005</td><td>23.233503</td><td>0.345046</td><td>22.508795</td><td>0.5430534</td><td>22.890825</td><td>0.37060225</td><td>22.304447</td><td>0.10983378</td><td>22.071985</td><td>0.13228711</td><td>21.666634</td><td>0.1565351</td><td>21.368593</td><td>0.40014282</td><td>1.0</td><td>0.14519034</td><td>0.0</td><td>0.0</td><td>0.0</td><td>-6.0643544</td><td>3.3569849</td><td>-0.28982237</td><td>-0.084822126</td><td>-0.2540053</td><td>-0.018075127</td><td>-0.34999603</td><td>-0.08215054</td><td>-0.38681445</td><td>-0.10425408</td><td>0.15108702</td><td>1.7641907</td><td>0.032021098</td><td>0.277151</td><td>3.0672653</td><td>101.898415</td><td>0.48732546</td><td>3.2608423</td><td>92.93472</td><td>0.34946385</td><td>3.4114723</td><td>103.42252</td><td>0.30624947</td><td>4.2485447</td><td>97.25392</td><td>22.88999</td><td>0.18330663</td><td>20.511024</td><td>0.10408531</td><td>2.13682</td><td>3.18142</td><td>20.718172</td><td>25.073123141901103</td><td>24.36246152291684</td><td>9999.0</td><td>9999.0</td><td>9999.0</td><td>9999.0</td><td>9999.0</td><td>9999.0</td><td></td><td>0.03247</td><td>-1.0</td><td>-1</td><td>0.209251</td><td>0.08979</td><td>-1.0</td><td>-1.0</td><td>-1.0</td><td>-1.0</td><td>354.13105403</td><td>0.297265046422</td><td>34.7674179077</td><td>2556.75927734</td><td>-23.3869421766</td><td>-21.3985522336</td><td>-20.6070086585</td><td>61945</td><td>61945</td><td>7716</td><td>27.690588868107756</td><td>280.0438569359554</td><td>-1</td><td>-1</td><td>0.0338816442867</td><td>-1.0</td><td>-1</td><td>AAT</td><td>/Spectra/Final/AAT/AnaK2016_1_MG.mz</td><td>2</td><td></td><td>365.0</td><td>AAT+MMT</td><td>-99.0</td><td>-99.0</td><td>-99.0</td><td>22.97345</td><td>21.01593</td><td>20.413086</td><td>20.470238</td><td>20.469007</td><td>1.9575195</td><td>1.3113993</td><td>0.60284424</td><td>0.14733803</td><td>-0.057151794</td><td>0.18419749</td><td>0.0012302399</td><td>0.5763803</td><td>-0.055921555</td><td>0.56101495</td><td>354.52725311786776,0.533963323663697</td></tr>\n",
       "</table>"
      ],
      "text/plain": [
       "<Table length=1>\n",
       "       OBJID                RA         ...                coord                \n",
       "                                       ...               deg,deg               \n",
       "       int64             float64       ...                object               \n",
       "------------------- ------------------ ... ------------------------------------\n",
       "1237663277925335850 354.52725311786776 ... 354.52725311786776,0.533963323663697"
      ]
     },
     "execution_count": 19,
     "metadata": {},
     "output_type": "execute_result"
    }
   ],
   "source": [
    "find_near_ra_dec(base, 354.52722168, 0.533963859, 10)"
   ]
  },
  {
   "cell_type": "code",
   "execution_count": null,
   "metadata": {},
   "outputs": [],
   "source": []
  }
 ],
 "metadata": {
  "kernelspec": {
   "display_name": "Python 3",
   "language": "python",
   "name": "python3"
  },
  "language_info": {
   "codemirror_mode": {
    "name": "ipython",
    "version": 3
   },
   "file_extension": ".py",
   "mimetype": "text/x-python",
   "name": "python",
   "nbconvert_exporter": "python",
   "pygments_lexer": "ipython3",
   "version": "3.6.5"
  }
 },
 "nbformat": 4,
 "nbformat_minor": 2
}
