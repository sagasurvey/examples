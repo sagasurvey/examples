{
 "cells": [
  {
   "cell_type": "code",
   "execution_count": 1,
   "metadata": {},
   "outputs": [
    {
     "name": "stdout",
     "output_type": "stream",
     "text": [
      "SAGA code version 0.3.4\n"
     ]
    }
   ],
   "source": [
    "import SAGA\n",
    "from SAGA.utils import add_skycoord\n",
    "from SAGA.objects.build import *\n",
    "from SAGA.database import FitsTable\n",
    "\n",
    "print('SAGA code version', SAGA.__version__)"
   ]
  },
  {
   "cell_type": "code",
   "execution_count": 3,
   "metadata": {
    "collapsed": true
   },
   "outputs": [],
   "source": [
    "import os\n",
    "import time"
   ]
  },
  {
   "cell_type": "code",
   "execution_count": 4,
   "metadata": {
    "collapsed": true
   },
   "outputs": [],
   "source": [
    "SDSS_DR = 14"
   ]
  },
  {
   "cell_type": "code",
   "execution_count": 5,
   "metadata": {
    "collapsed": true
   },
   "outputs": [],
   "source": [
    "saga_database = SAGA.Database('/home/yymao/Dropbox/Academia/Collaborations/SAGA')\n",
    "\n",
    "saga_database.sdss_file_path_pattern = '/home/yymao/Documents/Research/SAGA/external_catalogs/sdss_dr{}/nsa{{}}.fits.gz'.format(SDSS_DR)\n",
    "saga_database.wise_file_path_pattern = '/home/yymao/Documents/Research/SAGA/external_catalogs/wise/nsa{}.fits.gz'\n",
    "\n",
    "saga_database['spectra_gama'].local = '/home/yymao/Documents/Research/SAGA/external_catalogs/GAMA_SpecObj.fits'\n",
    "saga_database['nsa_v0.1.2'].local = '/home/yymao/Documents/Research/SAGA/external_catalogs/nsa_v0_1_2.fits'"
   ]
  },
  {
   "cell_type": "code",
   "execution_count": 6,
   "metadata": {},
   "outputs": [
    {
     "name": "stdout",
     "output_type": "stream",
     "text": [
      "Downloading https://docs.google.com/spreadsheets/d/1b3k2eyFjHFDtmHce1xi6JKuj3ATOWYduTBFftx5oPp8/export?format=csv&gid=1136984451 [Done]\n",
      "Downloading https://docs.google.com/spreadsheets/d/1GJYuhqfKeuJr-IyyGF_NDLb_ezL6zBiX2aeZFHHPr_s/export?format=csv&gid=0 [Done]\n"
     ]
    }
   ],
   "source": [
    "saga_host_catalog = SAGA.HostCatalog(saga_database)"
   ]
  },
  {
   "cell_type": "code",
   "execution_count": 7,
   "metadata": {},
   "outputs": [],
   "source": [
    "nsa = add_skycoord(saga_database['nsa_v0.1.2'].read()[nsa_cols_used])"
   ]
  },
  {
   "cell_type": "code",
   "execution_count": 8,
   "metadata": {
    "collapsed": true
   },
   "outputs": [],
   "source": [
    "spectra_raw_all = saga_database['spectra_raw_all'].read()"
   ]
  },
  {
   "cell_type": "code",
   "execution_count": 9,
   "metadata": {},
   "outputs": [
    {
     "name": "stdout",
     "output_type": "stream",
     "text": [
      "[08/31 18:17:46] Working on NSA 166313\n",
      "Downloading https://docs.google.com/spreadsheets/d/1b3k2eyFjHFDtmHce1xi6JKuj3ATOWYduTBFftx5oPp8/export?format=csv&gid=1471095077 [Done]\n",
      "Downloading https://docs.google.com/spreadsheets/d/1Y3nO7VyU4jDiBPawCs8wJQt2s_PIAKRj-HSrmcWeQZo/export?format=csv&gid=1379081675 [Done]\n",
      "Downloading https://docs.google.com/spreadsheets/d/1Y3nO7VyU4jDiBPawCs8wJQt2s_PIAKRj-HSrmcWeQZo/export?format=csv&gid=286645731 [Done]\n"
     ]
    },
    {
     "name": "stderr",
     "output_type": "stream",
     "text": [
      "WARNING:root:in SAGA.objects.build.remove_shreds_with_sdss()\n",
      " Too many (> 25) shreds around SDSS spec (233.9834466877621, 16.070882036723592)\n"
     ]
    },
    {
     "name": "stdout",
     "output_type": "stream",
     "text": [
      "[08/31 18:19:21] Working on NSA 147100\n",
      "[08/31 18:21:35] Working on NSA 165536\n"
     ]
    },
    {
     "name": "stderr",
     "output_type": "stream",
     "text": [
      "WARNING:root:in SAGA.objects.build.remove_shreds_with_nsa()\n",
      " No object within the radius of NSA 145531 (221.0511483286393, 0.17499166664364407)\n"
     ]
    },
    {
     "name": "stdout",
     "output_type": "stream",
     "text": [
      "[08/31 18:23:42] Working on NSA 61945\n",
      "[08/31 18:25:08] Working on NSA 132339\n",
      "[08/31 18:26:01] Working on NSA 149781\n",
      "[08/31 18:26:46] Working on NSA 33446\n",
      "[08/31 18:27:35] Working on NSA 150887\n",
      "[08/31 18:28:13] Working on NSA 161174\n",
      "[08/31 18:28:42] Working on NSA 85746\n",
      "[08/31 18:29:25] Working on NSA 145729\n",
      "[08/31 18:29:54] Working on NSA 140594\n",
      "[08/31 18:31:01] Working on NSA 126115\n",
      "[08/31 18:31:20] Working on NSA 13927\n",
      "[08/31 18:32:00] Working on NSA 137625\n",
      "[08/31 18:32:22] Working on NSA 129237\n"
     ]
    }
   ],
   "source": [
    "overwrite = False\n",
    "base_output_pattern = '/home/yymao/Documents/Research/SAGA/new_base_catalogs/base_dr{}_nsa{{}}.fits.gz'.format(SDSS_DR)\n",
    "\n",
    "for host_id in saga_host_catalog.resolve_id('paper1'):\n",
    "    output_path = base_output_pattern.format(host_id)\n",
    "    if os.path.isfile(output_path) and not overwrite:\n",
    "        continue\n",
    "    \n",
    "    print(time.strftime('[%m/%d %H:%M:%S]'), 'Working on NSA', host_id)\n",
    "    \n",
    "    try:\n",
    "        wise = saga_database['wise', host_id].read()[wise_cols_used]\n",
    "    except OSError:\n",
    "        wise = None\n",
    "        \n",
    "    base = build_full_stack(saga_database['sdss', host_id].read(), saga_host_catalog.load_single(host_id), \n",
    "                            saga_database['hosts_named'].read(), wise, nsa, \n",
    "                            saga_database['objects_to_remove'].read(), saga_database['objects_to_add'].read(), \n",
    "                            spectra_raw_all)\n",
    "\n",
    "    FitsTable(output_path).write(base)"
   ]
  },
  {
   "cell_type": "code",
   "execution_count": null,
   "metadata": {
    "collapsed": true
   },
   "outputs": [],
   "source": []
  }
 ],
 "metadata": {
  "kernelspec": {
   "display_name": "Python 3",
   "language": "python",
   "name": "python3"
  },
  "language_info": {
   "codemirror_mode": {
    "name": "ipython",
    "version": 3
   },
   "file_extension": ".py",
   "mimetype": "text/x-python",
   "name": "python",
   "nbconvert_exporter": "python",
   "pygments_lexer": "ipython3",
   "version": "3.6.2"
  }
 },
 "nbformat": 4,
 "nbformat_minor": 2
}
