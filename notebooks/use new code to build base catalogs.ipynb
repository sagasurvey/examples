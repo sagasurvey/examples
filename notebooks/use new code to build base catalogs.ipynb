{
 "cells": [
  {
   "cell_type": "code",
   "execution_count": 1,
   "metadata": {},
   "outputs": [],
   "source": [
    "import sys\n",
    "sys.path.insert(0, '/home/yymao/Dropbox/Academia/Collaborations/SAGA-local/saga')"
   ]
  },
  {
   "cell_type": "code",
   "execution_count": 2,
   "metadata": {},
   "outputs": [
    {
     "name": "stdout",
     "output_type": "stream",
     "text": [
      "SAGA code version 0.6.0-dev\n"
     ]
    }
   ],
   "source": [
    "import os\n",
    "import SAGA\n",
    "print('SAGA code version', SAGA.__version__)"
   ]
  },
  {
   "cell_type": "code",
   "execution_count": 3,
   "metadata": {},
   "outputs": [],
   "source": [
    "version = 2"
   ]
  },
  {
   "cell_type": "code",
   "execution_count": 4,
   "metadata": {},
   "outputs": [
    {
     "name": "stdout",
     "output_type": "stream",
     "text": [
      "Downloading https://docs.google.com/spreadsheets/d/1b3k2eyFjHFDtmHce1xi6JKuj3ATOWYduTBFftx5oPp8/export?format=csv&gid=1471095077 [Done]\n"
     ]
    }
   ],
   "source": [
    "saga_database = SAGA.Database('/home/yymao/Dropbox/Academia/Collaborations/SAGA')\n",
    "saga_host_catalog = SAGA.HostCatalog(saga_database)\n",
    "saga_object_catalog = SAGA.ObjectCatalog(saga_database)\n",
    "\n",
    "external_catalog_dir = '/home/yymao/Documents/Research/SAGA/external_catalogs'\n",
    "\n",
    "saga_database.sdss_file_path_pattern = os.path.join(external_catalog_dir, 'sdss_dr14/{}.fits.gz')\n",
    "saga_database.wise_file_path_pattern =  os.path.join(external_catalog_dir, 'wise/{}.fits.gz')\n",
    "saga_database.des_file_path_pattern =  os.path.join(external_catalog_dir, 'des_dr1/{}_des_dr1.fits.gz')\n",
    "saga_database.decals_file_path_pattern = os.path.join(external_catalog_dir, 'decals/{}_decals.fits.gz')\n",
    "saga_database['spectra_gama'].local =  os.path.join(external_catalog_dir, 'GAMA_SpecObj_dr3.fits')\n",
    "saga_database['nsa_v0.1.2'].local = os.path.join(external_catalog_dir, 'nsa_v0_1_2.fits')\n",
    "saga_database['nsa_v1.0.1'].local = os.path.join(external_catalog_dir, 'nsa_v1_0_1.fits')\n",
    "\n",
    "base_file_path_pattern = '/home/yymao/Documents/Research/SAGA/new_base_catalogs/base_dr14_{}.fits.gz'\n",
    "if version == 2:\n",
    "    base_file_path_pattern = base_file_path_pattern.replace('base_dr14_', 'base_v2_')\n",
    "saga_database.base_file_path_pattern = base_file_path_pattern"
   ]
  },
  {
   "cell_type": "code",
   "execution_count": 5,
   "metadata": {},
   "outputs": [
    {
     "name": "stdout",
     "output_type": "stream",
     "text": [
      "Downloading https://docs.google.com/spreadsheets/d/1Y3nO7VyU4jDiBPawCs8wJQt2s_PIAKRj-HSrmcWeQZo/export?format=csv&gid=1379081675 [Done]\n",
      "Downloading https://docs.google.com/spreadsheets/d/1Y3nO7VyU4jDiBPawCs8wJQt2s_PIAKRj-HSrmcWeQZo/export?format=csv&gid=286645731 [Done]\n",
      "[05/17 11:48:54] Building base catalog for nsa165980 (1/1)\n"
     ]
    },
    {
     "name": "stderr",
     "output_type": "stream",
     "text": [
      "/home/yymao/Dropbox/Academia/Collaborations/SAGA-local/saga/SAGA/objects/build2.py:138: RuntimeWarning: invalid value encountered in true_divide\n",
      "  catalog['radius_err'] = np.hypot(catalog['FRACDEV']**2.0 / catalog['SHAPEDEV_R_IVAR'], (1.0 - catalog['FRACDEV'])**2.0 / catalog['SHAPEEXP_R_IVAR'])\n",
      "/home/yymao/Dropbox/Academia/Collaborations/SAGA-local/saga/SAGA/objects/build2.py:138: RuntimeWarning: divide by zero encountered in true_divide\n",
      "  catalog['radius_err'] = np.hypot(catalog['FRACDEV']**2.0 / catalog['SHAPEDEV_R_IVAR'], (1.0 - catalog['FRACDEV'])**2.0 / catalog['SHAPEEXP_R_IVAR'])\n"
     ]
    },
    {
     "name": "stdout",
     "output_type": "stream",
     "text": [
      "[05/17 11:49:45] Writing base catalog to /home/yymao/Documents/Research/SAGA/new_base_catalogs/base_v2_nsa165980.fits.gz\n"
     ]
    }
   ],
   "source": [
    "saga_object_catalog.build_and_write_to_database(165980, overwrite=True, base_file_path_pattern=base_file_path_pattern, version=version)"
   ]
  },
  {
   "cell_type": "code",
   "execution_count": null,
   "metadata": {},
   "outputs": [],
   "source": []
  }
 ],
 "metadata": {
  "kernelspec": {
   "display_name": "Python 3",
   "language": "python",
   "name": "python3"
  },
  "language_info": {
   "codemirror_mode": {
    "name": "ipython",
    "version": 3
   },
   "file_extension": ".py",
   "mimetype": "text/x-python",
   "name": "python",
   "nbconvert_exporter": "python",
   "pygments_lexer": "ipython3",
   "version": "3.6.5"
  }
 },
 "nbformat": 4,
 "nbformat_minor": 2
}
