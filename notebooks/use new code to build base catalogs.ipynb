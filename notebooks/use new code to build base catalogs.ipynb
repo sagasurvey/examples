{
 "cells": [
  {
   "cell_type": "code",
   "execution_count": 1,
   "metadata": {
    "collapsed": true
   },
   "outputs": [],
   "source": [
    "import sys\n",
    "sys.path.insert(0, '/home/yymao/Dropbox/Academia/Collaborations/SAGA-local/code/saga')"
   ]
  },
  {
   "cell_type": "code",
   "execution_count": 2,
   "metadata": {},
   "outputs": [
    {
     "name": "stdout",
     "output_type": "stream",
     "text": [
      "SAGA code version 0.5.0\n"
     ]
    }
   ],
   "source": [
    "import SAGA\n",
    "\n",
    "print('SAGA code version', SAGA.__version__)"
   ]
  },
  {
   "cell_type": "code",
   "execution_count": 3,
   "metadata": {},
   "outputs": [
    {
     "name": "stdout",
     "output_type": "stream",
     "text": [
      "Downloading https://docs.google.com/spreadsheets/d/1b3k2eyFjHFDtmHce1xi6JKuj3ATOWYduTBFftx5oPp8/export?format=csv&gid=1136984451 [Done]\n",
      "Downloading https://docs.google.com/spreadsheets/d/1GJYuhqfKeuJr-IyyGF_NDLb_ezL6zBiX2aeZFHHPr_s/export?format=csv&gid=0 [Done]\n"
     ]
    }
   ],
   "source": [
    "saga_database = SAGA.Database('/home/yymao/Dropbox/Academia/Collaborations/SAGA')\n",
    "saga_object_catalog = SAGA.ObjectCatalog(saga_database)\n",
    "\n",
    "SDSS_DR = 14\n",
    "saga_database.sdss_file_path_pattern = '/home/yymao/Documents/Research/SAGA/external_catalogs/sdss_dr{}/nsa{{}}.fits.gz'.format(SDSS_DR)\n",
    "saga_database.wise_file_path_pattern = '/home/yymao/Documents/Research/SAGA/external_catalogs/wise/nsa{}.fits.gz'\n",
    "saga_database['spectra_gama'].local = '/home/yymao/Documents/Research/SAGA/external_catalogs/GAMA_SpecObj.fits'\n",
    "saga_database['nsa_v0.1.2'].local = '/home/yymao/Documents/Research/SAGA/external_catalogs/nsa_v0_1_2.fits'\n",
    "\n",
    "base_file_path_pattern = '/home/yymao/Documents/Research/SAGA/new_base_catalogs/base_dr{}_nsa{{}}.fits.gz'.format(SDSS_DR)"
   ]
  },
  {
   "cell_type": "code",
   "execution_count": 4,
   "metadata": {},
   "outputs": [
    {
     "name": "stdout",
     "output_type": "stream",
     "text": [
      "[09/02 12:37:39] Building base catalog for 166313 (1/16)\n",
      "Downloading https://docs.google.com/spreadsheets/d/1Y3nO7VyU4jDiBPawCs8wJQt2s_PIAKRj-HSrmcWeQZo/export?format=csv&gid=1379081675 [Done]\n",
      "Downloading https://docs.google.com/spreadsheets/d/1Y3nO7VyU4jDiBPawCs8wJQt2s_PIAKRj-HSrmcWeQZo/export?format=csv&gid=286645731 [Done]\n"
     ]
    },
    {
     "name": "stderr",
     "output_type": "stream",
     "text": [
      "WARNING:root:In SAGA.objects.build.remove_shreds_with_highz()\n",
      " Too many (> 25) shreds around high-z object 1237668367458828369 (233.9834466877621, 16.070882036723592)\n"
     ]
    },
    {
     "name": "stdout",
     "output_type": "stream",
     "text": [
      "[09/02 12:39:46] Writing base catalog to /home/yymao/Documents/Research/SAGA/new_base_catalogs/base_dr14_nsa166313.fits.gz\n",
      "[09/02 12:39:59] Building base catalog for 147100 (2/16)\n",
      "[09/02 12:42:39] Writing base catalog to /home/yymao/Documents/Research/SAGA/new_base_catalogs/base_dr14_nsa147100.fits.gz\n",
      "[09/02 12:42:55] Building base catalog for 165536 (3/16)\n"
     ]
    },
    {
     "name": "stderr",
     "output_type": "stream",
     "text": [
      "WARNING:root:In SAGA.objects.build.remove_shreds_with_nsa()\n",
      " No object within the radius of NSA 145531 (221.0511483286393, 0.17499166664364407)\n"
     ]
    },
    {
     "name": "stdout",
     "output_type": "stream",
     "text": [
      "[09/02 12:45:40] Writing base catalog to /home/yymao/Documents/Research/SAGA/new_base_catalogs/base_dr14_nsa165536.fits.gz\n",
      "[09/02 12:45:52] Building base catalog for 61945 (4/16)\n"
     ]
    },
    {
     "name": "stderr",
     "output_type": "stream",
     "text": [
      "WARNING:root:In SAGA.objects.build.add_cleaned_spectra()\n",
      " No object can be matched to MMT spec (354.20142174, 0.498705)\n",
      "WARNING:root:In SAGA.objects.build.add_cleaned_spectra()\n",
      " No object can be matched to MMT spec (354.199333185, 0.295363009)\n",
      "WARNING:root:In SAGA.objects.build.add_cleaned_spectra()\n",
      " No object can be matched to MMT spec (354.13258552499997, 0.261272997)\n",
      "WARNING:root:In SAGA.objects.build.add_cleaned_spectra()\n",
      " No object can be matched to MMT spec (354.05522346, 0.280936003)\n"
     ]
    },
    {
     "name": "stdout",
     "output_type": "stream",
     "text": [
      "[09/02 12:47:37] Writing base catalog to /home/yymao/Documents/Research/SAGA/new_base_catalogs/base_dr14_nsa61945.fits.gz\n",
      "[09/02 12:47:48] Building base catalog for 132339 (5/16)\n",
      "[09/02 12:48:48] Writing base catalog to /home/yymao/Documents/Research/SAGA/new_base_catalogs/base_dr14_nsa132339.fits.gz\n",
      "[09/02 12:48:57] Building base catalog for 149781 (6/16)\n",
      "[09/02 12:49:43] Writing base catalog to /home/yymao/Documents/Research/SAGA/new_base_catalogs/base_dr14_nsa149781.fits.gz\n",
      "[09/02 12:49:54] Building base catalog for 33446 (7/16)\n",
      "[09/02 12:50:55] Writing base catalog to /home/yymao/Documents/Research/SAGA/new_base_catalogs/base_dr14_nsa33446.fits.gz\n",
      "[09/02 12:51:06] Building base catalog for 150887 (8/16)\n",
      "[09/02 12:51:52] Writing base catalog to /home/yymao/Documents/Research/SAGA/new_base_catalogs/base_dr14_nsa150887.fits.gz\n",
      "[09/02 12:52:01] Building base catalog for 161174 (9/16)\n",
      "[09/02 12:52:29] Writing base catalog to /home/yymao/Documents/Research/SAGA/new_base_catalogs/base_dr14_nsa161174.fits.gz\n",
      "[09/02 12:52:39] Building base catalog for 85746 (10/16)\n",
      "[09/02 12:53:33] Writing base catalog to /home/yymao/Documents/Research/SAGA/new_base_catalogs/base_dr14_nsa85746.fits.gz\n",
      "[09/02 12:53:44] Building base catalog for 145729 (11/16)\n",
      "[09/02 12:54:09] Writing base catalog to /home/yymao/Documents/Research/SAGA/new_base_catalogs/base_dr14_nsa145729.fits.gz\n",
      "[09/02 12:54:22] Building base catalog for 140594 (12/16)\n",
      "[09/02 12:55:46] Writing base catalog to /home/yymao/Documents/Research/SAGA/new_base_catalogs/base_dr14_nsa140594.fits.gz\n",
      "[09/02 12:55:57] Building base catalog for 126115 (13/16)\n",
      "[09/02 12:56:13] Writing base catalog to /home/yymao/Documents/Research/SAGA/new_base_catalogs/base_dr14_nsa126115.fits.gz\n",
      "[09/02 12:56:21] Building base catalog for 13927 (14/16)\n",
      "[09/02 12:57:05] Writing base catalog to /home/yymao/Documents/Research/SAGA/new_base_catalogs/base_dr14_nsa13927.fits.gz\n",
      "[09/02 12:57:13] Building base catalog for 137625 (15/16)\n",
      "[09/02 12:57:33] Writing base catalog to /home/yymao/Documents/Research/SAGA/new_base_catalogs/base_dr14_nsa137625.fits.gz\n",
      "[09/02 12:57:42] Building base catalog for 129237 (16/16)\n",
      "[09/02 12:58:03] Writing base catalog to /home/yymao/Documents/Research/SAGA/new_base_catalogs/base_dr14_nsa129237.fits.gz\n"
     ]
    }
   ],
   "source": [
    "saga_object_catalog.build_and_write_to_database('paper1', overwrite=True, \n",
    "                                                base_file_path_pattern=base_file_path_pattern)"
   ]
  },
  {
   "cell_type": "code",
   "execution_count": null,
   "metadata": {
    "collapsed": true
   },
   "outputs": [],
   "source": []
  }
 ],
 "metadata": {
  "kernelspec": {
   "display_name": "Python 3",
   "language": "python",
   "name": "python3"
  },
  "language_info": {
   "codemirror_mode": {
    "name": "ipython",
    "version": 3
   },
   "file_extension": ".py",
   "mimetype": "text/x-python",
   "name": "python",
   "nbconvert_exporter": "python",
   "pygments_lexer": "ipython3",
   "version": "3.6.2"
  }
 },
 "nbformat": 4,
 "nbformat_minor": 2
}
