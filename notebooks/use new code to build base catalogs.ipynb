{
 "cells": [
  {
   "cell_type": "code",
   "execution_count": 1,
   "metadata": {},
   "outputs": [
    {
     "name": "stdout",
     "output_type": "stream",
     "text": [
      "SAGA code version 0.4.0\n"
     ]
    }
   ],
   "source": [
    "import SAGA\n",
    "from SAGA.utils import add_skycoord\n",
    "from SAGA.objects.build import *\n",
    "from SAGA.database import FitsTable\n",
    "\n",
    "print('SAGA code version', SAGA.__version__)"
   ]
  },
  {
   "cell_type": "code",
   "execution_count": 2,
   "metadata": {
    "collapsed": true
   },
   "outputs": [],
   "source": [
    "import os\n",
    "import time"
   ]
  },
  {
   "cell_type": "code",
   "execution_count": 3,
   "metadata": {
    "collapsed": true
   },
   "outputs": [],
   "source": [
    "saga_database = SAGA.Database('/home/yymao/Dropbox/Academia/Collaborations/SAGA')\n",
    "saga_database.wise_file_path_pattern = '/home/yymao/Documents/Research/SAGA/external_catalogs/wise/nsa{}.fits.gz'\n",
    "saga_database['spectra_gama'].local = '/home/yymao/Documents/Research/SAGA/external_catalogs/GAMA_SpecObj.fits'\n",
    "saga_database['nsa_v0.1.2'].local = '/home/yymao/Documents/Research/SAGA/external_catalogs/nsa_v0_1_2.fits'"
   ]
  },
  {
   "cell_type": "code",
   "execution_count": 4,
   "metadata": {},
   "outputs": [
    {
     "name": "stdout",
     "output_type": "stream",
     "text": [
      "Downloading https://docs.google.com/spreadsheets/d/1b3k2eyFjHFDtmHce1xi6JKuj3ATOWYduTBFftx5oPp8/export?format=csv&gid=1136984451 [Done]\n",
      "Downloading https://docs.google.com/spreadsheets/d/1GJYuhqfKeuJr-IyyGF_NDLb_ezL6zBiX2aeZFHHPr_s/export?format=csv&gid=0 [Done]\n"
     ]
    }
   ],
   "source": [
    "saga_host_catalog = SAGA.HostCatalog(saga_database)"
   ]
  },
  {
   "cell_type": "code",
   "execution_count": 5,
   "metadata": {},
   "outputs": [],
   "source": [
    "nsa = add_skycoord(saga_database['nsa_v0.1.2'].read()[nsa_cols_used])"
   ]
  },
  {
   "cell_type": "code",
   "execution_count": 6,
   "metadata": {
    "collapsed": true
   },
   "outputs": [],
   "source": [
    "spectra_raw_all = saga_database['spectra_raw_all'].read()"
   ]
  },
  {
   "cell_type": "code",
   "execution_count": 7,
   "metadata": {},
   "outputs": [
    {
     "name": "stdout",
     "output_type": "stream",
     "text": [
      "Using DR12\n",
      "[09/01 23:36:03] Working on NSA 166313 (1/16)\n",
      "Downloading https://docs.google.com/spreadsheets/d/1Y3nO7VyU4jDiBPawCs8wJQt2s_PIAKRj-HSrmcWeQZo/export?format=csv&gid=1379081675 [Done]\n",
      "Downloading https://docs.google.com/spreadsheets/d/1Y3nO7VyU4jDiBPawCs8wJQt2s_PIAKRj-HSrmcWeQZo/export?format=csv&gid=286645731 [Done]\n"
     ]
    },
    {
     "name": "stderr",
     "output_type": "stream",
     "text": [
      "WARNING:root:In SAGA.objects.build.remove_shreds_with_sdss()\n",
      " Too many (> 25) shreds around SDSS 1237668367458828369 (233.98344668799618, 16.070882039023196)\n"
     ]
    },
    {
     "name": "stdout",
     "output_type": "stream",
     "text": [
      "[09/01 23:37:50] Working on NSA 147100 (2/16)\n",
      "[09/01 23:39:52] Working on NSA 165536 (3/16)\n"
     ]
    },
    {
     "name": "stderr",
     "output_type": "stream",
     "text": [
      "WARNING:root:In SAGA.objects.build.remove_shreds_with_nsa()\n",
      " No object within the radius of NSA 145531 (221.0511483286393, 0.17499166664364407)\n"
     ]
    },
    {
     "name": "stdout",
     "output_type": "stream",
     "text": [
      "[09/01 23:41:49] Working on NSA 61945 (4/16)\n"
     ]
    },
    {
     "name": "stderr",
     "output_type": "stream",
     "text": [
      "WARNING:root:In SAGA.objects.build.add_cleaned_spectra()\n",
      " No object can be matched to MMT spec (354.20142174, 0.498705)\n",
      "WARNING:root:In SAGA.objects.build.add_cleaned_spectra()\n",
      " No object can be matched to MMT spec (354.199333185, 0.295363009)\n",
      "WARNING:root:In SAGA.objects.build.add_cleaned_spectra()\n",
      " No object can be matched to MMT spec (354.13258552499997, 0.261272997)\n",
      "WARNING:root:In SAGA.objects.build.add_cleaned_spectra()\n",
      " No object can be matched to MMT spec (354.05522346, 0.280936003)\n"
     ]
    },
    {
     "name": "stdout",
     "output_type": "stream",
     "text": [
      "[09/01 23:43:08] Working on NSA 132339 (5/16)\n",
      "[09/01 23:44:08] Working on NSA 149781 (6/16)\n",
      "[09/01 23:44:55] Working on NSA 33446 (7/16)\n",
      "[09/01 23:45:50] Working on NSA 150887 (8/16)\n",
      "[09/01 23:46:36] Working on NSA 161174 (9/16)\n",
      "[09/01 23:47:11] Working on NSA 85746 (10/16)\n",
      "[09/01 23:47:57] Working on NSA 145729 (11/16)\n",
      "[09/01 23:48:32] Working on NSA 140594 (12/16)\n",
      "[09/01 23:49:47] Working on NSA 126115 (13/16)\n",
      "[09/01 23:50:08] Working on NSA 13927 (14/16)\n",
      "[09/01 23:50:54] Working on NSA 137625 (15/16)\n",
      "[09/01 23:51:17] Working on NSA 129237 (16/16)\n"
     ]
    }
   ],
   "source": [
    "SDSS_DR = 12\n",
    "saga_database.sdss_file_path_pattern = '/home/yymao/Documents/Research/SAGA/external_catalogs/sdss_dr{}/nsa{{}}.fits.gz'.format(SDSS_DR)\n",
    "base_output_pattern = '/home/yymao/Documents/Research/SAGA/new_base_catalogs/base_dr{}_nsa{{}}.fits.gz'.format(SDSS_DR)\n",
    "print('Using DR{}'.format(SDSS_DR))\n",
    "\n",
    "overwrite = True\n",
    "host_ids = saga_host_catalog.resolve_id('paper1')\n",
    "\n",
    "for i, host_id in enumerate(host_ids):\n",
    "    output_path = base_output_pattern.format(host_id)\n",
    "    if os.path.isfile(output_path) and not overwrite:\n",
    "        continue\n",
    "    \n",
    "    print(time.strftime('[%m/%d %H:%M:%S]'), 'Working on NSA', host_id, '({}/{})'.format(i+1, len(host_ids)))\n",
    "    \n",
    "    try:\n",
    "        wise = saga_database['wise', host_id].read()[wise_cols_used]\n",
    "    except OSError:\n",
    "        wise = None\n",
    "        \n",
    "    base = build_full_stack(saga_database['sdss', host_id].read(), saga_host_catalog.load_single(host_id), \n",
    "                            saga_database['hosts_named'].read(), wise, nsa, \n",
    "                            saga_database['objects_to_remove'].read(), saga_database['objects_to_add'].read(), \n",
    "                            spectra_raw_all)\n",
    "\n",
    "    FitsTable(output_path).write(base)"
   ]
  },
  {
   "cell_type": "markdown",
   "metadata": {},
   "source": [
    "## Some docstring"
   ]
  },
  {
   "cell_type": "code",
   "execution_count": 9,
   "metadata": {},
   "outputs": [
    {
     "name": "stdout",
     "output_type": "stream",
     "text": [
      "\n",
      "    This function calls all needed functions to complete the full stack of building\n",
      "    a base catalog (for a single host), in the following order:\n",
      "\n",
      "    >>> initialize_base_catalog(base)\n",
      "    >>> add_host_info(base, host, saga_names)\n",
      "    >>> add_wise(base, wise)\n",
      "    >>> remove_human_inspected(base, objects_to_remove)\n",
      "    >>> remove_too_close_to_host(base)\n",
      "    >>> remove_shreds_with_nsa(base, nsa)\n",
      "    >>> remove_shreds_with_sdss(base)\n",
      "    >>> remove_bad_photometry(base)\n",
      "    >>> recover_whitelisted_objects(base, objects_to_add)\n",
      "    >>> apply_manual_fixes(base)\n",
      "    >>> add_spectra(base, spectra)\n",
      "    >>> clean_sdss_spectra(base)\n",
      "    >>> find_satellites(base)\n",
      "    >>> add_stellar_mass(base)\n",
      "\n",
      "    See docstring of each function to learn more.\n",
      "\n",
      "    `base` is always modified in-place.\n",
      "\n",
      "    Parameters\n",
      "    ----------\n",
      "    base : astropy.table.Table\n",
      "    host : astropy.table.Row\n",
      "    saga_names : astropy.table.Table\n",
      "    wise : astropy.table.Table\n",
      "    nsa : astropy.table.Table\n",
      "    objects_to_remove : astropy.table.Table\n",
      "    objects_to_add : astropy.table.Table\n",
      "    spectra : astropy.table.Table\n",
      "\n",
      "    Returns\n",
      "    -------\n",
      "    base : astropy.table.Table\n",
      "    \n"
     ]
    }
   ],
   "source": [
    "print(build_full_stack.__doc__)"
   ]
  },
  {
   "cell_type": "code",
   "execution_count": 14,
   "metadata": {},
   "outputs": [
    {
     "name": "stdout",
     "output_type": "stream",
     "text": [
      "\n",
      "    Add cleaned spectra to base catalog.\n",
      "    For each entry in `spectra_clean`, search nearby objects in base catalog\n",
      "    to find an object to match the spectrum to.\n",
      "\n",
      "    The search is done in the following order.\n",
      "    In each category, if any objects are found, the closest one (on the sky)\n",
      "    will be the match, and the search ends.\n",
      "\n",
      "    1. within 20 arcsec, spec within +/- 50 km/s, REMOVE==-1, has NSA\n",
      "    2. within 20 arcsec, spec within +/- 50 km/s, REMOVE==-1, any ZQUALITY==4\n",
      "    3. within 3 arcsec, REMOVE==-1\n",
      "    4. within 3 arcsec\n",
      "\n",
      "    Once a match is found, any other objects that satisfy the condition (2) above\n",
      "    are turned off (REMOVE set to 3).\n",
      "\n",
      "    `base` is modified in-place.\n",
      "    `spectra_clean` is expected to be the output of `clean_repeat_spectra`\n",
      "\n",
      "    Parameters\n",
      "    ----------\n",
      "    base : astropy.table.Table\n",
      "    spectra_clean : astropy.table.Table\n",
      "\n",
      "    Returns\n",
      "    -------\n",
      "    base : astropy.table.Table\n",
      "\n",
      "    Notes\n",
      "    -----\n",
      "    `add_spectra` calls this function.\n",
      "\n",
      "    \n"
     ]
    }
   ],
   "source": [
    "print(add_cleaned_spectra.__doc__)"
   ]
  },
  {
   "cell_type": "code",
   "execution_count": null,
   "metadata": {
    "collapsed": true
   },
   "outputs": [],
   "source": []
  }
 ],
 "metadata": {
  "kernelspec": {
   "display_name": "Python 3",
   "language": "python",
   "name": "python3"
  },
  "language_info": {
   "codemirror_mode": {
    "name": "ipython",
    "version": 3
   },
   "file_extension": ".py",
   "mimetype": "text/x-python",
   "name": "python",
   "nbconvert_exporter": "python",
   "pygments_lexer": "ipython3",
   "version": "3.6.2"
  }
 },
 "nbformat": 4,
 "nbformat_minor": 2
}
