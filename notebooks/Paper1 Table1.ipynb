{
 "cells": [
  {
   "cell_type": "code",
   "execution_count": 2,
   "metadata": {},
   "outputs": [
    {
     "name": "stdout",
     "output_type": "stream",
     "text": [
      "SAGA code version 0.6.1\n"
     ]
    }
   ],
   "source": [
    "# import SAGA code\n",
    "\n",
    "import SAGA\n",
    "from SAGA import ObjectCuts as C\n",
    "from SAGA.utils import get_sdss_bands, get_sdss_colors\n",
    "\n",
    "print('SAGA code version', SAGA.__version__)"
   ]
  },
  {
   "cell_type": "code",
   "execution_count": 3,
   "metadata": {
    "collapsed": true
   },
   "outputs": [],
   "source": [
    "# import other modules\n",
    "\n",
    "from collections import defaultdict\n",
    "import numpy as np\n",
    "from astropy.table import Table\n",
    "from easyquery import Query"
   ]
  },
  {
   "cell_type": "code",
   "execution_count": 4,
   "metadata": {},
   "outputs": [
    {
     "name": "stdout",
     "output_type": "stream",
     "text": [
      "Downloading https://docs.google.com/spreadsheets/d/1b3k2eyFjHFDtmHce1xi6JKuj3ATOWYduTBFftx5oPp8/export?format=csv&gid=1471095077 [Done]\n"
     ]
    }
   ],
   "source": [
    "# initialize SAGA objects (Database, HostCatalog, ObjectCatalog)\n",
    "\n",
    "saga_database = SAGA.Database('/home/yymao/Dropbox/Academia/Collaborations/SAGA', '/home/yymao/Documents/Research/SAGA')\n",
    "saga_host_catalog = SAGA.HostCatalog(saga_database)\n",
    "saga_object_catalog = SAGA.ObjectCatalog(saga_database)"
   ]
  },
  {
   "cell_type": "code",
   "execution_count": 5,
   "metadata": {
    "collapsed": true
   },
   "outputs": [],
   "source": [
    "# load paper1 base catalogs as a list\n",
    "\n",
    "# specify columns to load\n",
    "columns = 'OBJID HOST_NSAID RA DEC'.split()\n",
    "columns.extend((c for c in C.COLUMNS_USED if c not in columns))\n",
    "\n",
    "# specify cuts to apply\n",
    "cuts = C.is_clean & C.is_galaxy & C.fibermag_r_cut & C.sat_rcut\n",
    "\n",
    "# load base catalogs (will take a while)\n",
    "objects_paper1 = saga_object_catalog.load('paper1', cuts=cuts, columns=columns, return_as='list', version='paper1')"
   ]
  },
  {
   "cell_type": "code",
   "execution_count": 6,
   "metadata": {},
   "outputs": [
    {
     "data": {
      "text/html": [
       "<i>Table length=16</i>\n",
       "<table id=\"table140283966492744\" class=\"table-striped table-bordered table-condensed\">\n",
       "<thead><tr><th>SAGA_name</th><th>NSAID</th><th>RA</th><th>Dec</th><th>distance</th><th>M_r</th><th>M_K</th><th>N_sat</th><th>N_sat_below_compl</th><th>N_total</th><th>N_gri_spec</th><th>N_gri</th><th>N_ugri_spec</th><th>N_ugri</th></tr></thead>\n",
       "<thead><tr><th>str11</th><th>int64</th><th>float64</th><th>float64</th><th>float64</th><th>float64</th><th>float64</th><th>int64</th><th>int64</th><th>int64</th><th>int64</th><th>int64</th><th>int64</th><th>int64</th></tr></thead>\n",
       "<tr><td>Bandamanna</td><td>126115</td><td>0.995575</td><td>20.7524</td><td>32.4741</td><td>-20.7677</td><td>-24.1403</td><td>1</td><td>0</td><td>2019</td><td>230</td><td>948</td><td>216</td><td>842</td></tr>\n",
       "<tr><td>HarryPotter</td><td>129237</td><td>20.449</td><td>17.5922</td><td>38.6531</td><td>-20.0051</td><td>-23.5358</td><td>4</td><td>0</td><td>1526</td><td>53</td><td>832</td><td>47</td><td>742</td></tr>\n",
       "<tr><td>Narnia</td><td>132339</td><td>39.5482</td><td>-1.31876</td><td>37.155</td><td>-21.0796</td><td>-23.4956</td><td>2</td><td>0</td><td>1976</td><td>778</td><td>849</td><td>688</td><td>750</td></tr>\n",
       "<tr><td>StarTrek</td><td>33446</td><td>123.241</td><td>36.2546</td><td>37.7379</td><td>-21.2786</td><td>-23.4569</td><td>2</td><td>0</td><td>1719</td><td>716</td><td>842</td><td>662</td><td>765</td></tr>\n",
       "<tr><td>MobyDick</td><td>85746</td><td>149.588</td><td>32.3699</td><td>25.1343</td><td>-20.2479</td><td>-23.0925</td><td>0</td><td>1</td><td>3635</td><td>604</td><td>1600</td><td>542</td><td>1351</td></tr>\n",
       "<tr><td>Oz</td><td>137625</td><td>158.231</td><td>28.5118</td><td>24.4117</td><td>-20.7831</td><td>-23.0106</td><td>5</td><td>0</td><td>3801</td><td>142</td><td>1694</td><td>135</td><td>1487</td></tr>\n",
       "<tr><td>Alice</td><td>140594</td><td>180.098</td><td>-1.10008</td><td>23.2487</td><td>-21.5041</td><td>-24.5004</td><td>2</td><td>0</td><td>5628</td><td>657</td><td>2681</td><td>618</td><td>2415</td></tr>\n",
       "<tr><td>Sopranos</td><td>13927</td><td>180.676</td><td>1.9768</td><td>29.5168</td><td>-21.1343</td><td>-23.5937</td><td>0</td><td>0</td><td>3492</td><td>314</td><td>1888</td><td>299</td><td>1742</td></tr>\n",
       "<tr><td>ScoobyDoo</td><td>161174</td><td>182.792</td><td>20.1757</td><td>36.3129</td><td>-20.6268</td><td>-23.0486</td><td>4</td><td>0</td><td>1471</td><td>353</td><td>758</td><td>331</td><td>675</td></tr>\n",
       "<tr><td>Dune</td><td>165536</td><td>221.546</td><td>-0.222942</td><td>25.3928</td><td>-20.944</td><td>-23.5856</td><td>1</td><td>0</td><td>3557</td><td>1433</td><td>1480</td><td>1208</td><td>1247</td></tr>\n",
       "<tr><td>Othello</td><td>145729</td><td>224.594</td><td>-1.09102</td><td>28.4038</td><td>-21.1207</td><td>-24.5597</td><td>2</td><td>0</td><td>3002</td><td>371</td><td>1433</td><td>358</td><td>1270</td></tr>\n",
       "<tr><td>Gilgamesh</td><td>166313</td><td>234.132</td><td>16.6078</td><td>28.0204</td><td>-21.1887</td><td>-23.708</td><td>2</td><td>0</td><td>2995</td><td>1271</td><td>1300</td><td>1110</td><td>1135</td></tr>\n",
       "<tr><td>Odyssey</td><td>147100</td><td>248.087</td><td>19.8264</td><td>34.3199</td><td>-21.2698</td><td>-24.0085</td><td>9</td><td>0</td><td>1851</td><td>819</td><td>846</td><td>730</td><td>756</td></tr>\n",
       "<tr><td>OBrother</td><td>149781</td><td>335.913</td><td>-3.43167</td><td>39.1759</td><td>-21.0069</td><td>-23.8123</td><td>4</td><td>0</td><td>1741</td><td>770</td><td>860</td><td>699</td><td>778</td></tr>\n",
       "<tr><td>Catch22</td><td>150887</td><td>348.683</td><td>4.53406</td><td>37.019</td><td>-21.6316</td><td>-24.4949</td><td>5</td><td>1</td><td>2198</td><td>706</td><td>865</td><td>640</td><td>784</td></tr>\n",
       "<tr><td>AnaK</td><td>61945</td><td>354.131</td><td>0.297265</td><td>34.7674</td><td>-21.3986</td><td>-23.3869</td><td>2</td><td>1</td><td>2356</td><td>917</td><td>979</td><td>798</td><td>853</td></tr>\n",
       "</table>"
      ],
      "text/plain": [
       "<Table length=16>\n",
       " SAGA_name  NSAID     RA       Dec    ... N_gri_spec N_gri N_ugri_spec N_ugri\n",
       "   str11    int64  float64   float64  ...   int64    int64    int64    int64 \n",
       "----------- ------ -------- --------- ... ---------- ----- ----------- ------\n",
       " Bandamanna 126115 0.995575   20.7524 ...        230   948         216    842\n",
       "HarryPotter 129237   20.449   17.5922 ...         53   832          47    742\n",
       "     Narnia 132339  39.5482  -1.31876 ...        778   849         688    750\n",
       "   StarTrek  33446  123.241   36.2546 ...        716   842         662    765\n",
       "   MobyDick  85746  149.588   32.3699 ...        604  1600         542   1351\n",
       "         Oz 137625  158.231   28.5118 ...        142  1694         135   1487\n",
       "      Alice 140594  180.098  -1.10008 ...        657  2681         618   2415\n",
       "   Sopranos  13927  180.676    1.9768 ...        314  1888         299   1742\n",
       "  ScoobyDoo 161174  182.792   20.1757 ...        353   758         331    675\n",
       "       Dune 165536  221.546 -0.222942 ...       1433  1480        1208   1247\n",
       "    Othello 145729  224.594  -1.09102 ...        371  1433         358   1270\n",
       "  Gilgamesh 166313  234.132   16.6078 ...       1271  1300        1110   1135\n",
       "    Odyssey 147100  248.087   19.8264 ...        819   846         730    756\n",
       "   OBrother 149781  335.913  -3.43167 ...        770   860         699    778\n",
       "    Catch22 150887  348.683   4.53406 ...        706   865         640    784\n",
       "       AnaK  61945  354.131  0.297265 ...        917   979         798    853"
      ]
     },
     "execution_count": 6,
     "metadata": {},
     "output_type": "execute_result"
    }
   ],
   "source": [
    "# construct Table 1\n",
    "\n",
    "host_info_cols = ['NSAID', 'RA', 'Dec', 'distance', 'M_r', 'M_K']\n",
    "\n",
    "sat_Mr_compl = Query('M_r < -12.3')\n",
    "counting_cols = [\n",
    "    ('N_sat', C.is_sat & sat_Mr_compl),\n",
    "    ('N_sat_below_compl', C.is_sat & ~sat_Mr_compl),\n",
    "    ('N_total', C.faint_end_limit),\n",
    "    ('N_gri_spec', C.faint_end_limit & C.gri_cut & C.has_spec),\n",
    "    ('N_gri', C.faint_end_limit & C.gri_cut),\n",
    "    ('N_ugri_spec', C.faint_end_limit & C.ugri_cut & C.has_spec),\n",
    "    ('N_ugri', C.faint_end_limit & C.ugri_cut),\n",
    "]\n",
    "\n",
    "data = defaultdict(list)\n",
    "\n",
    "for t in objects_paper1:\n",
    "    host_nsaid = t['HOST_NSAID'][0]\n",
    "    host_info = saga_host_catalog.load_single('nsa{}'.format(host_nsaid))\n",
    "    \n",
    "    t['M_r'] = t['r_mag'] - (5.0*(np.log10(host_info['distance'])+6.0)-5.0)\n",
    "    \n",
    "    data['SAGA_name'].append(host_info['SAGA_name'])\n",
    "\n",
    "    for col in host_info_cols:\n",
    "        data[col].append(host_info[col])\n",
    "        \n",
    "    for col, cut in counting_cols:\n",
    "        data[col].append(cut.count(t))\n",
    "        \n",
    "Table(data)"
   ]
  },
  {
   "cell_type": "code",
   "execution_count": null,
   "metadata": {
    "collapsed": true
   },
   "outputs": [],
   "source": []
  }
 ],
 "metadata": {
  "kernelspec": {
   "display_name": "Python 3",
   "language": "python",
   "name": "python3"
  },
  "language_info": {
   "codemirror_mode": {
    "name": "ipython",
    "version": 3
   },
   "file_extension": ".py",
   "mimetype": "text/x-python",
   "name": "python",
   "nbconvert_exporter": "python",
   "pygments_lexer": "ipython3",
   "version": "3.6.5"
  }
 },
 "nbformat": 4,
 "nbformat_minor": 2
}
