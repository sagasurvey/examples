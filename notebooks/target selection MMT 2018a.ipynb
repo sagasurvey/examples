{
 "cells": [
  {
   "cell_type": "code",
   "execution_count": 1,
   "metadata": {},
   "outputs": [
    {
     "name": "stdout",
     "output_type": "stream",
     "text": [
      "0.6.1\n"
     ]
    }
   ],
   "source": [
    "from easyquery import Query\n",
    "from astropy.table import Table, Column, vstack\n",
    "from astropy.coordinates import SkyCoord, match_coordinates_sky\n",
    "\n",
    "import SAGA\n",
    "from SAGA.database import FitsTable\n",
    "from SAGA import ObjectCuts as C\n",
    "from SAGA.utils import fill_values_by_query\n",
    "print(SAGA.__version__)"
   ]
  },
  {
   "cell_type": "code",
   "execution_count": 2,
   "metadata": {},
   "outputs": [
    {
     "name": "stdout",
     "output_type": "stream",
     "text": [
      "Downloading https://docs.google.com/spreadsheets/d/1b3k2eyFjHFDtmHce1xi6JKuj3ATOWYduTBFftx5oPp8/export?format=csv&gid=1471095077 [Done]\n"
     ]
    }
   ],
   "source": [
    "saga_database = SAGA.Database('/home/yymao/Dropbox/Academia/Collaborations/SAGA', '/home/yymao/Documents/Research/SAGA')\n",
    "\n",
    "saga_host_catalogs = SAGA.HostCatalog(saga_database)\n",
    "saga_targets = SAGA.TargetSelection(saga_database, gmm_parameters='gmm_parameters_no_outlier', version=1)"
   ]
  },
  {
   "cell_type": "code",
   "execution_count": 3,
   "metadata": {},
   "outputs": [],
   "source": [
    "mmt18_hosts = saga_host_catalogs.resolve_id('mmt_2018', 'NSA')"
   ]
  },
  {
   "cell_type": "markdown",
   "metadata": {},
   "source": [
    "## print target numbers"
   ]
  },
  {
   "cell_type": "code",
   "execution_count": 4,
   "metadata": {},
   "outputs": [
    {
     "name": "stderr",
     "output_type": "stream",
     "text": [
      "/home/yymao/Dropbox/Academia/Collaborations/SAGA-local/saga/SAGA/targets/assign_targeting_score.py:29: RuntimeWarning: overflow encountered in exp\n",
      "  return np.where(x > model_parameters[2], np.minimum(np.exp((x-model_parameters[3])*model_parameters[4]), model_parameters[5]), 0.0)\n"
     ]
    }
   ],
   "source": [
    "score_bins = [150, 200, 300, 400, 500, 600, 700, 800, 900, 1000]\n",
    "d = np.array([np.searchsorted(targets['TARGETING_SCORE'], score_bins) for targets in saga_targets.build_target_catalogs('mmt_2018', return_as='iter')])"
   ]
  },
  {
   "cell_type": "code",
   "execution_count": 5,
   "metadata": {},
   "outputs": [
    {
     "name": "stdout",
     "output_type": "stream",
     "text": [
      "\n",
      "    Last updated: 05/07/2018\n",
      "     100 Human selection and Special targets\n",
      "     150 satellites\n",
      "     200 within host,  r < 17.77, gri cuts\n",
      "     300 within host,  r < 20.75, high p_GMM or GMM outliers, gri cuts\n",
      "     400 within host,  r < 20.75, high-proirity + gri cuts\n",
      "     500 outwith host, r < 17.77, gri cuts\n",
      "     600 within host,  r < 20.75, gri cuts, random selection of 50\n",
      "     700 very high p_GMM, gri cuts\n",
      "     800 within host,  r < 20.75, gri cuts, everything else\n",
      "     900 outwith host, r < 20.75, gri cuts\n",
      "    1000 everything else\n",
      "    1100 Not in gri/fibermag_r_cut\n",
      "    1200 Not galaxy\n",
      "    1300 Not clean\n",
      "    1400 Has spec but not a satellite\n",
      "    \n",
      "# in each bin\n",
      "NSAID  150 200 300 400 500 600 700 800  900 \n",
      "------ --- --- --- --- --- --- --- ---- ----\n",
      "161174   4   1  37 100  11  50  41  218 2763\n",
      " 52773   2   2  89 150  14  50  28  435 2981\n",
      "163956   5   5  70 111  12  50  27  493 2729\n",
      " 69028   4   7 120 248  19  50  35  809 2602\n",
      "144953   3   3  69 171  23  50  16  566 2591\n",
      "165082   9  15 261 435  10  50  15 1291 1992\n",
      "165707   1   4  70 142   9  50  19  498 2542\n",
      "145729   2   0  90 159  17  50  27  707 2158\n",
      "165980   0   2  46 119  17  50  22  516 2702\n",
      "147606   6   6  95 143  31  50  45  396 2985\n",
      " 61945   3   3  13  12  16  40  23    0 2659\n",
      "\n",
      "# cumulative\n",
      "NSAID  <200 <300 <400 <500 <600 <700 <800 <900\n",
      "------ ---- ---- ---- ---- ---- ---- ---- ----\n",
      "161174    4    5   42  142  153  203  244  462\n",
      " 52773    2    4   93  243  257  307  335  770\n",
      "163956    5   10   80  191  203  253  280  773\n",
      " 69028    4   11  131  379  398  448  483 1292\n",
      "144953    3    6   75  246  269  319  335  901\n",
      "165082    9   24  285  720  730  780  795 2086\n",
      "165707    1    5   75  217  226  276  295  793\n",
      "145729    2    2   92  251  268  318  345 1052\n",
      "165980    0    2   48  167  184  234  256  772\n",
      "147606    6   12  107  250  281  331  376  772\n",
      " 61945    3    6   19   31   47   87  110  110\n"
     ]
    }
   ],
   "source": [
    "print(SAGA.targets.assign_targeting_score.__doc__)\n",
    "\n",
    "t = Table(d[:,1:] - d[:,:-1], names=score_bins[:-1])\n",
    "t.add_column(Column(mmt18_hosts, 'NSAID'), 0)\n",
    "print(\"# in each bin\")\n",
    "t.pprint(-1, -1)\n",
    "\n",
    "print()\n",
    "\n",
    "t = Table(d[:,1:-1], names=['<{}'.format(s) for s in score_bins[1:-1]])\n",
    "t.add_column(Column(mmt18_hosts, 'NSAID'), 0)\n",
    "print(\"# cumulative\")\n",
    "t.pprint(-1, -1)"
   ]
  },
  {
   "cell_type": "markdown",
   "metadata": {},
   "source": [
    "## add des to AnaK"
   ]
  },
  {
   "cell_type": "code",
   "execution_count": 14,
   "metadata": {},
   "outputs": [],
   "source": [
    "def des_cuts(d, host_ra, host_dec, host_dist):\n",
    "    sep = SkyCoord(d['RA'], d['DEC'], unit='deg').separation(SkyCoord(host_ra, host_dec, unit='deg'))\n",
    "    d['RHOST_ARCM'] = sep.arcmin\n",
    "    d['RHOST_KPC'] = (np.sin(sep.radian) * (1000.0 * host_dist))\n",
    "    \n",
    "    d['gr'] = d['g_mag'] - d['r_mag']\n",
    "    d['ri'] = d['r_mag'] - d['i_mag']\n",
    "    d['gr_err'] = np.hypot(d['g_err'], d['r_err'])\n",
    "    d['ri_err'] = np.hypot(d['r_err'], d['i_err'])    \n",
    "    \n",
    "    q = Query('r_mag < 21',\n",
    "              'wavg_extended_coadd_i >= 2',\n",
    "              'gr - gr_err*2.0 < 0.85',\n",
    "              'ri - ri_err*2.0 < 0.55',\n",
    "              'RHOST_ARCM < 60',\n",
    "              'RHOST_KPC < 300')\n",
    "    \n",
    "    return q.filter(d)\n",
    "\n",
    "def match_catalogs(d1, d2, sep_limit=2.0):\n",
    "    idx, sep, _ = match_coordinates_sky(SkyCoord(d1['RA'], d1['DEC'], unit='deg'), SkyCoord(d2['RA'], d2['DEC'], unit='deg'))\n",
    "    k = np.where(sep.arcsec < sep_limit)[0]\n",
    "    return k, idx[k]\n",
    "\n",
    "def add_des_row_to_target_catalog(host_id, target_catlog, des_to_add):\n",
    "    des_colnames_lower = [c.lower() for c in des_to_add.colnames]\n",
    "    to_add = dict()\n",
    "    out_temp = list()\n",
    "    for i, (col, type_name) in enumerate(target_catlog.dtype.descr):\n",
    "        if col.lower() in des_colnames_lower:\n",
    "            des_col = des_to_add.colnames[des_colnames_lower.index(col.lower())]\n",
    "            to_add[i] = des_col\n",
    "            out_temp.append(None)\n",
    "        elif col == 'OBJID':\n",
    "            to_add[i] = 'ID'\n",
    "            out_temp.append(None)\n",
    "        elif col == 'TARGETING_SCORE':\n",
    "            out_temp.append(801)\n",
    "        elif col == 'HOST_NSAID':\n",
    "            out_temp.append(int(str(host_id).replace('nsa', '')))\n",
    "        elif col == 'PHOTPTYPE':\n",
    "            out_temp.append(3)\n",
    "        elif col == 'has_good_des':\n",
    "            out_temp.append(True)\n",
    "        elif type_name[1] in 'i':\n",
    "            out_temp.append(-1)\n",
    "        elif type_name[1] in 'f':\n",
    "            out_temp.append(np.nan)\n",
    "        elif type_name[1] in 'U':\n",
    "            out_temp.append('')\n",
    "        else:\n",
    "            raise ValueError()\n",
    "            \n",
    "    for row in des_to_add:\n",
    "        out = list(out_temp)\n",
    "        for i, col in to_add.items():\n",
    "            out[i] = row[col]\n",
    "        target_catlog.add_row(tuple(out))\n",
    "    \n",
    "    return target_catlog\n",
    "\n",
    "def modify_target_catalog_with_des(host_id):\n",
    "    des = saga_database['des', host_id].read()\n",
    "    des.rename_column('ra', 'RA')\n",
    "    des.rename_column('dec', 'DEC')\n",
    "    des = des_cuts(des, *saga_host_catalogs.load_single(host_id)[['RA', 'Dec', 'distance']])\n",
    "    \n",
    "    saga_targets.build_target_catalogs(host_id, reload_base=True, recalculate_score=True)\n",
    "    base_this = saga_targets.target_catalogs[host_id]\n",
    "    good_sdss_idx = np.where(Query(C.is_clean, C.is_galaxy, C.fibermag_r_cut, C.sat_rcut).mask(base_this))[0]\n",
    "    \n",
    "    idx_des, idx_sdss = match_catalogs(des, base_this[good_sdss_idx], 1.0)\n",
    "    idx_sdss = good_sdss_idx[idx_sdss]\n",
    "    \n",
    "    des = des[np.setdiff1d(np.arange(len(des)), idx_des, True)] # not in sdss\n",
    "    \n",
    "    base_this['has_good_des'] = False\n",
    "    base_this['has_good_des'][idx_sdss] = True\n",
    "    \n",
    "    need_target = Query(~C.has_spec, 'TARGETING_SCORE >= 900', 'has_good_des')\n",
    "    print('in sdss, need to target =', need_target.count(base_this))\n",
    "    print('not in sdss             =', len(des))\n",
    "    \n",
    "    fill_values_by_query(base_this, need_target, {'TARGETING_SCORE': 805})\n",
    "    saga_targets.target_catalogs[host_id] = add_des_row_to_target_catalog(host_id, base_this, des)"
   ]
  },
  {
   "cell_type": "code",
   "execution_count": 15,
   "metadata": {},
   "outputs": [
    {
     "name": "stdout",
     "output_type": "stream",
     "text": [
      "in sdss, need to target = 102\n",
      "not in sdss             = 38\n"
     ]
    }
   ],
   "source": [
    "host_id = saga_host_catalogs.resolve_id('AnaK', 'string')[0]\n",
    "modify_target_catalog_with_des(host_id)"
   ]
  },
  {
   "cell_type": "markdown",
   "metadata": {},
   "source": [
    "## generate MMT catalogs"
   ]
  },
  {
   "cell_type": "code",
   "execution_count": 16,
   "metadata": {},
   "outputs": [
    {
     "name": "stdout",
     "output_type": "stream",
     "text": [
      "Working host nsa61945\n",
      "# of guide stars     = 289\n",
      "# of flux stars      = 124\n",
      "# of rank>1 targets  = 250\n",
      "# of rank=1 targets = 124\n",
      "# of rank=2 targets = 6\n",
      "# of rank=3 targets = 13\n",
      "# of rank=4 targets = 12\n",
      "# of rank=5 targets = 16\n",
      "# of rank=6 targets = 40\n",
      "# of rank=7 targets = 23\n",
      "# of rank=8 targets = 140\n",
      "Writing to /home/yymao/Downloads/mmt_nsa61945.cat\n",
      "\n",
      "Working host nsa165980\n",
      "# of guide stars     = 379\n",
      "# of flux stars      = 147\n",
      "# of rank>1 targets  = 772\n",
      "# of rank=1 targets = 147\n",
      "# of rank=2 targets = 2\n",
      "# of rank=3 targets = 46\n",
      "# of rank=4 targets = 119\n",
      "# of rank=5 targets = 17\n",
      "# of rank=6 targets = 50\n",
      "# of rank=7 targets = 22\n",
      "# of rank=8 targets = 516\n",
      "Writing to /home/yymao/Downloads/mmt_nsa165980.cat\n",
      "\n"
     ]
    }
   ],
   "source": [
    "for host_id, target_catalog in saga_targets.build_target_catalogs([61945, 165980], return_as='dict').items():\n",
    "    print('Working host', host_id)\n",
    "    SAGA.targets.prepare_mmt_catalog(target_catalog, '/home/yymao/Downloads/mmt_{}.cat'.format(host_id))\n",
    "    print()"
   ]
  },
  {
   "cell_type": "code",
   "execution_count": 17,
   "metadata": {},
   "outputs": [
    {
     "name": "stdout",
     "output_type": "stream",
     "text": [
      "       OBJID             RA        DEC     r_mag\n",
      "------------------- ----------- ---------- -----\n",
      "1237663784194999070 354.5617043  0.1203141 22.50\n",
      "1237663784194605375 353.6869377  0.1928568 21.75\n",
      "1237663784194933360 354.3664335  0.0504893 21.15\n",
      "1237663462608666769 353.8821706  0.6957298 21.13\n",
      "1237666408440004671 354.4172913  0.2797575 21.90\n",
      "1237666408439808570 354.0405575  0.2899991 21.67\n",
      "1237657190902595936 353.9763469 -0.1326168 20.95\n",
      "1237666408440005654 354.5528487  0.2788949 20.91\n",
      "1237663784194671166 353.7572342  0.0703169 20.80\n",
      "1237657190902530658 353.9269184 -0.1423837 20.97\n",
      "1237663277925008110 353.7059996  0.4241394 21.06\n",
      "1237666408439874175 354.1683179  0.3694178 21.00\n",
      "1237657190902596035 354.0088374 -0.1379302 20.93\n",
      "1237663784194802323 354.0879743  0.1087812 21.01\n",
      "1237657190902661744 354.2134146 -0.0182403 20.94\n",
      "1237663277925335492 354.4274752  0.4325182 21.30\n",
      "1237663784194736536 353.8919268  0.1822404 20.97\n",
      "1237663784194999003 354.5479655  0.0663176 20.85\n",
      "1237657190902596158 354.0526764 -0.1622419 21.72\n",
      "1237663784194802230 354.0549466  0.0104758 20.94\n",
      "1237663784194999001 354.5478834  0.0593779 20.87\n",
      "1237666408440070750 354.6212987  0.2821782 23.19\n",
      "1237657190902530359 353.8147681 -0.0418696 21.02\n",
      "1237663784194671170 353.7584901  0.1225320 21.19\n",
      "1237663277925335680 354.4754871  0.4871789 20.96\n",
      "1237663462608797852 354.2091272  0.6475659 21.29\n",
      "1237663784194670716 353.7959060  0.0599685 21.67\n",
      "1237663784194933694 354.4456250  0.0166589 21.02\n",
      "1237663784194867989 354.2842546  0.1608394 20.96\n",
      "1237666408440070300 354.5733008  0.3977584 21.88\n",
      "1237657190902465191 353.7982290 -0.0286983 21.46\n",
      "1237666408440004829 354.4211657  0.3096283 21.67\n",
      "1237663277925204182 354.2099370  0.5899136 21.01\n",
      "1237663277925073628 353.8705680  0.5611508 21.12\n",
      "1237663784194736835 353.9890759  0.2015903 20.96\n",
      "1237666408439874415 354.2382396  0.2841604 21.09\n",
      "1237666408439808422 353.9912285  0.2314302 20.99\n",
      "1237666408439677499 353.7344943  0.3700167 22.37\n",
      "1237666408439677142 353.7366825  0.3903081 22.48\n",
      "1237663784194736830 353.9863453  0.1416946 20.77\n",
      "1237663784194998398 354.5419803  0.1976101 21.49\n",
      "1237663277925008273 353.7545138  0.4739232 20.98\n",
      "1237663277925204100 354.1768263  0.4583971 22.08\n",
      "1237663784194933681 354.4450207  0.0478827 21.01\n",
      "1237657190902661837 354.2487992 -0.1787677 20.98\n",
      "1237657190902530321 353.9429798 -0.0357430 21.03\n",
      "1237666408439677330 353.6952861  0.2276030 20.77\n",
      "1237663462608798166 354.2523951  0.7676748 20.94\n",
      "1237663784194867281 354.1889223  0.0302357 21.04\n",
      "1237663277925269872 354.2389423  0.5121950 20.99\n",
      "1237663784194605330 353.6787663  0.1755182 22.00\n",
      "1237663277925073525 353.8381204  0.5804790 21.08\n",
      "1237657190902595956 353.9827577 -0.1488264 21.05\n",
      "1237663784194671088 353.7377250  0.1229369 21.27\n",
      "1237663462608863589 354.2885586  0.7550991 20.94\n",
      "1237666408440070569 354.5698670  0.2917799 21.25\n",
      "1237657190902595810 354.0434427 -0.1360110 21.27\n",
      "1237663277925073024 353.9117379  0.6063300 21.29\n",
      "1237663277925270111 354.3162609  0.5606377 20.93\n",
      "1237663784194999047 354.5564490  0.1979717 20.83\n",
      "1237666408440004640 354.4216197  0.3864634 21.08\n",
      "1237663277925073335 353.9339504  0.4768078 20.99\n",
      "1237666408439808348 353.9662572  0.3831751 21.02\n",
      "1237666408439743319 353.9656086  0.3570548 21.86\n",
      "1237666408439808507 354.0203424  0.3878769 20.91\n",
      "1237663784194868061 354.3071463  0.0270288 21.04\n",
      "1237666408439677456 353.7249031  0.3491832 21.16\n",
      "1237663277925204507 354.1479776  0.4880441 21.02\n",
      "1237663277925139005 353.9791681  0.5480422 20.83\n",
      "1237657190902530641 353.9234553 -0.0606977 20.98\n",
      "1237663277925008146 353.7221211  0.5354335 20.99\n",
      "1237663277925204552 354.1668356  0.4907711 20.76\n",
      "1237663277925401032 354.5713745  0.4919409 20.97\n",
      "1237663784194802390 354.1067061  0.2057603 20.93\n",
      "1237663784194998278 354.4701474  0.1016463 20.80\n",
      "1237666408440070593 354.5797218  0.2562434 20.97\n",
      "1237663784194802562 354.1613224  0.0982053 21.05\n",
      "1237663784194801698 354.0798088  0.0426130 21.31\n",
      "1237663277925335149 354.4118569  0.4487685 21.13\n",
      "1237663277925335853 354.5266007  0.4827959 20.93\n",
      "1237657190902661531 354.1380336 -0.1747956 21.03\n",
      "1237663277925204172 354.1683232  0.5870652 21.17\n",
      "1237666408439939514 354.3336425  0.2118584 20.99\n",
      "1237663277925073279 353.8642784  0.5681400 21.07\n",
      "1237663277925073414 353.8094051  0.5837484 21.16\n",
      "1237666408439808498 354.0169677  0.3342870 21.05\n",
      "1237666408440070759 354.6234794  0.2729088 21.29\n",
      "1237663277925139258 354.0705466  0.5629266 20.95\n",
      "1237657190902530537 353.8817563 -0.0522126 21.00\n",
      "1237663784194998802 354.5039450  0.1164275 21.01\n",
      "1237663784194998972 354.5420524  0.0720398 21.05\n",
      "1237663277925008241 353.7447870  0.5223687 21.08\n",
      "1237663277925270283 354.3703849  0.5715674 21.20\n",
      "1237663277925335601 354.4599668  0.4896416 22.97\n",
      "1237663277925269991 354.2757208  0.5230654 21.10\n",
      "1237663277925138745 353.9633334  0.4874657 20.93\n",
      "1237663784194671109 353.7419382  0.1930850 20.97\n",
      "1237663784194998874 354.5254252  0.0227764 21.06\n",
      "1237663277925138769 353.9820368  0.4739524 21.19\n",
      "1237663784194801963 354.0145641  0.0439679 21.07\n",
      "1237663277925073010 353.9116376  0.5631389 21.24\n",
      "1237663784194867796 354.2265424  0.0960080 22.74\n",
      "          135936803 354.0459783 -0.1073076 18.88\n",
      "          135934778 354.1788068 -0.0645657 20.43\n",
      "          135939915 354.2444496 -0.1571381 20.98\n",
      "          135595394 353.6444237  0.2556605 20.63\n",
      "          135606389 353.7952141  0.0522508 19.05\n",
      "          135929616 353.8980109  0.0235794 20.44\n",
      "          135917654 353.9547709  0.2208195 20.00\n",
      "          135926060 354.0200612  0.0822425 20.19\n",
      "          135926724 354.1789862  0.0737102 20.56\n",
      "          135921267 354.0484650  0.1641592 19.39\n",
      "          135912776 353.9234673  0.2971960 20.92\n",
      "          135911662 353.9736264  0.3135904 20.79\n",
      "          135930353 354.3598922  0.0009090 20.15\n",
      "          135923375 354.2996328  0.1268729 15.56\n",
      "          135922097 354.3971280  0.1547353 20.66\n",
      "          135918778 354.5373085  0.2012947 20.68\n",
      "          135918793 354.5454261  0.2002017 20.41\n",
      "          135913584 354.3026446  0.2776315 17.94\n",
      "          135916470 354.4180189  0.2381083 20.40\n",
      "          135907861 354.2765058  0.3590283 19.88\n",
      "          135908049 354.3645095  0.3597509 19.57\n",
      "          136822141 354.3337812  0.4063824 20.96\n",
      "          136822149 354.3417842  0.3999169 18.45\n",
      "          136821988 354.3550087  0.3975236 17.59\n",
      "          136820915 354.3253255  0.4307851 19.31\n",
      "          136821261 354.3451771  0.4223641 20.25\n",
      "          135910266 354.4748756  0.3351380 20.88\n",
      "          136823038 354.4936720  0.3896863 20.80\n",
      "          136391114 353.8108215  0.4803326 20.94\n",
      "          136812680 353.9396678  0.5738374 20.15\n",
      "          136807848 354.1956349  0.6232868 15.69\n",
      "          136805072 353.9807720  0.7064654 18.02\n",
      "          136805022 353.9816720  0.7101676 18.21\n",
      "          136818014 354.3542135  0.4828749 20.65\n",
      "          136814276 354.3226915  0.5457847 20.95\n",
      "          136813200 354.3710618  0.5604530 19.60\n",
      "          136814489 354.5275346  0.5340453 18.55\n",
      "          136806651 354.3799725  0.6822127 20.22\n"
     ]
    }
   ],
   "source": [
    "t = Query('TARGETING_SCORE >= 800', 'TARGETING_SCORE < 900').filter(saga_targets.target_catalogs['nsa61945'])['OBJID', 'RA', 'DEC', 'r_mag']\n",
    "t['RA'].format = '%.7f'\n",
    "t['DEC'].format = '%.7f'\n",
    "t['r_mag'].format = '%.2f'\n",
    "t.pprint(-1, -1)"
   ]
  },
  {
   "cell_type": "code",
   "execution_count": null,
   "metadata": {},
   "outputs": [],
   "source": []
  }
 ],
 "metadata": {
  "kernelspec": {
   "display_name": "Python 3",
   "language": "python",
   "name": "python3"
  },
  "language_info": {
   "codemirror_mode": {
    "name": "ipython",
    "version": 3
   },
   "file_extension": ".py",
   "mimetype": "text/x-python",
   "name": "python",
   "nbconvert_exporter": "python",
   "pygments_lexer": "ipython3",
   "version": "3.6.5"
  }
 },
 "nbformat": 4,
 "nbformat_minor": 2
}
