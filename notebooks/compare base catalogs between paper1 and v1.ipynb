{
 "cells": [
  {
   "cell_type": "code",
   "execution_count": 2,
   "metadata": {},
   "outputs": [
    {
     "name": "stdout",
     "output_type": "stream",
     "text": [
      "SAGA code version 0.6.1\n"
     ]
    }
   ],
   "source": [
    "# import SAGA code\n",
    "\n",
    "import SAGA\n",
    "from SAGA import ObjectCuts as C\n",
    "from SAGA.utils import *\n",
    "\n",
    "print('SAGA code version', SAGA.__version__)"
   ]
  },
  {
   "cell_type": "code",
   "execution_count": 3,
   "metadata": {
    "collapsed": true
   },
   "outputs": [],
   "source": [
    "# import other modules\n",
    "\n",
    "from collections import defaultdict\n",
    "from astropy.table import Table, vstack\n",
    "from astropy.coordinates import SkyCoord\n",
    "from easyquery import Query"
   ]
  },
  {
   "cell_type": "code",
   "execution_count": 4,
   "metadata": {},
   "outputs": [
    {
     "name": "stdout",
     "output_type": "stream",
     "text": [
      "Downloading https://docs.google.com/spreadsheets/d/1b3k2eyFjHFDtmHce1xi6JKuj3ATOWYduTBFftx5oPp8/export?format=csv&gid=1471095077 [Done]\n"
     ]
    }
   ],
   "source": [
    "# initialize SAGA objects (Database, HostCatalog, ObjectCatalog)\n",
    "\n",
    "saga_database = SAGA.Database('/home/yymao/Dropbox/Academia/Collaborations/SAGA', '/home/yymao/Documents/Research/SAGA')\n",
    "saga_host_catalog = SAGA.HostCatalog(saga_database)\n",
    "saga_object_catalog = SAGA.ObjectCatalog(saga_database)"
   ]
  },
  {
   "cell_type": "code",
   "execution_count": 7,
   "metadata": {
    "collapsed": true
   },
   "outputs": [],
   "source": [
    "is_sat = (C.is_sat & C.is_clean)\n",
    "is_lowz = (C.is_low_z & C.is_clean & C.has_spec)\n",
    "\n",
    "def get_counts(base_list):\n",
    "    data = defaultdict(list)\n",
    "\n",
    "    for t in base_list:\n",
    "        host_id = int(t['HOST_NSAID'][0])\n",
    "\n",
    "        data['SAGA name'].append(saga_host_catalog.id_to_name(host_id))\n",
    "        data['NSAID'].append(host_id)\n",
    "        \n",
    "        data['sat'].append(is_sat.count(t))\n",
    "        data['low_z'].append(is_lowz.count(t))\n",
    "        data['total'].append(len(t))\n",
    "\n",
    "        for i in (-1, 0, 1, 2, 3, 4):\n",
    "            data['zq_{}'.format(i)].append(Query('ZQUALITY=={}'.format(i)).count(t))\n",
    "\n",
    "        for i in (-1, 0, 1, 2, 3, 4, 5):\n",
    "            data['rm_{}'.format(i)].append(Query('REMOVE=={}'.format(i)).count(t))\n",
    "\n",
    "    return Table(data)"
   ]
  },
  {
   "cell_type": "markdown",
   "metadata": {},
   "source": [
    "## load base catalogs"
   ]
  },
  {
   "cell_type": "code",
   "execution_count": 6,
   "metadata": {},
   "outputs": [],
   "source": [
    "# specify columns to load\n",
    "columns = 'OBJID HOST_NSAID RA DEC SPEC_Z REMOVE SATS ZQUALITY TELNAME SPEC_REPEAT r_mag OBJ_NSAID coord'.split()\n",
    "cuts = C.is_galaxy & C.fibermag_r_cut\n",
    "\n",
    "# load base catalogs (will take a while)\n",
    "catalogs_orig = saga_object_catalog.load(hosts='paper1', cuts=cuts, columns=columns, return_as='list', version='paper1')\n",
    "catalogs_dr14 = saga_object_catalog.load(hosts='paper1', cuts=cuts, columns=columns, return_as='list', version=1)"
   ]
  },
  {
   "cell_type": "markdown",
   "metadata": {},
   "source": [
    "## tables of counts"
   ]
  },
  {
   "cell_type": "code",
   "execution_count": 8,
   "metadata": {},
   "outputs": [
    {
     "data": {
      "text/html": [
       "<i>Table length=16</i>\n",
       "<table id=\"table140286522949192\" class=\"table-striped table-bordered table-condensed\">\n",
       "<thead><tr><th>SAGA name</th><th>NSAID</th><th>sat</th><th>low_z</th><th>total</th><th>zq_-1</th><th>zq_0</th><th>zq_1</th><th>zq_2</th><th>zq_3</th><th>zq_4</th><th>rm_-1</th><th>rm_0</th><th>rm_1</th><th>rm_2</th><th>rm_3</th><th>rm_4</th><th>rm_5</th></tr></thead>\n",
       "<thead><tr><th>str11</th><th>int64</th><th>int64</th><th>int64</th><th>int64</th><th>int64</th><th>int64</th><th>int64</th><th>int64</th><th>int64</th><th>int64</th><th>int64</th><th>int64</th><th>int64</th><th>int64</th><th>int64</th><th>int64</th><th>int64</th></tr></thead>\n",
       "<tr><td>Bandamanna</td><td>126115</td><td>1</td><td>4</td><td>26788</td><td>26140</td><td>0</td><td>12</td><td>0</td><td>24</td><td>612</td><td>23871</td><td>0</td><td>16</td><td>26</td><td>1890</td><td>24</td><td>961</td></tr>\n",
       "<tr><td>HarryPotter</td><td>129237</td><td>4</td><td>6</td><td>27415</td><td>26723</td><td>0</td><td>52</td><td>16</td><td>41</td><td>583</td><td>24554</td><td>0</td><td>10</td><td>59</td><td>1708</td><td>23</td><td>1061</td></tr>\n",
       "<tr><td>Narnia</td><td>132339</td><td>2</td><td>5</td><td>39272</td><td>36935</td><td>0</td><td>146</td><td>20</td><td>212</td><td>1959</td><td>35998</td><td>0</td><td>6</td><td>203</td><td>2150</td><td>104</td><td>811</td></tr>\n",
       "<tr><td>StarTrek</td><td>33446</td><td>2</td><td>5</td><td>35451</td><td>33578</td><td>0</td><td>102</td><td>8</td><td>124</td><td>1639</td><td>32015</td><td>0</td><td>9</td><td>55</td><td>2478</td><td>102</td><td>792</td></tr>\n",
       "<tr><td>MobyDick</td><td>85746</td><td>1</td><td>6</td><td>40506</td><td>38750</td><td>0</td><td>67</td><td>7</td><td>80</td><td>1602</td><td>37574</td><td>0</td><td>24</td><td>70</td><td>1606</td><td>72</td><td>1160</td></tr>\n",
       "<tr><td>Oz</td><td>137625</td><td>5</td><td>9</td><td>33426</td><td>32607</td><td>0</td><td>21</td><td>8</td><td>25</td><td>765</td><td>31018</td><td>0</td><td>9</td><td>78</td><td>1358</td><td>40</td><td>923</td></tr>\n",
       "<tr><td>Alice</td><td>140594</td><td>2</td><td>4</td><td>39222</td><td>36470</td><td>0</td><td>71</td><td>11</td><td>151</td><td>2519</td><td>36332</td><td>0</td><td>9</td><td>142</td><td>1542</td><td>111</td><td>1086</td></tr>\n",
       "<tr><td>Sopranos</td><td>13927</td><td>0</td><td>2</td><td>36092</td><td>34422</td><td>0</td><td>34</td><td>1</td><td>41</td><td>1594</td><td>32738</td><td>0</td><td>6</td><td>291</td><td>1816</td><td>123</td><td>1118</td></tr>\n",
       "<tr><td>ScoobyDoo</td><td>161174</td><td>4</td><td>8</td><td>35655</td><td>34573</td><td>0</td><td>37</td><td>2</td><td>43</td><td>1000</td><td>33441</td><td>0</td><td>2</td><td>71</td><td>1316</td><td>63</td><td>762</td></tr>\n",
       "<tr><td>Dune</td><td>165536</td><td>1</td><td>8</td><td>37270</td><td>32808</td><td>0</td><td>171</td><td>128</td><td>388</td><td>3775</td><td>34734</td><td>0</td><td>17</td><td>155</td><td>1389</td><td>141</td><td>834</td></tr>\n",
       "<tr><td>Othello</td><td>145729</td><td>2</td><td>4</td><td>34941</td><td>33937</td><td>0</td><td>24</td><td>7</td><td>21</td><td>952</td><td>32423</td><td>0</td><td>8</td><td>74</td><td>1600</td><td>36</td><td>800</td></tr>\n",
       "<tr><td>Gilgamesh</td><td>166313</td><td>2</td><td>9</td><td>37300</td><td>33770</td><td>0</td><td>109</td><td>37</td><td>474</td><td>2910</td><td>34426</td><td>0</td><td>11</td><td>154</td><td>1687</td><td>116</td><td>906</td></tr>\n",
       "<tr><td>Odyssey</td><td>147100</td><td>9</td><td>14</td><td>36854</td><td>33868</td><td>0</td><td>117</td><td>53</td><td>307</td><td>2509</td><td>33723</td><td>0</td><td>4</td><td>153</td><td>2105</td><td>145</td><td>724</td></tr>\n",
       "<tr><td>OBrother</td><td>149781</td><td>4</td><td>4</td><td>34745</td><td>33147</td><td>0</td><td>91</td><td>41</td><td>162</td><td>1304</td><td>31563</td><td>0</td><td>6</td><td>98</td><td>2062</td><td>47</td><td>969</td></tr>\n",
       "<tr><td>Catch22</td><td>150887</td><td>6</td><td>11</td><td>33640</td><td>31694</td><td>0</td><td>254</td><td>144</td><td>156</td><td>1392</td><td>30641</td><td>0</td><td>19</td><td>80</td><td>1596</td><td>84</td><td>1220</td></tr>\n",
       "<tr><td>AnaK</td><td>61945</td><td>3</td><td>7</td><td>38481</td><td>35070</td><td>0</td><td>166</td><td>41</td><td>573</td><td>2631</td><td>35281</td><td>0</td><td>18</td><td>235</td><td>1963</td><td>139</td><td>845</td></tr>\n",
       "</table>"
      ],
      "text/plain": [
       "<Table length=16>\n",
       " SAGA name  NSAID   sat  low_z total zq_-1 ...  rm_1  rm_2  rm_3  rm_4  rm_5\n",
       "   str11    int64  int64 int64 int64 int64 ... int64 int64 int64 int64 int64\n",
       "----------- ------ ----- ----- ----- ----- ... ----- ----- ----- ----- -----\n",
       " Bandamanna 126115     1     4 26788 26140 ...    16    26  1890    24   961\n",
       "HarryPotter 129237     4     6 27415 26723 ...    10    59  1708    23  1061\n",
       "     Narnia 132339     2     5 39272 36935 ...     6   203  2150   104   811\n",
       "   StarTrek  33446     2     5 35451 33578 ...     9    55  2478   102   792\n",
       "   MobyDick  85746     1     6 40506 38750 ...    24    70  1606    72  1160\n",
       "         Oz 137625     5     9 33426 32607 ...     9    78  1358    40   923\n",
       "      Alice 140594     2     4 39222 36470 ...     9   142  1542   111  1086\n",
       "   Sopranos  13927     0     2 36092 34422 ...     6   291  1816   123  1118\n",
       "  ScoobyDoo 161174     4     8 35655 34573 ...     2    71  1316    63   762\n",
       "       Dune 165536     1     8 37270 32808 ...    17   155  1389   141   834\n",
       "    Othello 145729     2     4 34941 33937 ...     8    74  1600    36   800\n",
       "  Gilgamesh 166313     2     9 37300 33770 ...    11   154  1687   116   906\n",
       "    Odyssey 147100     9    14 36854 33868 ...     4   153  2105   145   724\n",
       "   OBrother 149781     4     4 34745 33147 ...     6    98  2062    47   969\n",
       "    Catch22 150887     6    11 33640 31694 ...    19    80  1596    84  1220\n",
       "       AnaK  61945     3     7 38481 35070 ...    18   235  1963   139   845"
      ]
     },
     "execution_count": 8,
     "metadata": {},
     "output_type": "execute_result"
    }
   ],
   "source": [
    "# Current base catalogs\n",
    "get_counts(catalogs_orig)"
   ]
  },
  {
   "cell_type": "code",
   "execution_count": 9,
   "metadata": {},
   "outputs": [
    {
     "data": {
      "text/html": [
       "<i>Table length=16</i>\n",
       "<table id=\"table140286570057800\" class=\"table-striped table-bordered table-condensed\">\n",
       "<thead><tr><th>SAGA name</th><th>NSAID</th><th>sat</th><th>low_z</th><th>total</th><th>zq_-1</th><th>zq_0</th><th>zq_1</th><th>zq_2</th><th>zq_3</th><th>zq_4</th><th>rm_-1</th><th>rm_0</th><th>rm_1</th><th>rm_2</th><th>rm_3</th><th>rm_4</th><th>rm_5</th></tr></thead>\n",
       "<thead><tr><th>str11</th><th>int64</th><th>int64</th><th>int64</th><th>int64</th><th>int64</th><th>int64</th><th>int64</th><th>int64</th><th>int64</th><th>int64</th><th>int64</th><th>int64</th><th>int64</th><th>int64</th><th>int64</th><th>int64</th><th>int64</th></tr></thead>\n",
       "<tr><td>Bandamanna</td><td>126115</td><td>1</td><td>4</td><td>26769</td><td>26017</td><td>0</td><td>61</td><td>0</td><td>24</td><td>667</td><td>24617</td><td>0</td><td>16</td><td>29</td><td>1295</td><td>812</td><td>0</td></tr>\n",
       "<tr><td>HarryPotter</td><td>129237</td><td>4</td><td>7</td><td>27350</td><td>26603</td><td>0</td><td>62</td><td>16</td><td>41</td><td>628</td><td>25293</td><td>0</td><td>20</td><td>78</td><td>1351</td><td>608</td><td>0</td></tr>\n",
       "<tr><td>Narnia</td><td>132339</td><td>2</td><td>5</td><td>39222</td><td>36709</td><td>0</td><td>176</td><td>22</td><td>213</td><td>2102</td><td>36573</td><td>0</td><td>11</td><td>216</td><td>1639</td><td>783</td><td>0</td></tr>\n",
       "<tr><td>StarTrek</td><td>33446</td><td>2</td><td>5</td><td>35431</td><td>33559</td><td>0</td><td>105</td><td>8</td><td>123</td><td>1636</td><td>32617</td><td>0</td><td>14</td><td>59</td><td>2128</td><td>613</td><td>0</td></tr>\n",
       "<tr><td>MobyDick</td><td>85746</td><td>1</td><td>7</td><td>40438</td><td>38682</td><td>0</td><td>66</td><td>7</td><td>81</td><td>1602</td><td>38456</td><td>0</td><td>37</td><td>77</td><td>1307</td><td>561</td><td>0</td></tr>\n",
       "<tr><td>Oz</td><td>137625</td><td>5</td><td>9</td><td>33540</td><td>32720</td><td>0</td><td>21</td><td>8</td><td>25</td><td>766</td><td>31862</td><td>0</td><td>10</td><td>81</td><td>1126</td><td>461</td><td>0</td></tr>\n",
       "<tr><td>Alice</td><td>140594</td><td>2</td><td>5</td><td>39137</td><td>36150</td><td>0</td><td>69</td><td>10</td><td>157</td><td>2609</td><td>37138</td><td>0</td><td>15</td><td>146</td><td>1155</td><td>683</td><td>0</td></tr>\n",
       "<tr><td>Sopranos</td><td>13927</td><td>0</td><td>2</td><td>36061</td><td>34335</td><td>0</td><td>31</td><td>1</td><td>47</td><td>1493</td><td>33547</td><td>0</td><td>19</td><td>322</td><td>1305</td><td>868</td><td>0</td></tr>\n",
       "<tr><td>ScoobyDoo</td><td>161174</td><td>4</td><td>8</td><td>35884</td><td>34806</td><td>0</td><td>33</td><td>2</td><td>43</td><td>1000</td><td>34276</td><td>0</td><td>7</td><td>75</td><td>1058</td><td>468</td><td>0</td></tr>\n",
       "<tr><td>Dune</td><td>165536</td><td>1</td><td>9</td><td>37145</td><td>31902</td><td>0</td><td>170</td><td>113</td><td>376</td><td>4544</td><td>35316</td><td>0</td><td>19</td><td>162</td><td>1124</td><td>524</td><td>0</td></tr>\n",
       "<tr><td>Othello</td><td>145729</td><td>2</td><td>5</td><td>34785</td><td>33782</td><td>0</td><td>20</td><td>7</td><td>21</td><td>955</td><td>32933</td><td>0</td><td>11</td><td>79</td><td>1260</td><td>502</td><td>0</td></tr>\n",
       "<tr><td>Gilgamesh</td><td>166313</td><td>2</td><td>10</td><td>37201</td><td>33674</td><td>0</td><td>109</td><td>36</td><td>475</td><td>2907</td><td>35082</td><td>0</td><td>15</td><td>165</td><td>1402</td><td>537</td><td>0</td></tr>\n",
       "<tr><td>Odyssey</td><td>147100</td><td>9</td><td>15</td><td>36797</td><td>33793</td><td>0</td><td>121</td><td>54</td><td>310</td><td>2519</td><td>34261</td><td>0</td><td>6</td><td>164</td><td>1778</td><td>588</td><td>0</td></tr>\n",
       "<tr><td>OBrother</td><td>149781</td><td>4</td><td>5</td><td>34696</td><td>33082</td><td>0</td><td>87</td><td>41</td><td>162</td><td>1324</td><td>32296</td><td>0</td><td>9</td><td>106</td><td>1366</td><td>919</td><td>0</td></tr>\n",
       "<tr><td>Catch22</td><td>150887</td><td>6</td><td>12</td><td>33638</td><td>31694</td><td>0</td><td>248</td><td>144</td><td>156</td><td>1396</td><td>31655</td><td>0</td><td>29</td><td>89</td><td>1166</td><td>699</td><td>0</td></tr>\n",
       "<tr><td>AnaK</td><td>61945</td><td>3</td><td>8</td><td>38290</td><td>34481</td><td>0</td><td>272</td><td>41</td><td>577</td><td>2919</td><td>35760</td><td>0</td><td>23</td><td>250</td><td>1512</td><td>745</td><td>0</td></tr>\n",
       "</table>"
      ],
      "text/plain": [
       "<Table length=16>\n",
       " SAGA name  NSAID   sat  low_z total zq_-1 ...  rm_1  rm_2  rm_3  rm_4  rm_5\n",
       "   str11    int64  int64 int64 int64 int64 ... int64 int64 int64 int64 int64\n",
       "----------- ------ ----- ----- ----- ----- ... ----- ----- ----- ----- -----\n",
       " Bandamanna 126115     1     4 26769 26017 ...    16    29  1295   812     0\n",
       "HarryPotter 129237     4     7 27350 26603 ...    20    78  1351   608     0\n",
       "     Narnia 132339     2     5 39222 36709 ...    11   216  1639   783     0\n",
       "   StarTrek  33446     2     5 35431 33559 ...    14    59  2128   613     0\n",
       "   MobyDick  85746     1     7 40438 38682 ...    37    77  1307   561     0\n",
       "         Oz 137625     5     9 33540 32720 ...    10    81  1126   461     0\n",
       "      Alice 140594     2     5 39137 36150 ...    15   146  1155   683     0\n",
       "   Sopranos  13927     0     2 36061 34335 ...    19   322  1305   868     0\n",
       "  ScoobyDoo 161174     4     8 35884 34806 ...     7    75  1058   468     0\n",
       "       Dune 165536     1     9 37145 31902 ...    19   162  1124   524     0\n",
       "    Othello 145729     2     5 34785 33782 ...    11    79  1260   502     0\n",
       "  Gilgamesh 166313     2    10 37201 33674 ...    15   165  1402   537     0\n",
       "    Odyssey 147100     9    15 36797 33793 ...     6   164  1778   588     0\n",
       "   OBrother 149781     4     5 34696 33082 ...     9   106  1366   919     0\n",
       "    Catch22 150887     6    12 33638 31694 ...    29    89  1166   699     0\n",
       "       AnaK  61945     3     8 38290 34481 ...    23   250  1512   745     0"
      ]
     },
     "execution_count": 9,
     "metadata": {},
     "output_type": "execute_result"
    }
   ],
   "source": [
    "# new base catalogs with DR14\n",
    "get_counts(catalogs_dr14)"
   ]
  },
  {
   "cell_type": "markdown",
   "metadata": {},
   "source": [
    "## check satellites"
   ]
  },
  {
   "cell_type": "code",
   "execution_count": 10,
   "metadata": {},
   "outputs": [
    {
     "data": {
      "text/html": [
       "<i>Table length=48</i>\n",
       "<table id=\"table140286570744688-92238\" class=\"table-striped table-bordered table-condensed\">\n",
       "<thead><tr><th>idx</th><th>OBJID</th><th>HOST_NSAID</th><th>RA</th><th>DEC</th><th>SPEC_Z</th><th>REMOVE</th><th>SATS</th><th>ZQUALITY</th><th>TELNAME</th><th>SPEC_REPEAT</th><th>r_mag</th><th>OBJ_NSAID</th></tr></thead>\n",
       "<tr><td>0</td><td>1237680247351738669</td><td>126115</td><td>1.129657963531551</td><td>20.71801839607005</td><td>0.0072550303</td><td>-1</td><td>1</td><td>4</td><td>NSA</td><td>NSA+SDSS</td><td>15.868438</td><td>126134</td></tr>\n",
       "<tr><td>1</td><td>1237678602387456305</td><td>129237</td><td>20.328466622978624</td><td>17.7539390552514</td><td>0.008245</td><td>-1</td><td>1</td><td>4</td><td>MMT</td><td>MMT</td><td>19.62673</td><td>-1</td></tr>\n",
       "<tr><td>2</td><td>1237678602387521791</td><td>129237</td><td>20.536342698008013</td><td>17.52814287890618</td><td>0.008651</td><td>-1</td><td>1</td><td>4</td><td>MMT</td><td>MMT</td><td>18.976677</td><td>-1</td></tr>\n",
       "<tr><td>3</td><td>1237678602387456130</td><td>129237</td><td>20.28526901056989</td><td>17.602235752487275</td><td>0.00822</td><td>-1</td><td>1</td><td>4</td><td>MMT</td><td>MMT</td><td>17.315659</td><td>-1</td></tr>\n",
       "<tr><td>4</td><td>1237679169841725673</td><td>129237</td><td>20.77689036929064</td><td>17.891450173095595</td><td>0.008477</td><td>-1</td><td>1</td><td>4</td><td>MMT</td><td>MMT</td><td>17.114355</td><td>-1</td></tr>\n",
       "<tr><td>5</td><td>1237678881574814166</td><td>132339</td><td>39.53616133150837</td><td>-1.3966955912552497</td><td>0.00845</td><td>-1</td><td>1</td><td>3</td><td>AAT</td><td>AAT</td><td>20.117296</td><td>-1</td></tr>\n",
       "<tr><td>6</td><td>1237678881574944900</td><td>132339</td><td>39.92546425206123</td><td>-1.4187419100030116</td><td>0.008789</td><td>-1</td><td>1</td><td>4</td><td>MMT</td><td>MMT</td><td>16.977049</td><td>-1</td></tr>\n",
       "<tr><td>7</td><td>1237657607497515484</td><td>33446</td><td>123.64989755576431</td><td>36.43435539786629</td><td>0.008211395</td><td>-1</td><td>1</td><td>4</td><td>NSA</td><td>NSA+SDSS</td><td>16.393507</td><td>33448</td></tr>\n",
       "<tr><td>8</td><td>1237657607497318756</td><td>33446</td><td>123.24317320594254</td><td>36.19835996595335</td><td>0.008303763</td><td>-1</td><td>1</td><td>4</td><td>NSA</td><td>NSA+SDSS</td><td>15.436748</td><td>33445</td></tr>\n",
       "<tr><td>9</td><td>1237664338780029261</td><td>85746</td><td>149.68716885916922</td><td>32.7202654616559</td><td>0.004987</td><td>-1</td><td>1</td><td>3</td><td>MMT</td><td>MMT</td><td>20.664415</td><td>-1</td></tr>\n",
       "<tr><td>10</td><td>1237667255616274560</td><td>137625</td><td>158.35176833666543</td><td>28.552913727897682</td><td>0.004288</td><td>-1</td><td>1</td><td>4</td><td>MMT</td><td>MMT</td><td>17.801254</td><td>-1</td></tr>\n",
       "<tr><td>11</td><td>1237665367429677221</td><td>137625</td><td>158.71239779812532</td><td>28.663853328783592</td><td>0.0044131144</td><td>-1</td><td>1</td><td>4</td><td>NSA</td><td>NSA+SDSS</td><td>15.496474</td><td>107942</td></tr>\n",
       "<tr><td>12</td><td>1237667287812735027</td><td>137625</td><td>157.77827429759</td><td>28.796644795323083</td><td>0.004745304</td><td>-1</td><td>1</td><td>4</td><td>NSA</td><td>NSA+SDSS</td><td>12.932513</td><td>107764</td></tr>\n",
       "<tr><td>13</td><td>1237667255616143515</td><td>137625</td><td>158.04324634016712</td><td>28.48305695381645</td><td>0.0052765603</td><td>-1</td><td>1</td><td>4</td><td>NSA</td><td>NSA+SDSS</td><td>15.2010765</td><td>107759</td></tr>\n",
       "<tr><td>14</td><td>1237667255616143540</td><td>137625</td><td>158.088519499402</td><td>28.419853356835773</td><td>0.0054109367</td><td>-1</td><td>1</td><td>4</td><td>NSA</td><td>NSA+SDSS</td><td>16.760054</td><td>107745</td></tr>\n",
       "<tr><td>15</td><td>1237650762927308814</td><td>140594</td><td>179.6917284196687</td><td>-1.4619413340331329</td><td>0.0049234135</td><td>-1</td><td>1</td><td>4</td><td>NSA</td><td>GAMA+NSA+SDSS</td><td>13.929052</td><td>140542</td></tr>\n",
       "<tr><td>16</td><td>1237650372092690464</td><td>140594</td><td>180.2954421599814</td><td>-1.2976838318966908</td><td>0.0049634413</td><td>-1</td><td>1</td><td>4</td><td>NSA</td><td>GAMA+NSA+SDSS</td><td>13.430108</td><td>171514</td></tr>\n",
       "<tr><td>17</td><td>1237668298203202132</td><td>161174</td><td>182.84820684046792</td><td>20.063222764596894</td><td>0.007782</td><td>-1</td><td>1</td><td>4</td><td>MMT</td><td>MMT</td><td>19.923687</td><td>-1</td></tr>\n",
       "<tr><td>18</td><td>1237668298740007188</td><td>161174</td><td>182.6898152022822</td><td>20.592928263521422</td><td>0.008433</td><td>-1</td><td>1</td><td>4</td><td>MMT</td><td>MMT</td><td>18.251928</td><td>-1</td></tr>\n",
       "<tr><td>19</td><td>1237668298203070473</td><td>161174</td><td>182.4280443032099</td><td>20.046918759717236</td><td>0.008231</td><td>-1</td><td>1</td><td>4</td><td>MMT</td><td>MMT</td><td>16.745062</td><td>-1</td></tr>\n",
       "<tr><td>20</td><td>1237668298203267092</td><td>161174</td><td>182.99066650893576</td><td>20.027848692241328</td><td>0.0080018155</td><td>-1</td><td>1</td><td>4</td><td>NSA</td><td>NSA+SDSS</td><td>14.413941</td><td>118414</td></tr>\n",
       "<tr><td>21</td><td>1237648721248845970</td><td>165536</td><td>221.31611583605186</td><td>-0.159937082521251</td><td>0.005550537</td><td>-1</td><td>1</td><td>4</td><td>NSA</td><td>6dF+NSA+SDSS+2dF+GAMA+AAT</td><td>14.914016</td><td>2579</td></tr>\n",
       "<tr><td>22</td><td>1237655693015056396</td><td>145729</td><td>224.5326175192327</td><td>-1.3125960956778269</td><td>0.0064927037</td><td>-1</td><td>1</td><td>4</td><td>NSA</td><td>NSA+SDSS+6dF</td><td>15.309645</td><td>35536</td></tr>\n",
       "<tr><td>23</td><td>1237648702984683605</td><td>145729</td><td>225.00540122613614</td><td>-1.091302267340116</td><td>0.006297647</td><td>-1</td><td>1</td><td>4</td><td>NSA</td><td>NSA+SDSS</td><td>14.853444</td><td>35574</td></tr>\n",
       "<tr><td>24</td><td>1237665565541728490</td><td>166313</td><td>234.1329261767468</td><td>16.44045529079599</td><td>0.0063225017</td><td>-1</td><td>1</td><td>4</td><td>NSA</td><td>NSA+SDSS</td><td>14.308078</td><td>166312</td></tr>\n",
       "<tr><td>25</td><td>1237665566078402826</td><td>166313</td><td>233.78703753101587</td><td>16.87043759877531</td><td>0.006671</td><td>-1</td><td>1</td><td>4</td><td>MMT</td><td>SDSS+MMT+NSA+AAT</td><td>15.423594</td><td>124222</td></tr>\n",
       "<tr><td>26</td><td>1237662698115432544</td><td>147100</td><td>248.05133958548117</td><td>19.695739696315904</td><td>0.008224</td><td>-1</td><td>1</td><td>4</td><td>MMT</td><td>MMT+AAT</td><td>16.66219</td><td>-1</td></tr>\n",
       "<tr><td>27</td><td>1237662224092496776</td><td>147100</td><td>248.19536859309545</td><td>19.867012680720872</td><td>0.00824</td><td>-1</td><td>1</td><td>3</td><td>MMT</td><td>MMT</td><td>18.590857</td><td>-1</td></tr>\n",
       "<tr><td>28</td><td>1237662662147571761</td><td>147100</td><td>248.39322569730575</td><td>19.94614008242302</td><td>0.008172</td><td>-1</td><td>1</td><td>4</td><td>MMT</td><td>SDSS+MMT+NSA+AAT</td><td>15.659997</td><td>68553</td></tr>\n",
       "<tr><td>29</td><td>1237662224092364842</td><td>147100</td><td>247.87738757286303</td><td>20.093624840117634</td><td>0.008288</td><td>-1</td><td>1</td><td>4</td><td>MMT</td><td>SDSS+MMT+AAT</td><td>17.027521</td><td>-1</td></tr>\n",
       "<tr><td>30</td><td>1237662662147310256</td><td>147100</td><td>247.82589224127634</td><td>20.210878776100238</td><td>0.008612638</td><td>-1</td><td>1</td><td>4</td><td>NSA</td><td>DEIMOS+NSA+AAT+SDSS+WIYN</td><td>16.93628</td><td>147082</td></tr>\n",
       "<tr><td>31</td><td>1237662662147638034</td><td>147100</td><td>248.58063852326927</td><td>19.72080134579094</td><td>0.00818</td><td>-1</td><td>1</td><td>4</td><td>AAT</td><td>MMT+WIYN+AAT</td><td>18.262726</td><td>-1</td></tr>\n",
       "<tr><td>32</td><td>1237662698115433445</td><td>147100</td><td>248.16342684037278</td><td>19.792207594731803</td><td>0.007471</td><td>-1</td><td>1</td><td>4</td><td>MMT</td><td>MMT</td><td>20.353693</td><td>-1</td></tr>\n",
       "<tr><td>33</td><td>1237662698115432783</td><td>147100</td><td>248.1520796862202</td><td>19.810259138150656</td><td>0.007628</td><td>-1</td><td>1</td><td>4</td><td>MMT</td><td>MMT+WIYN</td><td>17.64925</td><td>-1</td></tr>\n",
       "<tr><td>34</td><td>1237662224092299400</td><td>147100</td><td>247.84002994962782</td><td>20.184075813520494</td><td>0.008553471</td><td>-1</td><td>1</td><td>4</td><td>NSA</td><td>NSA+SDSS</td><td>13.328449</td><td>68560</td></tr>\n",
       "<tr><td>35</td><td>1237680192048857102</td><td>149781</td><td>336.0481612408426</td><td>-3.4829386900254677</td><td>0.009449885</td><td>-1</td><td>1</td><td>4</td><td>NSA</td><td>NSA+SDSS+6dF</td><td>13.531109</td><td>149792</td></tr>\n",
       "<tr><td>36</td><td>1237680066954264778</td><td>149781</td><td>335.83630544372727</td><td>-3.6598026408369155</td><td>0.010210413</td><td>-1</td><td>1</td><td>4</td><td>NSA</td><td>NSA+SDSS+6dF</td><td>14.894222</td><td>149774</td></tr>\n",
       "<tr><td>37</td><td>1237680066954330699</td><td>149781</td><td>335.9538494712769</td><td>-3.701194846575294</td><td>0.00936</td><td>-1</td><td>1</td><td>4</td><td>AAT</td><td>AAT</td><td>19.47153</td><td>-1</td></tr>\n",
       "<tr><td>38</td><td>1237679996084617517</td><td>149781</td><td>335.9799761776778</td><td>-3.270548591244398</td><td>0.00951</td><td>-1</td><td>1</td><td>4</td><td>AAT</td><td>AAT</td><td>15.955497</td><td>-1</td></tr>\n",
       "<tr><td>39</td><td>1237678776862572690</td><td>150887</td><td>348.7769076364963</td><td>4.373197005240668</td><td>0.008904</td><td>-1</td><td>1</td><td>4</td><td>MMT</td><td>MMT</td><td>15.644619</td><td>-1</td></tr>\n",
       "<tr><td>40</td><td>1237678777399443498</td><td>150887</td><td>348.6966488923049</td><td>4.63995485424641</td><td>0.009556</td><td>-1</td><td>1</td><td>4</td><td>MMT</td><td>MMT</td><td>14.991731</td><td>-1</td></tr>\n",
       "<tr><td>41</td><td>1237679005021831220</td><td>150887</td><td>348.6438162584939</td><td>4.498443491102878</td><td>0.0089195175</td><td>-1</td><td>1</td><td>4</td><td>NSA</td><td>NSA+SDSS</td><td>12.742454</td><td>150882</td></tr>\n",
       "<tr><td>42</td><td>1237679005021831801</td><td>150887</td><td>348.62148852870723</td><td>4.507170762018735</td><td>0.00862</td><td>-1</td><td>1</td><td>3</td><td>AAT</td><td>AAT</td><td>17.822721</td><td>-1</td></tr>\n",
       "<tr><td>43</td><td>1237679005558702536</td><td>150887</td><td>348.5545917470314</td><td>4.915003239624693</td><td>0.009368</td><td>-1</td><td>1</td><td>4</td><td>MMT</td><td>MMT</td><td>20.719479</td><td>-1</td></tr>\n",
       "<tr><td>44</td><td>1237678777399509170</td><td>150887</td><td>348.8741990986791</td><td>4.613261456350933</td><td>0.009029</td><td>-1</td><td>1</td><td>3</td><td>MMT</td><td>MMT</td><td>19.926994</td><td>-1</td></tr>\n",
       "<tr><td>45</td><td>1237663277925204111</td><td>61945</td><td>354.1952297364415</td><td>0.6234237714801917</td><td>0.008789</td><td>-1</td><td>1</td><td>4</td><td>MMT</td><td>SDSS+MMT+NSA+AAT</td><td>15.631291</td><td>5538</td></tr>\n",
       "<tr><td>46</td><td>1237666408439939277</td><td>61945</td><td>354.35059999083205</td><td>0.3908027693448825</td><td>0.008886</td><td>-1</td><td>1</td><td>4</td><td>MMT</td><td>NSA+MMT+SDSS</td><td>13.679602</td><td>5541</td></tr>\n",
       "<tr><td>47</td><td>1237666408439677694</td><td>61945</td><td>353.7788052821856</td><td>0.3010585170592043</td><td>0.008</td><td>-1</td><td>1</td><td>3</td><td>MMT</td><td>MMT</td><td>21.300713</td><td>-1</td></tr>\n",
       "</table><style>table.dataTable {clear: both; width: auto !important; margin: 0 !important;}\n",
       ".dataTables_info, .dataTables_length, .dataTables_filter, .dataTables_paginate{\n",
       "display: inline-block; margin-right: 1em; }\n",
       ".paginate_button { margin-right: 5px; }\n",
       "</style>\n",
       "<script>\n",
       "\n",
       "var astropy_sort_num = function(a, b) {\n",
       "    var a_num = parseFloat(a);\n",
       "    var b_num = parseFloat(b);\n",
       "\n",
       "    if (isNaN(a_num) && isNaN(b_num))\n",
       "        return ((a < b) ? -1 : ((a > b) ? 1 : 0));\n",
       "    else if (!isNaN(a_num) && !isNaN(b_num))\n",
       "        return ((a_num < b_num) ? -1 : ((a_num > b_num) ? 1 : 0));\n",
       "    else\n",
       "        return isNaN(a_num) ? -1 : 1;\n",
       "}\n",
       "\n",
       "require.config({paths: {\n",
       "    datatables: 'https://cdn.datatables.net/1.10.12/js/jquery.dataTables.min'\n",
       "}});\n",
       "require([\"datatables\"], function(){\n",
       "    console.log(\"$('#table140286570744688-92238').dataTable()\");\n",
       "    \n",
       "jQuery.extend( jQuery.fn.dataTableExt.oSort, {\n",
       "    \"optionalnum-asc\": astropy_sort_num,\n",
       "    \"optionalnum-desc\": function (a,b) { return -astropy_sort_num(a, b); }\n",
       "});\n",
       "\n",
       "    $('#table140286570744688-92238').dataTable({\n",
       "        order: [],\n",
       "        pageLength: 50,\n",
       "        lengthMenu: [[10, 25, 50, 100, 500, 1000, -1], [10, 25, 50, 100, 500, 1000, 'All']],\n",
       "        pagingType: \"full_numbers\",\n",
       "        columnDefs: [{targets: [0, 1, 2, 3, 4, 5, 6, 7, 8, 11, 12], type: \"optionalnum\"}]\n",
       "    });\n",
       "});\n",
       "</script>\n"
      ],
      "text/plain": [
       "<IPython.core.display.HTML object>"
      ]
     },
     "execution_count": 10,
     "metadata": {},
     "output_type": "execute_result"
    }
   ],
   "source": [
    "vstack([is_sat.filter(t)[t.colnames[:-1]] for t in catalogs_dr14]).show_in_notebook()"
   ]
  },
  {
   "cell_type": "markdown",
   "metadata": {},
   "source": [
    "## difference in low-z galaxy count is due to whether or not host is counted"
   ]
  },
  {
   "cell_type": "code",
   "execution_count": 11,
   "metadata": {},
   "outputs": [
    {
     "name": "stdout",
     "output_type": "stream",
     "text": [
      "different low-z galaxy count for 129237: 6 (orig) vs. 7 (new)\n",
      " missing obj NSAID 129127\n",
      "different low-z galaxy count for 85746: 6 (orig) vs. 7 (new)\n",
      " missing obj NSAID -1\n",
      "different low-z galaxy count for 140594: 4 (orig) vs. 5 (new)\n",
      " missing obj NSAID -1\n",
      "different low-z galaxy count for 165536: 8 (orig) vs. 9 (new)\n",
      " missing obj NSAID 145456\n",
      "different low-z galaxy count for 145729: 4 (orig) vs. 5 (new)\n",
      " missing obj NSAID 145729\n",
      "different low-z galaxy count for 166313: 9 (orig) vs. 10 (new)\n",
      " missing obj NSAID -1\n",
      "different low-z galaxy count for 147100: 14 (orig) vs. 15 (new)\n",
      " missing obj NSAID 147100\n",
      "different low-z galaxy count for 149781: 4 (orig) vs. 5 (new)\n",
      " missing obj NSAID 149781\n",
      "different low-z galaxy count for 150887: 11 (orig) vs. 12 (new)\n",
      " missing obj NSAID 150793\n",
      "different low-z galaxy count for 61945: 7 (orig) vs. 8 (new)\n",
      " missing obj NSAID 151978\n"
     ]
    }
   ],
   "source": [
    "for to, tn in zip(catalogs_orig, catalogs_dr14):\n",
    "    # make sure we are comparing the same host\n",
    "    assert to['HOST_NSAID'][0] == tn['HOST_NSAID'][0]\n",
    "    \n",
    "    # check if satellite number is the same\n",
    "    if is_sat.count(to) != is_sat.count(tn):\n",
    "        print('different satellite count for {}'.format(tn['HOST_NSAID'][0]))\n",
    "    \n",
    "    if is_lowz.count(to) != is_lowz.count(tn):\n",
    "        print('different low-z galaxy count for {}: {} (orig) vs. {} (new)'.format(\\\n",
    "                    tn['HOST_NSAID'][0], is_lowz.count(to), is_lowz.count(tn)))\n",
    "        tn_lowz = is_lowz.filter(tn)\n",
    "        to_lowz = is_lowz.filter(to)\n",
    "        for gal in tn_lowz:\n",
    "            if len(find_near_coord(to_lowz, gal['coord'], 1.0)) == 0:\n",
    "                print(' missing obj NSAID', gal['OBJ_NSAID'])"
   ]
  },
  {
   "cell_type": "markdown",
   "metadata": {},
   "source": [
    "## checking some remove-4 flag objects"
   ]
  },
  {
   "cell_type": "code",
   "execution_count": 12,
   "metadata": {
    "collapsed": true
   },
   "outputs": [],
   "source": [
    "host_nsa = 166313\n",
    "columns = 'OBJID HOST_NSAID RA DEC SPEC_Z REMOVE SATS ZQUALITY TELNAME SPEC_REPEAT PETRORAD_R PETRORADERR_R r_mag OBJ_NSAID coord'.split()\n",
    "bo = saga_object_catalog.load(host_nsa, columns=columns, version='paper1').pop()\n",
    "bn = saga_object_catalog.load(host_nsa, columns=columns, version=1).pop()"
   ]
  },
  {
   "cell_type": "code",
   "execution_count": 13,
   "metadata": {},
   "outputs": [
    {
     "name": "stdout",
     "output_type": "stream",
     "text": [
      "6820 275\n",
      "6569 24\n"
     ]
    }
   ],
   "source": [
    "bn_objid_rm4 = Query('REMOVE==4').filter(bn)['OBJID']\n",
    "bo_objid_rm4 = Query('REMOVE==4').filter(bo)['OBJID']\n",
    "\n",
    "kn = bn_objid_rm4[np.in1d(bn_objid_rm4, bo_objid_rm4, invert=True)]\n",
    "ko = bo_objid_rm4[np.in1d(bo_objid_rm4, bn_objid_rm4, invert=True)]\n",
    "\n",
    "print(len(bn_objid_rm4), len(bo_objid_rm4))\n",
    "print(len(kn), len(ko))"
   ]
  },
  {
   "cell_type": "code",
   "execution_count": 14,
   "metadata": {},
   "outputs": [
    {
     "data": {
      "text/html": [
       "<i>Table length=4</i>\n",
       "<table id=\"table140286570151216\" class=\"table-striped table-bordered table-condensed\">\n",
       "<thead><tr><th>OBJID</th><th>HOST_NSAID</th><th>RA</th><th>DEC</th><th>SPEC_Z</th><th>REMOVE</th><th>SATS</th><th>ZQUALITY</th><th>TELNAME</th><th>SPEC_REPEAT</th><th>PETRORAD_R</th><th>PETRORADERR_R</th><th>r_mag</th><th>OBJ_NSAID</th><th>coord</th></tr></thead>\n",
       "<thead><tr><th></th><th></th><th></th><th></th><th></th><th></th><th></th><th></th><th></th><th></th><th></th><th></th><th></th><th></th><th>deg,deg</th></tr></thead>\n",
       "<thead><tr><th>int64</th><th>int64</th><th>float64</th><th>float64</th><th>float32</th><th>int64</th><th>int64</th><th>int64</th><th>str6</th><th>str48</th><th>float32</th><th>float32</th><th>float32</th><th>int64</th><th>object</th></tr></thead>\n",
       "<tr><td>1237667783928972103</td><td>166313</td><td>234.35127012297647</td><td>16.052379222497414</td><td>-1.0</td><td>3</td><td>-1</td><td>-1</td><td></td><td></td><td>2.9699788</td><td>-1000.0</td><td>25.840467</td><td>-1</td><td>234.35127012297647,16.052379222497414</td></tr>\n",
       "<tr><td>1237667783928972104</td><td>166313</td><td>234.3517210725633</td><td>16.052247658020054</td><td>-1.0</td><td>3</td><td>-1</td><td>-1</td><td></td><td></td><td>2.9699788</td><td>-1000.0</td><td>26.05402</td><td>-1</td><td>234.3517210725633,16.052247658020054</td></tr>\n",
       "<tr><td>1237667783928972095</td><td>166313</td><td>234.34853313842473</td><td>16.053177738827582</td><td>-1.0</td><td>5</td><td>-1</td><td>-1</td><td></td><td></td><td>2.9699788</td><td>-1000.0</td><td>27.31996</td><td>-1</td><td>234.34853313842473,16.053177738827582</td></tr>\n",
       "<tr><td>1237667783928972107</td><td>166313</td><td>234.35391231754926</td><td>16.055008305275233</td><td>-1.0</td><td>-1</td><td>-1</td><td>-1</td><td></td><td></td><td>1.4076986</td><td>0.37581685</td><td>21.322119</td><td>-1</td><td>234.35391231754926,16.055008305275233</td></tr>\n",
       "</table>"
      ],
      "text/plain": [
       "<Table length=4>\n",
       "       OBJID        HOST_NSAID ...                 coord                \n",
       "                               ...                deg,deg               \n",
       "       int64          int64    ...                 object               \n",
       "------------------- ---------- ... -------------------------------------\n",
       "1237667783928972103     166313 ... 234.35127012297647,16.052379222497414\n",
       "1237667783928972104     166313 ...  234.3517210725633,16.052247658020054\n",
       "1237667783928972095     166313 ... 234.34853313842473,16.053177738827582\n",
       "1237667783928972107     166313 ... 234.35391231754926,16.055008305275233"
      ]
     },
     "metadata": {},
     "output_type": "display_data"
    },
    {
     "data": {
      "text/html": [
       "<i>Table length=4</i>\n",
       "<table id=\"table140286566621080\" class=\"table-striped table-bordered table-condensed\">\n",
       "<thead><tr><th>OBJID</th><th>HOST_NSAID</th><th>RA</th><th>DEC</th><th>SPEC_Z</th><th>REMOVE</th><th>SATS</th><th>ZQUALITY</th><th>TELNAME</th><th>SPEC_REPEAT</th><th>PETRORAD_R</th><th>PETRORADERR_R</th><th>r_mag</th><th>OBJ_NSAID</th><th>coord</th></tr></thead>\n",
       "<thead><tr><th></th><th></th><th></th><th></th><th></th><th></th><th></th><th></th><th></th><th></th><th></th><th></th><th></th><th></th><th>deg,deg</th></tr></thead>\n",
       "<thead><tr><th>int64</th><th>int32</th><th>float64</th><th>float64</th><th>float32</th><th>int16</th><th>int16</th><th>int16</th><th>str6</th><th>str48</th><th>float32</th><th>float32</th><th>float32</th><th>int32</th><th>object</th></tr></thead>\n",
       "<tr><td>1237667783928972103</td><td>166313</td><td>234.35127012297647</td><td>16.052379222497414</td><td>-1.0</td><td>4</td><td>-1</td><td>-1</td><td></td><td></td><td>2.9699788</td><td>-1000.0</td><td>25.85856</td><td>-1</td><td>234.35127012297647,16.052379222497414</td></tr>\n",
       "<tr><td>1237667783928972104</td><td>166313</td><td>234.3517210725633</td><td>16.052247658020054</td><td>-1.0</td><td>4</td><td>-1</td><td>-1</td><td></td><td></td><td>2.9699788</td><td>-1000.0</td><td>26.07203</td><td>-1</td><td>234.3517210725633,16.052247658020054</td></tr>\n",
       "<tr><td>1237667783928972095</td><td>166313</td><td>234.34853313842473</td><td>16.053177738827582</td><td>-1.0</td><td>3</td><td>-1</td><td>-1</td><td></td><td></td><td>2.9699788</td><td>-1000.0</td><td>27.337814</td><td>-1</td><td>234.34853313842473,16.053177738827582</td></tr>\n",
       "<tr><td>1237667783928972107</td><td>166313</td><td>234.35391231684002</td><td>16.055008306546732</td><td>-1.0</td><td>-1</td><td>-1</td><td>-1</td><td></td><td></td><td>1.4076986</td><td>0.37581685</td><td>21.343405</td><td>-1</td><td>234.35391231684002,16.055008306546732</td></tr>\n",
       "</table>"
      ],
      "text/plain": [
       "<Table length=4>\n",
       "       OBJID        HOST_NSAID ...                 coord                \n",
       "                               ...                deg,deg               \n",
       "       int64          int32    ...                 object               \n",
       "------------------- ---------- ... -------------------------------------\n",
       "1237667783928972103     166313 ... 234.35127012297647,16.052379222497414\n",
       "1237667783928972104     166313 ...  234.3517210725633,16.052247658020054\n",
       "1237667783928972095     166313 ... 234.34853313842473,16.053177738827582\n",
       "1237667783928972107     166313 ... 234.35391231684002,16.055008306546732"
      ]
     },
     "metadata": {},
     "output_type": "display_data"
    }
   ],
   "source": [
    "i = kn[1]\n",
    "display(find_near_objid(bo, i, 15))\n",
    "display(find_near_objid(bn, i, 15))"
   ]
  },
  {
   "cell_type": "code",
   "execution_count": null,
   "metadata": {
    "collapsed": true
   },
   "outputs": [],
   "source": []
  }
 ],
 "metadata": {
  "kernelspec": {
   "display_name": "Python 3",
   "language": "python",
   "name": "python3"
  },
  "language_info": {
   "codemirror_mode": {
    "name": "ipython",
    "version": 3
   },
   "file_extension": ".py",
   "mimetype": "text/x-python",
   "name": "python",
   "nbconvert_exporter": "python",
   "pygments_lexer": "ipython3",
   "version": "3.6.5"
  }
 },
 "nbformat": 4,
 "nbformat_minor": 2
}
