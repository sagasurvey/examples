{
 "cells": [
  {
   "cell_type": "code",
   "execution_count": 5,
   "metadata": {},
   "outputs": [
    {
     "name": "stdout",
     "output_type": "stream",
     "text": [
      "SAGA code version 0.12.0-rc.11\n"
     ]
    }
   ],
   "source": [
    "# import SAGA code\n",
    "import SAGA\n",
    "from SAGA.database.external import *\n",
    "\n",
    "print('SAGA code version', SAGA.__version__)"
   ]
  },
  {
   "cell_type": "code",
   "execution_count": null,
   "metadata": {},
   "outputs": [],
   "source": [
    "## Before running this cell, you should uncomment the following two lines, or set `SAGA_DROPBOX` and `SAGA_DIR` as enviornment variables\n",
    "#saga_dropbox = '/path/to/saga/dropbox'\n",
    "#saga_dir = '/path/to/saga/local/dir'\n",
    "\n",
    "saga = SAGA.QuickStart()"
   ]
  },
  {
   "cell_type": "markdown",
   "metadata": {},
   "source": [
    "## download for all hosts"
   ]
  },
  {
   "cell_type": "markdown",
   "metadata": {},
   "source": [
    "### SDSS"
   ]
  },
  {
   "cell_type": "code",
   "execution_count": null,
   "metadata": {},
   "outputs": [],
   "source": [
    "failed = download_catalogs_for_hosts(\n",
    "    saga.host_catalog.load(\"has_sdss_image\"),\n",
    "    SdssQuery,\n",
    "    saga.database.sdss_file_path_pattern,\n",
    "    overwrite=False,\n",
    ")\n",
    "\n",
    "print(\"# failed =\", np.count_nonzero(failed))"
   ]
  },
  {
   "cell_type": "markdown",
   "metadata": {},
   "source": [
    "### DES"
   ]
  },
  {
   "cell_type": "code",
   "execution_count": null,
   "metadata": {},
   "outputs": [],
   "source": [
    "failed = download_catalogs_for_hosts(\n",
    "    saga.host_catalog.load(\"has_des_image\"),\n",
    "    DesQuery,\n",
    "    saga.database.des_file_path_pattern,\n",
    "    overwrite=False,\n",
    ")\n",
    "\n",
    "print('# failed =', np.count_nonzero(failed))"
   ]
  },
  {
   "cell_type": "markdown",
   "metadata": {},
   "source": [
    "### DECaLS (prebuilt)"
   ]
  },
  {
   "cell_type": "code",
   "execution_count": null,
   "metadata": {},
   "outputs": [],
   "source": [
    "failed = download_catalogs_for_hosts(\n",
    "    saga.host_catalog.load(\"has_decals_image\"),\n",
    "    DecalsPrebuilt,\n",
    "    saga.database.decals_file_path_pattern,\n",
    "    overwrite=False,\n",
    ")\n",
    "\n",
    "print('# failed =', np.count_nonzero(failed))"
   ]
  },
  {
   "cell_type": "markdown",
   "metadata": {},
   "source": [
    "## example code for download a single catalog"
   ]
  },
  {
   "cell_type": "code",
   "execution_count": null,
   "metadata": {},
   "outputs": [],
   "source": [
    "ra, dec = hosts[0]['RA'], hosts[0]['DEC']\n",
    "path = '/home/yymao/Downloads/test.fits.gz'"
   ]
  },
  {
   "cell_type": "code",
   "execution_count": null,
   "metadata": {},
   "outputs": [],
   "source": [
    "WiseQuery(ra, dec).download_as_file(path, overwrite=False)"
   ]
  },
  {
   "cell_type": "code",
   "execution_count": null,
   "metadata": {},
   "outputs": [],
   "source": [
    "SdssQuery(ra, dec, context='DR14', default_use_sciserver=False).download_as_file(path, overwrite=False)"
   ]
  },
  {
   "cell_type": "code",
   "execution_count": null,
   "metadata": {},
   "outputs": [],
   "source": []
  }
 ],
 "metadata": {
  "kernelspec": {
   "display_name": "Python 3",
   "language": "python",
   "name": "python3"
  },
  "language_info": {
   "codemirror_mode": {
    "name": "ipython",
    "version": 3
   },
   "file_extension": ".py",
   "mimetype": "text/x-python",
   "name": "python",
   "nbconvert_exporter": "python",
   "pygments_lexer": "ipython3",
   "version": "3.7.3"
  }
 },
 "nbformat": 4,
 "nbformat_minor": 4
}
