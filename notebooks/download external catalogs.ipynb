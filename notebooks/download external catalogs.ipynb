{
 "cells": [
  {
   "cell_type": "code",
   "execution_count": null,
   "metadata": {},
   "outputs": [],
   "source": [
    "# import SAGA code\n",
    "import SAGA\n",
    "from SAGA.database.external import SdssQuery, WiseQuery, DesQuery, DecalsPrebuilt, download_catalogs_for_hosts\n",
    "\n",
    "print('SAGA code version', SAGA.__version__)"
   ]
  },
  {
   "cell_type": "code",
   "execution_count": 3,
   "metadata": {},
   "outputs": [
    {
     "name": "stdout",
     "output_type": "stream",
     "text": [
      "Downloading https://docs.google.com/spreadsheets/d/1b3k2eyFjHFDtmHce1xi6JKuj3ATOWYduTBFftx5oPp8/export?format=csv&gid=1471095077 [Done]\n"
     ]
    }
   ],
   "source": [
    "# get host list\n",
    "saga_database = SAGA.Database('/home/yymao/Dropbox/Academia/Collaborations/SAGA', '/home/yymao/Documents/Research/SAGA')\n",
    "saga_host_catalog = SAGA.HostCatalog(saga_database)"
   ]
  },
  {
   "cell_type": "markdown",
   "metadata": {},
   "source": [
    "## download for all hosts"
   ]
  },
  {
   "cell_type": "markdown",
   "metadata": {},
   "source": [
    "### SDSS"
   ]
  },
  {
   "cell_type": "code",
   "execution_count": 6,
   "metadata": {
    "collapsed": true
   },
   "outputs": [
    {
     "name": "stdout",
     "output_type": "stream",
     "text": [
      "[05/16 14:08:36] Getting catalog for host nsa126115 ...\n",
      "[05/16 14:08:36] Getting catalog for host nsa127226 ...\n",
      "[05/16 14:08:36] Getting catalog for host nsa129237 ...\n",
      "[05/16 14:08:36] Getting catalog for host nsa129387 ...\n",
      "[05/16 14:08:36] Getting catalog for host nsa130133 ...\n",
      "[05/16 14:08:36] Getting catalog for host nsa130625 ...\n",
      "[05/16 14:08:36] Getting catalog for host nsa131531 ...\n",
      "[05/16 14:08:36] Getting catalog for host nsa132339 ...\n",
      "[05/16 14:08:36] Getting catalog for host nsa33446 ...\n",
      "[05/16 14:08:36] Getting catalog for host nsa135129 ...\n",
      "[05/16 14:08:36] Getting catalog for host nsa135440 ...\n",
      "[05/16 14:08:36] Getting catalog for host nsa135594 ...\n",
      "[05/16 14:08:36] Getting catalog for host nsa135739 ...\n",
      "[05/16 14:08:36] Getting catalog for host nsa16235 ...\n",
      "[05/16 14:08:36] Getting catalog for host nsa135879 ...\n",
      "[05/16 14:08:36] Getting catalog for host nsa157374 ...\n",
      "[05/16 14:08:36] Getting catalog for host nsa32 ...\n",
      "[05/16 14:08:36] Getting catalog for host nsa85746 ...\n",
      "[05/16 14:08:36] Getting catalog for host nsa136403 ...\n",
      "[05/16 14:08:36] Getting catalog for host nsa16559 ...\n",
      "[05/16 14:08:36] Getting catalog for host nsa137625 ...\n",
      "[05/16 14:08:36] Getting catalog for host nsa158541 ...\n",
      "[05/16 14:08:36] Getting catalog for host nsa138201 ...\n",
      "[05/16 14:08:36] Getting catalog for host nsa138375 ...\n",
      "[05/16 14:08:36] Getting catalog for host nsa138642 ...\n",
      "[05/16 14:08:36] Getting catalog for host nsa159593 ...\n",
      "[05/16 14:08:36] Getting catalog for host nsa139281 ...\n",
      "[05/16 14:08:36] Getting catalog for host nsa101649 ...\n",
      "[05/16 14:08:36] Getting catalog for host nsa139467 ...\n",
      "[05/16 14:08:36] Getting catalog for host nsa160302 ...\n",
      "[05/16 14:08:36] Getting catalog for host nsa140065 ...\n",
      "[05/16 14:08:36] Getting catalog for host nsa140301 ...\n",
      "[05/16 14:08:36] Getting catalog for host nsa140458 ...\n",
      "[05/16 14:08:36] Getting catalog for host nsa140594 ...\n",
      "[05/16 14:08:36] Getting catalog for host nsa13927 ...\n",
      "[05/16 14:08:36] Getting catalog for host nsa161174 ...\n",
      "[05/16 14:08:36] Getting catalog for host nsa141465 ...\n",
      "[05/16 14:08:36] Getting catalog for host nsa52773 ...\n",
      "[05/16 14:08:36] Getting catalog for host nsa142722 ...\n",
      "[05/16 14:08:36] Getting catalog for host nsa163136 ...\n",
      "[05/16 14:08:36] Getting catalog for host nsa163956 ...\n",
      "[05/16 14:08:36] Getting catalog for host nsa143856 ...\n",
      "[05/16 14:08:36] Getting catalog for host nsa163975 ...\n",
      "[05/16 14:08:36] Getting catalog for host nsa94340 ...\n",
      "[05/16 14:08:36] Getting catalog for host nsa144121 ...\n",
      "[05/16 14:08:36] Getting catalog for host nsa94217 ...\n",
      "[05/16 14:08:36] Getting catalog for host nsa144151 ...\n",
      "[05/16 14:08:36] Getting catalog for host nsa69028 ...\n",
      "[05/16 14:08:36] Getting catalog for host nsa144953 ...\n",
      "[05/16 14:08:36] Getting catalog for host nsa164995 ...\n",
      "[05/16 14:08:36] Getting catalog for host nsa165082 ...\n",
      "[05/16 14:08:36] Getting catalog for host nsa165153 ...\n",
      "[05/16 14:08:36] Getting catalog for host nsa145297 ...\n",
      "[05/16 14:08:36] Getting catalog for host nsa165316 ...\n",
      "[05/16 14:08:36] Getting catalog for host nsa145398 ...\n",
      "[05/16 14:08:36] Getting catalog for host nsa165536 ...\n",
      "[05/16 14:08:36] Getting catalog for host nsa165707 ...\n",
      "[05/16 14:08:36] Getting catalog for host nsa145729 ...\n",
      "[05/16 14:08:36] Getting catalog for host nsa145879 ...\n",
      "[05/16 14:08:36] Getting catalog for host nsa165980 ...\n",
      "[05/16 14:08:36] Getting catalog for host nsa166141 ...\n",
      "[05/16 14:08:36] Getting catalog for host nsa166313 ...\n",
      "[05/16 14:08:36] Getting catalog for host nsa147100 ...\n",
      "[05/16 14:08:36] Getting catalog for host nsa147606 ...\n",
      "[05/16 14:08:36] Getting catalog for host nsa149781 ...\n",
      "[05/16 14:08:36] Getting catalog for host nsa149977 ...\n",
      "[05/16 14:08:36] Getting catalog for host nsa150307 ...\n",
      "[05/16 14:08:36] Getting catalog for host nsa150578 ...\n",
      "[05/16 14:08:36] Getting catalog for host nsa150887 ...\n",
      "[05/16 14:08:36] Getting catalog for host nsa61945 ...\n",
      "[05/16 14:08:36] Getting catalog for host nsa153017 ...\n",
      "# failed = 0\n"
     ]
    }
   ],
   "source": [
    "hosts_to_load = 'flag0'\n",
    "host_id_label = 'ID_STR'\n",
    "hosts = saga_host_catalog.load(hosts_to_load)\n",
    "hosts[host_id_label] = saga_host_catalog.resolve_id(hosts_to_load, 'string')\n",
    "\n",
    "failed = download_catalogs_for_hosts(hosts, SdssQuery, saga_database.sdss_file_path_pattern, \n",
    "                                     overwrite=False, host_id_label=host_id_label)\n",
    "\n",
    "print('# failed =', np.count_nonzero(failed))"
   ]
  },
  {
   "cell_type": "markdown",
   "metadata": {},
   "source": [
    "### DES"
   ]
  },
  {
   "cell_type": "code",
   "execution_count": 7,
   "metadata": {},
   "outputs": [
    {
     "name": "stdout",
     "output_type": "stream",
     "text": [
      "[05/16 14:08:45] Getting catalog for host pgc1952 ...\n",
      "[05/16 14:09:19] Getting catalog for host pgc2052 ...\n",
      "[05/16 14:10:16] Getting catalog for host pgc2778 ...\n",
      "[05/16 14:11:13] Getting catalog for host pgc3089 ...\n",
      "[05/16 14:11:51] Getting catalog for host pgc5619 ...\n",
      "[05/16 14:12:42] Getting catalog for host nsa130133 ...\n",
      "[05/16 14:13:41] Getting catalog for host nsa130625 ...\n",
      "[05/16 14:14:36] Getting catalog for host pgc9057 ...\n",
      "[05/16 14:15:27] Getting catalog for host pgc9747 ...\n",
      "[05/16 14:16:35] Getting catalog for host nsa132278 ...\n",
      "[05/16 14:17:29] Getting catalog for host nsa132339 ...\n",
      "[05/16 14:17:29] Getting catalog for host pgc10330 ...\n",
      "[05/16 14:18:29] Getting catalog for host pgc10965 ...\n",
      "[05/16 14:19:35] Getting catalog for host pgc771919 ...\n",
      "[05/16 14:20:49] Getting catalog for host pgc11819 ...\n",
      "[05/16 14:21:55] Getting catalog for host pgc12007 ...\n",
      "[05/16 14:23:05] Getting catalog for host pgc12431 ...\n",
      "[05/16 14:24:04] Getting catalog for host nsa133355 ...\n",
      "[05/16 14:25:00] Getting catalog for host pgc13130 ...\n",
      "[05/16 14:25:44] Getting catalog for host pgc13166 ...\n",
      "[05/16 14:26:28] Getting catalog for host pgc13602 ...\n",
      "[05/16 14:27:32] Getting catalog for host pgc13881 ...\n",
      "[05/16 14:28:31] Getting catalog for host pgc14084 ...\n",
      "[05/16 14:29:32] Getting catalog for host pgc17436 ...\n",
      "[05/16 14:30:32] Getting catalog for host pgc18880 ...\n",
      "[05/16 14:31:49] Getting catalog for host pgc64427 ...\n",
      "[05/16 14:32:57] Getting catalog for host pgc66318 ...\n",
      "[05/16 14:34:11] Getting catalog for host pgc66934 ...\n",
      "[05/16 14:35:25] Getting catalog for host pgc67146 ...\n",
      "[05/16 14:36:42] Getting catalog for host pgc67663 ...\n",
      "[05/16 14:37:40] Getting catalog for host pgc67817 ...\n",
      "[05/16 14:38:42] Getting catalog for host pgc68128 ...\n",
      "[05/16 14:39:45] Getting catalog for host pgc69521 ...\n",
      "[05/16 14:40:26] Getting catalog for host pgc70094 ...\n",
      "[05/16 14:40:59] Getting catalog for host pgc71548 ...\n",
      "[05/16 14:41:23] Getting catalog for host pgc71729 ...\n",
      "[05/16 14:41:48] Getting catalog for host nsa61945 ...\n",
      "# failed = 0\n"
     ]
    }
   ],
   "source": [
    "hosts_to_load = 'has_des'\n",
    "host_id_label = 'ID_STR'\n",
    "hosts = saga_host_catalog.load(hosts_to_load)\n",
    "hosts[host_id_label] = saga_host_catalog.resolve_id(hosts_to_load, 'string')\n",
    "\n",
    "failed = download_catalogs_for_hosts(hosts, DesQuery, saga_database.des_file_path_pattern, overwrite=False, host_id_label=host_id_label)\n",
    "\n",
    "print('# failed =', np.count_nonzero(failed))"
   ]
  },
  {
   "cell_type": "markdown",
   "metadata": {},
   "source": [
    "### DECaLS (prebuilt)"
   ]
  },
  {
   "cell_type": "code",
   "execution_count": null,
   "metadata": {},
   "outputs": [
    {
     "name": "stdout",
     "output_type": "stream",
     "text": [
      "[05/18 08:24:26] Getting catalog for host nsa130133 ...\n",
      "[05/18 08:27:03] Getting catalog for host nsa130625 ...\n",
      "[05/18 08:29:27] Getting catalog for host nsa131531 ...\n",
      "[05/18 08:31:50] Getting catalog for host nsa132278 ...\n",
      "[05/18 08:31:50] Getting catalog for host nsa132339 ...\n",
      "[05/18 08:31:50] Getting catalog for host pgc10965 ...\n",
      "[05/18 08:34:21] Getting catalog for host nsa133355 ...\n",
      "[05/18 08:36:50] Getting catalog for host pgc13130 ...\n",
      "[05/18 08:39:15] Getting catalog for host pgc13166 ...\n",
      "[05/18 08:41:45] Getting catalog for host pgc13881 ...\n",
      "[05/18 08:44:10] Getting catalog for host nsa33446 ...\n",
      "[05/18 08:46:30] Getting catalog for host nsa135129 ...\n",
      "[05/18 08:48:52] Getting catalog for host nsa135594 ...\n",
      "[05/18 08:51:14] Getting catalog for host nsa135739 ...\n",
      "[05/18 08:53:40] Getting catalog for host nsa16235 ...\n",
      "[05/18 08:56:05] Getting catalog for host nsa157374 ...\n",
      "[05/18 08:58:39] Getting catalog for host nsa32 ...\n",
      "[05/18 09:01:13] Getting catalog for host nsa136403 ...\n",
      "[05/18 09:03:35] Getting catalog for host nsa16559 ...\n",
      "[05/18 09:06:08] Getting catalog for host nsa158541 ...\n",
      "[05/18 09:08:30] Getting catalog for host nsa138201 ...\n",
      "[05/18 09:10:57] Getting catalog for host nsa138375 ...\n",
      "[05/18 09:13:20] Getting catalog for host nsa159593 ...\n",
      "[05/18 09:15:41] Getting catalog for host nsa139281 ...\n",
      "[05/18 09:18:04] Getting catalog for host nsa160302 ...\n",
      "[05/18 09:20:27] Getting catalog for host nsa140065 ...\n",
      "[05/18 09:23:06] Getting catalog for host pgc36304 ...\n",
      "[05/18 09:25:37] Getting catalog for host nsa13927 ...\n",
      "[05/18 09:27:48] Downloaded catalog corrupted for host nsa13927 !!\n",
      "[05/18 09:27:48] Getting catalog for host nsa161174 ...\n",
      "[05/18 09:30:09] Getting catalog for host nsa3469 ...\n",
      "[05/18 09:32:33] Getting catalog for host nsa141465 ...\n",
      "[05/18 09:35:05] Getting catalog for host nsa52773 ...\n",
      "[05/18 09:37:25] Getting catalog for host nsa163956 ...\n",
      "[05/18 09:39:52] Getting catalog for host nsa143856 ...\n",
      "[05/18 09:42:13] Getting catalog for host nsa163975 ...\n",
      "[05/18 09:44:36] Getting catalog for host nsa94340 ...\n",
      "[05/18 09:47:08] Getting catalog for host nsa144121 ...\n",
      "[05/18 09:49:30] Getting catalog for host nsa144151 ...\n",
      "[05/18 09:52:05] Getting catalog for host nsa69028 ...\n",
      "[05/18 09:54:27] Getting catalog for host pgc50670 ...\n",
      "[05/18 09:56:53] Getting catalog for host pgc51055 ...\n",
      "[05/18 09:59:30] Getting catalog for host nsa144953 ...\n",
      "[05/18 10:02:00] Getting catalog for host nsa35340 ...\n",
      "[05/18 10:04:26] Getting catalog for host nsa164995 ...\n",
      "[05/18 10:06:48] Getting catalog for host nsa51348 ...\n",
      "[05/18 10:09:10] Getting catalog for host nsa165082 ...\n",
      "[05/18 10:11:35] Getting catalog for host nsa165153 ...\n",
      "[05/18 10:14:03] Getting catalog for host nsa145297 ...\n",
      "[05/18 10:16:34] Getting catalog for host nsa165316 ...\n",
      "[05/18 10:18:55] Getting catalog for host nsa145398 ...\n",
      "[05/18 10:21:19] Getting catalog for host nsa165536 ...\n"
     ]
    }
   ],
   "source": [
    "hosts_to_load = 'has_decals'\n",
    "host_id_label = 'ID_STR'\n",
    "hosts = saga_host_catalog.load(hosts_to_load)\n",
    "hosts[host_id_label] = saga_host_catalog.resolve_id(hosts_to_load, 'string')\n",
    "\n",
    "failed = download_catalogs_for_hosts(hosts, DecalsPrebuilt, saga_database.decals_file_path_pattern, overwrite=False, host_id_label=host_id_label)\n",
    "\n",
    "print('# failed =', np.count_nonzero(failed))"
   ]
  },
  {
   "cell_type": "markdown",
   "metadata": {},
   "source": [
    "## example code for download a single catalog"
   ]
  },
  {
   "cell_type": "code",
   "execution_count": 5,
   "metadata": {},
   "outputs": [],
   "source": [
    "ra, dec = hosts[0]['RA'], hosts[0]['Dec']\n",
    "path = '/home/yymao/Downloads/test.fits.gz'"
   ]
  },
  {
   "cell_type": "code",
   "execution_count": null,
   "metadata": {
    "collapsed": true
   },
   "outputs": [],
   "source": [
    "WiseQuery(ra, dec).download_as_file(path, overwrite=False)"
   ]
  },
  {
   "cell_type": "code",
   "execution_count": 6,
   "metadata": {
    "collapsed": true
   },
   "outputs": [
    {
     "name": "stdout",
     "output_type": "stream",
     "text": [
      "[04/15 09:40:30] casjob (SAGApnps) submitted...\n",
      "[04/15 09:40:56] casjob (SAGApnps) finished, downloading data...\n"
     ]
    }
   ],
   "source": [
    "SdssQuery(ra, dec, context='DR14', default_use_sciserver=False).download_as_file(path, overwrite=False)"
   ]
  },
  {
   "cell_type": "code",
   "execution_count": null,
   "metadata": {},
   "outputs": [],
   "source": []
  }
 ],
 "metadata": {
  "kernelspec": {
   "display_name": "Python 3",
   "language": "python",
   "name": "python3"
  },
  "language_info": {
   "codemirror_mode": {
    "name": "ipython",
    "version": 3
   },
   "file_extension": ".py",
   "mimetype": "text/x-python",
   "name": "python",
   "nbconvert_exporter": "python",
   "pygments_lexer": "ipython3",
   "version": "3.6.5"
  }
 },
 "nbformat": 4,
 "nbformat_minor": 2
}
