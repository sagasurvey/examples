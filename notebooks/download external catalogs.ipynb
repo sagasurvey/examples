{
 "cells": [
  {
   "cell_type": "raw",
   "metadata": {},
   "source": [
    "import sys\n",
    "sys.path.insert(0, '/home/yymao/Dropbox/Academia/Collaborations/SAGA-local/saga')"
   ]
  },
  {
   "cell_type": "code",
   "execution_count": 1,
   "metadata": {},
   "outputs": [
    {
     "name": "stdout",
     "output_type": "stream",
     "text": [
      "SAGA code version 0.10.8\n"
     ]
    }
   ],
   "source": [
    "# import SAGA code\n",
    "import SAGA\n",
    "from SAGA.database.external import SdssQuery, WiseQuery, DesQuery, DecalsPrebuilt, download_catalogs_for_hosts\n",
    "\n",
    "print('SAGA code version', SAGA.__version__)"
   ]
  },
  {
   "cell_type": "code",
   "execution_count": 2,
   "metadata": {},
   "outputs": [
    {
     "name": "stdout",
     "output_type": "stream",
     "text": [
      "Downloading https://docs.google.com/spreadsheets/d/1b3k2eyFjHFDtmHce1xi6JKuj3ATOWYduTBFftx5oPp8/export?format=csv&gid=1471095077 [Done]\n"
     ]
    }
   ],
   "source": [
    "# get host list\n",
    "saga_database = SAGA.Database('/home/yymao/Dropbox/Academia/Collaborations/SAGA', '/home/yymao/Documents/Research/SAGA')\n",
    "saga_host_catalog = SAGA.HostCatalog(saga_database)"
   ]
  },
  {
   "cell_type": "markdown",
   "metadata": {},
   "source": [
    "## download for all hosts"
   ]
  },
  {
   "cell_type": "markdown",
   "metadata": {},
   "source": [
    "### SDSS"
   ]
  },
  {
   "cell_type": "code",
   "execution_count": null,
   "metadata": {
    "collapsed": true
   },
   "outputs": [],
   "source": [
    "hosts_to_load = 'has_nsa'\n",
    "host_id_label = 'ID_STR'\n",
    "hosts = saga_host_catalog.load(hosts_to_load)\n",
    "hosts[host_id_label] = saga_host_catalog.resolve_id(hosts_to_load, 'string')\n",
    "\n",
    "failed = download_catalogs_for_hosts(hosts, SdssQuery, saga_database.sdss_file_path_pattern, \n",
    "                                     overwrite=False, host_id_label=host_id_label)\n",
    "\n",
    "print('# failed =', np.count_nonzero(failed))"
   ]
  },
  {
   "cell_type": "markdown",
   "metadata": {},
   "source": [
    "### DES"
   ]
  },
  {
   "cell_type": "code",
   "execution_count": null,
   "metadata": {},
   "outputs": [],
   "source": [
    "hosts_to_load = 'has_des'\n",
    "host_id_label = 'ID_STR'\n",
    "hosts = saga_host_catalog.load(hosts_to_load)\n",
    "hosts[host_id_label] = saga_host_catalog.resolve_id(hosts_to_load, 'string')\n",
    "\n",
    "failed = download_catalogs_for_hosts(hosts, DesQuery, saga_database.des_file_path_pattern, overwrite=False, host_id_label=host_id_label)\n",
    "\n",
    "print('# failed =', np.count_nonzero(failed))"
   ]
  },
  {
   "cell_type": "markdown",
   "metadata": {},
   "source": [
    "### DECaLS (prebuilt)"
   ]
  },
  {
   "cell_type": "code",
   "execution_count": null,
   "metadata": {},
   "outputs": [],
   "source": [
    "host_id_label = 'ID_STR'\n",
    "hosts = (Query('decals_dr7 >= 0.5') | Query('decals_dr6 >= 0.5')).filter(saga_host_catalog.load())\n",
    "hosts[host_id_label] = saga_host_catalog.resolve_id(hosts_to_load, 'string')\n",
    "\n",
    "failed = download_catalogs_for_hosts(hosts, DecalsPrebuilt, saga_database.decals_file_path_pattern, overwrite=False, host_id_label=host_id_label)\n",
    "\n",
    "print('# failed =', np.count_nonzero(failed))"
   ]
  },
  {
   "cell_type": "markdown",
   "metadata": {},
   "source": [
    "## example code for download a single catalog"
   ]
  },
  {
   "cell_type": "code",
   "execution_count": 5,
   "metadata": {},
   "outputs": [],
   "source": [
    "ra, dec = hosts[0]['RA'], hosts[0]['Dec']\n",
    "path = '/home/yymao/Downloads/test.fits.gz'"
   ]
  },
  {
   "cell_type": "code",
   "execution_count": null,
   "metadata": {
    "collapsed": true
   },
   "outputs": [],
   "source": [
    "WiseQuery(ra, dec).download_as_file(path, overwrite=False)"
   ]
  },
  {
   "cell_type": "code",
   "execution_count": null,
   "metadata": {
    "collapsed": true
   },
   "outputs": [],
   "source": [
    "SdssQuery(ra, dec, context='DR14', default_use_sciserver=False).download_as_file(path, overwrite=False)"
   ]
  },
  {
   "cell_type": "code",
   "execution_count": null,
   "metadata": {},
   "outputs": [],
   "source": []
  }
 ],
 "metadata": {
  "kernelspec": {
   "display_name": "Python 3",
   "language": "python",
   "name": "python3"
  },
  "language_info": {
   "codemirror_mode": {
    "name": "ipython",
    "version": 3
   },
   "file_extension": ".py",
   "mimetype": "text/x-python",
   "name": "python",
   "nbconvert_exporter": "python",
   "pygments_lexer": "ipython3",
   "version": "3.6.6"
  }
 },
 "nbformat": 4,
 "nbformat_minor": 2
}
