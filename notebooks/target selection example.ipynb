{
 "cells": [
  {
   "cell_type": "code",
   "execution_count": 1,
   "metadata": {},
   "outputs": [
    {
     "name": "stdout",
     "output_type": "stream",
     "text": [
      "0.5.10\n"
     ]
    }
   ],
   "source": [
    "from easyquery import Query\n",
    "from astropy.table import Table, Column, vstack\n",
    "\n",
    "import sys\n",
    "sys.path.insert(0, '/home/yymao/Downloads/saga/')\n",
    "\n",
    "import SAGA\n",
    "from SAGA import ObjectCuts as C\n",
    "print(SAGA.__version__)"
   ]
  },
  {
   "cell_type": "code",
   "execution_count": 2,
   "metadata": {},
   "outputs": [],
   "source": [
    "saga_database = SAGA.Database(root_dir='/home/yymao/Dropbox/Academia/Collaborations/SAGA')\n",
    "saga_database.base_file_path_pattern = '/home/yymao/Documents/Research/SAGA/new_base_catalogs/base_dr14_nsa{}.fits.gz'"
   ]
  },
  {
   "cell_type": "code",
   "execution_count": 3,
   "metadata": {},
   "outputs": [],
   "source": [
    "mmt18_hosts = [161174, 52773, 163956, 69028, 144953, 165082, 165707, 145729, 165980, 147606]"
   ]
  },
  {
   "cell_type": "code",
   "execution_count": 4,
   "metadata": {},
   "outputs": [
    {
     "name": "stdout",
     "output_type": "stream",
     "text": [
      "Downloading https://docs.google.com/spreadsheets/d/1GJYuhqfKeuJr-IyyGF_NDLb_ezL6zBiX2aeZFHHPr_s/export?format=csv&gid=0 [Done]\n",
      "Downloading https://docs.google.com/spreadsheets/d/1b3k2eyFjHFDtmHce1xi6JKuj3ATOWYduTBFftx5oPp8/export?format=csv&gid=1136984451 [Done]\n"
     ]
    }
   ],
   "source": [
    "saga_targets = SAGA.TargetSelection(saga_database, gmm_parameters='gmm_parameters_no_outlier')"
   ]
  },
  {
   "cell_type": "code",
   "execution_count": 5,
   "metadata": {},
   "outputs": [
    {
     "name": "stderr",
     "output_type": "stream",
     "text": [
      "/home/yymao/Downloads/saga/SAGA/targets/assign_targeting_score.py:29: RuntimeWarning: overflow encountered in exp\n",
      "  return np.where(x > model_parameters[2], np.minimum(np.exp((x-model_parameters[3])*model_parameters[4]), model_parameters[5]), 0.0)\n"
     ]
    }
   ],
   "source": [
    "score_bins = [150, 200, 300, 400, 500, 600, 700, 800, 900, 1000]\n",
    "d = np.array([np.searchsorted(targets['TARGETING_SCORE'], score_bins) for targets in saga_targets.build_target_catalogs(mmt18_hosts, return_as='iter')])"
   ]
  },
  {
   "cell_type": "code",
   "execution_count": 6,
   "metadata": {},
   "outputs": [
    {
     "name": "stdout",
     "output_type": "stream",
     "text": [
      "\n",
      "    Last updated: 05/07/2018 (for MMT run)\n",
      "     100 Human selection and Special targets\n",
      "     150 satellites\n",
      "     200 within host,  r < 17.77, gri cuts\n",
      "     300 within host,  r < 20.75, high p_GMM or GMM outliers, gri cuts\n",
      "     400 within host,  r < 20.75, high-proirity + gri cuts\n",
      "     500 outwith host, r < 17.77, gri cuts\n",
      "     600 within host,  r < 20.75, gri cuts, random selection of 50\n",
      "     700 very high p_GMM, gri cuts\n",
      "     800 within host,  r < 20.75, gri cuts, everything else\n",
      "     900 outwith host, r < 20.75, gri cuts\n",
      "    1000 everything else\n",
      "    1100 Not in gri/fibermag_r_cut\n",
      "    1200 Not galaxy\n",
      "    1300 Not clean\n",
      "    1400 Has spec but not a satellite\n",
      "    \n",
      "# in each bin\n",
      "NSAID  150 200 300 400 500 600 700 800  900 \n",
      "------ --- --- --- --- --- --- --- ---- ----\n",
      "161174   4   1  37 100  12  50  41  218 2763\n",
      " 52773   2   2  89 150  14  50  28  436 2981\n",
      "163956   5   5  70 111  13  50  27  493 2730\n",
      " 69028   4  15 121 248  38  50  36  812 2609\n",
      "144953   3   6  69 171  24  50  16  566 2592\n",
      "165082   9  15 261 435  10  50  15 1294 1992\n",
      "165707   1   6  70 142  10  50  19  499 2542\n",
      "145729   2  14  90 159  46  50  27  708 2163\n",
      "165980   0   4  47 119  18  50  22  516 2702\n",
      "147606   5   6  95 143  32  50  45  396 2987\n",
      "\n",
      "# cumulative\n",
      "NSAID  <200 <300 <400 <500 <600 <700 <800 <900\n",
      "------ ---- ---- ---- ---- ---- ---- ---- ----\n",
      "161174    4    5   42  142  154  204  245  463\n",
      " 52773    2    4   93  243  257  307  335  771\n",
      "163956    5   10   80  191  204  254  281  774\n",
      " 69028    4   19  140  388  426  476  512 1324\n",
      "144953    3    9   78  249  273  323  339  905\n",
      "165082    9   24  285  720  730  780  795 2089\n",
      "165707    1    7   77  219  229  279  298  797\n",
      "145729    2   16  106  265  311  361  388 1096\n",
      "165980    0    4   51  170  188  238  260  776\n",
      "147606    5   11  106  249  281  331  376  772\n"
     ]
    }
   ],
   "source": [
    "print(SAGA.targets.assign_targeting_score.__doc__)\n",
    "\n",
    "t = Table(d[:,1:] - d[:,:-1], names=score_bins[:-1])\n",
    "t.add_column(Column(mmt18_hosts, 'NSAID'), 0)\n",
    "print(\"# in each bin\")\n",
    "t.pprint(-1, -1)\n",
    "\n",
    "print()\n",
    "\n",
    "t = Table(d[:,1:-1], names=['<{}'.format(s) for s in score_bins[1:-1]])\n",
    "t.add_column(Column(mmt18_hosts, 'NSAID'), 0)\n",
    "print(\"# cumulative\")\n",
    "t.pprint(-1, -1)"
   ]
  },
  {
   "cell_type": "code",
   "execution_count": 7,
   "metadata": {},
   "outputs": [
    {
     "name": "stdout",
     "output_type": "stream",
     "text": [
      "Working host NSA 161174\n",
      "# of guide stars     = 187\n",
      "# of flux stars      = 117\n",
      "# of rank>1 targets  = 463\n",
      "# of rank=1 targets = 117\n",
      "# of rank=2 targets = 5\n",
      "# of rank=3 targets = 37\n",
      "# of rank=4 targets = 100\n",
      "# of rank=5 targets = 12\n",
      "# of rank=6 targets = 50\n",
      "# of rank=7 targets = 41\n",
      "# of rank=8 targets = 218\n",
      "Writing to mmt_nsa161174.cat\n",
      "\n",
      "Working host NSA 52773\n",
      "# of guide stars     = 268\n",
      "# of flux stars      = 94\n",
      "# of rank>1 targets  = 771\n",
      "# of rank=1 targets = 94\n",
      "# of rank=2 targets = 4\n",
      "# of rank=3 targets = 89\n",
      "# of rank=4 targets = 150\n",
      "# of rank=5 targets = 14\n",
      "# of rank=6 targets = 50\n",
      "# of rank=7 targets = 28\n",
      "# of rank=8 targets = 436\n",
      "Writing to mmt_nsa52773.cat\n",
      "\n",
      "Working host NSA 163956\n",
      "# of guide stars     = 275\n",
      "# of flux stars      = 115\n",
      "# of rank>1 targets  = 774\n",
      "# of rank=1 targets = 115\n",
      "# of rank=2 targets = 10\n",
      "# of rank=3 targets = 70\n",
      "# of rank=4 targets = 111\n",
      "# of rank=5 targets = 13\n",
      "# of rank=6 targets = 50\n",
      "# of rank=7 targets = 27\n",
      "# of rank=8 targets = 493\n",
      "Writing to mmt_nsa163956.cat\n",
      "\n",
      "Working host NSA 69028\n",
      "# of guide stars     = 254\n",
      "# of flux stars      = 98\n",
      "# of rank>1 targets  = 1324\n",
      "# of rank=1 targets = 98\n",
      "# of rank=2 targets = 19\n",
      "# of rank=3 targets = 121\n",
      "# of rank=4 targets = 248\n",
      "# of rank=5 targets = 38\n",
      "# of rank=6 targets = 50\n",
      "# of rank=7 targets = 36\n",
      "# of rank=8 targets = 812\n",
      "Writing to mmt_nsa69028.cat\n",
      "\n",
      "Working host NSA 144953\n",
      "# of guide stars     = 315\n",
      "# of flux stars      = 147\n",
      "# of rank>1 targets  = 905\n",
      "# of rank=1 targets = 147\n",
      "# of rank=2 targets = 9\n",
      "# of rank=3 targets = 69\n",
      "# of rank=4 targets = 171\n",
      "# of rank=5 targets = 24\n",
      "# of rank=6 targets = 50\n",
      "# of rank=7 targets = 16\n",
      "# of rank=8 targets = 566\n",
      "Writing to mmt_nsa144953.cat\n",
      "\n",
      "Working host NSA 165082\n",
      "# of guide stars     = 390\n",
      "# of flux stars      = 248\n",
      "# of rank>1 targets  = 2089\n",
      "# of rank=1 targets = 248\n",
      "# of rank=2 targets = 24\n",
      "# of rank=3 targets = 261\n",
      "# of rank=4 targets = 435\n",
      "# of rank=5 targets = 10\n",
      "# of rank=6 targets = 50\n",
      "# of rank=7 targets = 15\n",
      "# of rank=8 targets = 1294\n",
      "Writing to mmt_nsa165082.cat\n",
      "\n",
      "Working host NSA 165707\n",
      "# of guide stars     = 341\n",
      "# of flux stars      = 133\n",
      "# of rank>1 targets  = 797\n",
      "# of rank=1 targets = 133\n",
      "# of rank=2 targets = 7\n",
      "# of rank=3 targets = 70\n",
      "# of rank=4 targets = 142\n",
      "# of rank=5 targets = 10\n",
      "# of rank=6 targets = 50\n",
      "# of rank=7 targets = 19\n",
      "# of rank=8 targets = 499\n",
      "Writing to mmt_nsa165707.cat\n",
      "\n",
      "Working host NSA 145729\n",
      "# of guide stars     = 461\n",
      "# of flux stars      = 401\n",
      "# of rank>1 targets  = 1096\n",
      "# of rank=1 targets = 401\n",
      "# of rank=2 targets = 16\n",
      "# of rank=3 targets = 90\n",
      "# of rank=4 targets = 159\n",
      "# of rank=5 targets = 46\n",
      "# of rank=6 targets = 50\n",
      "# of rank=7 targets = 27\n",
      "# of rank=8 targets = 708\n",
      "Writing to mmt_nsa145729.cat\n",
      "\n",
      "Working host NSA 165980\n",
      "# of guide stars     = 379\n",
      "# of flux stars      = 147\n",
      "# of rank>1 targets  = 776\n",
      "# of rank=1 targets = 147\n",
      "# of rank=2 targets = 4\n",
      "# of rank=3 targets = 47\n",
      "# of rank=4 targets = 119\n",
      "# of rank=5 targets = 18\n",
      "# of rank=6 targets = 50\n",
      "# of rank=7 targets = 22\n",
      "# of rank=8 targets = 516\n",
      "Writing to mmt_nsa165980.cat\n",
      "\n",
      "Working host NSA 147606\n",
      "# of guide stars     = 737\n",
      "# of flux stars      = 545\n",
      "# of rank>1 targets  = 772\n",
      "# of rank=1 targets = 545\n",
      "# of rank=2 targets = 11\n",
      "# of rank=3 targets = 95\n",
      "# of rank=4 targets = 143\n",
      "# of rank=5 targets = 32\n",
      "# of rank=6 targets = 50\n",
      "# of rank=7 targets = 45\n",
      "# of rank=8 targets = 396\n",
      "Writing to mmt_nsa147606.cat\n",
      "\n"
     ]
    }
   ],
   "source": [
    "for host_id, target_catalog in saga_targets.build_target_catalogs(mmt18_hosts, return_as='dict').items():\n",
    "    print('Working host NSA', host_id)\n",
    "    SAGA.targets.prepare_mmt_catalog(target_catalog, 'mmt_nsa{}.cat'.format(host_id))\n",
    "    print()"
   ]
  },
  {
   "cell_type": "code",
   "execution_count": null,
   "metadata": {},
   "outputs": [],
   "source": []
  }
 ],
 "metadata": {
  "kernelspec": {
   "display_name": "Python 3",
   "language": "python",
   "name": "python3"
  },
  "language_info": {
   "codemirror_mode": {
    "name": "ipython",
    "version": 3
   },
   "file_extension": ".py",
   "mimetype": "text/x-python",
   "name": "python",
   "nbconvert_exporter": "python",
   "pygments_lexer": "ipython3",
   "version": "3.6.5"
  }
 },
 "nbformat": 4,
 "nbformat_minor": 2
}
