{
 "cells": [
  {
   "cell_type": "code",
   "execution_count": 1,
   "metadata": {},
   "outputs": [
    {
     "name": "stdout",
     "output_type": "stream",
     "text": [
      "0.11.2\n"
     ]
    }
   ],
   "source": [
    "import numpy as np\n",
    "\n",
    "import SAGA\n",
    "print(SAGA.__version__)\n",
    "\n",
    "import SAGA.utils\n",
    "from SAGA.targets.assign_targeting_score import calc_gmm_satellite_probability, ensure_proper_prob"
   ]
  },
  {
   "cell_type": "code",
   "execution_count": 2,
   "metadata": {},
   "outputs": [],
   "source": [
    "saga_database = SAGA.Database('/home/yymao/Dropbox/Academia/Collaborations/SAGA', '/home/yymao/Documents/Research/SAGA')\n",
    "saga_object_catalog = SAGA.ObjectCatalog(saga_database)"
   ]
  },
  {
   "cell_type": "code",
   "execution_count": 3,
   "metadata": {},
   "outputs": [],
   "source": [
    "specs = saga_object_catalog.load_clean_specs()"
   ]
  },
  {
   "cell_type": "code",
   "execution_count": 9,
   "metadata": {},
   "outputs": [
    {
     "name": "stderr",
     "output_type": "stream",
     "text": [
      "/home/yymao/miniconda3/lib/python3.7/site-packages/SAGA/targets/gmm.py:85: RuntimeWarning: invalid value encountered in subtract\n",
      "  p = p[0] - logsumexp(p.T, axis=1, b=priors)\n"
     ]
    }
   ],
   "source": [
    "for survey in ('sdss', 'des', 'decals'):\n",
    "    gmm_parameters = saga_database['gmm_parameters_' + survey].read()\n",
    "    bands = getattr(SAGA.utils, 'get_{}_bands'.format(survey))()\n",
    "    p_gmm = ensure_proper_prob(calc_gmm_satellite_probability(\n",
    "        base=specs,\n",
    "        model_parameters=gmm_parameters,\n",
    "        bands=bands,\n",
    "        mag_err_postfix='_err_'+survey,\n",
    "    ))\n",
    "    specs['p_gmm_' + survey] = np.where(specs['OBJID_' + survey] == -1, -1, p_gmm)"
   ]
  },
  {
   "cell_type": "code",
   "execution_count": null,
   "metadata": {},
   "outputs": [],
   "source": []
  }
 ],
 "metadata": {
  "kernelspec": {
   "display_name": "Python 3",
   "language": "python",
   "name": "python3"
  },
  "language_info": {
   "codemirror_mode": {
    "name": "ipython",
    "version": 3
   },
   "file_extension": ".py",
   "mimetype": "text/x-python",
   "name": "python",
   "nbconvert_exporter": "python",
   "pygments_lexer": "ipython3",
   "version": "3.7.1"
  }
 },
 "nbformat": 4,
 "nbformat_minor": 2
}
