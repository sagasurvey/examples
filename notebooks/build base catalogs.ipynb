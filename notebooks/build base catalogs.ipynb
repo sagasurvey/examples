{
 "cells": [
  {
   "cell_type": "code",
   "execution_count": 3,
   "metadata": {},
   "outputs": [
    {
     "name": "stdout",
     "output_type": "stream",
     "text": [
      "SAGA code version 0.14.0\n"
     ]
    }
   ],
   "source": [
    "import SAGA\n",
    "print(\"SAGA code version\", SAGA.__version__)"
   ]
  },
  {
   "cell_type": "code",
   "execution_count": null,
   "metadata": {},
   "outputs": [],
   "source": [
    "## Before running this cell, you should uncomment the following two lines, or set `SAGA_DROPBOX` and `SAGA_DIR` as enviornment variables\n",
    "# saga_dropbox = '/path/to/saga/dropbox'\n",
    "# saga_dir = '/path/to/saga/local/dir'\n",
    "\n",
    "saga = SAGA.QuickStart()"
   ]
  },
  {
   "cell_type": "code",
   "execution_count": null,
   "metadata": {},
   "outputs": [],
   "source": [
    "saga.object_catalog.build_and_write_to_database(overwrite=False)  # set overwrite=True if you want to overwrite existing files"
   ]
  },
  {
   "cell_type": "code",
   "execution_count": null,
   "metadata": {},
   "outputs": [],
   "source": [
    "saga.object_catalog.generate_object_stats(overwrite=False);  # set overwrite=True if you want to overwrite existing files"
   ]
  },
  {
   "cell_type": "code",
   "execution_count": null,
   "metadata": {},
   "outputs": [],
   "source": [
    "saga.object_catalog.generate_clean_specs(overwrite=False);  # set overwrite=True if you want to overwrite existing files"
   ]
  },
  {
   "cell_type": "code",
   "execution_count": null,
   "metadata": {},
   "outputs": [],
   "source": []
  }
 ],
 "metadata": {
  "kernelspec": {
   "display_name": "Python 3",
   "language": "python",
   "name": "python3"
  },
  "language_info": {
   "codemirror_mode": {
    "name": "ipython",
    "version": 3
   },
   "file_extension": ".py",
   "mimetype": "text/x-python",
   "name": "python",
   "nbconvert_exporter": "python",
   "pygments_lexer": "ipython3",
   "version": "3.7.3"
  }
 },
 "nbformat": 4,
 "nbformat_minor": 4
}
