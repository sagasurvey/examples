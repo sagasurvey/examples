{
 "cells": [
  {
   "cell_type": "code",
   "execution_count": 10,
   "metadata": {},
   "outputs": [
    {
     "name": "stdout",
     "output_type": "stream",
     "text": [
      "0.10.10\n"
     ]
    }
   ],
   "source": [
    "import SAGA\n",
    "from SAGA.targets import prepare_aat_catalog\n",
    "from astropy.table import Table, Column\n",
    "print(SAGA.__version__)"
   ]
  },
  {
   "cell_type": "code",
   "execution_count": 2,
   "metadata": {},
   "outputs": [
    {
     "name": "stdout",
     "output_type": "stream",
     "text": [
      "Downloading https://docs.google.com/spreadsheets/d/1b3k2eyFjHFDtmHce1xi6JKuj3ATOWYduTBFftx5oPp8/export?format=csv&gid=1471095077 [Done]\n",
      "Downloading https://docs.google.com/spreadsheets/d/1Z8HISgp6ScJ0YZiFK5_TrGDZXY9t2OL3hkCSFJUiC6w/export?format=csv&gid=478933689 [Done]\n",
      "Downloading https://docs.google.com/spreadsheets/d/1Y3nO7VyU4jDiBPawCs8wJQt2s_PIAKRj-HSrmcWeQZo/export?format=csv&gid=1379081675 [Done]\n",
      "Downloading https://docs.google.com/spreadsheets/d/1Y3nO7VyU4jDiBPawCs8wJQt2s_PIAKRj-HSrmcWeQZo/export?format=csv&gid=124397139 [Done]\n",
      "Downloading https://docs.google.com/spreadsheets/d/1Y3nO7VyU4jDiBPawCs8wJQt2s_PIAKRj-HSrmcWeQZo/export?format=csv&gid=1574060112 [Done]\n"
     ]
    }
   ],
   "source": [
    "saga_database = SAGA.Database('/home/yymao/Dropbox/Academia/Collaborations/SAGA', '/home/yymao/Documents/Research/SAGA')\n",
    "\n",
    "saga_host_catalog = SAGA.HostCatalog(saga_database)\n",
    "saga_object_catalog = SAGA.ObjectCatalog(saga_database)\n",
    "saga_targets = SAGA.TargetSelection(saga_database, manual_selected_objids='manual_targets_aat2018b')"
   ]
  },
  {
   "cell_type": "markdown",
   "metadata": {},
   "source": [
    "## Define hosts"
   ]
  },
  {
   "cell_type": "code",
   "execution_count": 3,
   "metadata": {},
   "outputs": [],
   "source": [
    "hosts = 'aat_2018b'"
   ]
  },
  {
   "cell_type": "markdown",
   "metadata": {},
   "source": [
    "## Rebuild base catalog\n",
    "\n",
    "_(run this cell only if you need to rebuild the base catalog)_"
   ]
  },
  {
   "cell_type": "code",
   "execution_count": null,
   "metadata": {},
   "outputs": [],
   "source": [
    "saga_object_catalog.build_and_write_to_database(hosts, overwrite=True)"
   ]
  },
  {
   "cell_type": "markdown",
   "metadata": {},
   "source": [
    "## Generate AAT targeting lists"
   ]
  },
  {
   "cell_type": "code",
   "execution_count": null,
   "metadata": {},
   "outputs": [],
   "source": [
    "output_dir = '/home/yymao/Downloads'\n",
    "\n",
    "for host, cat in saga_targets.build_target_catalogs(hosts, return_as='items'):\n",
    "    print(host)\n",
    "    prepare_aat_catalog(cat, '{}/{}.txt'.format(output_dir, host))"
   ]
  },
  {
   "cell_type": "markdown",
   "metadata": {},
   "source": [
    "## Print out target numbers"
   ]
  },
  {
   "cell_type": "code",
   "execution_count": 4,
   "metadata": {},
   "outputs": [],
   "source": [
    "score_bins = [100, 150, 200, 300, 400, 500, 600, 700, 800, 900, 1000]\n",
    "\n",
    "d = np.array([np.searchsorted(targets['TARGETING_SCORE'], score_bins) \\\n",
    "              for targets in saga_targets.build_target_catalogs(hosts, return_as='iter')])"
   ]
  },
  {
   "cell_type": "code",
   "execution_count": null,
   "metadata": {},
   "outputs": [],
   "source": [
    "host_ids = saga_host_catalog.resolve_id(hosts)\n",
    "\n",
    "print(SAGA.targets.assign_targeting_score_v2.__doc__)\n",
    "\n",
    "t = Table(d[:,1:] - d[:,:-1], names=score_bins[:-1])\n",
    "t.add_column(Column(host_ids, 'host_id'), 0)\n",
    "print(\"# in each bin\")\n",
    "t.pprint(-1, -1)\n",
    "\n",
    "print()\n",
    "\n",
    "t = Table(d[:,1:-1], names=['<{}'.format(s) for s in score_bins[1:-1]])\n",
    "t.add_column(Column(host_ids, 'host_id'), 0)\n",
    "print(\"# cumulative\")\n",
    "t.pprint(-1, -1)"
   ]
  },
  {
   "cell_type": "code",
   "execution_count": null,
   "metadata": {},
   "outputs": [],
   "source": []
  }
 ],
 "metadata": {
  "kernelspec": {
   "display_name": "Python 3",
   "language": "python",
   "name": "python3"
  },
  "language_info": {
   "codemirror_mode": {
    "name": "ipython",
    "version": 3
   },
   "file_extension": ".py",
   "mimetype": "text/x-python",
   "name": "python",
   "nbconvert_exporter": "python",
   "pygments_lexer": "ipython3",
   "version": "3.6.6"
  }
 },
 "nbformat": 4,
 "nbformat_minor": 2
}
