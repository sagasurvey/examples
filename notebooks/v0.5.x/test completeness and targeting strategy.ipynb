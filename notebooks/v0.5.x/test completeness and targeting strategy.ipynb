{
 "cells": [
  {
   "cell_type": "code",
   "execution_count": 1,
   "metadata": {},
   "outputs": [
    {
     "name": "stdout",
     "output_type": "stream",
     "text": [
      "SAGA code version 0.5.4\n"
     ]
    }
   ],
   "source": [
    "# import SAGA code\n",
    "\n",
    "import SAGA\n",
    "from SAGA import ObjectCuts as C\n",
    "from SAGA.utils import get_sdss_bands, get_sdss_colors\n",
    "from SAGA.targets import TargetSelection, calc_simple_satellite_probability, calc_gmm_satellite_probability\n",
    "\n",
    "print('SAGA code version', SAGA.__version__)"
   ]
  },
  {
   "cell_type": "code",
   "execution_count": 2,
   "metadata": {
    "collapsed": true
   },
   "outputs": [],
   "source": [
    "# import other modules\n",
    "\n",
    "from collections import defaultdict\n",
    "import numpy as np\n",
    "from scipy.stats import poisson, norm\n",
    "from astropy.table import Table\n",
    "from easyquery import Query"
   ]
  },
  {
   "cell_type": "code",
   "execution_count": 3,
   "metadata": {},
   "outputs": [
    {
     "name": "stdout",
     "output_type": "stream",
     "text": [
      "Downloading https://docs.google.com/spreadsheets/d/1GJYuhqfKeuJr-IyyGF_NDLb_ezL6zBiX2aeZFHHPr_s/export?format=csv&gid=0 [Done]\n",
      "Downloading https://docs.google.com/spreadsheets/d/1b3k2eyFjHFDtmHce1xi6JKuj3ATOWYduTBFftx5oPp8/export?format=csv&gid=1136984451 [Done]\n"
     ]
    }
   ],
   "source": [
    "# initialize SAGA objects (Database, HostCatalog, ObjectCatalog)\n",
    "# NOTE: change the path of `root_dir` to your SAGA dropbox path\n",
    "\n",
    "saga_database = SAGA.Database(root_dir='/home/yymao/Dropbox/Academia/Collaborations/SAGA')\n",
    "saga_database.base_file_path_pattern = '/home/yymao/Documents/Research/SAGA/new_base_catalogs/base_dr14_nsa{}.fits.gz'\n",
    "saga_host_catalog = SAGA.HostCatalog(saga_database)\n",
    "saga_object_catalog = SAGA.ObjectCatalog(saga_database)"
   ]
  },
  {
   "cell_type": "markdown",
   "metadata": {},
   "source": [
    "## check completeness"
   ]
  },
  {
   "cell_type": "code",
   "execution_count": 13,
   "metadata": {
    "collapsed": true
   },
   "outputs": [],
   "source": [
    "# specify columns to load\n",
    "columns = 'OBJID HOST_NSAID HOST_RA RA DEC SATS SPEC_Z ZQUALITY'.split()\n",
    "columns.extend(map('{}_mag'.format, get_sdss_bands()))\n",
    "columns.extend(map('{}_err'.format, get_sdss_bands()))\n",
    "columns.extend(get_sdss_colors())\n",
    "columns.extend(map('{}_err'.format, get_sdss_colors()))"
   ]
  },
  {
   "cell_type": "code",
   "execution_count": 14,
   "metadata": {},
   "outputs": [],
   "source": [
    "# get host ids (in a particular order)\n",
    "\n",
    "hosts = saga_host_catalog.load()\n",
    "hosts_other = hosts[np.isin(hosts['NSAID'], saga_host_catalog.resolve_id('paper1'), True, True)]\n",
    "del hosts_other['coord']\n",
    "hosts_other.sort('RA')\n",
    "host_ids = saga_host_catalog.resolve_id('paper1_complete') + saga_host_catalog.resolve_id('paper1_incomplete') + list(hosts_other['NSAID'])"
   ]
  },
  {
   "cell_type": "code",
   "execution_count": 6,
   "metadata": {},
   "outputs": [],
   "source": [
    "def normalize_pgmm(x):\n",
    "    return np.exp((x-1)*10.0)*0.1"
   ]
  },
  {
   "cell_type": "code",
   "execution_count": 23,
   "metadata": {},
   "outputs": [
    {
     "name": "stderr",
     "output_type": "stream",
     "text": [
      "/home/yymao/miniconda3/lib/python3.6/site-packages/SAGA/targets/assign_targeting_score.py:13: RuntimeWarning: overflow encountered in exp\n",
      "  return np.where(x > model_parameters[2], np.minimum(np.exp((x-model_parameters[3])*model_parameters[4]), model_parameters[5]), 0.0)\n"
     ]
    }
   ],
   "source": [
    "gmm_parameters = saga_database['gmm_parameters'].read()\n",
    "data = defaultdict(list)\n",
    "\n",
    "for t in saga_object_catalog.load(host_ids, cuts=(C.basic_cut & C.gri_cut & (~C.has_spec)), columns=columns, return_as='iter'):\n",
    "    if not len(t):\n",
    "        continue\n",
    "\n",
    "    host_id = t['HOST_NSAID'][0]\n",
    "    try:\n",
    "        saga_name = saga_host_catalog.id_to_name(host_id)\n",
    "    except KeyError:\n",
    "        saga_name = ''\n",
    "    data['SAGA_name'].append(saga_name)\n",
    "    data['NSAID'].append(host_id)\n",
    "    data['RA'].append(t['HOST_RA'][0])\n",
    "\n",
    "    data['no_spec'].append(len(t))\n",
    "    no_spec_bright = C.sdss_limit.count(t)\n",
    "    data['no_spec_bright'].append(no_spec_bright)\n",
    "    \n",
    "    t = (~C.sdss_limit).filter(t)\n",
    "    ppca = calc_simple_satellite_probability(t).sum()\n",
    "    pgmm_orig = calc_gmm_satellite_probability(t, gmm_parameters)\n",
    "    pgmm = normalize_pgmm(pgmm_orig)\n",
    "    \n",
    "    data['high_pgmm'].append(np.count_nonzero(pgmm_orig > 0.9))\n",
    "    data['miss_pca'].append(ppca.sum())\n",
    "    data['miss_gmm'].append(pgmm.sum())\n",
    "    \n",
    "    pgmm.sort()\n",
    "    for n in (100, 200):\n",
    "        nf = n - no_spec_bright\n",
    "        if nf < 0:\n",
    "            m = pgmm.sum()\n",
    "        elif nf > len(t):\n",
    "            m = 0\n",
    "        else:\n",
    "            m = pgmm[:-nf].sum()\n",
    "        data['miss_gmm_{}'.format(n)].append(m)\n",
    "\n",
    "data = Table(data)"
   ]
  },
  {
   "cell_type": "code",
   "execution_count": 24,
   "metadata": {},
   "outputs": [
    {
     "name": "stdout",
     "output_type": "stream",
     "text": [
      " SAGA_name  NSAID     RA    no_spec no_spec_bright high_pgmm miss_pca miss_gmm miss_gmm_100 miss_gmm_200\n",
      "----------- ------ -------- ------- -------------- --------- -------- -------- ------------ ------------\n",
      "  Gilgamesh 166313  234.132      27              0         0    0.300    0.003        0.000        0.000\n",
      "    Odyssey 147100  248.087      20              0         1    0.060    0.055        0.000        0.000\n",
      "       Dune 165536  221.546      40              0         3    0.290    0.300        0.000        0.000\n",
      "       AnaK  61945  354.131      56              0         2    0.439    0.178        0.000        0.000\n",
      "     Narnia 132339  39.5482      74              1         0    0.062    0.003        0.000        0.000\n",
      "   OBrother 149781  335.913      83              0         3    0.102    0.196        0.000        0.000\n",
      "   StarTrek  33446  123.241     119              0         4    0.471    0.353        0.000        0.000\n",
      "    Catch22 150887  348.683     158              2         3    0.217    0.231        0.000        0.000\n",
      "  ScoobyDoo 161174  182.792     395              0         7    0.511    0.566        0.001        0.001\n",
      "   MobyDick  85746  149.588     986              3        12    1.173    1.237        0.006        0.004\n",
      "    Othello 145729  224.594    1010             14        13    1.280    1.304        0.013        0.004\n",
      "      Alice 140594  180.098    1934              0        33    2.630    3.125        0.239        0.045\n",
      " Bandamanna 126115 0.995575     695             19        12    1.191    1.128        0.009        0.002\n",
      "   Sopranos  13927  180.676    1531              9        37    3.054    3.764        0.394        0.053\n",
      "         Oz 137625  158.231    1548              6        16    2.550    1.950        0.082        0.012\n",
      "HarryPotter 129237   20.449     718             24        13    1.126    1.259        0.014        0.003\n",
      "            127226  8.69484    2652             68        59    4.261    5.359        3.037        0.479\n",
      "            129387  21.0163     810             17        17    1.400    1.342        0.013        0.003\n",
      "            130133  24.7772    2358             79        40    3.485    4.152        2.582        0.358\n",
      "            130625  28.3054    2003             59        34    3.351    3.354        1.155        0.119\n",
      "            131531  33.8651    2462             64        43    4.364    4.170        1.814        0.199\n",
      "            135129  126.784    1032              8        19    1.834    1.909        0.035        0.005\n",
      "            135440  130.666    1115             17         9    1.897    1.438        0.031        0.005\n",
      "            135594  134.877    1314              6        30    2.514    2.896        0.137        0.012\n",
      "            135739  138.102    1047              8        24    1.907    2.286        0.034        0.005\n",
      "             16235  139.416    1020              7        20    1.642    1.738        0.025        0.005\n",
      "            135879  141.077    1258              2        17    2.532    2.068        0.063        0.009\n",
      "            157374  145.225    1227              5        20    2.006    2.050        0.051        0.007\n",
      "                32  145.514    1440             43        12    1.970    1.671        0.212        0.021\n",
      "            136403  150.358     689              2        18    1.360    1.423        0.009        0.002\n",
      "             16559  154.888     900             11        26    1.853    2.377        0.032        0.004\n",
      "            158541  159.068    1598             10        26    2.696    2.677        0.212        0.028\n",
      "            138201  162.818    1829             36        41    3.506    3.877        0.802        0.118\n",
      "            138375  164.006    1040             12        23    1.850    2.272        0.049        0.005\n",
      "            138642  165.797    1759              6        30    3.663    3.359        0.346        0.039\n",
      "            159593  169.589     996              7        22    1.749    1.926        0.036        0.005\n",
      "            139281  170.631    1079              7        20    2.130    2.088        0.083        0.009\n",
      "            101649  172.003     648              3         9    1.147    1.128        0.005        0.002\n",
      "            139467  172.046     888              5        21    1.792    1.962        0.022        0.004\n",
      "            160302  174.843    1022              4        24    1.533    2.210        0.043        0.005\n",
      "            140065  175.328    1782             10        42    3.086    3.624        0.240        0.031\n",
      "            140301  177.289    1475              3        39    2.944    3.187        0.155        0.020\n",
      "            140458  178.989     735              6        13    1.118    1.419        0.012        0.003\n",
      "            141465  187.211     769              8        15    1.314    1.692        0.022        0.003\n",
      "             52773  193.841     710              2        10    1.324    1.169        0.006        0.002\n",
      "            142722  194.863    1121              3        30    2.201    2.553        0.054        0.006\n",
      "            163136  197.904     746              5        14    1.257    1.247        0.006        0.003\n",
      "            163956   206.33     723              4         9    0.936    1.003        0.004        0.002\n",
      "            143856  206.599     858              6        20    1.208    1.813        0.010        0.003\n",
      "            163975  206.603    1764              7        51    2.793    4.185        0.282        0.040\n",
      "             94340  208.324    1083             16        30    2.041    2.865        0.199        0.011\n",
      "            144121  209.069    1332              3        20    1.770    2.063        0.052        0.008\n",
      "             94217  209.233    1065              4        21    1.636    2.019        0.029        0.005\n",
      "            144151  209.271     763              1        14    0.874    1.319        0.006        0.003\n",
      "             69028  210.708    1223             13        12    1.384    1.504        0.042        0.006\n",
      "            144953  215.579     852              6         9    0.952    1.035        0.007        0.003\n",
      "            164995  216.639    1228              7        18    1.863    2.046        0.084        0.008\n",
      "            165082  217.418    1993             12        39    3.774    4.215        0.636        0.085\n",
      "            165153  218.023    1319             32        25    2.013    2.555        0.235        0.022\n",
      "            145297  218.718    1199              2        27    1.738    2.382        0.076        0.007\n",
      "            165316  219.378    1016              5        19    1.839    1.734        0.035        0.005\n",
      "            145398  219.796    2063             16        54    4.562    5.283        1.122        0.169\n",
      "            165707  222.824     741              6         8    1.025    0.843        0.004        0.002\n",
      "            145879  227.456    1516             20        34    2.359    3.052        0.267        0.025\n",
      "            165980  227.921     725              4         4    0.800    0.454        0.003        0.002\n",
      "            166141  230.485    2574             24        78    5.778    7.048        2.389        0.531\n",
      "            147606   255.21     675              3        21    1.709    1.997        0.007        0.002\n",
      "            149977  339.372     578             34         6    0.983    0.772        0.009        0.002\n",
      "            150307  343.924     621             15        10    0.800    0.939        0.005        0.002\n",
      "            150578  346.236    1228             29        16    1.748    1.601        0.083        0.011\n",
      "            153017  359.856    1125             28        10    1.442    1.144        0.028        0.005\n"
     ]
    }
   ],
   "source": [
    "for name in data.colnames:\n",
    "    if name.startswith('miss_'):\n",
    "        data[name].format = '%.3f'\n",
    "\n",
    "data.pprint(-1, -1)"
   ]
  },
  {
   "cell_type": "code",
   "execution_count": 25,
   "metadata": {},
   "outputs": [
    {
     "data": {
      "text/html": [
       "<div>\n",
       "<style scoped>\n",
       "    .dataframe tbody tr th:only-of-type {\n",
       "        vertical-align: middle;\n",
       "    }\n",
       "\n",
       "    .dataframe tbody tr th {\n",
       "        vertical-align: top;\n",
       "    }\n",
       "\n",
       "    .dataframe thead th {\n",
       "        text-align: right;\n",
       "    }\n",
       "</style>\n",
       "<table border=\"1\" class=\"dataframe\">\n",
       "  <thead>\n",
       "    <tr style=\"text-align: right;\">\n",
       "      <th></th>\n",
       "      <th>no_spec</th>\n",
       "      <th>no_spec_bright</th>\n",
       "      <th>high_pgmm</th>\n",
       "      <th>miss_pca</th>\n",
       "      <th>miss_gmm</th>\n",
       "      <th>miss_gmm_100</th>\n",
       "      <th>miss_gmm_200</th>\n",
       "    </tr>\n",
       "  </thead>\n",
       "  <tbody>\n",
       "    <tr>\n",
       "      <th>count</th>\n",
       "      <td>55.000000</td>\n",
       "      <td>55.000000</td>\n",
       "      <td>55.000000</td>\n",
       "      <td>55.000000</td>\n",
       "      <td>55.000000</td>\n",
       "      <td>55.000000</td>\n",
       "      <td>55.000000</td>\n",
       "    </tr>\n",
       "    <tr>\n",
       "      <th>mean</th>\n",
       "      <td>1232.509091</td>\n",
       "      <td>14.909091</td>\n",
       "      <td>24.036364</td>\n",
       "      <td>2.103851</td>\n",
       "      <td>2.336221</td>\n",
       "      <td>0.307952</td>\n",
       "      <td>0.044997</td>\n",
       "    </tr>\n",
       "    <tr>\n",
       "      <th>std</th>\n",
       "      <td>523.941892</td>\n",
       "      <td>17.802697</td>\n",
       "      <td>14.507934</td>\n",
       "      <td>1.067189</td>\n",
       "      <td>1.287819</td>\n",
       "      <td>0.665683</td>\n",
       "      <td>0.108829</td>\n",
       "    </tr>\n",
       "    <tr>\n",
       "      <th>min</th>\n",
       "      <td>578.000000</td>\n",
       "      <td>1.000000</td>\n",
       "      <td>4.000000</td>\n",
       "      <td>0.799616</td>\n",
       "      <td>0.453792</td>\n",
       "      <td>0.003399</td>\n",
       "      <td>0.001798</td>\n",
       "    </tr>\n",
       "    <tr>\n",
       "      <th>25%</th>\n",
       "      <td>831.000000</td>\n",
       "      <td>4.500000</td>\n",
       "      <td>14.000000</td>\n",
       "      <td>1.372078</td>\n",
       "      <td>1.430530</td>\n",
       "      <td>0.012499</td>\n",
       "      <td>0.003077</td>\n",
       "    </tr>\n",
       "    <tr>\n",
       "      <th>50%</th>\n",
       "      <td>1083.000000</td>\n",
       "      <td>7.000000</td>\n",
       "      <td>20.000000</td>\n",
       "      <td>1.838845</td>\n",
       "      <td>2.045949</td>\n",
       "      <td>0.042667</td>\n",
       "      <td>0.005488</td>\n",
       "    </tr>\n",
       "    <tr>\n",
       "      <th>75%</th>\n",
       "      <td>1457.500000</td>\n",
       "      <td>16.500000</td>\n",
       "      <td>30.000000</td>\n",
       "      <td>2.523072</td>\n",
       "      <td>2.880571</td>\n",
       "      <td>0.212352</td>\n",
       "      <td>0.021219</td>\n",
       "    </tr>\n",
       "    <tr>\n",
       "      <th>max</th>\n",
       "      <td>2652.000000</td>\n",
       "      <td>79.000000</td>\n",
       "      <td>78.000000</td>\n",
       "      <td>5.777630</td>\n",
       "      <td>7.048063</td>\n",
       "      <td>3.037454</td>\n",
       "      <td>0.530518</td>\n",
       "    </tr>\n",
       "  </tbody>\n",
       "</table>\n",
       "</div>"
      ],
      "text/plain": [
       "           no_spec  no_spec_bright  high_pgmm   miss_pca   miss_gmm  \\\n",
       "count    55.000000       55.000000  55.000000  55.000000  55.000000   \n",
       "mean   1232.509091       14.909091  24.036364   2.103851   2.336221   \n",
       "std     523.941892       17.802697  14.507934   1.067189   1.287819   \n",
       "min     578.000000        1.000000   4.000000   0.799616   0.453792   \n",
       "25%     831.000000        4.500000  14.000000   1.372078   1.430530   \n",
       "50%    1083.000000        7.000000  20.000000   1.838845   2.045949   \n",
       "75%    1457.500000       16.500000  30.000000   2.523072   2.880571   \n",
       "max    2652.000000       79.000000  78.000000   5.777630   7.048063   \n",
       "\n",
       "       miss_gmm_100  miss_gmm_200  \n",
       "count     55.000000     55.000000  \n",
       "mean       0.307952      0.044997  \n",
       "std        0.665683      0.108829  \n",
       "min        0.003399      0.001798  \n",
       "25%        0.012499      0.003077  \n",
       "50%        0.042667      0.005488  \n",
       "75%        0.212352      0.021219  \n",
       "max        3.037454      0.530518  "
      ]
     },
     "execution_count": 25,
     "metadata": {},
     "output_type": "execute_result"
    }
   ],
   "source": [
    "data['no_spec no_spec_bright high_pgmm miss_pca miss_gmm miss_gmm_100 miss_gmm_200'.split()][16:].to_pandas().describe()"
   ]
  },
  {
   "cell_type": "code",
   "execution_count": null,
   "metadata": {},
   "outputs": [],
   "source": []
  }
 ],
 "metadata": {
  "kernelspec": {
   "display_name": "Python 3",
   "language": "python",
   "name": "python3"
  },
  "language_info": {
   "codemirror_mode": {
    "name": "ipython",
    "version": 3
   },
   "file_extension": ".py",
   "mimetype": "text/x-python",
   "name": "python",
   "nbconvert_exporter": "python",
   "pygments_lexer": "ipython3",
   "version": "3.6.5"
  }
 },
 "nbformat": 4,
 "nbformat_minor": 2
}
