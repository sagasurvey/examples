{
 "cells": [
  {
   "cell_type": "code",
   "execution_count": 11,
   "metadata": {},
   "outputs": [
    {
     "name": "stdout",
     "output_type": "stream",
     "text": [
      "SAGA code version 0.5.4\n"
     ]
    }
   ],
   "source": [
    "from astropy.table import vstack\n",
    "from easyquery import Query\n",
    "import SAGA\n",
    "from SAGA.objects import ObjectCuts as C\n",
    "from SAGA.targets.gmm import calc_gmm_satellite_probability\n",
    "print('SAGA code version', SAGA.__version__)"
   ]
  },
  {
   "cell_type": "code",
   "execution_count": 3,
   "metadata": {},
   "outputs": [
    {
     "name": "stdout",
     "output_type": "stream",
     "text": [
      "Downloading https://docs.google.com/spreadsheets/d/1GJYuhqfKeuJr-IyyGF_NDLb_ezL6zBiX2aeZFHHPr_s/export?format=csv&gid=0 [Done]\n",
      "Downloading https://docs.google.com/spreadsheets/d/1b3k2eyFjHFDtmHce1xi6JKuj3ATOWYduTBFftx5oPp8/export?format=csv&gid=1136984451 [Done]\n"
     ]
    }
   ],
   "source": [
    "saga_database = SAGA.Database('/home/yymao/Dropbox/Academia/Collaborations/SAGA')\n",
    "saga_database.base_file_path_pattern = '/home/yymao/Documents/Research/SAGA/new_base_catalogs/base_dr14_nsa{}.fits.gz'\n",
    "saga_object_catalog = SAGA.ObjectCatalog(saga_database)"
   ]
  },
  {
   "cell_type": "code",
   "execution_count": 19,
   "metadata": {},
   "outputs": [],
   "source": [
    "gmm_parameters = saga_database['gmm_parameters'].read()\n",
    "output = []\n",
    "for base in saga_object_catalog.load('paper1', cuts=(C.basic_cut & C.gri_cut & (~C.has_spec)), return_as='iter'):\n",
    "    del base['coord']\n",
    "    base['p_GMM'] = calc_gmm_satellite_probability(base, gmm_parameters)\n",
    "    base['p_GMM'][C.sdss_limit.mask(base)] = 2.0\n",
    "    base = Query('p_GMM > 0.9').filter(base)\n",
    "    if len(base):\n",
    "        base = base[['HOST_NSAID', 'HOST_SAGA_NAME', 'OBJID', 'RA', 'DEC', 'r_mag', 'p_GMM']]\n",
    "        base.sort('p_GMM')\n",
    "        output.append(base[::-1])\n",
    "output = vstack(output)"
   ]
  },
  {
   "cell_type": "code",
   "execution_count": 24,
   "metadata": {},
   "outputs": [
    {
     "data": {
      "text/html": [
       "<i>Table length=237</i>\n",
       "<table id=\"table140038008473528\" class=\"table-striped table-bordered table-condensed\">\n",
       "<thead><tr><th>HOST_NSAID</th><th>HOST_SAGA_NAME</th><th>OBJID</th><th>RA</th><th>DEC</th><th>r_mag</th><th>p_GMM</th></tr></thead>\n",
       "<thead><tr><th>int32</th><th>str48</th><th>int64</th><th>float64</th><th>float64</th><th>float32</th><th>float64</th></tr></thead>\n",
       "<tr><td>147100</td><td>Odyssey</td><td>1237662698115565182</td><td>248.42747909897474</td><td>19.568475516799253</td><td>18.496746</td><td>0.9354777303553062</td></tr>\n",
       "<tr><td>165536</td><td>Dune</td><td>1237648721248780558</td><td>221.2324966762039</td><td>-0.16249037103607875</td><td>20.714771</td><td>0.999582726794814</td></tr>\n",
       "<tr><td>165536</td><td>Dune</td><td>1237648704056590920</td><td>220.87150658186246</td><td>-0.24972437456319835</td><td>20.690428</td><td>0.9933794665135024</td></tr>\n",
       "<tr><td>165536</td><td>Dune</td><td>1237648704593723508</td><td>221.4457636191576</td><td>0.06919178869775748</td><td>20.41957</td><td>0.949805852508975</td></tr>\n",
       "<tr><td>61945</td><td>AnaK</td><td>1237663462608732436</td><td>354.10158208910093</td><td>0.6518188571999457</td><td>20.546516</td><td>0.9627530422704978</td></tr>\n",
       "<tr><td>61945</td><td>AnaK</td><td>1237666408439743528</td><td>353.96153144596445</td><td>0.3452793988092733</td><td>19.51693</td><td>0.9270255351077166</td></tr>\n",
       "<tr><td>132339</td><td>Narnia</td><td>1237678881037877349</td><td>39.46805559584563</td><td>-1.6704057524077558</td><td>17.394703</td><td>2.0</td></tr>\n",
       "<tr><td>149781</td><td>OBrother</td><td>1237678879399346662</td><td>335.68375204682025</td><td>-3.137682179203177</td><td>20.576065</td><td>0.9707678620564448</td></tr>\n",
       "<tr><td>149781</td><td>OBrother</td><td>1237680066954199752</td><td>335.67420310944533</td><td>-3.591091141835556</td><td>20.668018</td><td>0.9693760303753948</td></tr>\n",
       "<tr><td>149781</td><td>OBrother</td><td>1237679996621423467</td><td>335.8701615850337</td><td>-3.0001857055947174</td><td>20.716835</td><td>0.9172270569366172</td></tr>\n",
       "<tr><td>...</td><td>...</td><td>...</td><td>...</td><td>...</td><td>...</td><td>...</td></tr>\n",
       "<tr><td>129237</td><td>HarryPotter</td><td>1237678602387587547</td><td>20.63153779803133</td><td>17.555534416128292</td><td>19.876177</td><td>0.9696183707831062</td></tr>\n",
       "<tr><td>129237</td><td>HarryPotter</td><td>1237678602924393027</td><td>20.589028154402854</td><td>18.002097916531536</td><td>20.701025</td><td>0.9648336224015392</td></tr>\n",
       "<tr><td>129237</td><td>HarryPotter</td><td>1237679169304592789</td><td>20.101134424334532</td><td>17.42102716112494</td><td>20.248968</td><td>0.9582383600251139</td></tr>\n",
       "<tr><td>129237</td><td>HarryPotter</td><td>1237679169304920426</td><td>20.887298995182164</td><td>17.476782146924418</td><td>20.062443</td><td>0.9327307910845096</td></tr>\n",
       "<tr><td>129237</td><td>HarryPotter</td><td>1237678602924327494</td><td>20.374218294570483</td><td>18.005920819794305</td><td>20.019058</td><td>0.9303063051960969</td></tr>\n",
       "<tr><td>129237</td><td>HarryPotter</td><td>1237679169841529350</td><td>20.304011099792888</td><td>17.768249401639657</td><td>19.32714</td><td>0.9277016918345492</td></tr>\n",
       "<tr><td>129237</td><td>HarryPotter</td><td>1237678602924392948</td><td>20.543671320525732</td><td>17.982037557136344</td><td>19.931326</td><td>0.9117877740393637</td></tr>\n",
       "<tr><td>129237</td><td>HarryPotter</td><td>1237678602387587295</td><td>20.570092992464083</td><td>17.697854284792534</td><td>20.336304</td><td>0.9060002271501177</td></tr>\n",
       "<tr><td>129237</td><td>HarryPotter</td><td>1237679169841529419</td><td>20.341611963220316</td><td>17.807489448023716</td><td>20.205055</td><td>0.9058661986413984</td></tr>\n",
       "<tr><td>129237</td><td>HarryPotter</td><td>1237679169841660124</td><td>20.56740877661963</td><td>17.941629822621998</td><td>19.353426</td><td>0.9006148745616072</td></tr>\n",
       "</table>"
      ],
      "text/plain": [
       "<Table length=237>\n",
       "HOST_NSAID HOST_SAGA_NAME        OBJID        ...   r_mag         p_GMM       \n",
       "  int32        str48             int64        ...  float32       float64      \n",
       "---------- -------------- ------------------- ... --------- ------------------\n",
       "    147100        Odyssey 1237662698115565182 ... 18.496746 0.9354777303553062\n",
       "    165536           Dune 1237648721248780558 ... 20.714771  0.999582726794814\n",
       "    165536           Dune 1237648704056590920 ... 20.690428 0.9933794665135024\n",
       "    165536           Dune 1237648704593723508 ...  20.41957  0.949805852508975\n",
       "     61945           AnaK 1237663462608732436 ... 20.546516 0.9627530422704978\n",
       "     61945           AnaK 1237666408439743528 ...  19.51693 0.9270255351077166\n",
       "    132339         Narnia 1237678881037877349 ... 17.394703                2.0\n",
       "    149781       OBrother 1237678879399346662 ... 20.576065 0.9707678620564448\n",
       "    149781       OBrother 1237680066954199752 ... 20.668018 0.9693760303753948\n",
       "    149781       OBrother 1237679996621423467 ... 20.716835 0.9172270569366172\n",
       "       ...            ...                 ... ...       ...                ...\n",
       "    129237    HarryPotter 1237678602387587547 ... 19.876177 0.9696183707831062\n",
       "    129237    HarryPotter 1237678602924393027 ... 20.701025 0.9648336224015392\n",
       "    129237    HarryPotter 1237679169304592789 ... 20.248968 0.9582383600251139\n",
       "    129237    HarryPotter 1237679169304920426 ... 20.062443 0.9327307910845096\n",
       "    129237    HarryPotter 1237678602924327494 ... 20.019058 0.9303063051960969\n",
       "    129237    HarryPotter 1237679169841529350 ...  19.32714 0.9277016918345492\n",
       "    129237    HarryPotter 1237678602924392948 ... 19.931326 0.9117877740393637\n",
       "    129237    HarryPotter 1237678602387587295 ... 20.336304 0.9060002271501177\n",
       "    129237    HarryPotter 1237679169841529419 ... 20.205055 0.9058661986413984\n",
       "    129237    HarryPotter 1237679169841660124 ... 19.353426 0.9006148745616072"
      ]
     },
     "execution_count": 24,
     "metadata": {},
     "output_type": "execute_result"
    }
   ],
   "source": [
    "output.write('/home/yymao/Downloads/high_pGMM.csv')\n",
    "output"
   ]
  },
  {
   "cell_type": "code",
   "execution_count": null,
   "metadata": {},
   "outputs": [],
   "source": []
  }
 ],
 "metadata": {
  "kernelspec": {
   "display_name": "Python 3",
   "language": "python",
   "name": "python3"
  },
  "language_info": {
   "codemirror_mode": {
    "name": "ipython",
    "version": 3
   },
   "file_extension": ".py",
   "mimetype": "text/x-python",
   "name": "python",
   "nbconvert_exporter": "python",
   "pygments_lexer": "ipython3",
   "version": "3.6.5"
  }
 },
 "nbformat": 4,
 "nbformat_minor": 2
}
