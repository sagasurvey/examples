{
 "cells": [
  {
   "cell_type": "code",
   "execution_count": 1,
   "metadata": {},
   "outputs": [
    {
     "name": "stdout",
     "output_type": "stream",
     "text": [
      "SAGA code version 0.3.5\n"
     ]
    }
   ],
   "source": [
    "# import SAGA code\n",
    "\n",
    "import SAGA\n",
    "from SAGA import ObjectCuts as C\n",
    "from SAGA.utils import *\n",
    "\n",
    "print('SAGA code version', SAGA.__version__)"
   ]
  },
  {
   "cell_type": "code",
   "execution_count": 2,
   "metadata": {
    "collapsed": true
   },
   "outputs": [],
   "source": [
    "# import other modules\n",
    "\n",
    "from collections import defaultdict\n",
    "from astropy.table import Table\n",
    "from astropy.coordinates import SkyCoord\n",
    "from easyquery import Query"
   ]
  },
  {
   "cell_type": "code",
   "execution_count": 3,
   "metadata": {},
   "outputs": [
    {
     "name": "stdout",
     "output_type": "stream",
     "text": [
      "Downloading https://docs.google.com/spreadsheets/d/1b3k2eyFjHFDtmHce1xi6JKuj3ATOWYduTBFftx5oPp8/export?format=csv&gid=1136984451 [Done]\n",
      "Downloading https://docs.google.com/spreadsheets/d/1GJYuhqfKeuJr-IyyGF_NDLb_ezL6zBiX2aeZFHHPr_s/export?format=csv&gid=0 [Done]\n",
      "Downloading https://docs.google.com/spreadsheets/d/1b3k2eyFjHFDtmHce1xi6JKuj3ATOWYduTBFftx5oPp8/export?format=csv&gid=1136984451 [Done]\n",
      "Downloading https://docs.google.com/spreadsheets/d/1GJYuhqfKeuJr-IyyGF_NDLb_ezL6zBiX2aeZFHHPr_s/export?format=csv&gid=0 [Done]\n",
      "Downloading https://docs.google.com/spreadsheets/d/1b3k2eyFjHFDtmHce1xi6JKuj3ATOWYduTBFftx5oPp8/export?format=csv&gid=1136984451 [Done]\n",
      "Downloading https://docs.google.com/spreadsheets/d/1GJYuhqfKeuJr-IyyGF_NDLb_ezL6zBiX2aeZFHHPr_s/export?format=csv&gid=0 [Done]\n"
     ]
    }
   ],
   "source": [
    "# initialize SAGA objects (Database, HostCatalog, ObjectCatalog)\n",
    "# NOTE: change the path of `root_dir` to your SAGA dropbox path\n",
    "\n",
    "saga_database = SAGA.Database(root_dir='/home/yymao/Dropbox/Academia/Collaborations/SAGA')\n",
    "\n",
    "saga_database_dr12 = SAGA.Database()\n",
    "saga_database_dr12.base_file_path_pattern = '/home/yymao/Documents/Research/SAGA/new_base_catalogs/base_dr12_nsa{}.fits.gz'\n",
    "\n",
    "saga_database_dr14 = SAGA.Database()\n",
    "saga_database_dr14.base_file_path_pattern = '/home/yymao/Documents/Research/SAGA/new_base_catalogs/base_dr14_nsa{}.fits.gz'\n",
    "\n",
    "saga_object_catalog = SAGA.ObjectCatalog(saga_database)\n",
    "saga_object_catalog_dr12 = SAGA.ObjectCatalog(saga_database_dr12)\n",
    "saga_object_catalog_dr14 = SAGA.ObjectCatalog(saga_database_dr14)\n",
    "\n",
    "saga_host_catalog = SAGA.HostCatalog(saga_database)"
   ]
  },
  {
   "cell_type": "code",
   "execution_count": 4,
   "metadata": {
    "collapsed": true
   },
   "outputs": [],
   "source": [
    "def get_counts(base_list):\n",
    "    data = defaultdict(list)\n",
    "\n",
    "    for t in base_list:\n",
    "        host_id = t['HOST_NSAID'][0]\n",
    "\n",
    "        data['SAGA name'].append(saga_host_catalog.id_to_name(host_id))\n",
    "        data['NSAID'].append(host_id)\n",
    "        data['sat'].append((C.is_sat & C.is_clean & C.has_spec).count(t))\n",
    "        data['low_z'].append((C.is_low_z & C.is_clean & C.has_spec).count(t))\n",
    "\n",
    "        for i in (-1, 0, 1, 2, 3, 4):\n",
    "            data['zq_{}'.format(i)].append(Query('ZQUALITY=={}'.format(i)).count(t))\n",
    "\n",
    "        for i in (-1, 0, 1, 2, 3, 4, 5):\n",
    "            data['rm_{}'.format(i)].append(Query('REMOVE=={}'.format(i)).count(t))\n",
    "\n",
    "    return Table(data)"
   ]
  },
  {
   "cell_type": "markdown",
   "metadata": {},
   "source": [
    "## load base catalogs"
   ]
  },
  {
   "cell_type": "code",
   "execution_count": 5,
   "metadata": {
    "collapsed": true
   },
   "outputs": [],
   "source": [
    "# specify columns to load\n",
    "columns = 'OBJID HOST_NSAID RA DEC REMOVE SATS SPEC_Z ZQUALITY TELNAME SPEC_REPEAT r_mag coord'.split()\n",
    "columns.extend(get_sdss_colors()[:3])\n",
    "columns.extend(map('{}_err'.format, get_sdss_colors()[:3]))\n",
    "\n",
    "cuts = C.is_galaxy & C.fibermag_r_cut\n",
    "\n",
    "# load base catalogs (will take a while)\n",
    "catalogs_orig = saga_object_catalog.load(hosts='paper1', cuts=cuts, columns=columns, return_as='list')\n",
    "catalogs_dr12 = saga_object_catalog_dr12.load(hosts='paper1', cuts=cuts, columns=columns, return_as='list')\n",
    "catalogs_dr14 = saga_object_catalog_dr14.load(hosts='paper1', cuts=cuts, columns=columns, return_as='list')"
   ]
  },
  {
   "cell_type": "markdown",
   "metadata": {},
   "source": [
    "## tables of counts"
   ]
  },
  {
   "cell_type": "code",
   "execution_count": 6,
   "metadata": {},
   "outputs": [
    {
     "data": {
      "text/html": [
       "&lt;Table length=16&gt;\n",
       "<table id=\"table139926910873048\" class=\"table-striped table-bordered table-condensed\">\n",
       "<thead><tr><th>SAGA name</th><th>NSAID</th><th>sat</th><th>low_z</th><th>zq_-1</th><th>zq_0</th><th>zq_1</th><th>zq_2</th><th>zq_3</th><th>zq_4</th><th>rm_-1</th><th>rm_0</th><th>rm_1</th><th>rm_2</th><th>rm_3</th><th>rm_4</th><th>rm_5</th></tr></thead>\n",
       "<thead><tr><th>str11</th><th>int64</th><th>int64</th><th>int64</th><th>int64</th><th>int64</th><th>int64</th><th>int64</th><th>int64</th><th>int64</th><th>int64</th><th>int64</th><th>int64</th><th>int64</th><th>int64</th><th>int64</th><th>int64</th></tr></thead>\n",
       "<tr><td>Gilgamesh</td><td>166313</td><td>2</td><td>9</td><td>33770</td><td>0</td><td>109</td><td>37</td><td>474</td><td>2910</td><td>34426</td><td>0</td><td>11</td><td>154</td><td>1687</td><td>116</td><td>906</td></tr>\n",
       "<tr><td>Odyssey</td><td>147100</td><td>9</td><td>14</td><td>33868</td><td>0</td><td>117</td><td>53</td><td>307</td><td>2509</td><td>33723</td><td>0</td><td>4</td><td>153</td><td>2105</td><td>145</td><td>724</td></tr>\n",
       "<tr><td>Dune</td><td>165536</td><td>1</td><td>8</td><td>32808</td><td>0</td><td>171</td><td>128</td><td>388</td><td>3775</td><td>34734</td><td>0</td><td>17</td><td>155</td><td>1389</td><td>141</td><td>834</td></tr>\n",
       "<tr><td>AnaK</td><td>61945</td><td>3</td><td>7</td><td>35070</td><td>0</td><td>166</td><td>41</td><td>573</td><td>2631</td><td>35281</td><td>0</td><td>18</td><td>235</td><td>1963</td><td>139</td><td>845</td></tr>\n",
       "<tr><td>Narnia</td><td>132339</td><td>2</td><td>5</td><td>36935</td><td>0</td><td>146</td><td>20</td><td>212</td><td>1959</td><td>35998</td><td>0</td><td>6</td><td>203</td><td>2150</td><td>104</td><td>811</td></tr>\n",
       "<tr><td>OBrother</td><td>149781</td><td>4</td><td>4</td><td>33147</td><td>0</td><td>91</td><td>41</td><td>162</td><td>1304</td><td>31563</td><td>0</td><td>6</td><td>98</td><td>2062</td><td>47</td><td>969</td></tr>\n",
       "<tr><td>StarTrek</td><td>33446</td><td>2</td><td>5</td><td>33578</td><td>0</td><td>102</td><td>8</td><td>124</td><td>1639</td><td>32015</td><td>0</td><td>9</td><td>55</td><td>2478</td><td>102</td><td>792</td></tr>\n",
       "<tr><td>Catch22</td><td>150887</td><td>6</td><td>11</td><td>31694</td><td>0</td><td>254</td><td>144</td><td>156</td><td>1392</td><td>30641</td><td>0</td><td>19</td><td>80</td><td>1596</td><td>84</td><td>1220</td></tr>\n",
       "<tr><td>ScoobyDoo</td><td>161174</td><td>4</td><td>8</td><td>34573</td><td>0</td><td>37</td><td>2</td><td>43</td><td>1000</td><td>33441</td><td>0</td><td>2</td><td>71</td><td>1316</td><td>63</td><td>762</td></tr>\n",
       "<tr><td>MobyDick</td><td>85746</td><td>1</td><td>6</td><td>38750</td><td>0</td><td>67</td><td>7</td><td>80</td><td>1602</td><td>37574</td><td>0</td><td>24</td><td>70</td><td>1606</td><td>72</td><td>1160</td></tr>\n",
       "<tr><td>Othello</td><td>145729</td><td>2</td><td>4</td><td>33937</td><td>0</td><td>24</td><td>7</td><td>21</td><td>952</td><td>32423</td><td>0</td><td>8</td><td>74</td><td>1600</td><td>36</td><td>800</td></tr>\n",
       "<tr><td>Alice</td><td>140594</td><td>2</td><td>4</td><td>36470</td><td>0</td><td>71</td><td>11</td><td>151</td><td>2519</td><td>36332</td><td>0</td><td>9</td><td>142</td><td>1542</td><td>111</td><td>1086</td></tr>\n",
       "<tr><td>Bandamanna</td><td>126115</td><td>1</td><td>4</td><td>26140</td><td>0</td><td>12</td><td>0</td><td>24</td><td>612</td><td>23871</td><td>0</td><td>16</td><td>26</td><td>1890</td><td>24</td><td>961</td></tr>\n",
       "<tr><td>Sopranos</td><td>13927</td><td>0</td><td>2</td><td>34422</td><td>0</td><td>34</td><td>1</td><td>41</td><td>1594</td><td>32738</td><td>0</td><td>6</td><td>291</td><td>1816</td><td>123</td><td>1118</td></tr>\n",
       "<tr><td>Oz</td><td>137625</td><td>5</td><td>9</td><td>32607</td><td>0</td><td>21</td><td>8</td><td>25</td><td>765</td><td>31018</td><td>0</td><td>9</td><td>78</td><td>1358</td><td>40</td><td>923</td></tr>\n",
       "<tr><td>HarryPotter</td><td>129237</td><td>4</td><td>6</td><td>26723</td><td>0</td><td>52</td><td>16</td><td>41</td><td>583</td><td>24554</td><td>0</td><td>10</td><td>59</td><td>1708</td><td>23</td><td>1061</td></tr>\n",
       "</table>"
      ],
      "text/plain": [
       "<Table length=16>\n",
       " SAGA name  NSAID   sat  low_z zq_-1  zq_0 ...  rm_1  rm_2  rm_3  rm_4  rm_5\n",
       "   str11    int64  int64 int64 int64 int64 ... int64 int64 int64 int64 int64\n",
       "----------- ------ ----- ----- ----- ----- ... ----- ----- ----- ----- -----\n",
       "  Gilgamesh 166313     2     9 33770     0 ...    11   154  1687   116   906\n",
       "    Odyssey 147100     9    14 33868     0 ...     4   153  2105   145   724\n",
       "       Dune 165536     1     8 32808     0 ...    17   155  1389   141   834\n",
       "       AnaK  61945     3     7 35070     0 ...    18   235  1963   139   845\n",
       "     Narnia 132339     2     5 36935     0 ...     6   203  2150   104   811\n",
       "   OBrother 149781     4     4 33147     0 ...     6    98  2062    47   969\n",
       "   StarTrek  33446     2     5 33578     0 ...     9    55  2478   102   792\n",
       "    Catch22 150887     6    11 31694     0 ...    19    80  1596    84  1220\n",
       "  ScoobyDoo 161174     4     8 34573     0 ...     2    71  1316    63   762\n",
       "   MobyDick  85746     1     6 38750     0 ...    24    70  1606    72  1160\n",
       "    Othello 145729     2     4 33937     0 ...     8    74  1600    36   800\n",
       "      Alice 140594     2     4 36470     0 ...     9   142  1542   111  1086\n",
       " Bandamanna 126115     1     4 26140     0 ...    16    26  1890    24   961\n",
       "   Sopranos  13927     0     2 34422     0 ...     6   291  1816   123  1118\n",
       "         Oz 137625     5     9 32607     0 ...     9    78  1358    40   923\n",
       "HarryPotter 129237     4     6 26723     0 ...    10    59  1708    23  1061"
      ]
     },
     "execution_count": 6,
     "metadata": {},
     "output_type": "execute_result"
    }
   ],
   "source": [
    "get_counts(catalogs_orig)"
   ]
  },
  {
   "cell_type": "code",
   "execution_count": 7,
   "metadata": {},
   "outputs": [
    {
     "data": {
      "text/html": [
       "&lt;Table length=16&gt;\n",
       "<table id=\"table139926906791136\" class=\"table-striped table-bordered table-condensed\">\n",
       "<thead><tr><th>SAGA name</th><th>NSAID</th><th>sat</th><th>low_z</th><th>zq_-1</th><th>zq_0</th><th>zq_1</th><th>zq_2</th><th>zq_3</th><th>zq_4</th><th>rm_-1</th><th>rm_0</th><th>rm_1</th><th>rm_2</th><th>rm_3</th><th>rm_4</th><th>rm_5</th></tr></thead>\n",
       "<thead><tr><th>str11</th><th>int32</th><th>int64</th><th>int64</th><th>int64</th><th>int64</th><th>int64</th><th>int64</th><th>int64</th><th>int64</th><th>int64</th><th>int64</th><th>int64</th><th>int64</th><th>int64</th><th>int64</th><th>int64</th></tr></thead>\n",
       "<tr><td>Gilgamesh</td><td>166313</td><td>2</td><td>9</td><td>33803</td><td>0</td><td>107</td><td>33</td><td>464</td><td>2893</td><td>34010</td><td>0</td><td>21</td><td>145</td><td>1676</td><td>542</td><td>906</td></tr>\n",
       "<tr><td>Odyssey</td><td>147100</td><td>9</td><td>14</td><td>33853</td><td>0</td><td>118</td><td>51</td><td>297</td><td>2536</td><td>33253</td><td>0</td><td>8</td><td>150</td><td>2081</td><td>639</td><td>724</td></tr>\n",
       "<tr><td>Dune</td><td>165536</td><td>1</td><td>7</td><td>32764</td><td>0</td><td>166</td><td>120</td><td>383</td><td>3837</td><td>34338</td><td>0</td><td>42</td><td>130</td><td>1379</td><td>547</td><td>834</td></tr>\n",
       "<tr><td>AnaK</td><td>61945</td><td>3</td><td>6</td><td>35075</td><td>0</td><td>160</td><td>40</td><td>571</td><td>2635</td><td>34273</td><td>0</td><td>49</td><td>208</td><td>1962</td><td>1144</td><td>845</td></tr>\n",
       "<tr><td>Narnia</td><td>132339</td><td>2</td><td>4</td><td>36947</td><td>0</td><td>152</td><td>18</td><td>202</td><td>1953</td><td>35107</td><td>0</td><td>35</td><td>175</td><td>2147</td><td>997</td><td>811</td></tr>\n",
       "<tr><td>OBrother</td><td>149781</td><td>4</td><td>4</td><td>33177</td><td>0</td><td>81</td><td>37</td><td>157</td><td>1293</td><td>31292</td><td>0</td><td>7</td><td>97</td><td>2061</td><td>319</td><td>969</td></tr>\n",
       "<tr><td>StarTrek</td><td>33446</td><td>2</td><td>4</td><td>33595</td><td>0</td><td>99</td><td>8</td><td>119</td><td>1630</td><td>31409</td><td>0</td><td>31</td><td>37</td><td>2474</td><td>708</td><td>792</td></tr>\n",
       "<tr><td>Catch22</td><td>150887</td><td>6</td><td>10</td><td>31714</td><td>0</td><td>250</td><td>142</td><td>152</td><td>1382</td><td>30171</td><td>0</td><td>43</td><td>62</td><td>1593</td><td>551</td><td>1220</td></tr>\n",
       "<tr><td>ScoobyDoo</td><td>161174</td><td>4</td><td>7</td><td>34584</td><td>0</td><td>32</td><td>2</td><td>42</td><td>995</td><td>32967</td><td>0</td><td>19</td><td>55</td><td>1316</td><td>536</td><td>762</td></tr>\n",
       "<tr><td>MobyDick</td><td>85746</td><td>1</td><td>5</td><td>38770</td><td>0</td><td>59</td><td>7</td><td>74</td><td>1596</td><td>36963</td><td>0</td><td>41</td><td>54</td><td>1603</td><td>685</td><td>1160</td></tr>\n",
       "<tr><td>Othello</td><td>145729</td><td>2</td><td>4</td><td>33942</td><td>0</td><td>22</td><td>6</td><td>19</td><td>951</td><td>31925</td><td>0</td><td>15</td><td>66</td><td>1599</td><td>535</td><td>800</td></tr>\n",
       "<tr><td>Alice</td><td>140594</td><td>2</td><td>4</td><td>36366</td><td>0</td><td>71</td><td>10</td><td>149</td><td>2627</td><td>35797</td><td>0</td><td>17</td><td>136</td><td>1534</td><td>653</td><td>1086</td></tr>\n",
       "<tr><td>Bandamanna</td><td>126115</td><td>1</td><td>3</td><td>26147</td><td>0</td><td>11</td><td>0</td><td>22</td><td>608</td><td>23570</td><td>0</td><td>28</td><td>15</td><td>1891</td><td>323</td><td>961</td></tr>\n",
       "<tr><td>Sopranos</td><td>13927</td><td>1</td><td>2</td><td>34348</td><td>0</td><td>33</td><td>1</td><td>41</td><td>1669</td><td>32161</td><td>0</td><td>24</td><td>283</td><td>1814</td><td>692</td><td>1118</td></tr>\n",
       "<tr><td>Oz</td><td>137625</td><td>6</td><td>9</td><td>32611</td><td>0</td><td>20</td><td>8</td><td>24</td><td>763</td><td>30577</td><td>0</td><td>23</td><td>64</td><td>1361</td><td>478</td><td>923</td></tr>\n",
       "<tr><td>HarryPotter</td><td>129237</td><td>4</td><td>5</td><td>26726</td><td>0</td><td>50</td><td>16</td><td>41</td><td>582</td><td>24164</td><td>0</td><td>13</td><td>71</td><td>1708</td><td>398</td><td>1061</td></tr>\n",
       "</table>"
      ],
      "text/plain": [
       "<Table length=16>\n",
       " SAGA name  NSAID   sat  low_z zq_-1  zq_0 ...  rm_1  rm_2  rm_3  rm_4  rm_5\n",
       "   str11    int32  int64 int64 int64 int64 ... int64 int64 int64 int64 int64\n",
       "----------- ------ ----- ----- ----- ----- ... ----- ----- ----- ----- -----\n",
       "  Gilgamesh 166313     2     9 33803     0 ...    21   145  1676   542   906\n",
       "    Odyssey 147100     9    14 33853     0 ...     8   150  2081   639   724\n",
       "       Dune 165536     1     7 32764     0 ...    42   130  1379   547   834\n",
       "       AnaK  61945     3     6 35075     0 ...    49   208  1962  1144   845\n",
       "     Narnia 132339     2     4 36947     0 ...    35   175  2147   997   811\n",
       "   OBrother 149781     4     4 33177     0 ...     7    97  2061   319   969\n",
       "   StarTrek  33446     2     4 33595     0 ...    31    37  2474   708   792\n",
       "    Catch22 150887     6    10 31714     0 ...    43    62  1593   551  1220\n",
       "  ScoobyDoo 161174     4     7 34584     0 ...    19    55  1316   536   762\n",
       "   MobyDick  85746     1     5 38770     0 ...    41    54  1603   685  1160\n",
       "    Othello 145729     2     4 33942     0 ...    15    66  1599   535   800\n",
       "      Alice 140594     2     4 36366     0 ...    17   136  1534   653  1086\n",
       " Bandamanna 126115     1     3 26147     0 ...    28    15  1891   323   961\n",
       "   Sopranos  13927     1     2 34348     0 ...    24   283  1814   692  1118\n",
       "         Oz 137625     6     9 32611     0 ...    23    64  1361   478   923\n",
       "HarryPotter 129237     4     5 26726     0 ...    13    71  1708   398  1061"
      ]
     },
     "execution_count": 7,
     "metadata": {},
     "output_type": "execute_result"
    }
   ],
   "source": [
    "get_counts(catalogs_dr12)"
   ]
  },
  {
   "cell_type": "code",
   "execution_count": 8,
   "metadata": {},
   "outputs": [
    {
     "data": {
      "text/html": [
       "&lt;Table length=16&gt;\n",
       "<table id=\"table139927283307968\" class=\"table-striped table-bordered table-condensed\">\n",
       "<thead><tr><th>SAGA name</th><th>NSAID</th><th>sat</th><th>low_z</th><th>zq_-1</th><th>zq_0</th><th>zq_1</th><th>zq_2</th><th>zq_3</th><th>zq_4</th><th>rm_-1</th><th>rm_0</th><th>rm_1</th><th>rm_2</th><th>rm_3</th><th>rm_4</th><th>rm_5</th></tr></thead>\n",
       "<thead><tr><th>str11</th><th>int32</th><th>int64</th><th>int64</th><th>int64</th><th>int64</th><th>int64</th><th>int64</th><th>int64</th><th>int64</th><th>int64</th><th>int64</th><th>int64</th><th>int64</th><th>int64</th><th>int64</th><th>int64</th></tr></thead>\n",
       "<tr><td>Gilgamesh</td><td>166313</td><td>2</td><td>9</td><td>33739</td><td>0</td><td>105</td><td>33</td><td>464</td><td>2861</td><td>33960</td><td>0</td><td>21</td><td>145</td><td>1663</td><td>511</td><td>902</td></tr>\n",
       "<tr><td>Odyssey</td><td>147100</td><td>9</td><td>14</td><td>33834</td><td>0</td><td>120</td><td>51</td><td>297</td><td>2496</td><td>33236</td><td>0</td><td>8</td><td>150</td><td>2073</td><td>608</td><td>723</td></tr>\n",
       "<tr><td>Dune</td><td>165536</td><td>1</td><td>7</td><td>32670</td><td>0</td><td>162</td><td>118</td><td>384</td><td>3813</td><td>34281</td><td>0</td><td>42</td><td>130</td><td>1365</td><td>500</td><td>829</td></tr>\n",
       "<tr><td>AnaK</td><td>61945</td><td>3</td><td>6</td><td>34650</td><td>0</td><td>259</td><td>40</td><td>574</td><td>2769</td><td>34006</td><td>0</td><td>49</td><td>207</td><td>1937</td><td>1254</td><td>839</td></tr>\n",
       "<tr><td>Narnia</td><td>132339</td><td>2</td><td>4</td><td>37051</td><td>0</td><td>167</td><td>19</td><td>202</td><td>1784</td><td>35209</td><td>0</td><td>35</td><td>175</td><td>2145</td><td>850</td><td>809</td></tr>\n",
       "<tr><td>OBrother</td><td>149781</td><td>4</td><td>4</td><td>33147</td><td>0</td><td>78</td><td>37</td><td>157</td><td>1277</td><td>31276</td><td>0</td><td>7</td><td>97</td><td>2050</td><td>303</td><td>963</td></tr>\n",
       "<tr><td>StarTrek</td><td>33446</td><td>2</td><td>4</td><td>33586</td><td>0</td><td>102</td><td>8</td><td>119</td><td>1616</td><td>31399</td><td>0</td><td>31</td><td>37</td><td>2472</td><td>701</td><td>791</td></tr>\n",
       "<tr><td>Catch22</td><td>150887</td><td>6</td><td>10</td><td>31732</td><td>0</td><td>240</td><td>142</td><td>152</td><td>1372</td><td>30187</td><td>0</td><td>43</td><td>62</td><td>1592</td><td>533</td><td>1221</td></tr>\n",
       "<tr><td>ScoobyDoo</td><td>161174</td><td>4</td><td>7</td><td>34836</td><td>0</td><td>29</td><td>2</td><td>42</td><td>976</td><td>33189</td><td>0</td><td>19</td><td>55</td><td>1335</td><td>517</td><td>770</td></tr>\n",
       "<tr><td>MobyDick</td><td>85746</td><td>1</td><td>5</td><td>38705</td><td>0</td><td>59</td><td>7</td><td>74</td><td>1593</td><td>36906</td><td>0</td><td>41</td><td>54</td><td>1596</td><td>681</td><td>1160</td></tr>\n",
       "<tr><td>Othello</td><td>145729</td><td>2</td><td>4</td><td>33935</td><td>0</td><td>17</td><td>6</td><td>19</td><td>808</td><td>31941</td><td>0</td><td>15</td><td>66</td><td>1581</td><td>387</td><td>795</td></tr>\n",
       "<tr><td>Alice</td><td>140594</td><td>2</td><td>4</td><td>36380</td><td>0</td><td>69</td><td>10</td><td>149</td><td>2534</td><td>35958</td><td>0</td><td>17</td><td>135</td><td>1524</td><td>424</td><td>1084</td></tr>\n",
       "<tr><td>Bandamanna</td><td>126115</td><td>1</td><td>3</td><td>26052</td><td>0</td><td>60</td><td>0</td><td>22</td><td>636</td><td>23540</td><td>0</td><td>28</td><td>15</td><td>1881</td><td>343</td><td>963</td></tr>\n",
       "<tr><td>Sopranos</td><td>13927</td><td>1</td><td>2</td><td>34359</td><td>0</td><td>31</td><td>1</td><td>41</td><td>1631</td><td>32189</td><td>0</td><td>24</td><td>283</td><td>1808</td><td>643</td><td>1116</td></tr>\n",
       "<tr><td>Oz</td><td>137625</td><td>6</td><td>9</td><td>32748</td><td>0</td><td>20</td><td>8</td><td>24</td><td>741</td><td>30688</td><td>0</td><td>23</td><td>64</td><td>1375</td><td>459</td><td>932</td></tr>\n",
       "<tr><td>HarryPotter</td><td>129237</td><td>4</td><td>5</td><td>26652</td><td>0</td><td>60</td><td>16</td><td>41</td><td>582</td><td>24108</td><td>0</td><td>13</td><td>71</td><td>1699</td><td>399</td><td>1061</td></tr>\n",
       "</table>"
      ],
      "text/plain": [
       "<Table length=16>\n",
       " SAGA name  NSAID   sat  low_z zq_-1  zq_0 ...  rm_1  rm_2  rm_3  rm_4  rm_5\n",
       "   str11    int32  int64 int64 int64 int64 ... int64 int64 int64 int64 int64\n",
       "----------- ------ ----- ----- ----- ----- ... ----- ----- ----- ----- -----\n",
       "  Gilgamesh 166313     2     9 33739     0 ...    21   145  1663   511   902\n",
       "    Odyssey 147100     9    14 33834     0 ...     8   150  2073   608   723\n",
       "       Dune 165536     1     7 32670     0 ...    42   130  1365   500   829\n",
       "       AnaK  61945     3     6 34650     0 ...    49   207  1937  1254   839\n",
       "     Narnia 132339     2     4 37051     0 ...    35   175  2145   850   809\n",
       "   OBrother 149781     4     4 33147     0 ...     7    97  2050   303   963\n",
       "   StarTrek  33446     2     4 33586     0 ...    31    37  2472   701   791\n",
       "    Catch22 150887     6    10 31732     0 ...    43    62  1592   533  1221\n",
       "  ScoobyDoo 161174     4     7 34836     0 ...    19    55  1335   517   770\n",
       "   MobyDick  85746     1     5 38705     0 ...    41    54  1596   681  1160\n",
       "    Othello 145729     2     4 33935     0 ...    15    66  1581   387   795\n",
       "      Alice 140594     2     4 36380     0 ...    17   135  1524   424  1084\n",
       " Bandamanna 126115     1     3 26052     0 ...    28    15  1881   343   963\n",
       "   Sopranos  13927     1     2 34359     0 ...    24   283  1808   643  1116\n",
       "         Oz 137625     6     9 32748     0 ...    23    64  1375   459   932\n",
       "HarryPotter 129237     4     5 26652     0 ...    13    71  1699   399  1061"
      ]
     },
     "execution_count": 8,
     "metadata": {},
     "output_type": "execute_result"
    }
   ],
   "source": [
    "get_counts(catalogs_dr14)"
   ]
  },
  {
   "cell_type": "markdown",
   "metadata": {},
   "source": [
    "## check satellites"
   ]
  },
  {
   "cell_type": "code",
   "execution_count": 13,
   "metadata": {
    "collapsed": true
   },
   "outputs": [],
   "source": [
    "host_idx = -3\n",
    "is_sat = (C.is_sat & C.is_clean & C.has_spec)"
   ]
  },
  {
   "cell_type": "code",
   "execution_count": 14,
   "metadata": {},
   "outputs": [
    {
     "data": {
      "text/html": [
       "&lt;Table length=0&gt;\n",
       "<table id=\"table139926932891632\" class=\"table-striped table-bordered table-condensed\">\n",
       "<thead><tr><th>OBJID</th><th>HOST_NSAID</th><th>RA</th><th>DEC</th><th>REMOVE</th><th>SATS</th><th>SPEC_Z</th><th>ZQUALITY</th><th>TELNAME</th><th>SPEC_REPEAT</th><th>r_mag</th><th>coord</th><th>ug</th><th>gr</th><th>ri</th><th>ug_err</th><th>gr_err</th><th>ri_err</th></tr></thead>\n",
       "<thead><tr><th></th><th></th><th></th><th></th><th></th><th></th><th></th><th></th><th></th><th></th><th></th><th>deg,deg</th><th></th><th></th><th></th><th></th><th></th><th></th></tr></thead>\n",
       "<thead><tr><th>int64</th><th>int64</th><th>float64</th><th>float64</th><th>int64</th><th>int64</th><th>float32</th><th>int64</th><th>str6</th><th>str48</th><th>float32</th><th>object</th><th>float32</th><th>float32</th><th>float32</th><th>float32</th><th>float32</th><th>float32</th></tr></thead>\n",
       "</table>"
      ],
      "text/plain": [
       "<Table length=0>\n",
       "OBJID HOST_NSAID    RA     DEC   REMOVE ...    ri    ug_err  gr_err  ri_err\n",
       "                                        ...                                \n",
       "int64   int64    float64 float64 int64  ... float32 float32 float32 float32\n",
       "----- ---------- ------- ------- ------ ... ------- ------- ------- -------"
      ]
     },
     "execution_count": 14,
     "metadata": {},
     "output_type": "execute_result"
    }
   ],
   "source": [
    "is_sat.filter(catalogs_orig[host_idx])"
   ]
  },
  {
   "cell_type": "code",
   "execution_count": 15,
   "metadata": {},
   "outputs": [
    {
     "data": {
      "text/html": [
       "&lt;Table length=1&gt;\n",
       "<table id=\"table139926908755864\" class=\"table-striped table-bordered table-condensed\">\n",
       "<thead><tr><th>OBJID</th><th>HOST_NSAID</th><th>RA</th><th>DEC</th><th>REMOVE</th><th>SATS</th><th>SPEC_Z</th><th>ZQUALITY</th><th>TELNAME</th><th>SPEC_REPEAT</th><th>r_mag</th><th>coord</th><th>ug</th><th>gr</th><th>ri</th><th>ug_err</th><th>gr_err</th><th>ri_err</th></tr></thead>\n",
       "<thead><tr><th></th><th></th><th></th><th></th><th></th><th></th><th></th><th></th><th></th><th></th><th></th><th>deg,deg</th><th></th><th></th><th></th><th></th><th></th><th></th></tr></thead>\n",
       "<thead><tr><th>int64</th><th>int32</th><th>float64</th><th>float64</th><th>int16</th><th>int16</th><th>float32</th><th>int16</th><th>str6</th><th>str48</th><th>float32</th><th>object</th><th>float32</th><th>float32</th><th>float32</th><th>float32</th><th>float32</th><th>float32</th></tr></thead>\n",
       "<tr><td>1237651735757259464</td><td>13927</td><td>180.637211465</td><td>1.96106269885</td><td>-1</td><td>1</td><td>0.00696</td><td>4</td><td>MMT</td><td>MMT</td><td>22.1907</td><td>180.63721146497858,1.9610626988481503</td><td>-0.336117</td><td>0.883909</td><td>1.11828</td><td>0.956412</td><td>0.524856</td><td>0.342213</td></tr>\n",
       "</table>"
      ],
      "text/plain": [
       "<Table length=1>\n",
       "       OBJID        HOST_NSAID       RA      ...  ug_err   gr_err   ri_err \n",
       "                                             ...                           \n",
       "       int64          int32       float64    ... float32  float32  float32 \n",
       "------------------- ---------- ------------- ... -------- -------- --------\n",
       "1237651735757259464      13927 180.637211465 ... 0.956412 0.524856 0.342213"
      ]
     },
     "execution_count": 15,
     "metadata": {},
     "output_type": "execute_result"
    }
   ],
   "source": [
    "is_sat.filter(catalogs_dr12[host_idx])"
   ]
  },
  {
   "cell_type": "code",
   "execution_count": 16,
   "metadata": {},
   "outputs": [
    {
     "data": {
      "text/html": [
       "&lt;Table length=1&gt;\n",
       "<table id=\"table139926907665488\" class=\"table-striped table-bordered table-condensed\">\n",
       "<thead><tr><th>OBJID</th><th>HOST_NSAID</th><th>RA</th><th>DEC</th><th>REMOVE</th><th>SATS</th><th>SPEC_Z</th><th>ZQUALITY</th><th>TELNAME</th><th>SPEC_REPEAT</th><th>r_mag</th><th>coord</th><th>ug</th><th>gr</th><th>ri</th><th>ug_err</th><th>gr_err</th><th>ri_err</th></tr></thead>\n",
       "<thead><tr><th></th><th></th><th></th><th></th><th></th><th></th><th></th><th></th><th></th><th></th><th></th><th>deg,deg</th><th></th><th></th><th></th><th></th><th></th><th></th></tr></thead>\n",
       "<thead><tr><th>int64</th><th>int32</th><th>float64</th><th>float64</th><th>int16</th><th>int16</th><th>float32</th><th>int16</th><th>str6</th><th>str48</th><th>float32</th><th>object</th><th>float32</th><th>float32</th><th>float32</th><th>float32</th><th>float32</th><th>float32</th></tr></thead>\n",
       "<tr><td>1237651735757259464</td><td>13927</td><td>180.63721146</td><td>1.96106269321</td><td>-1</td><td>1</td><td>0.00696</td><td>4</td><td>MMT</td><td>MMT</td><td>22.2069</td><td>180.6372114598704,1.9610626932090294</td><td>-0.328957</td><td>0.888901</td><td>1.11794</td><td>0.955371</td><td>0.524457</td><td>0.342155</td></tr>\n",
       "</table>"
      ],
      "text/plain": [
       "<Table length=1>\n",
       "       OBJID        HOST_NSAID      RA      ...  ug_err   gr_err   ri_err \n",
       "                                            ...                           \n",
       "       int64          int32      float64    ... float32  float32  float32 \n",
       "------------------- ---------- ------------ ... -------- -------- --------\n",
       "1237651735757259464      13927 180.63721146 ... 0.955371 0.524457 0.342155"
      ]
     },
     "execution_count": 16,
     "metadata": {},
     "output_type": "execute_result"
    }
   ],
   "source": [
    "is_sat.filter(catalogs_dr14[host_idx])"
   ]
  },
  {
   "cell_type": "code",
   "execution_count": 17,
   "metadata": {},
   "outputs": [
    {
     "data": {
      "text/html": [
       "&lt;Table length=2&gt;\n",
       "<table id=\"table139926909067104\" class=\"table-striped table-bordered table-condensed\">\n",
       "<thead><tr><th>OBJID</th><th>HOST_NSAID</th><th>RA</th><th>DEC</th><th>REMOVE</th><th>SATS</th><th>SPEC_Z</th><th>ZQUALITY</th><th>TELNAME</th><th>SPEC_REPEAT</th><th>r_mag</th><th>coord</th><th>ug</th><th>gr</th><th>ri</th><th>ug_err</th><th>gr_err</th><th>ri_err</th></tr></thead>\n",
       "<thead><tr><th></th><th></th><th></th><th></th><th></th><th></th><th></th><th></th><th></th><th></th><th></th><th>deg,deg</th><th></th><th></th><th></th><th></th><th></th><th></th></tr></thead>\n",
       "<thead><tr><th>int64</th><th>int64</th><th>float64</th><th>float64</th><th>int64</th><th>int64</th><th>float32</th><th>int64</th><th>str6</th><th>str48</th><th>float32</th><th>object</th><th>float32</th><th>float32</th><th>float32</th><th>float32</th><th>float32</th><th>float32</th></tr></thead>\n",
       "<tr><td>1237651735757259099</td><td>13927</td><td>180.636494306</td><td>1.95802947978</td><td>5</td><td>1</td><td>0.00696</td><td>4</td><td>MMT</td><td>MMT</td><td>18.6114</td><td>180.6364943057221,1.9580294797807452</td><td>7.64154</td><td>0.567709</td><td>-0.32235</td><td>3.49089</td><td>0.123041</td><td>0.193003</td></tr>\n",
       "<tr><td>1237651735757259464</td><td>13927</td><td>180.637211465</td><td>1.96106269885</td><td>-1</td><td>-1</td><td>-1.0</td><td>-1</td><td></td><td></td><td>22.1907</td><td>180.63721146497858,1.9610626988481503</td><td>-0.336117</td><td>0.883909</td><td>1.11828</td><td>0.956412</td><td>0.524856</td><td>0.342213</td></tr>\n",
       "</table>"
      ],
      "text/plain": [
       "<Table length=2>\n",
       "       OBJID        HOST_NSAID       RA      ...  ug_err   gr_err   ri_err \n",
       "                                             ...                           \n",
       "       int64          int64       float64    ... float32  float32  float32 \n",
       "------------------- ---------- ------------- ... -------- -------- --------\n",
       "1237651735757259099      13927 180.636494306 ...  3.49089 0.123041 0.193003\n",
       "1237651735757259464      13927 180.637211465 ... 0.956412 0.524856 0.342213"
      ]
     },
     "execution_count": 17,
     "metadata": {},
     "output_type": "execute_result"
    }
   ],
   "source": [
    "find_near_objid(catalogs_orig[host_idx], 1237651735757259464, 20)"
   ]
  },
  {
   "cell_type": "code",
   "execution_count": 18,
   "metadata": {},
   "outputs": [
    {
     "data": {
      "text/html": [
       "&lt;Table length=2&gt;\n",
       "<table id=\"table139926909010776\" class=\"table-striped table-bordered table-condensed\">\n",
       "<thead><tr><th>OBJID</th><th>HOST_NSAID</th><th>RA</th><th>DEC</th><th>REMOVE</th><th>SATS</th><th>SPEC_Z</th><th>ZQUALITY</th><th>TELNAME</th><th>SPEC_REPEAT</th><th>r_mag</th><th>coord</th><th>ug</th><th>gr</th><th>ri</th><th>ug_err</th><th>gr_err</th><th>ri_err</th></tr></thead>\n",
       "<thead><tr><th></th><th></th><th></th><th></th><th></th><th></th><th></th><th></th><th></th><th></th><th></th><th>deg,deg</th><th></th><th></th><th></th><th></th><th></th><th></th></tr></thead>\n",
       "<thead><tr><th>int64</th><th>int32</th><th>float64</th><th>float64</th><th>int16</th><th>int16</th><th>float32</th><th>int16</th><th>str6</th><th>str48</th><th>float32</th><th>object</th><th>float32</th><th>float32</th><th>float32</th><th>float32</th><th>float32</th><th>float32</th></tr></thead>\n",
       "<tr><td>1237651735757259464</td><td>13927</td><td>180.63721146</td><td>1.96106269321</td><td>-1</td><td>1</td><td>0.00696</td><td>4</td><td>MMT</td><td>MMT</td><td>22.2069</td><td>180.6372114598704,1.9610626932090294</td><td>-0.328957</td><td>0.888901</td><td>1.11794</td><td>0.955371</td><td>0.524457</td><td>0.342155</td></tr>\n",
       "<tr><td>1237651735757259099</td><td>13927</td><td>180.636494302</td><td>1.95802947582</td><td>5</td><td>-1</td><td>-1.0</td><td>-1</td><td></td><td></td><td>18.6277</td><td>180.6364943021375,1.9580294758235546</td><td>7.6367</td><td>0.573706</td><td>-0.322073</td><td>3.49035</td><td>0.123041</td><td>0.193003</td></tr>\n",
       "</table>"
      ],
      "text/plain": [
       "<Table length=2>\n",
       "       OBJID        HOST_NSAID       RA      ...  ug_err   gr_err   ri_err \n",
       "                                             ...                           \n",
       "       int64          int32       float64    ... float32  float32  float32 \n",
       "------------------- ---------- ------------- ... -------- -------- --------\n",
       "1237651735757259464      13927  180.63721146 ... 0.955371 0.524457 0.342155\n",
       "1237651735757259099      13927 180.636494302 ...  3.49035 0.123041 0.193003"
      ]
     },
     "execution_count": 18,
     "metadata": {},
     "output_type": "execute_result"
    }
   ],
   "source": [
    "find_near_objid(catalogs_dr14[host_idx], 1237651735757259464, 20)"
   ]
  },
  {
   "cell_type": "code",
   "execution_count": null,
   "metadata": {
    "collapsed": true
   },
   "outputs": [],
   "source": []
  }
 ],
 "metadata": {
  "kernelspec": {
   "display_name": "Python 3",
   "language": "python",
   "name": "python3"
  },
  "language_info": {
   "codemirror_mode": {
    "name": "ipython",
    "version": 3
   },
   "file_extension": ".py",
   "mimetype": "text/x-python",
   "name": "python",
   "nbconvert_exporter": "python",
   "pygments_lexer": "ipython3",
   "version": "3.6.2"
  }
 },
 "nbformat": 4,
 "nbformat_minor": 2
}
