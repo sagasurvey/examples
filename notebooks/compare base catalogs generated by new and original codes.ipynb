{
 "cells": [
  {
   "cell_type": "code",
   "execution_count": 1,
   "metadata": {},
   "outputs": [
    {
     "name": "stdout",
     "output_type": "stream",
     "text": [
      "SAGA code version 0.3.4\n"
     ]
    }
   ],
   "source": [
    "# import SAGA code\n",
    "\n",
    "import SAGA\n",
    "from SAGA import ObjectCuts as C\n",
    "from SAGA.utils import *\n",
    "\n",
    "print('SAGA code version', SAGA.__version__)"
   ]
  },
  {
   "cell_type": "code",
   "execution_count": 2,
   "metadata": {
    "collapsed": true
   },
   "outputs": [],
   "source": [
    "# import other modules\n",
    "\n",
    "from collections import defaultdict\n",
    "from astropy.table import Table\n",
    "from astropy.coordinates import SkyCoord\n",
    "from easyquery import Query"
   ]
  },
  {
   "cell_type": "code",
   "execution_count": 3,
   "metadata": {},
   "outputs": [
    {
     "name": "stdout",
     "output_type": "stream",
     "text": [
      "Downloading https://docs.google.com/spreadsheets/d/1b3k2eyFjHFDtmHce1xi6JKuj3ATOWYduTBFftx5oPp8/export?format=csv&gid=1136984451 [Done]\n",
      "Downloading https://docs.google.com/spreadsheets/d/1GJYuhqfKeuJr-IyyGF_NDLb_ezL6zBiX2aeZFHHPr_s/export?format=csv&gid=0 [Done]\n",
      "Downloading https://docs.google.com/spreadsheets/d/1b3k2eyFjHFDtmHce1xi6JKuj3ATOWYduTBFftx5oPp8/export?format=csv&gid=1136984451 [Done]\n",
      "Downloading https://docs.google.com/spreadsheets/d/1GJYuhqfKeuJr-IyyGF_NDLb_ezL6zBiX2aeZFHHPr_s/export?format=csv&gid=0 [Done]\n",
      "Downloading https://docs.google.com/spreadsheets/d/1b3k2eyFjHFDtmHce1xi6JKuj3ATOWYduTBFftx5oPp8/export?format=csv&gid=1136984451 [Done]\n",
      "Downloading https://docs.google.com/spreadsheets/d/1GJYuhqfKeuJr-IyyGF_NDLb_ezL6zBiX2aeZFHHPr_s/export?format=csv&gid=0 [Done]\n"
     ]
    }
   ],
   "source": [
    "# initialize SAGA objects (Database, HostCatalog, ObjectCatalog)\n",
    "# NOTE: change the path of `root_dir` to your SAGA dropbox path\n",
    "\n",
    "saga_database = SAGA.Database(root_dir='/home/yymao/Dropbox/Academia/Collaborations/SAGA')\n",
    "\n",
    "saga_database_new_dr12 = SAGA.Database()\n",
    "saga_database_new_dr12.base_file_path_pattern = '/home/yymao/Documents/Research/SAGA/new_base_catalogs/base_dr12_nsa{}.fits.gz'\n",
    "\n",
    "saga_database_new_dr14 = SAGA.Database()\n",
    "saga_database_new_dr14.base_file_path_pattern = '/home/yymao/Documents/Research/SAGA/new_base_catalogs/base_dr14_nsa{}.fits.gz'\n",
    "\n",
    "saga_object_catalog = SAGA.ObjectCatalog(saga_database)\n",
    "saga_object_catalog_new_dr12 = SAGA.ObjectCatalog(saga_database_new_dr12)\n",
    "saga_object_catalog_new_dr14 = SAGA.ObjectCatalog(saga_database_new_dr14)\n",
    "\n",
    "saga_host_catalog = SAGA.HostCatalog(saga_database)"
   ]
  },
  {
   "cell_type": "code",
   "execution_count": 4,
   "metadata": {
    "collapsed": true
   },
   "outputs": [],
   "source": [
    "def get_counts(base_list):\n",
    "    data = defaultdict(list)\n",
    "\n",
    "    for t in base_list:\n",
    "        host_id = t['HOST_NSAID'][0]\n",
    "\n",
    "        data['SAGA name'].append(saga_host_catalog.id_to_name(host_id))\n",
    "        data['NSAID'].append(host_id)\n",
    "        data['sat'].append((C.is_sat & C.is_clean & C.has_spec).count(t))\n",
    "        data['low_z'].append((C.is_low_z & C.is_clean & C.has_spec).count(t))\n",
    "\n",
    "        for i in (-1, 0, 1, 2, 3, 4):\n",
    "            data['zq_{}'.format(i)].append(Query('ZQUALITY=={}'.format(i)).count(t))\n",
    "\n",
    "        for i in (-1, 0, 1, 2, 3, 4, 5):\n",
    "            data['rm_{}'.format(i)].append(Query('REMOVE=={}'.format(i)).count(t))\n",
    "\n",
    "    return Table(data)"
   ]
  },
  {
   "cell_type": "markdown",
   "metadata": {},
   "source": [
    "## load base catalogs"
   ]
  },
  {
   "cell_type": "code",
   "execution_count": 5,
   "metadata": {
    "collapsed": true
   },
   "outputs": [],
   "source": [
    "# specify columns to load\n",
    "columns = 'OBJID HOST_NSAID RA DEC REMOVE SATS SPEC_Z ZQUALITY TELNAME SPEC_REPEAT r_mag coord'.split()\n",
    "columns.extend(get_sdss_colors()[:3])\n",
    "columns.extend(map('{}_err'.format, get_sdss_colors()[:3]))\n",
    "\n",
    "cuts = C.is_galaxy & C.fibermag_r_cut\n",
    "\n",
    "# load base catalogs (will take a while)\n",
    "paper1 = saga_object_catalog.load(hosts='paper1', cuts=cuts, columns=columns, return_as='list')\n",
    "paper1_new_dr12 = saga_object_catalog_new_dr12.load(hosts='paper1', cuts=cuts, columns=columns, return_as='list')\n",
    "paper1_new_dr14 = saga_object_catalog_new_dr14.load(hosts='paper1', cuts=cuts, columns=columns, return_as='list')"
   ]
  },
  {
   "cell_type": "markdown",
   "metadata": {},
   "source": [
    "## tables of counts"
   ]
  },
  {
   "cell_type": "code",
   "execution_count": 6,
   "metadata": {},
   "outputs": [
    {
     "data": {
      "text/html": [
       "&lt;Table length=16&gt;\n",
       "<table id=\"table140262981180944\" class=\"table-striped table-bordered table-condensed\">\n",
       "<thead><tr><th>SAGA name</th><th>NSAID</th><th>sat</th><th>low_z</th><th>zq_-1</th><th>zq_0</th><th>zq_1</th><th>zq_2</th><th>zq_3</th><th>zq_4</th><th>rm_-1</th><th>rm_0</th><th>rm_1</th><th>rm_2</th><th>rm_3</th><th>rm_4</th><th>rm_5</th></tr></thead>\n",
       "<thead><tr><th>str11</th><th>int64</th><th>int64</th><th>int64</th><th>int64</th><th>int64</th><th>int64</th><th>int64</th><th>int64</th><th>int64</th><th>int64</th><th>int64</th><th>int64</th><th>int64</th><th>int64</th><th>int64</th><th>int64</th></tr></thead>\n",
       "<tr><td>Gilgamesh</td><td>166313</td><td>2</td><td>9</td><td>33770</td><td>0</td><td>109</td><td>37</td><td>474</td><td>2910</td><td>34426</td><td>0</td><td>11</td><td>154</td><td>1687</td><td>116</td><td>906</td></tr>\n",
       "<tr><td>Odyssey</td><td>147100</td><td>9</td><td>14</td><td>33868</td><td>0</td><td>117</td><td>53</td><td>307</td><td>2509</td><td>33723</td><td>0</td><td>4</td><td>153</td><td>2105</td><td>145</td><td>724</td></tr>\n",
       "<tr><td>Dune</td><td>165536</td><td>1</td><td>8</td><td>32808</td><td>0</td><td>171</td><td>128</td><td>388</td><td>3775</td><td>34734</td><td>0</td><td>17</td><td>155</td><td>1389</td><td>141</td><td>834</td></tr>\n",
       "<tr><td>AnaK</td><td>61945</td><td>3</td><td>7</td><td>35070</td><td>0</td><td>166</td><td>41</td><td>573</td><td>2631</td><td>35281</td><td>0</td><td>18</td><td>235</td><td>1963</td><td>139</td><td>845</td></tr>\n",
       "<tr><td>Narnia</td><td>132339</td><td>2</td><td>5</td><td>36935</td><td>0</td><td>146</td><td>20</td><td>212</td><td>1959</td><td>35998</td><td>0</td><td>6</td><td>203</td><td>2150</td><td>104</td><td>811</td></tr>\n",
       "<tr><td>OBrother</td><td>149781</td><td>4</td><td>4</td><td>33147</td><td>0</td><td>91</td><td>41</td><td>162</td><td>1304</td><td>31563</td><td>0</td><td>6</td><td>98</td><td>2062</td><td>47</td><td>969</td></tr>\n",
       "<tr><td>StarTrek</td><td>33446</td><td>2</td><td>5</td><td>33578</td><td>0</td><td>102</td><td>8</td><td>124</td><td>1639</td><td>32015</td><td>0</td><td>9</td><td>55</td><td>2478</td><td>102</td><td>792</td></tr>\n",
       "<tr><td>Catch22</td><td>150887</td><td>6</td><td>11</td><td>31694</td><td>0</td><td>254</td><td>144</td><td>156</td><td>1392</td><td>30641</td><td>0</td><td>19</td><td>80</td><td>1596</td><td>84</td><td>1220</td></tr>\n",
       "<tr><td>ScoobyDoo</td><td>161174</td><td>4</td><td>8</td><td>34573</td><td>0</td><td>37</td><td>2</td><td>43</td><td>1000</td><td>33441</td><td>0</td><td>2</td><td>71</td><td>1316</td><td>63</td><td>762</td></tr>\n",
       "<tr><td>MobyDick</td><td>85746</td><td>1</td><td>6</td><td>38750</td><td>0</td><td>67</td><td>7</td><td>80</td><td>1602</td><td>37574</td><td>0</td><td>24</td><td>70</td><td>1606</td><td>72</td><td>1160</td></tr>\n",
       "<tr><td>Othello</td><td>145729</td><td>2</td><td>4</td><td>33937</td><td>0</td><td>24</td><td>7</td><td>21</td><td>952</td><td>32423</td><td>0</td><td>8</td><td>74</td><td>1600</td><td>36</td><td>800</td></tr>\n",
       "<tr><td>Alice</td><td>140594</td><td>2</td><td>4</td><td>36470</td><td>0</td><td>71</td><td>11</td><td>151</td><td>2519</td><td>36332</td><td>0</td><td>9</td><td>142</td><td>1542</td><td>111</td><td>1086</td></tr>\n",
       "<tr><td>Bandamanna</td><td>126115</td><td>1</td><td>4</td><td>26140</td><td>0</td><td>12</td><td>0</td><td>24</td><td>612</td><td>23871</td><td>0</td><td>16</td><td>26</td><td>1890</td><td>24</td><td>961</td></tr>\n",
       "<tr><td>Sopranos</td><td>13927</td><td>0</td><td>2</td><td>34422</td><td>0</td><td>34</td><td>1</td><td>41</td><td>1594</td><td>32738</td><td>0</td><td>6</td><td>291</td><td>1816</td><td>123</td><td>1118</td></tr>\n",
       "<tr><td>Oz</td><td>137625</td><td>5</td><td>9</td><td>32607</td><td>0</td><td>21</td><td>8</td><td>25</td><td>765</td><td>31018</td><td>0</td><td>9</td><td>78</td><td>1358</td><td>40</td><td>923</td></tr>\n",
       "<tr><td>HarryPotter</td><td>129237</td><td>4</td><td>6</td><td>26723</td><td>0</td><td>52</td><td>16</td><td>41</td><td>583</td><td>24554</td><td>0</td><td>10</td><td>59</td><td>1708</td><td>23</td><td>1061</td></tr>\n",
       "</table>"
      ],
      "text/plain": [
       "<Table length=16>\n",
       " SAGA name  NSAID   sat  low_z zq_-1  zq_0 ...  rm_1  rm_2  rm_3  rm_4  rm_5\n",
       "   str11    int64  int64 int64 int64 int64 ... int64 int64 int64 int64 int64\n",
       "----------- ------ ----- ----- ----- ----- ... ----- ----- ----- ----- -----\n",
       "  Gilgamesh 166313     2     9 33770     0 ...    11   154  1687   116   906\n",
       "    Odyssey 147100     9    14 33868     0 ...     4   153  2105   145   724\n",
       "       Dune 165536     1     8 32808     0 ...    17   155  1389   141   834\n",
       "       AnaK  61945     3     7 35070     0 ...    18   235  1963   139   845\n",
       "     Narnia 132339     2     5 36935     0 ...     6   203  2150   104   811\n",
       "   OBrother 149781     4     4 33147     0 ...     6    98  2062    47   969\n",
       "   StarTrek  33446     2     5 33578     0 ...     9    55  2478   102   792\n",
       "    Catch22 150887     6    11 31694     0 ...    19    80  1596    84  1220\n",
       "  ScoobyDoo 161174     4     8 34573     0 ...     2    71  1316    63   762\n",
       "   MobyDick  85746     1     6 38750     0 ...    24    70  1606    72  1160\n",
       "    Othello 145729     2     4 33937     0 ...     8    74  1600    36   800\n",
       "      Alice 140594     2     4 36470     0 ...     9   142  1542   111  1086\n",
       " Bandamanna 126115     1     4 26140     0 ...    16    26  1890    24   961\n",
       "   Sopranos  13927     0     2 34422     0 ...     6   291  1816   123  1118\n",
       "         Oz 137625     5     9 32607     0 ...     9    78  1358    40   923\n",
       "HarryPotter 129237     4     6 26723     0 ...    10    59  1708    23  1061"
      ]
     },
     "execution_count": 6,
     "metadata": {},
     "output_type": "execute_result"
    }
   ],
   "source": [
    "get_counts(paper1)"
   ]
  },
  {
   "cell_type": "code",
   "execution_count": 7,
   "metadata": {},
   "outputs": [
    {
     "data": {
      "text/html": [
       "&lt;Table length=16&gt;\n",
       "<table id=\"table140262980583944\" class=\"table-striped table-bordered table-condensed\">\n",
       "<thead><tr><th>SAGA name</th><th>NSAID</th><th>sat</th><th>low_z</th><th>zq_-1</th><th>zq_0</th><th>zq_1</th><th>zq_2</th><th>zq_3</th><th>zq_4</th><th>rm_-1</th><th>rm_0</th><th>rm_1</th><th>rm_2</th><th>rm_3</th><th>rm_4</th><th>rm_5</th></tr></thead>\n",
       "<thead><tr><th>str11</th><th>int32</th><th>int64</th><th>int64</th><th>int64</th><th>int64</th><th>int64</th><th>int64</th><th>int64</th><th>int64</th><th>int64</th><th>int64</th><th>int64</th><th>int64</th><th>int64</th><th>int64</th><th>int64</th></tr></thead>\n",
       "<tr><td>Gilgamesh</td><td>166313</td><td>2</td><td>11</td><td>33777</td><td>0</td><td>111</td><td>36</td><td>474</td><td>2902</td><td>37267</td><td>0</td><td>0</td><td>0</td><td>22</td><td>3</td><td>8</td></tr>\n",
       "<tr><td>Odyssey</td><td>147100</td><td>10</td><td>16</td><td>33856</td><td>0</td><td>119</td><td>54</td><td>307</td><td>2519</td><td>36814</td><td>0</td><td>0</td><td>2</td><td>26</td><td>4</td><td>9</td></tr>\n",
       "<tr><td>Dune</td><td>165536</td><td>1</td><td>9</td><td>32804</td><td>0</td><td>175</td><td>129</td><td>387</td><td>3775</td><td>37240</td><td>0</td><td>1</td><td>0</td><td>22</td><td>4</td><td>3</td></tr>\n",
       "<tr><td>AnaK</td><td>61945</td><td>8</td><td>14</td><td>35062</td><td>0</td><td>169</td><td>41</td><td>579</td><td>2630</td><td>38445</td><td>0</td><td>0</td><td>2</td><td>26</td><td>6</td><td>2</td></tr>\n",
       "<tr><td>Narnia</td><td>132339</td><td>2</td><td>5</td><td>36935</td><td>0</td><td>146</td><td>21</td><td>214</td><td>1956</td><td>39230</td><td>0</td><td>0</td><td>0</td><td>29</td><td>2</td><td>11</td></tr>\n",
       "<tr><td>OBrother</td><td>149781</td><td>4</td><td>5</td><td>33153</td><td>0</td><td>91</td><td>41</td><td>162</td><td>1298</td><td>34718</td><td>0</td><td>0</td><td>0</td><td>18</td><td>0</td><td>9</td></tr>\n",
       "<tr><td>StarTrek</td><td>33446</td><td>3</td><td>6</td><td>33581</td><td>0</td><td>102</td><td>8</td><td>123</td><td>1637</td><td>35426</td><td>0</td><td>0</td><td>0</td><td>16</td><td>4</td><td>5</td></tr>\n",
       "<tr><td>Catch22</td><td>150887</td><td>6</td><td>12</td><td>31697</td><td>0</td><td>258</td><td>144</td><td>156</td><td>1385</td><td>33614</td><td>0</td><td>0</td><td>1</td><td>10</td><td>4</td><td>11</td></tr>\n",
       "<tr><td>ScoobyDoo</td><td>161174</td><td>4</td><td>8</td><td>34577</td><td>0</td><td>36</td><td>2</td><td>43</td><td>997</td><td>35635</td><td>0</td><td>0</td><td>1</td><td>9</td><td>4</td><td>6</td></tr>\n",
       "<tr><td>MobyDick</td><td>85746</td><td>2</td><td>8</td><td>38752</td><td>0</td><td>65</td><td>7</td><td>81</td><td>1601</td><td>40460</td><td>0</td><td>2</td><td>1</td><td>18</td><td>5</td><td>20</td></tr>\n",
       "<tr><td>Othello</td><td>145729</td><td>2</td><td>5</td><td>33937</td><td>0</td><td>24</td><td>7</td><td>21</td><td>951</td><td>34908</td><td>0</td><td>0</td><td>0</td><td>18</td><td>9</td><td>5</td></tr>\n",
       "<tr><td>Alice</td><td>140594</td><td>4</td><td>7</td><td>36480</td><td>0</td><td>70</td><td>11</td><td>152</td><td>2510</td><td>39183</td><td>0</td><td>0</td><td>0</td><td>27</td><td>4</td><td>9</td></tr>\n",
       "<tr><td>Bandamanna</td><td>126115</td><td>1</td><td>4</td><td>26140</td><td>0</td><td>12</td><td>0</td><td>24</td><td>612</td><td>26761</td><td>0</td><td>2</td><td>0</td><td>20</td><td>1</td><td>4</td></tr>\n",
       "<tr><td>Sopranos</td><td>13927</td><td>2</td><td>4</td><td>34422</td><td>0</td><td>34</td><td>1</td><td>41</td><td>1594</td><td>36043</td><td>0</td><td>0</td><td>3</td><td>30</td><td>7</td><td>9</td></tr>\n",
       "<tr><td>Oz</td><td>137625</td><td>6</td><td>10</td><td>32606</td><td>0</td><td>21</td><td>8</td><td>25</td><td>766</td><td>33408</td><td>0</td><td>0</td><td>0</td><td>6</td><td>4</td><td>8</td></tr>\n",
       "<tr><td>HarryPotter</td><td>129237</td><td>4</td><td>7</td><td>26723</td><td>0</td><td>52</td><td>16</td><td>41</td><td>583</td><td>27381</td><td>0</td><td>0</td><td>0</td><td>25</td><td>1</td><td>8</td></tr>\n",
       "</table>"
      ],
      "text/plain": [
       "<Table length=16>\n",
       " SAGA name  NSAID   sat  low_z zq_-1  zq_0 ...  rm_1  rm_2  rm_3  rm_4  rm_5\n",
       "   str11    int32  int64 int64 int64 int64 ... int64 int64 int64 int64 int64\n",
       "----------- ------ ----- ----- ----- ----- ... ----- ----- ----- ----- -----\n",
       "  Gilgamesh 166313     2    11 33777     0 ...     0     0    22     3     8\n",
       "    Odyssey 147100    10    16 33856     0 ...     0     2    26     4     9\n",
       "       Dune 165536     1     9 32804     0 ...     1     0    22     4     3\n",
       "       AnaK  61945     8    14 35062     0 ...     0     2    26     6     2\n",
       "     Narnia 132339     2     5 36935     0 ...     0     0    29     2    11\n",
       "   OBrother 149781     4     5 33153     0 ...     0     0    18     0     9\n",
       "   StarTrek  33446     3     6 33581     0 ...     0     0    16     4     5\n",
       "    Catch22 150887     6    12 31697     0 ...     0     1    10     4    11\n",
       "  ScoobyDoo 161174     4     8 34577     0 ...     0     1     9     4     6\n",
       "   MobyDick  85746     2     8 38752     0 ...     2     1    18     5    20\n",
       "    Othello 145729     2     5 33937     0 ...     0     0    18     9     5\n",
       "      Alice 140594     4     7 36480     0 ...     0     0    27     4     9\n",
       " Bandamanna 126115     1     4 26140     0 ...     2     0    20     1     4\n",
       "   Sopranos  13927     2     4 34422     0 ...     0     3    30     7     9\n",
       "         Oz 137625     6    10 32606     0 ...     0     0     6     4     8\n",
       "HarryPotter 129237     4     7 26723     0 ...     0     0    25     1     8"
      ]
     },
     "execution_count": 7,
     "metadata": {},
     "output_type": "execute_result"
    }
   ],
   "source": [
    "get_counts(paper1_new_dr12)"
   ]
  },
  {
   "cell_type": "code",
   "execution_count": 8,
   "metadata": {},
   "outputs": [
    {
     "data": {
      "text/html": [
       "&lt;Table length=16&gt;\n",
       "<table id=\"table140262982005144\" class=\"table-striped table-bordered table-condensed\">\n",
       "<thead><tr><th>SAGA name</th><th>NSAID</th><th>sat</th><th>low_z</th><th>zq_-1</th><th>zq_0</th><th>zq_1</th><th>zq_2</th><th>zq_3</th><th>zq_4</th><th>rm_-1</th><th>rm_0</th><th>rm_1</th><th>rm_2</th><th>rm_3</th><th>rm_4</th><th>rm_5</th></tr></thead>\n",
       "<thead><tr><th>str11</th><th>int32</th><th>int64</th><th>int64</th><th>int64</th><th>int64</th><th>int64</th><th>int64</th><th>int64</th><th>int64</th><th>int64</th><th>int64</th><th>int64</th><th>int64</th><th>int64</th><th>int64</th><th>int64</th></tr></thead>\n",
       "<tr><td>Gilgamesh</td><td>166313</td><td>2</td><td>9</td><td>33739</td><td>0</td><td>105</td><td>33</td><td>464</td><td>2861</td><td>33960</td><td>0</td><td>21</td><td>145</td><td>1663</td><td>511</td><td>902</td></tr>\n",
       "<tr><td>Odyssey</td><td>147100</td><td>9</td><td>14</td><td>33834</td><td>0</td><td>120</td><td>51</td><td>297</td><td>2496</td><td>33236</td><td>0</td><td>8</td><td>150</td><td>2073</td><td>608</td><td>723</td></tr>\n",
       "<tr><td>Dune</td><td>165536</td><td>1</td><td>7</td><td>32670</td><td>0</td><td>162</td><td>118</td><td>384</td><td>3813</td><td>34281</td><td>0</td><td>42</td><td>130</td><td>1365</td><td>500</td><td>829</td></tr>\n",
       "<tr><td>AnaK</td><td>61945</td><td>3</td><td>6</td><td>34650</td><td>0</td><td>259</td><td>40</td><td>574</td><td>2769</td><td>34006</td><td>0</td><td>49</td><td>207</td><td>1937</td><td>1254</td><td>839</td></tr>\n",
       "<tr><td>Narnia</td><td>132339</td><td>2</td><td>4</td><td>37051</td><td>0</td><td>167</td><td>19</td><td>202</td><td>1784</td><td>35209</td><td>0</td><td>35</td><td>175</td><td>2145</td><td>850</td><td>809</td></tr>\n",
       "<tr><td>OBrother</td><td>149781</td><td>4</td><td>4</td><td>33147</td><td>0</td><td>78</td><td>37</td><td>157</td><td>1277</td><td>31276</td><td>0</td><td>7</td><td>97</td><td>2050</td><td>303</td><td>963</td></tr>\n",
       "<tr><td>StarTrek</td><td>33446</td><td>2</td><td>4</td><td>33586</td><td>0</td><td>102</td><td>8</td><td>119</td><td>1616</td><td>31399</td><td>0</td><td>31</td><td>37</td><td>2472</td><td>701</td><td>791</td></tr>\n",
       "<tr><td>Catch22</td><td>150887</td><td>6</td><td>10</td><td>31732</td><td>0</td><td>240</td><td>142</td><td>152</td><td>1372</td><td>30187</td><td>0</td><td>43</td><td>62</td><td>1592</td><td>533</td><td>1221</td></tr>\n",
       "<tr><td>ScoobyDoo</td><td>161174</td><td>4</td><td>7</td><td>34836</td><td>0</td><td>29</td><td>2</td><td>42</td><td>976</td><td>33189</td><td>0</td><td>19</td><td>55</td><td>1335</td><td>517</td><td>770</td></tr>\n",
       "<tr><td>MobyDick</td><td>85746</td><td>1</td><td>5</td><td>38705</td><td>0</td><td>59</td><td>7</td><td>74</td><td>1593</td><td>36906</td><td>0</td><td>41</td><td>54</td><td>1596</td><td>681</td><td>1160</td></tr>\n",
       "<tr><td>Othello</td><td>145729</td><td>2</td><td>4</td><td>33935</td><td>0</td><td>17</td><td>6</td><td>19</td><td>808</td><td>31941</td><td>0</td><td>15</td><td>66</td><td>1581</td><td>387</td><td>795</td></tr>\n",
       "<tr><td>Alice</td><td>140594</td><td>2</td><td>4</td><td>36380</td><td>0</td><td>69</td><td>10</td><td>149</td><td>2534</td><td>35958</td><td>0</td><td>17</td><td>135</td><td>1524</td><td>424</td><td>1084</td></tr>\n",
       "<tr><td>Bandamanna</td><td>126115</td><td>1</td><td>3</td><td>26052</td><td>0</td><td>60</td><td>0</td><td>22</td><td>636</td><td>23540</td><td>0</td><td>28</td><td>15</td><td>1881</td><td>343</td><td>963</td></tr>\n",
       "<tr><td>Sopranos</td><td>13927</td><td>1</td><td>2</td><td>34359</td><td>0</td><td>31</td><td>1</td><td>41</td><td>1631</td><td>32189</td><td>0</td><td>24</td><td>283</td><td>1808</td><td>643</td><td>1116</td></tr>\n",
       "<tr><td>Oz</td><td>137625</td><td>6</td><td>9</td><td>32748</td><td>0</td><td>20</td><td>8</td><td>24</td><td>741</td><td>30688</td><td>0</td><td>23</td><td>64</td><td>1375</td><td>459</td><td>932</td></tr>\n",
       "<tr><td>HarryPotter</td><td>129237</td><td>4</td><td>5</td><td>26652</td><td>0</td><td>60</td><td>16</td><td>41</td><td>582</td><td>24108</td><td>0</td><td>13</td><td>71</td><td>1699</td><td>399</td><td>1061</td></tr>\n",
       "</table>"
      ],
      "text/plain": [
       "<Table length=16>\n",
       " SAGA name  NSAID   sat  low_z zq_-1  zq_0 ...  rm_1  rm_2  rm_3  rm_4  rm_5\n",
       "   str11    int32  int64 int64 int64 int64 ... int64 int64 int64 int64 int64\n",
       "----------- ------ ----- ----- ----- ----- ... ----- ----- ----- ----- -----\n",
       "  Gilgamesh 166313     2     9 33739     0 ...    21   145  1663   511   902\n",
       "    Odyssey 147100     9    14 33834     0 ...     8   150  2073   608   723\n",
       "       Dune 165536     1     7 32670     0 ...    42   130  1365   500   829\n",
       "       AnaK  61945     3     6 34650     0 ...    49   207  1937  1254   839\n",
       "     Narnia 132339     2     4 37051     0 ...    35   175  2145   850   809\n",
       "   OBrother 149781     4     4 33147     0 ...     7    97  2050   303   963\n",
       "   StarTrek  33446     2     4 33586     0 ...    31    37  2472   701   791\n",
       "    Catch22 150887     6    10 31732     0 ...    43    62  1592   533  1221\n",
       "  ScoobyDoo 161174     4     7 34836     0 ...    19    55  1335   517   770\n",
       "   MobyDick  85746     1     5 38705     0 ...    41    54  1596   681  1160\n",
       "    Othello 145729     2     4 33935     0 ...    15    66  1581   387   795\n",
       "      Alice 140594     2     4 36380     0 ...    17   135  1524   424  1084\n",
       " Bandamanna 126115     1     3 26052     0 ...    28    15  1881   343   963\n",
       "   Sopranos  13927     1     2 34359     0 ...    24   283  1808   643  1116\n",
       "         Oz 137625     6     9 32748     0 ...    23    64  1375   459   932\n",
       "HarryPotter 129237     4     5 26652     0 ...    13    71  1699   399  1061"
      ]
     },
     "execution_count": 8,
     "metadata": {},
     "output_type": "execute_result"
    }
   ],
   "source": [
    "get_counts(paper1_new_dr14)"
   ]
  },
  {
   "cell_type": "markdown",
   "metadata": {},
   "source": [
    "## check satellites"
   ]
  },
  {
   "cell_type": "code",
   "execution_count": 9,
   "metadata": {
    "collapsed": true
   },
   "outputs": [],
   "source": [
    "host_idx = 3\n",
    "is_sat = (C.is_sat & C.is_clean & C.has_spec)"
   ]
  },
  {
   "cell_type": "code",
   "execution_count": 10,
   "metadata": {},
   "outputs": [
    {
     "data": {
      "text/html": [
       "&lt;Table length=3&gt;\n",
       "<table id=\"table140262977735760\" class=\"table-striped table-bordered table-condensed\">\n",
       "<thead><tr><th>OBJID</th><th>HOST_NSAID</th><th>RA</th><th>DEC</th><th>REMOVE</th><th>SATS</th><th>SPEC_Z</th><th>ZQUALITY</th><th>TELNAME</th><th>SPEC_REPEAT</th><th>r_mag</th><th>coord</th><th>ug</th><th>gr</th><th>ri</th><th>ug_err</th><th>gr_err</th><th>ri_err</th></tr></thead>\n",
       "<thead><tr><th></th><th></th><th></th><th></th><th></th><th></th><th></th><th></th><th></th><th></th><th></th><th>deg,deg</th><th></th><th></th><th></th><th></th><th></th><th></th></tr></thead>\n",
       "<thead><tr><th>int64</th><th>int64</th><th>float64</th><th>float64</th><th>int64</th><th>int64</th><th>float32</th><th>int64</th><th>str6</th><th>str48</th><th>float32</th><th>object</th><th>float32</th><th>float32</th><th>float32</th><th>float32</th><th>float32</th><th>float32</th></tr></thead>\n",
       "<tr><td>1237666408439939282</td><td>61945</td><td>354.350599991</td><td>0.390802769345</td><td>-1</td><td>1</td><td>0.00887051</td><td>4</td><td>NSA</td><td>SDSS+NSA</td><td>13.6617</td><td>354.35059999083205,0.3908027693448825</td><td>0.870279</td><td>0.405699</td><td>0.239671</td><td>0.0153288</td><td>0.00391624</td><td>0.00231464</td></tr>\n",
       "<tr><td>1237663277925204111</td><td>61945</td><td>354.195229736</td><td>0.62342377148</td><td>-1</td><td>1</td><td>0.00880544</td><td>4</td><td>NSA</td><td>SDSS+NSA</td><td>15.6154</td><td>354.1952297364415,0.6234237714801917</td><td>1.00401</td><td>0.414283</td><td>0.206417</td><td>0.0143609</td><td>0.00361622</td><td>0.00430413</td></tr>\n",
       "<tr><td>1237666408439677694</td><td>61945</td><td>353.778805283</td><td>0.301058523211</td><td>-1</td><td>1</td><td>0.008</td><td>3</td><td>MMT</td><td>MMT</td><td>21.2784</td><td>353.77880528268133,0.30105852321103627</td><td>0.476309</td><td>1.38735</td><td>0.58955</td><td>0.81189</td><td>0.209817</td><td>0.113035</td></tr>\n",
       "</table>"
      ],
      "text/plain": [
       "<Table length=3>\n",
       "       OBJID        HOST_NSAID       RA      ...   ug_err    gr_err     ri_err  \n",
       "                                             ...                                \n",
       "       int64          int64       float64    ...  float32   float32    float32  \n",
       "------------------- ---------- ------------- ... --------- ---------- ----------\n",
       "1237666408439939282      61945 354.350599991 ... 0.0153288 0.00391624 0.00231464\n",
       "1237663277925204111      61945 354.195229736 ... 0.0143609 0.00361622 0.00430413\n",
       "1237666408439677694      61945 353.778805283 ...   0.81189   0.209817   0.113035"
      ]
     },
     "execution_count": 10,
     "metadata": {},
     "output_type": "execute_result"
    }
   ],
   "source": [
    "is_sat.filter(paper1[host_idx])"
   ]
  },
  {
   "cell_type": "code",
   "execution_count": 11,
   "metadata": {},
   "outputs": [
    {
     "data": {
      "text/html": [
       "&lt;Table length=8&gt;\n",
       "<table id=\"table140262979279784\" class=\"table-striped table-bordered table-condensed\">\n",
       "<thead><tr><th>OBJID</th><th>HOST_NSAID</th><th>RA</th><th>DEC</th><th>REMOVE</th><th>SATS</th><th>SPEC_Z</th><th>ZQUALITY</th><th>TELNAME</th><th>SPEC_REPEAT</th><th>r_mag</th><th>coord</th><th>ug</th><th>gr</th><th>ri</th><th>ug_err</th><th>gr_err</th><th>ri_err</th></tr></thead>\n",
       "<thead><tr><th></th><th></th><th></th><th></th><th></th><th></th><th></th><th></th><th></th><th></th><th></th><th>deg,deg</th><th></th><th></th><th></th><th></th><th></th><th></th></tr></thead>\n",
       "<thead><tr><th>int64</th><th>int32</th><th>float64</th><th>float64</th><th>int16</th><th>int16</th><th>float32</th><th>int16</th><th>str6</th><th>str48</th><th>float32</th><th>object</th><th>float32</th><th>float32</th><th>float32</th><th>float32</th><th>float32</th><th>float32</th></tr></thead>\n",
       "<tr><td>1237663277925204111</td><td>61945</td><td>354.195229736</td><td>0.62342377148</td><td>-1</td><td>1</td><td>0.008789</td><td>4</td><td>MMT</td><td>SDSS+MMT+AAT+NSA</td><td>15.6154</td><td>354.1952297364415,0.6234237714801917</td><td>1.00401</td><td>0.414283</td><td>0.206417</td><td>0.0143609</td><td>0.00361622</td><td>0.00430413</td></tr>\n",
       "<tr><td>1237666408439873612</td><td>61945</td><td>354.116125091</td><td>0.287918010119</td><td>-1</td><td>1</td><td>0.008995</td><td>4</td><td>AAT</td><td>AAT</td><td>20.6799</td><td>354.1161250910807,0.2879180101190925</td><td>-0.236053</td><td>0.22813</td><td>-0.600939</td><td>0.101184</td><td>0.0578393</td><td>0.104102</td></tr>\n",
       "<tr><td>1237666408439873555</td><td>61945</td><td>354.128282396</td><td>0.294928659376</td><td>-1</td><td>1</td><td>0.00889738</td><td>4</td><td>SDSS</td><td>SDSS</td><td>24.7077</td><td>354.12828239564715,0.29492865937609997</td><td>0.657375</td><td>-6.79342</td><td>0.417427</td><td>0.0489569</td><td>4.74704</td><td>6.36414</td></tr>\n",
       "<tr><td>1237666408439939273</td><td>61945</td><td>354.359231933</td><td>0.387757626686</td><td>-1</td><td>1</td><td>0.009115</td><td>4</td><td>MMT</td><td>SDSS+MMT+AAT</td><td>18.4048</td><td>354.3592319332698,0.38775762668616</td><td>0.30201</td><td>-0.0517807</td><td>-0.5721</td><td>0.0505896</td><td>0.023622</td><td>0.0499384</td></tr>\n",
       "<tr><td>1237666408439677694</td><td>61945</td><td>353.778805283</td><td>0.301058523211</td><td>-1</td><td>1</td><td>0.008</td><td>3</td><td>MMT</td><td>MMT</td><td>21.2784</td><td>353.77880528268133,0.30105852321103627</td><td>0.476309</td><td>1.38735</td><td>0.58955</td><td>0.81189</td><td>0.209817</td><td>0.113035</td></tr>\n",
       "<tr><td>1237666408439939302</td><td>61945</td><td>354.353927451</td><td>0.383455165908</td><td>-1</td><td>1</td><td>0.00911429</td><td>4</td><td>SDSS</td><td>SDSS</td><td>22.1533</td><td>354.3539274510332,0.3834551659076629</td><td>-0.204454</td><td>-0.0589371</td><td>0.333857</td><td>0.292009</td><td>0.206224</td><td>0.252724</td></tr>\n",
       "<tr><td>1237666408439939279</td><td>61945</td><td>354.340218967</td><td>0.39146506493</td><td>-1</td><td>1</td><td>0.00884914</td><td>4</td><td>SDSS</td><td>SDSS+AAT</td><td>17.3618</td><td>354.34021896734987,0.39146506493004757</td><td>0.420967</td><td>0.0300541</td><td>-0.0157146</td><td>0.0698504</td><td>0.028994</td><td>0.0401843</td></tr>\n",
       "<tr><td>1237666408439939282</td><td>61945</td><td>354.350599991</td><td>0.390802769345</td><td>-1</td><td>1</td><td>0.008886</td><td>4</td><td>MMT</td><td>SDSS+MMT+NSA</td><td>13.6617</td><td>354.35059999083205,0.3908027693448825</td><td>0.870279</td><td>0.4057</td><td>0.23967</td><td>0.0153288</td><td>0.00391624</td><td>0.00231464</td></tr>\n",
       "</table>"
      ],
      "text/plain": [
       "<Table length=8>\n",
       "       OBJID        HOST_NSAID       RA      ...   ug_err    gr_err     ri_err  \n",
       "                                             ...                                \n",
       "       int64          int32       float64    ...  float32   float32    float32  \n",
       "------------------- ---------- ------------- ... --------- ---------- ----------\n",
       "1237663277925204111      61945 354.195229736 ... 0.0143609 0.00361622 0.00430413\n",
       "1237666408439873612      61945 354.116125091 ...  0.101184  0.0578393   0.104102\n",
       "1237666408439873555      61945 354.128282396 ... 0.0489569    4.74704    6.36414\n",
       "1237666408439939273      61945 354.359231933 ... 0.0505896   0.023622  0.0499384\n",
       "1237666408439677694      61945 353.778805283 ...   0.81189   0.209817   0.113035\n",
       "1237666408439939302      61945 354.353927451 ...  0.292009   0.206224   0.252724\n",
       "1237666408439939279      61945 354.340218967 ... 0.0698504   0.028994  0.0401843\n",
       "1237666408439939282      61945 354.350599991 ... 0.0153288 0.00391624 0.00231464"
      ]
     },
     "execution_count": 11,
     "metadata": {},
     "output_type": "execute_result"
    }
   ],
   "source": [
    "is_sat.filter(paper1_new_dr12[host_idx])"
   ]
  },
  {
   "cell_type": "code",
   "execution_count": 12,
   "metadata": {},
   "outputs": [
    {
     "data": {
      "text/html": [
       "&lt;Table length=3&gt;\n",
       "<table id=\"table140262981578424\" class=\"table-striped table-bordered table-condensed\">\n",
       "<thead><tr><th>OBJID</th><th>HOST_NSAID</th><th>RA</th><th>DEC</th><th>REMOVE</th><th>SATS</th><th>SPEC_Z</th><th>ZQUALITY</th><th>TELNAME</th><th>SPEC_REPEAT</th><th>r_mag</th><th>coord</th><th>ug</th><th>gr</th><th>ri</th><th>ug_err</th><th>gr_err</th><th>ri_err</th></tr></thead>\n",
       "<thead><tr><th></th><th></th><th></th><th></th><th></th><th></th><th></th><th></th><th></th><th></th><th></th><th>deg,deg</th><th></th><th></th><th></th><th></th><th></th><th></th></tr></thead>\n",
       "<thead><tr><th>int64</th><th>int32</th><th>float64</th><th>float64</th><th>int16</th><th>int16</th><th>float32</th><th>int16</th><th>str6</th><th>str48</th><th>float32</th><th>object</th><th>float32</th><th>float32</th><th>float32</th><th>float32</th><th>float32</th><th>float32</th></tr></thead>\n",
       "<tr><td>1237666408439677694</td><td>61945</td><td>353.778805282</td><td>0.301058517059</td><td>-1</td><td>1</td><td>0.008</td><td>3</td><td>MMT</td><td>MMT</td><td>21.3007</td><td>353.7788052821856,0.3010585170592043</td><td>0.478346</td><td>1.38623</td><td>0.589331</td><td>0.812941</td><td>0.209759</td><td>0.113029</td></tr>\n",
       "<tr><td>1237666408439939282</td><td>61945</td><td>354.350599991</td><td>0.390802769345</td><td>-1</td><td>1</td><td>0.008886</td><td>4</td><td>MMT</td><td>MMT+NSA+SDSS</td><td>13.6796</td><td>354.35059999083205,0.3908027693448825</td><td>0.886654</td><td>0.406622</td><td>0.242669</td><td>0.0153288</td><td>0.00391624</td><td>0.00231464</td></tr>\n",
       "<tr><td>1237663277925204111</td><td>61945</td><td>354.195229736</td><td>0.62342377148</td><td>-1</td><td>1</td><td>0.008789</td><td>4</td><td>MMT</td><td>MMT+AAT+SDSS+NSA</td><td>15.6313</td><td>354.1952297364415,0.6234237714801917</td><td>1.01855</td><td>0.415103</td><td>0.209079</td><td>0.0143609</td><td>0.00361622</td><td>0.00430413</td></tr>\n",
       "</table>"
      ],
      "text/plain": [
       "<Table length=3>\n",
       "       OBJID        HOST_NSAID       RA      ...   ug_err    gr_err     ri_err  \n",
       "                                             ...                                \n",
       "       int64          int32       float64    ...  float32   float32    float32  \n",
       "------------------- ---------- ------------- ... --------- ---------- ----------\n",
       "1237666408439677694      61945 353.778805282 ...  0.812941   0.209759   0.113029\n",
       "1237666408439939282      61945 354.350599991 ... 0.0153288 0.00391624 0.00231464\n",
       "1237663277925204111      61945 354.195229736 ... 0.0143609 0.00361622 0.00430413"
      ]
     },
     "execution_count": 12,
     "metadata": {},
     "output_type": "execute_result"
    }
   ],
   "source": [
    "is_sat.filter(paper1_new_dr14[host_idx])"
   ]
  },
  {
   "cell_type": "code",
   "execution_count": null,
   "metadata": {
    "collapsed": true
   },
   "outputs": [],
   "source": []
  }
 ],
 "metadata": {
  "kernelspec": {
   "display_name": "Python 3",
   "language": "python",
   "name": "python3"
  },
  "language_info": {
   "codemirror_mode": {
    "name": "ipython",
    "version": 3
   },
   "file_extension": ".py",
   "mimetype": "text/x-python",
   "name": "python",
   "nbconvert_exporter": "python",
   "pygments_lexer": "ipython3",
   "version": "3.6.2"
  }
 },
 "nbformat": 4,
 "nbformat_minor": 2
}
