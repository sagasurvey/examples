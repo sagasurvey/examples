{
 "cells": [
  {
   "cell_type": "code",
   "execution_count": 2,
   "metadata": {},
   "outputs": [
    {
     "name": "stdout",
     "output_type": "stream",
     "text": [
      "SAGA code version 0.5.0\n"
     ]
    }
   ],
   "source": [
    "# import SAGA code\n",
    "\n",
    "import SAGA\n",
    "from SAGA import ObjectCuts as C\n",
    "from SAGA.utils import *\n",
    "\n",
    "print('SAGA code version', SAGA.__version__)"
   ]
  },
  {
   "cell_type": "code",
   "execution_count": 3,
   "metadata": {
    "collapsed": true
   },
   "outputs": [],
   "source": [
    "# import other modules\n",
    "\n",
    "from collections import defaultdict\n",
    "from astropy.table import Table, vstack\n",
    "from astropy.coordinates import SkyCoord\n",
    "from easyquery import Query"
   ]
  },
  {
   "cell_type": "code",
   "execution_count": 4,
   "metadata": {},
   "outputs": [
    {
     "name": "stdout",
     "output_type": "stream",
     "text": [
      "Downloading https://docs.google.com/spreadsheets/d/1b3k2eyFjHFDtmHce1xi6JKuj3ATOWYduTBFftx5oPp8/export?format=csv&gid=1136984451 [Done]\n",
      "Downloading https://docs.google.com/spreadsheets/d/1GJYuhqfKeuJr-IyyGF_NDLb_ezL6zBiX2aeZFHHPr_s/export?format=csv&gid=0 [Done]\n",
      "Downloading https://docs.google.com/spreadsheets/d/1b3k2eyFjHFDtmHce1xi6JKuj3ATOWYduTBFftx5oPp8/export?format=csv&gid=1136984451 [Done]\n",
      "Downloading https://docs.google.com/spreadsheets/d/1GJYuhqfKeuJr-IyyGF_NDLb_ezL6zBiX2aeZFHHPr_s/export?format=csv&gid=0 [Done]\n",
      "Downloading https://docs.google.com/spreadsheets/d/1b3k2eyFjHFDtmHce1xi6JKuj3ATOWYduTBFftx5oPp8/export?format=csv&gid=1136984451 [Done]\n",
      "Downloading https://docs.google.com/spreadsheets/d/1GJYuhqfKeuJr-IyyGF_NDLb_ezL6zBiX2aeZFHHPr_s/export?format=csv&gid=0 [Done]\n"
     ]
    }
   ],
   "source": [
    "# initialize SAGA objects (Database, HostCatalog, ObjectCatalog)\n",
    "# NOTE: change the path of `root_dir` to your SAGA dropbox path\n",
    "\n",
    "saga_database = SAGA.Database(root_dir='/home/yymao/Dropbox/Academia/Collaborations/SAGA')\n",
    "\n",
    "saga_database_dr12 = SAGA.Database()\n",
    "saga_database_dr12.base_file_path_pattern = '/home/yymao/Documents/Research/SAGA/new_base_catalogs/base_dr12_nsa{}.fits.gz'\n",
    "\n",
    "saga_database_dr14 = SAGA.Database()\n",
    "saga_database_dr14.base_file_path_pattern = '/home/yymao/Documents/Research/SAGA/new_base_catalogs/base_dr14_nsa{}.fits.gz'\n",
    "\n",
    "saga_object_catalog = SAGA.ObjectCatalog(saga_database)\n",
    "saga_object_catalog_dr12 = SAGA.ObjectCatalog(saga_database_dr12)\n",
    "saga_object_catalog_dr14 = SAGA.ObjectCatalog(saga_database_dr14)\n",
    "\n",
    "saga_host_catalog = SAGA.HostCatalog(saga_database)"
   ]
  },
  {
   "cell_type": "code",
   "execution_count": 34,
   "metadata": {
    "collapsed": true
   },
   "outputs": [],
   "source": [
    "is_sat = (C.is_sat & C.is_clean)\n",
    "is_lowz = (C.is_low_z & C.is_clean & C.has_spec)\n",
    "\n",
    "def get_counts(base_list):\n",
    "    data = defaultdict(list)\n",
    "\n",
    "    for t in base_list:\n",
    "        host_id = t['HOST_NSAID'][0]\n",
    "\n",
    "        data['SAGA name'].append(saga_host_catalog.id_to_name(host_id))\n",
    "        data['NSAID'].append(host_id)\n",
    "        \n",
    "        data['sat'].append(is_sat.count(t))\n",
    "        data['low_z'].append(is_lowz.count(t))\n",
    "        data['total'].append(len(t))\n",
    "\n",
    "        for i in (-1, 0, 1, 2, 3, 4):\n",
    "            data['zq_{}'.format(i)].append(Query('ZQUALITY=={}'.format(i)).count(t))\n",
    "\n",
    "        for i in (-1, 0, 1, 2, 3, 4, 5):\n",
    "            data['rm_{}'.format(i)].append(Query('REMOVE=={}'.format(i)).count(t))\n",
    "\n",
    "    return Table(data)"
   ]
  },
  {
   "cell_type": "markdown",
   "metadata": {},
   "source": [
    "## load base catalogs"
   ]
  },
  {
   "cell_type": "code",
   "execution_count": 31,
   "metadata": {},
   "outputs": [],
   "source": [
    "# specify columns to load\n",
    "columns = 'OBJID HOST_NSAID RA DEC SPEC_Z REMOVE SATS ZQUALITY TELNAME SPEC_REPEAT r_mag OBJ_NSAID coord'.split()\n",
    "#columns.extend(get_sdss_colors())\n",
    "#columns.extend(map('{}_err'.format, get_sdss_colors()))\n",
    "\n",
    "cuts = C.is_galaxy & C.fibermag_r_cut\n",
    "\n",
    "# load base catalogs (will take a while)\n",
    "catalogs_orig = saga_object_catalog.load(hosts='paper1', cuts=cuts, columns=columns, return_as='list')\n",
    "catalogs_dr12 = saga_object_catalog_dr12.load(hosts='paper1', cuts=cuts, columns=columns, return_as='list')\n",
    "catalogs_dr14 = saga_object_catalog_dr14.load(hosts='paper1', cuts=cuts, columns=columns, return_as='list')"
   ]
  },
  {
   "cell_type": "markdown",
   "metadata": {},
   "source": [
    "## tables of counts"
   ]
  },
  {
   "cell_type": "code",
   "execution_count": 35,
   "metadata": {},
   "outputs": [
    {
     "data": {
      "text/html": [
       "&lt;Table length=16&gt;\n",
       "<table id=\"table140597197539200\" class=\"table-striped table-bordered table-condensed\">\n",
       "<thead><tr><th>SAGA name</th><th>NSAID</th><th>sat</th><th>low_z</th><th>total</th><th>zq_-1</th><th>zq_0</th><th>zq_1</th><th>zq_2</th><th>zq_3</th><th>zq_4</th><th>rm_-1</th><th>rm_0</th><th>rm_1</th><th>rm_2</th><th>rm_3</th><th>rm_4</th><th>rm_5</th></tr></thead>\n",
       "<thead><tr><th>str11</th><th>int64</th><th>int64</th><th>int64</th><th>int64</th><th>int64</th><th>int64</th><th>int64</th><th>int64</th><th>int64</th><th>int64</th><th>int64</th><th>int64</th><th>int64</th><th>int64</th><th>int64</th><th>int64</th><th>int64</th></tr></thead>\n",
       "<tr><td>Gilgamesh</td><td>166313</td><td>2</td><td>9</td><td>37300</td><td>33770</td><td>0</td><td>109</td><td>37</td><td>474</td><td>2910</td><td>34426</td><td>0</td><td>11</td><td>154</td><td>1687</td><td>116</td><td>906</td></tr>\n",
       "<tr><td>Odyssey</td><td>147100</td><td>9</td><td>14</td><td>36854</td><td>33868</td><td>0</td><td>117</td><td>53</td><td>307</td><td>2509</td><td>33723</td><td>0</td><td>4</td><td>153</td><td>2105</td><td>145</td><td>724</td></tr>\n",
       "<tr><td>Dune</td><td>165536</td><td>1</td><td>8</td><td>37270</td><td>32808</td><td>0</td><td>171</td><td>128</td><td>388</td><td>3775</td><td>34734</td><td>0</td><td>17</td><td>155</td><td>1389</td><td>141</td><td>834</td></tr>\n",
       "<tr><td>AnaK</td><td>61945</td><td>3</td><td>7</td><td>38481</td><td>35070</td><td>0</td><td>166</td><td>41</td><td>573</td><td>2631</td><td>35281</td><td>0</td><td>18</td><td>235</td><td>1963</td><td>139</td><td>845</td></tr>\n",
       "<tr><td>Narnia</td><td>132339</td><td>2</td><td>5</td><td>39272</td><td>36935</td><td>0</td><td>146</td><td>20</td><td>212</td><td>1959</td><td>35998</td><td>0</td><td>6</td><td>203</td><td>2150</td><td>104</td><td>811</td></tr>\n",
       "<tr><td>OBrother</td><td>149781</td><td>4</td><td>4</td><td>34745</td><td>33147</td><td>0</td><td>91</td><td>41</td><td>162</td><td>1304</td><td>31563</td><td>0</td><td>6</td><td>98</td><td>2062</td><td>47</td><td>969</td></tr>\n",
       "<tr><td>StarTrek</td><td>33446</td><td>2</td><td>5</td><td>35451</td><td>33578</td><td>0</td><td>102</td><td>8</td><td>124</td><td>1639</td><td>32015</td><td>0</td><td>9</td><td>55</td><td>2478</td><td>102</td><td>792</td></tr>\n",
       "<tr><td>Catch22</td><td>150887</td><td>6</td><td>11</td><td>33640</td><td>31694</td><td>0</td><td>254</td><td>144</td><td>156</td><td>1392</td><td>30641</td><td>0</td><td>19</td><td>80</td><td>1596</td><td>84</td><td>1220</td></tr>\n",
       "<tr><td>ScoobyDoo</td><td>161174</td><td>4</td><td>8</td><td>35655</td><td>34573</td><td>0</td><td>37</td><td>2</td><td>43</td><td>1000</td><td>33441</td><td>0</td><td>2</td><td>71</td><td>1316</td><td>63</td><td>762</td></tr>\n",
       "<tr><td>MobyDick</td><td>85746</td><td>1</td><td>6</td><td>40506</td><td>38750</td><td>0</td><td>67</td><td>7</td><td>80</td><td>1602</td><td>37574</td><td>0</td><td>24</td><td>70</td><td>1606</td><td>72</td><td>1160</td></tr>\n",
       "<tr><td>Othello</td><td>145729</td><td>2</td><td>4</td><td>34941</td><td>33937</td><td>0</td><td>24</td><td>7</td><td>21</td><td>952</td><td>32423</td><td>0</td><td>8</td><td>74</td><td>1600</td><td>36</td><td>800</td></tr>\n",
       "<tr><td>Alice</td><td>140594</td><td>2</td><td>4</td><td>39222</td><td>36470</td><td>0</td><td>71</td><td>11</td><td>151</td><td>2519</td><td>36332</td><td>0</td><td>9</td><td>142</td><td>1542</td><td>111</td><td>1086</td></tr>\n",
       "<tr><td>Bandamanna</td><td>126115</td><td>1</td><td>4</td><td>26788</td><td>26140</td><td>0</td><td>12</td><td>0</td><td>24</td><td>612</td><td>23871</td><td>0</td><td>16</td><td>26</td><td>1890</td><td>24</td><td>961</td></tr>\n",
       "<tr><td>Sopranos</td><td>13927</td><td>0</td><td>2</td><td>36092</td><td>34422</td><td>0</td><td>34</td><td>1</td><td>41</td><td>1594</td><td>32738</td><td>0</td><td>6</td><td>291</td><td>1816</td><td>123</td><td>1118</td></tr>\n",
       "<tr><td>Oz</td><td>137625</td><td>5</td><td>9</td><td>33426</td><td>32607</td><td>0</td><td>21</td><td>8</td><td>25</td><td>765</td><td>31018</td><td>0</td><td>9</td><td>78</td><td>1358</td><td>40</td><td>923</td></tr>\n",
       "<tr><td>HarryPotter</td><td>129237</td><td>4</td><td>6</td><td>27415</td><td>26723</td><td>0</td><td>52</td><td>16</td><td>41</td><td>583</td><td>24554</td><td>0</td><td>10</td><td>59</td><td>1708</td><td>23</td><td>1061</td></tr>\n",
       "</table>"
      ],
      "text/plain": [
       "<Table length=16>\n",
       " SAGA name  NSAID   sat  low_z total zq_-1 ...  rm_1  rm_2  rm_3  rm_4  rm_5\n",
       "   str11    int64  int64 int64 int64 int64 ... int64 int64 int64 int64 int64\n",
       "----------- ------ ----- ----- ----- ----- ... ----- ----- ----- ----- -----\n",
       "  Gilgamesh 166313     2     9 37300 33770 ...    11   154  1687   116   906\n",
       "    Odyssey 147100     9    14 36854 33868 ...     4   153  2105   145   724\n",
       "       Dune 165536     1     8 37270 32808 ...    17   155  1389   141   834\n",
       "       AnaK  61945     3     7 38481 35070 ...    18   235  1963   139   845\n",
       "     Narnia 132339     2     5 39272 36935 ...     6   203  2150   104   811\n",
       "   OBrother 149781     4     4 34745 33147 ...     6    98  2062    47   969\n",
       "   StarTrek  33446     2     5 35451 33578 ...     9    55  2478   102   792\n",
       "    Catch22 150887     6    11 33640 31694 ...    19    80  1596    84  1220\n",
       "  ScoobyDoo 161174     4     8 35655 34573 ...     2    71  1316    63   762\n",
       "   MobyDick  85746     1     6 40506 38750 ...    24    70  1606    72  1160\n",
       "    Othello 145729     2     4 34941 33937 ...     8    74  1600    36   800\n",
       "      Alice 140594     2     4 39222 36470 ...     9   142  1542   111  1086\n",
       " Bandamanna 126115     1     4 26788 26140 ...    16    26  1890    24   961\n",
       "   Sopranos  13927     0     2 36092 34422 ...     6   291  1816   123  1118\n",
       "         Oz 137625     5     9 33426 32607 ...     9    78  1358    40   923\n",
       "HarryPotter 129237     4     6 27415 26723 ...    10    59  1708    23  1061"
      ]
     },
     "execution_count": 35,
     "metadata": {},
     "output_type": "execute_result"
    }
   ],
   "source": [
    "# Current base catalogs\n",
    "get_counts(catalogs_orig)"
   ]
  },
  {
   "cell_type": "code",
   "execution_count": 36,
   "metadata": {},
   "outputs": [
    {
     "data": {
      "text/html": [
       "&lt;Table length=16&gt;\n",
       "<table id=\"table140597193274704\" class=\"table-striped table-bordered table-condensed\">\n",
       "<thead><tr><th>SAGA name</th><th>NSAID</th><th>sat</th><th>low_z</th><th>total</th><th>zq_-1</th><th>zq_0</th><th>zq_1</th><th>zq_2</th><th>zq_3</th><th>zq_4</th><th>rm_-1</th><th>rm_0</th><th>rm_1</th><th>rm_2</th><th>rm_3</th><th>rm_4</th><th>rm_5</th></tr></thead>\n",
       "<thead><tr><th>str11</th><th>int32</th><th>int64</th><th>int64</th><th>int64</th><th>int64</th><th>int64</th><th>int64</th><th>int64</th><th>int64</th><th>int64</th><th>int64</th><th>int64</th><th>int64</th><th>int64</th><th>int64</th><th>int64</th><th>int64</th></tr></thead>\n",
       "<tr><td>Gilgamesh</td><td>166313</td><td>2</td><td>9</td><td>37300</td><td>33772</td><td>0</td><td>110</td><td>36</td><td>474</td><td>2908</td><td>34436</td><td>0</td><td>11</td><td>155</td><td>1680</td><td>112</td><td>906</td></tr>\n",
       "<tr><td>Odyssey</td><td>147100</td><td>9</td><td>15</td><td>36855</td><td>33853</td><td>0</td><td>118</td><td>54</td><td>310</td><td>2520</td><td>33733</td><td>0</td><td>4</td><td>158</td><td>2088</td><td>148</td><td>724</td></tr>\n",
       "<tr><td>Dune</td><td>165536</td><td>1</td><td>8</td><td>37270</td><td>32804</td><td>0</td><td>175</td><td>129</td><td>387</td><td>3775</td><td>34741</td><td>0</td><td>16</td><td>155</td><td>1381</td><td>143</td><td>834</td></tr>\n",
       "<tr><td>AnaK</td><td>61945</td><td>3</td><td>7</td><td>38481</td><td>35062</td><td>0</td><td>169</td><td>41</td><td>577</td><td>2632</td><td>35272</td><td>0</td><td>21</td><td>235</td><td>1971</td><td>137</td><td>845</td></tr>\n",
       "<tr><td>Narnia</td><td>132339</td><td>2</td><td>5</td><td>39272</td><td>36933</td><td>0</td><td>146</td><td>20</td><td>214</td><td>1959</td><td>35998</td><td>0</td><td>6</td><td>209</td><td>2149</td><td>99</td><td>811</td></tr>\n",
       "<tr><td>OBrother</td><td>149781</td><td>4</td><td>5</td><td>34745</td><td>33152</td><td>0</td><td>90</td><td>41</td><td>162</td><td>1300</td><td>31557</td><td>0</td><td>6</td><td>102</td><td>2064</td><td>47</td><td>969</td></tr>\n",
       "<tr><td>StarTrek</td><td>33446</td><td>2</td><td>5</td><td>35451</td><td>33579</td><td>0</td><td>102</td><td>8</td><td>123</td><td>1639</td><td>32017</td><td>0</td><td>11</td><td>56</td><td>2477</td><td>98</td><td>792</td></tr>\n",
       "<tr><td>Catch22</td><td>150887</td><td>6</td><td>11</td><td>33640</td><td>31696</td><td>0</td><td>258</td><td>144</td><td>156</td><td>1386</td><td>30651</td><td>0</td><td>24</td><td>80</td><td>1594</td><td>71</td><td>1220</td></tr>\n",
       "<tr><td>ScoobyDoo</td><td>161174</td><td>4</td><td>8</td><td>35655</td><td>34576</td><td>0</td><td>36</td><td>2</td><td>43</td><td>998</td><td>33439</td><td>0</td><td>2</td><td>71</td><td>1320</td><td>61</td><td>762</td></tr>\n",
       "<tr><td>MobyDick</td><td>85746</td><td>1</td><td>6</td><td>40506</td><td>38750</td><td>0</td><td>66</td><td>7</td><td>81</td><td>1602</td><td>37576</td><td>0</td><td>24</td><td>73</td><td>1604</td><td>69</td><td>1160</td></tr>\n",
       "<tr><td>Othello</td><td>145729</td><td>2</td><td>5</td><td>34940</td><td>33937</td><td>0</td><td>24</td><td>7</td><td>21</td><td>951</td><td>32425</td><td>0</td><td>8</td><td>73</td><td>1599</td><td>35</td><td>800</td></tr>\n",
       "<tr><td>Alice</td><td>140594</td><td>2</td><td>4</td><td>39223</td><td>36482</td><td>0</td><td>70</td><td>11</td><td>153</td><td>2507</td><td>36330</td><td>0</td><td>10</td><td>143</td><td>1542</td><td>112</td><td>1086</td></tr>\n",
       "<tr><td>Bandamanna</td><td>126115</td><td>1</td><td>4</td><td>26788</td><td>26140</td><td>0</td><td>12</td><td>0</td><td>24</td><td>612</td><td>23869</td><td>0</td><td>16</td><td>26</td><td>1892</td><td>24</td><td>961</td></tr>\n",
       "<tr><td>Sopranos</td><td>13927</td><td>0</td><td>2</td><td>36092</td><td>34426</td><td>0</td><td>34</td><td>1</td><td>41</td><td>1590</td><td>32735</td><td>0</td><td>14</td><td>292</td><td>1818</td><td>115</td><td>1118</td></tr>\n",
       "<tr><td>Oz</td><td>137625</td><td>5</td><td>9</td><td>33426</td><td>32606</td><td>0</td><td>21</td><td>8</td><td>25</td><td>766</td><td>31018</td><td>0</td><td>9</td><td>80</td><td>1358</td><td>38</td><td>923</td></tr>\n",
       "<tr><td>HarryPotter</td><td>129237</td><td>4</td><td>6</td><td>27415</td><td>26724</td><td>0</td><td>52</td><td>16</td><td>41</td><td>582</td><td>24538</td><td>0</td><td>10</td><td>73</td><td>1710</td><td>23</td><td>1061</td></tr>\n",
       "</table>"
      ],
      "text/plain": [
       "<Table length=16>\n",
       " SAGA name  NSAID   sat  low_z total zq_-1 ...  rm_1  rm_2  rm_3  rm_4  rm_5\n",
       "   str11    int32  int64 int64 int64 int64 ... int64 int64 int64 int64 int64\n",
       "----------- ------ ----- ----- ----- ----- ... ----- ----- ----- ----- -----\n",
       "  Gilgamesh 166313     2     9 37300 33772 ...    11   155  1680   112   906\n",
       "    Odyssey 147100     9    15 36855 33853 ...     4   158  2088   148   724\n",
       "       Dune 165536     1     8 37270 32804 ...    16   155  1381   143   834\n",
       "       AnaK  61945     3     7 38481 35062 ...    21   235  1971   137   845\n",
       "     Narnia 132339     2     5 39272 36933 ...     6   209  2149    99   811\n",
       "   OBrother 149781     4     5 34745 33152 ...     6   102  2064    47   969\n",
       "   StarTrek  33446     2     5 35451 33579 ...    11    56  2477    98   792\n",
       "    Catch22 150887     6    11 33640 31696 ...    24    80  1594    71  1220\n",
       "  ScoobyDoo 161174     4     8 35655 34576 ...     2    71  1320    61   762\n",
       "   MobyDick  85746     1     6 40506 38750 ...    24    73  1604    69  1160\n",
       "    Othello 145729     2     5 34940 33937 ...     8    73  1599    35   800\n",
       "      Alice 140594     2     4 39223 36482 ...    10   143  1542   112  1086\n",
       " Bandamanna 126115     1     4 26788 26140 ...    16    26  1892    24   961\n",
       "   Sopranos  13927     0     2 36092 34426 ...    14   292  1818   115  1118\n",
       "         Oz 137625     5     9 33426 32606 ...     9    80  1358    38   923\n",
       "HarryPotter 129237     4     6 27415 26724 ...    10    73  1710    23  1061"
      ]
     },
     "execution_count": 36,
     "metadata": {},
     "output_type": "execute_result"
    }
   ],
   "source": [
    "# new base catalogs with DR12\n",
    "get_counts(catalogs_dr12)"
   ]
  },
  {
   "cell_type": "code",
   "execution_count": 37,
   "metadata": {},
   "outputs": [
    {
     "data": {
      "text/html": [
       "&lt;Table length=16&gt;\n",
       "<table id=\"table140597198348976\" class=\"table-striped table-bordered table-condensed\">\n",
       "<thead><tr><th>SAGA name</th><th>NSAID</th><th>sat</th><th>low_z</th><th>total</th><th>zq_-1</th><th>zq_0</th><th>zq_1</th><th>zq_2</th><th>zq_3</th><th>zq_4</th><th>rm_-1</th><th>rm_0</th><th>rm_1</th><th>rm_2</th><th>rm_3</th><th>rm_4</th><th>rm_5</th></tr></thead>\n",
       "<thead><tr><th>str11</th><th>int32</th><th>int64</th><th>int64</th><th>int64</th><th>int64</th><th>int64</th><th>int64</th><th>int64</th><th>int64</th><th>int64</th><th>int64</th><th>int64</th><th>int64</th><th>int64</th><th>int64</th><th>int64</th><th>int64</th></tr></thead>\n",
       "<tr><td>Gilgamesh</td><td>166313</td><td>2</td><td>9</td><td>37202</td><td>33710</td><td>0</td><td>108</td><td>37</td><td>476</td><td>2871</td><td>33960</td><td>0</td><td>11</td><td>154</td><td>1664</td><td>511</td><td>902</td></tr>\n",
       "<tr><td>Odyssey</td><td>147100</td><td>9</td><td>15</td><td>36798</td><td>33839</td><td>0</td><td>120</td><td>54</td><td>307</td><td>2478</td><td>33236</td><td>0</td><td>4</td><td>154</td><td>2073</td><td>608</td><td>723</td></tr>\n",
       "<tr><td>Dune</td><td>165536</td><td>1</td><td>8</td><td>37147</td><td>32696</td><td>0</td><td>170</td><td>129</td><td>388</td><td>3764</td><td>34282</td><td>0</td><td>16</td><td>155</td><td>1365</td><td>500</td><td>829</td></tr>\n",
       "<tr><td>AnaK</td><td>61945</td><td>3</td><td>7</td><td>38292</td><td>34632</td><td>0</td><td>267</td><td>41</td><td>577</td><td>2775</td><td>34007</td><td>0</td><td>18</td><td>234</td><td>1937</td><td>1257</td><td>839</td></tr>\n",
       "<tr><td>Narnia</td><td>132339</td><td>2</td><td>5</td><td>39223</td><td>37038</td><td>0</td><td>162</td><td>21</td><td>214</td><td>1788</td><td>35210</td><td>0</td><td>6</td><td>203</td><td>2145</td><td>850</td><td>809</td></tr>\n",
       "<tr><td>OBrother</td><td>149781</td><td>4</td><td>5</td><td>34696</td><td>33124</td><td>0</td><td>87</td><td>41</td><td>162</td><td>1282</td><td>31277</td><td>0</td><td>6</td><td>98</td><td>2049</td><td>303</td><td>963</td></tr>\n",
       "<tr><td>StarTrek</td><td>33446</td><td>2</td><td>5</td><td>35431</td><td>33574</td><td>0</td><td>105</td><td>8</td><td>123</td><td>1621</td><td>31400</td><td>0</td><td>9</td><td>56</td><td>2472</td><td>703</td><td>791</td></tr>\n",
       "<tr><td>Catch22</td><td>150887</td><td>6</td><td>11</td><td>33638</td><td>31715</td><td>0</td><td>248</td><td>144</td><td>156</td><td>1375</td><td>30188</td><td>0</td><td>21</td><td>80</td><td>1592</td><td>536</td><td>1221</td></tr>\n",
       "<tr><td>ScoobyDoo</td><td>161174</td><td>4</td><td>8</td><td>35885</td><td>34828</td><td>0</td><td>33</td><td>2</td><td>43</td><td>979</td><td>33190</td><td>0</td><td>2</td><td>71</td><td>1335</td><td>517</td><td>770</td></tr>\n",
       "<tr><td>MobyDick</td><td>85746</td><td>1</td><td>6</td><td>40438</td><td>38685</td><td>0</td><td>66</td><td>7</td><td>81</td><td>1599</td><td>36907</td><td>0</td><td>24</td><td>70</td><td>1596</td><td>681</td><td>1160</td></tr>\n",
       "<tr><td>Othello</td><td>145729</td><td>2</td><td>5</td><td>34785</td><td>33930</td><td>0</td><td>19</td><td>7</td><td>21</td><td>808</td><td>31942</td><td>0</td><td>8</td><td>73</td><td>1580</td><td>387</td><td>795</td></tr>\n",
       "<tr><td>Alice</td><td>140594</td><td>2</td><td>4</td><td>39142</td><td>36422</td><td>0</td><td>68</td><td>11</td><td>152</td><td>2489</td><td>35959</td><td>0</td><td>10</td><td>141</td><td>1524</td><td>424</td><td>1084</td></tr>\n",
       "<tr><td>Bandamanna</td><td>126115</td><td>1</td><td>4</td><td>26770</td><td>26045</td><td>0</td><td>61</td><td>0</td><td>24</td><td>640</td><td>23541</td><td>0</td><td>16</td><td>26</td><td>1881</td><td>343</td><td>963</td></tr>\n",
       "<tr><td>Sopranos</td><td>13927</td><td>0</td><td>2</td><td>36063</td><td>34434</td><td>0</td><td>32</td><td>1</td><td>41</td><td>1555</td><td>32190</td><td>0</td><td>9</td><td>292</td><td>1808</td><td>648</td><td>1116</td></tr>\n",
       "<tr><td>Oz</td><td>137625</td><td>5</td><td>9</td><td>33541</td><td>32743</td><td>0</td><td>21</td><td>8</td><td>25</td><td>744</td><td>30687</td><td>0</td><td>9</td><td>78</td><td>1376</td><td>459</td><td>932</td></tr>\n",
       "<tr><td>HarryPotter</td><td>129237</td><td>4</td><td>6</td><td>27351</td><td>26650</td><td>0</td><td>62</td><td>16</td><td>41</td><td>582</td><td>24109</td><td>0</td><td>10</td><td>73</td><td>1699</td><td>399</td><td>1061</td></tr>\n",
       "</table>"
      ],
      "text/plain": [
       "<Table length=16>\n",
       " SAGA name  NSAID   sat  low_z total zq_-1 ...  rm_1  rm_2  rm_3  rm_4  rm_5\n",
       "   str11    int32  int64 int64 int64 int64 ... int64 int64 int64 int64 int64\n",
       "----------- ------ ----- ----- ----- ----- ... ----- ----- ----- ----- -----\n",
       "  Gilgamesh 166313     2     9 37202 33710 ...    11   154  1664   511   902\n",
       "    Odyssey 147100     9    15 36798 33839 ...     4   154  2073   608   723\n",
       "       Dune 165536     1     8 37147 32696 ...    16   155  1365   500   829\n",
       "       AnaK  61945     3     7 38292 34632 ...    18   234  1937  1257   839\n",
       "     Narnia 132339     2     5 39223 37038 ...     6   203  2145   850   809\n",
       "   OBrother 149781     4     5 34696 33124 ...     6    98  2049   303   963\n",
       "   StarTrek  33446     2     5 35431 33574 ...     9    56  2472   703   791\n",
       "    Catch22 150887     6    11 33638 31715 ...    21    80  1592   536  1221\n",
       "  ScoobyDoo 161174     4     8 35885 34828 ...     2    71  1335   517   770\n",
       "   MobyDick  85746     1     6 40438 38685 ...    24    70  1596   681  1160\n",
       "    Othello 145729     2     5 34785 33930 ...     8    73  1580   387   795\n",
       "      Alice 140594     2     4 39142 36422 ...    10   141  1524   424  1084\n",
       " Bandamanna 126115     1     4 26770 26045 ...    16    26  1881   343   963\n",
       "   Sopranos  13927     0     2 36063 34434 ...     9   292  1808   648  1116\n",
       "         Oz 137625     5     9 33541 32743 ...     9    78  1376   459   932\n",
       "HarryPotter 129237     4     6 27351 26650 ...    10    73  1699   399  1061"
      ]
     },
     "execution_count": 37,
     "metadata": {},
     "output_type": "execute_result"
    }
   ],
   "source": [
    "# new base catalogs with DR14\n",
    "get_counts(catalogs_dr14)"
   ]
  },
  {
   "cell_type": "markdown",
   "metadata": {},
   "source": [
    "## check satellites"
   ]
  },
  {
   "cell_type": "code",
   "execution_count": 39,
   "metadata": {},
   "outputs": [
    {
     "data": {
      "text/html": [
       "&lt;Table length=48&gt;\n",
       "<table id=\"table140597567061800-157454\" class=\"table-striped table-bordered table-condensed\">\n",
       "<thead><tr><th>idx</th><th>OBJID</th><th>HOST_NSAID</th><th>RA</th><th>DEC</th><th>SPEC_Z</th><th>REMOVE</th><th>SATS</th><th>ZQUALITY</th><th>TELNAME</th><th>SPEC_REPEAT</th><th>r_mag</th><th>OBJ_NSAID</th></tr></thead>\n",
       "<tr><td>0</td><td>1237665566078402826</td><td>166313</td><td>233.787037531</td><td>16.8704375988</td><td>0.006671</td><td>-1</td><td>1</td><td>4</td><td>MMT</td><td>MMT+NSA+AAT+SDSS</td><td>15.4017</td><td>124222</td></tr>\n",
       "<tr><td>1</td><td>1237665565541728490</td><td>166313</td><td>234.132926177</td><td>16.4404552908</td><td>0.0063225</td><td>-1</td><td>1</td><td>4</td><td>NSA</td><td>NSA+SDSS</td><td>14.2841</td><td>166312</td></tr>\n",
       "<tr><td>2</td><td>1237662224092364842</td><td>147100</td><td>247.877387573</td><td>20.0936248407</td><td>0.008288</td><td>-1</td><td>1</td><td>4</td><td>MMT</td><td>MMT+AAT+SDSS</td><td>16.9963</td><td>-1</td></tr>\n",
       "<tr><td>3</td><td>1237662224092496776</td><td>147100</td><td>248.195368592</td><td>19.8670126788</td><td>0.00824</td><td>-1</td><td>1</td><td>3</td><td>MMT</td><td>MMT</td><td>18.5589</td><td>-1</td></tr>\n",
       "<tr><td>4</td><td>1237662662147310256</td><td>147100</td><td>247.825892241</td><td>20.2108787761</td><td>0.00861264</td><td>-1</td><td>1</td><td>4</td><td>NSA</td><td>SDSS+NSA+WIYN+DEIMOS+AAT</td><td>16.9068</td><td>147082</td></tr>\n",
       "<tr><td>5</td><td>1237662662147571761</td><td>147100</td><td>248.393225697</td><td>19.9461400824</td><td>0.008172</td><td>-1</td><td>1</td><td>4</td><td>MMT</td><td>MMT+NSA+AAT+SDSS</td><td>15.6295</td><td>68553</td></tr>\n",
       "<tr><td>6</td><td>1237662698115433445</td><td>147100</td><td>248.16342684</td><td>19.792207594</td><td>0.007471</td><td>-1</td><td>1</td><td>4</td><td>MMT</td><td>MMT</td><td>20.3247</td><td>-1</td></tr>\n",
       "<tr><td>7</td><td>1237662224092299399</td><td>147100</td><td>247.84002995</td><td>20.1840758135</td><td>0.00855347</td><td>-1</td><td>1</td><td>4</td><td>NSA</td><td>NSA+SDSS</td><td>13.2991</td><td>68560</td></tr>\n",
       "<tr><td>8</td><td>1237662662147638034</td><td>147100</td><td>248.580638518</td><td>19.7208013394</td><td>0.00818</td><td>-1</td><td>1</td><td>4</td><td>AAT</td><td>MMT+AAT+WIYN</td><td>18.2255</td><td>-1</td></tr>\n",
       "<tr><td>9</td><td>1237662698115432544</td><td>147100</td><td>248.051339587</td><td>19.6957396993</td><td>0.008224</td><td>-1</td><td>1</td><td>4</td><td>MMT</td><td>MMT+AAT</td><td>16.6417</td><td>-1</td></tr>\n",
       "<tr><td>10</td><td>1237662698115432783</td><td>147100</td><td>248.152079686</td><td>19.8102591366</td><td>0.007628</td><td>-1</td><td>1</td><td>4</td><td>MMT</td><td>MMT+WIYN</td><td>17.6199</td><td>-1</td></tr>\n",
       "<tr><td>11</td><td>1237648721248845970</td><td>165536</td><td>221.316115836</td><td>-0.159937082521</td><td>0.00555054</td><td>-1</td><td>1</td><td>4</td><td>NSA</td><td>AAT+NSA+SDSS+GAMA</td><td>14.8965</td><td>2579</td></tr>\n",
       "<tr><td>12</td><td>1237663277925204111</td><td>61945</td><td>354.195229736</td><td>0.62342377148</td><td>0.008789</td><td>-1</td><td>1</td><td>4</td><td>MMT</td><td>MMT+NSA+AAT+SDSS</td><td>15.6154</td><td>5538</td></tr>\n",
       "<tr><td>13</td><td>1237666408439677694</td><td>61945</td><td>353.778805283</td><td>0.301058523211</td><td>0.008</td><td>-1</td><td>1</td><td>3</td><td>MMT</td><td>MMT</td><td>21.2784</td><td>-1</td></tr>\n",
       "<tr><td>14</td><td>1237666408439939282</td><td>61945</td><td>354.350599991</td><td>0.390802769345</td><td>0.008886</td><td>-1</td><td>1</td><td>4</td><td>MMT</td><td>MMT+NSA+SDSS</td><td>13.6617</td><td>5541</td></tr>\n",
       "<tr><td>15</td><td>1237678881574814166</td><td>132339</td><td>39.5361613388</td><td>-1.39669557972</td><td>0.00845</td><td>-1</td><td>1</td><td>3</td><td>AAT</td><td>AAT</td><td>20.0985</td><td>-1</td></tr>\n",
       "<tr><td>16</td><td>1237678881574944900</td><td>132339</td><td>39.9254642529</td><td>-1.41874190874</td><td>0.008789</td><td>-1</td><td>1</td><td>4</td><td>MMT</td><td>MMT</td><td>16.9611</td><td>-1</td></tr>\n",
       "<tr><td>17</td><td>1237680066954264778</td><td>149781</td><td>335.836305444</td><td>-3.65980264084</td><td>0.0102104</td><td>-1</td><td>1</td><td>4</td><td>NSA</td><td>NSA+SDSS</td><td>14.8636</td><td>149774</td></tr>\n",
       "<tr><td>18</td><td>1237680066954330699</td><td>149781</td><td>335.953849494</td><td>-3.70119481833</td><td>0.00936</td><td>-1</td><td>1</td><td>4</td><td>AAT</td><td>AAT</td><td>19.441</td><td>-1</td></tr>\n",
       "<tr><td>19</td><td>1237679996084617517</td><td>149781</td><td>335.97997618</td><td>-3.27054858631</td><td>0.00951</td><td>-1</td><td>1</td><td>4</td><td>AAT</td><td>AAT</td><td>15.9096</td><td>-1</td></tr>\n",
       "<tr><td>20</td><td>1237680192048857102</td><td>149781</td><td>336.048161241</td><td>-3.48293869003</td><td>0.00944989</td><td>-1</td><td>1</td><td>4</td><td>NSA</td><td>NSA+SDSS</td><td>13.5005</td><td>149792</td></tr>\n",
       "<tr><td>21</td><td>1237657607497515484</td><td>33446</td><td>123.649897556</td><td>36.4343553979</td><td>0.00821139</td><td>-1</td><td>1</td><td>4</td><td>NSA</td><td>NSA+SDSS</td><td>16.3677</td><td>33448</td></tr>\n",
       "<tr><td>22</td><td>1237657607497318756</td><td>33446</td><td>123.243173206</td><td>36.198359966</td><td>0.00830376</td><td>-1</td><td>1</td><td>4</td><td>NSA</td><td>NSA+SDSS</td><td>15.4042</td><td>33445</td></tr>\n",
       "<tr><td>23</td><td>1237678777399509170</td><td>150887</td><td>348.874199097</td><td>4.61326147472</td><td>0.009029</td><td>-1</td><td>1</td><td>3</td><td>MMT</td><td>MMT</td><td>19.8947</td><td>-1</td></tr>\n",
       "<tr><td>24</td><td>1237679005021831801</td><td>150887</td><td>348.621488524</td><td>4.50717078054</td><td>0.00862</td><td>-1</td><td>1</td><td>3</td><td>AAT</td><td>AAT</td><td>17.7932</td><td>-1</td></tr>\n",
       "<tr><td>25</td><td>1237679005558702536</td><td>150887</td><td>348.554591739</td><td>4.91500326962</td><td>0.009368</td><td>-1</td><td>1</td><td>4</td><td>MMT</td><td>MMT</td><td>20.6886</td><td>-1</td></tr>\n",
       "<tr><td>26</td><td>1237679005021831220</td><td>150887</td><td>348.643816258</td><td>4.4984434911</td><td>0.00891952</td><td>-1</td><td>1</td><td>4</td><td>NSA</td><td>NSA+SDSS</td><td>12.7113</td><td>150882</td></tr>\n",
       "<tr><td>27</td><td>1237678776862572690</td><td>150887</td><td>348.776907636</td><td>4.373197012</td><td>0.008904</td><td>-1</td><td>1</td><td>4</td><td>MMT</td><td>MMT</td><td>15.61</td><td>-1</td></tr>\n",
       "<tr><td>28</td><td>1237678777399443498</td><td>150887</td><td>348.696648891</td><td>4.63995487019</td><td>0.009556</td><td>-1</td><td>1</td><td>4</td><td>MMT</td><td>MMT</td><td>14.9587</td><td>-1</td></tr>\n",
       "<tr><td>29</td><td>1237668298203267092</td><td>161174</td><td>182.990666509</td><td>20.0278486922</td><td>0.00800182</td><td>-1</td><td>1</td><td>4</td><td>NSA</td><td>NSA+SDSS</td><td>14.3989</td><td>118414</td></tr>\n",
       "<tr><td>30</td><td>1237668298203070473</td><td>161174</td><td>182.428044304</td><td>20.0469187602</td><td>0.008231</td><td>-1</td><td>1</td><td>4</td><td>MMT</td><td>MMT</td><td>16.7345</td><td>-1</td></tr>\n",
       "<tr><td>31</td><td>1237668298740007188</td><td>161174</td><td>182.689815229</td><td>20.5929282759</td><td>0.008433</td><td>-1</td><td>1</td><td>4</td><td>MMT</td><td>MMT</td><td>18.2478</td><td>-1</td></tr>\n",
       "<tr><td>32</td><td>1237668298203202132</td><td>161174</td><td>182.848206846</td><td>20.0632227672</td><td>0.007782</td><td>-1</td><td>1</td><td>4</td><td>MMT</td><td>MMT</td><td>19.9148</td><td>-1</td></tr>\n",
       "<tr><td>33</td><td>1237664338780029261</td><td>85746</td><td>149.687168865</td><td>32.7202654623</td><td>0.004987</td><td>-1</td><td>1</td><td>3</td><td>MMT</td><td>MMT</td><td>20.6541</td><td>-1</td></tr>\n",
       "<tr><td>34</td><td>1237648702984683605</td><td>145729</td><td>225.005401226</td><td>-1.09130226734</td><td>0.00629765</td><td>-1</td><td>1</td><td>4</td><td>NSA</td><td>NSA+SDSS</td><td>14.8238</td><td>35574</td></tr>\n",
       "<tr><td>35</td><td>1237655693015056396</td><td>145729</td><td>224.532617519</td><td>-1.31259609568</td><td>0.0064927</td><td>-1</td><td>1</td><td>4</td><td>NSA</td><td>NSA+SDSS</td><td>15.2801</td><td>35536</td></tr>\n",
       "<tr><td>36</td><td>1237650762927308814</td><td>140594</td><td>179.69172842</td><td>-1.46194133403</td><td>0.00492341</td><td>-1</td><td>1</td><td>4</td><td>NSA</td><td>NSA+SDSS+GAMA</td><td>13.917</td><td>140542</td></tr>\n",
       "<tr><td>37</td><td>1237650372092690464</td><td>140594</td><td>180.29544216</td><td>-1.2976838319</td><td>0.00496344</td><td>-1</td><td>1</td><td>4</td><td>NSA</td><td>NSA+SDSS+GAMA</td><td>13.4131</td><td>171514</td></tr>\n",
       "<tr><td>38</td><td>1237680247351738669</td><td>126115</td><td>1.12965796353</td><td>20.7180183961</td><td>0.00725503</td><td>-1</td><td>1</td><td>4</td><td>NSA</td><td>NSA+SDSS</td><td>15.8421</td><td>126134</td></tr>\n",
       "<tr><td>39</td><td>1237667255616143515</td><td>137625</td><td>158.04324634</td><td>28.4830569538</td><td>0.00527656</td><td>-1</td><td>1</td><td>4</td><td>NSA</td><td>NSA+SDSS</td><td>15.1896</td><td>107759</td></tr>\n",
       "<tr><td>40</td><td>1237667255616143540</td><td>137625</td><td>158.088519499</td><td>28.4198533568</td><td>0.00541094</td><td>-1</td><td>1</td><td>4</td><td>NSA</td><td>NSA+SDSS</td><td>16.7491</td><td>107745</td></tr>\n",
       "<tr><td>41</td><td>1237667287812735027</td><td>137625</td><td>157.778274298</td><td>28.7966447953</td><td>0.0047453</td><td>-1</td><td>1</td><td>4</td><td>NSA</td><td>NSA+SDSS</td><td>12.9213</td><td>107764</td></tr>\n",
       "<tr><td>42</td><td>1237665367429677221</td><td>137625</td><td>158.712397798</td><td>28.6638533288</td><td>0.00441311</td><td>-1</td><td>1</td><td>4</td><td>NSA</td><td>NSA+SDSS</td><td>15.4825</td><td>107942</td></tr>\n",
       "<tr><td>43</td><td>1237667255616274560</td><td>137625</td><td>158.351768341</td><td>28.5529137267</td><td>0.004288</td><td>-1</td><td>1</td><td>4</td><td>MMT</td><td>MMT</td><td>17.7895</td><td>-1</td></tr>\n",
       "<tr><td>44</td><td>1237678602387456305</td><td>129237</td><td>20.3284666123</td><td>17.7539390491</td><td>0.008245</td><td>-1</td><td>1</td><td>4</td><td>MMT</td><td>MMT</td><td>19.5768</td><td>-1</td></tr>\n",
       "<tr><td>45</td><td>1237678602387521791</td><td>129237</td><td>20.5363426909</td><td>17.5281428748</td><td>0.008651</td><td>-1</td><td>1</td><td>4</td><td>MMT</td><td>MMT</td><td>18.9186</td><td>-1</td></tr>\n",
       "<tr><td>46</td><td>1237679169841725673</td><td>129237</td><td>20.7768903825</td><td>17.8914501798</td><td>0.008477</td><td>-1</td><td>1</td><td>4</td><td>MMT</td><td>MMT</td><td>17.0721</td><td>-1</td></tr>\n",
       "<tr><td>47</td><td>1237678602387456130</td><td>129237</td><td>20.2852690118</td><td>17.6022357532</td><td>0.00822</td><td>-1</td><td>1</td><td>4</td><td>MMT</td><td>MMT</td><td>17.2604</td><td>-1</td></tr>\n",
       "</table><style>table.dataTable {clear: both; width: auto !important; margin: 0 !important;}\n",
       ".dataTables_info, .dataTables_length, .dataTables_filter, .dataTables_paginate{\n",
       "display: inline-block; margin-right: 1em; }\n",
       ".paginate_button { margin-right: 5px; }\n",
       "</style>\n",
       "<script>\n",
       "\n",
       "var astropy_sort_num = function(a, b) {\n",
       "    var a_num = parseFloat(a);\n",
       "    var b_num = parseFloat(b);\n",
       "\n",
       "    if (isNaN(a_num) && isNaN(b_num))\n",
       "        return ((a < b) ? -1 : ((a > b) ? 1 : 0));\n",
       "    else if (!isNaN(a_num) && !isNaN(b_num))\n",
       "        return ((a_num < b_num) ? -1 : ((a_num > b_num) ? 1 : 0));\n",
       "    else\n",
       "        return isNaN(a_num) ? -1 : 1;\n",
       "}\n",
       "\n",
       "require.config({paths: {\n",
       "    datatables: 'https://cdn.datatables.net/1.10.12/js/jquery.dataTables.min'\n",
       "}});\n",
       "require([\"datatables\"], function(){\n",
       "    console.log(\"$('#table140597567061800-157454').dataTable()\");\n",
       "    \n",
       "jQuery.extend( jQuery.fn.dataTableExt.oSort, {\n",
       "    \"optionalnum-asc\": astropy_sort_num,\n",
       "    \"optionalnum-desc\": function (a,b) { return -astropy_sort_num(a, b); }\n",
       "});\n",
       "\n",
       "    $('#table140597567061800-157454').dataTable({\n",
       "        order: [],\n",
       "        pageLength: 50,\n",
       "        lengthMenu: [[10, 25, 50, 100, 500, 1000, -1], [10, 25, 50, 100, 500, 1000, 'All']],\n",
       "        pagingType: \"full_numbers\",\n",
       "        columnDefs: [{targets: [0, 1, 2, 3, 4, 5, 6, 7, 8, 11, 12], type: \"optionalnum\"}]\n",
       "    });\n",
       "});\n",
       "</script>\n"
      ],
      "text/plain": [
       "<IPython.core.display.HTML object>"
      ]
     },
     "execution_count": 39,
     "metadata": {},
     "output_type": "execute_result"
    }
   ],
   "source": [
    "vstack([is_sat.filter(t)[t.colnames[:-1]] for t in catalogs_dr12]).show_in_notebook()"
   ]
  },
  {
   "cell_type": "markdown",
   "metadata": {},
   "source": [
    "## difference in low-z galaxy count is due to whether or not host is counted"
   ]
  },
  {
   "cell_type": "code",
   "execution_count": 38,
   "metadata": {},
   "outputs": [
    {
     "name": "stdout",
     "output_type": "stream",
     "text": [
      "different low-z galaxy count for 147100: 14 (orig) vs. 15 (new)\n",
      " missing obj NSAID 147100\n",
      "different low-z galaxy count for 149781: 4 (orig) vs. 5 (new)\n",
      " missing obj NSAID 149781\n",
      "different low-z galaxy count for 145729: 4 (orig) vs. 5 (new)\n",
      " missing obj NSAID 145729\n"
     ]
    }
   ],
   "source": [
    "for to, tn in zip(catalogs_orig, catalogs_dr12):\n",
    "    # make sure we are comparing the same host\n",
    "    assert to['HOST_NSAID'][0] == tn['HOST_NSAID'][0]\n",
    "    \n",
    "    # check if satellite number is the same\n",
    "    if is_sat.count(to) != is_sat.count(tn):\n",
    "        print('different satellite count for {}'.format(tn['HOST_NSAID'][0]))\n",
    "    \n",
    "    if is_lowz.count(to) != is_lowz.count(tn):\n",
    "        print('different low-z galaxy count for {}: {} (orig) vs. {} (new)'.format(\\\n",
    "                    tn['HOST_NSAID'][0], is_lowz.count(to), is_lowz.count(tn)))\n",
    "        tn_lowz = is_lowz.filter(tn)\n",
    "        to_lowz = is_lowz.filter(to)\n",
    "        for gal in tn_lowz:\n",
    "            if len(find_near_coord(to_lowz, gal['coord'], 1.0)) == 0:\n",
    "                print(' missing obj NSAID', gal['OBJ_NSAID'])"
   ]
  },
  {
   "cell_type": "markdown",
   "metadata": {
    "collapsed": true
   },
   "source": [
    "## checking some remove-4 flag objects"
   ]
  },
  {
   "cell_type": "code",
   "execution_count": 8,
   "metadata": {
    "collapsed": true
   },
   "outputs": [],
   "source": [
    "host_nsa = 166313\n",
    "columns = 'OBJID HOST_NSAID RA DEC SPEC_Z REMOVE SATS ZQUALITY TELNAME SPEC_REPEAT PETRORAD_R PETRORADERR_R r_mag OBJ_NSAID coord'.split()\n",
    "bo = saga_object_catalog.load(host_nsa, columns=columns).pop()\n",
    "bn = saga_object_catalog_dr12.load(host_nsa, columns=columns).pop()"
   ]
  },
  {
   "cell_type": "code",
   "execution_count": 9,
   "metadata": {},
   "outputs": [
    {
     "name": "stdout",
     "output_type": "stream",
     "text": [
      "269 275\n",
      "2 8\n"
     ]
    }
   ],
   "source": [
    "bn_objid_rm4 = Query('REMOVE==4').filter(bn)['OBJID']\n",
    "bo_objid_rm4 = Query('REMOVE==4').filter(bo)['OBJID']\n",
    "\n",
    "kn = bn_objid_rm4[np.in1d(bn_objid_rm4, bo_objid_rm4, invert=True)]\n",
    "ko = bo_objid_rm4[np.in1d(bo_objid_rm4, bn_objid_rm4, invert=True)]\n",
    "\n",
    "print(len(bn_objid_rm4), len(bo_objid_rm4))\n",
    "print(len(kn), len(ko))"
   ]
  },
  {
   "cell_type": "code",
   "execution_count": 40,
   "metadata": {},
   "outputs": [
    {
     "data": {
      "text/html": [
       "&lt;Table length=4&gt;\n",
       "<table id=\"table140597196049040\" class=\"table-striped table-bordered table-condensed\">\n",
       "<thead><tr><th>OBJID</th><th>HOST_NSAID</th><th>RA</th><th>DEC</th><th>SPEC_Z</th><th>REMOVE</th><th>SATS</th><th>ZQUALITY</th><th>TELNAME</th><th>SPEC_REPEAT</th><th>PETRORAD_R</th><th>PETRORADERR_R</th><th>r_mag</th><th>OBJ_NSAID</th><th>coord</th></tr></thead>\n",
       "<thead><tr><th></th><th></th><th></th><th></th><th></th><th></th><th></th><th></th><th></th><th></th><th></th><th></th><th></th><th></th><th>deg,deg</th></tr></thead>\n",
       "<thead><tr><th>int64</th><th>int64</th><th>float64</th><th>float64</th><th>float32</th><th>int64</th><th>int64</th><th>int64</th><th>str6</th><th>str48</th><th>float32</th><th>float32</th><th>float32</th><th>int64</th><th>object</th></tr></thead>\n",
       "<tr><td>1237668367995765229</td><td>166313</td><td>234.170721217</td><td>16.2523974097</td><td>-1.0</td><td>-1</td><td>-1</td><td>-1</td><td></td><td></td><td>1.36431</td><td>0.233502</td><td>21.5549</td><td>-1</td><td>234.17072121654434,16.252397409748877</td></tr>\n",
       "<tr><td>1237668367995765227</td><td>166313</td><td>234.17075988</td><td>16.2527533213</td><td>-1.0</td><td>-1</td><td>-1</td><td>-1</td><td></td><td></td><td>4.13027</td><td>1.39904</td><td>19.5524</td><td>-1</td><td>234.17075987995355,16.25275332126862</td></tr>\n",
       "<tr><td>1237668367995765228</td><td>166313</td><td>234.169885047</td><td>16.2515194624</td><td>0.195815</td><td>-1</td><td>0</td><td>4</td><td>MMT</td><td>AAT+MMT</td><td>1.411</td><td>0.097014</td><td>20.3851</td><td>-1</td><td>234.16988504667972,16.251519462432398</td></tr>\n",
       "<tr><td>1237668367995765577</td><td>166313</td><td>234.173247592</td><td>16.2532916526</td><td>-1.0</td><td>-1</td><td>-1</td><td>-1</td><td></td><td></td><td>1.88713</td><td>0.251973</td><td>21.8033</td><td>-1</td><td>234.17324759204493,16.253291652637596</td></tr>\n",
       "</table>"
      ],
      "text/plain": [
       "<Table length=4>\n",
       "       OBJID        HOST_NSAID ...                 coord                \n",
       "                               ...                deg,deg               \n",
       "       int64          int64    ...                 object               \n",
       "------------------- ---------- ... -------------------------------------\n",
       "1237668367995765229     166313 ... 234.17072121654434,16.252397409748877\n",
       "1237668367995765227     166313 ...  234.17075987995355,16.25275332126862\n",
       "1237668367995765228     166313 ... 234.16988504667972,16.251519462432398\n",
       "1237668367995765577     166313 ... 234.17324759204493,16.253291652637596"
      ]
     },
     "metadata": {},
     "output_type": "display_data"
    },
    {
     "data": {
      "text/html": [
       "&lt;Table length=4&gt;\n",
       "<table id=\"table140597198036440\" class=\"table-striped table-bordered table-condensed\">\n",
       "<thead><tr><th>OBJID</th><th>HOST_NSAID</th><th>RA</th><th>DEC</th><th>SPEC_Z</th><th>REMOVE</th><th>SATS</th><th>ZQUALITY</th><th>TELNAME</th><th>SPEC_REPEAT</th><th>PETRORAD_R</th><th>PETRORADERR_R</th><th>r_mag</th><th>OBJ_NSAID</th><th>coord</th></tr></thead>\n",
       "<thead><tr><th></th><th></th><th></th><th></th><th></th><th></th><th></th><th></th><th></th><th></th><th></th><th></th><th></th><th></th><th>deg,deg</th></tr></thead>\n",
       "<thead><tr><th>int64</th><th>int32</th><th>float64</th><th>float64</th><th>float32</th><th>int16</th><th>int16</th><th>int16</th><th>str6</th><th>str48</th><th>float32</th><th>float32</th><th>float32</th><th>int32</th><th>object</th></tr></thead>\n",
       "<tr><td>1237668367995765229</td><td>166313</td><td>234.170721217</td><td>16.2523974097</td><td>-1.0</td><td>4</td><td>-1</td><td>-1</td><td></td><td></td><td>1.36431</td><td>0.233502</td><td>21.5549</td><td>-1</td><td>234.17072121654434,16.252397409748877</td></tr>\n",
       "<tr><td>1237668367995765227</td><td>166313</td><td>234.17075988</td><td>16.2527533213</td><td>0.196171</td><td>-1</td><td>0</td><td>4</td><td>MMT</td><td>MMT+AAT</td><td>4.13027</td><td>1.39904</td><td>19.5524</td><td>-1</td><td>234.17075987995355,16.25275332126862</td></tr>\n",
       "<tr><td>1237668367995765228</td><td>166313</td><td>234.169885047</td><td>16.2515194624</td><td>0.195815</td><td>-1</td><td>0</td><td>4</td><td>MMT</td><td>MMT</td><td>1.411</td><td>0.097014</td><td>20.3851</td><td>-1</td><td>234.16988504667972,16.251519462432398</td></tr>\n",
       "<tr><td>1237668367995765577</td><td>166313</td><td>234.173247592</td><td>16.2532916526</td><td>-1.0</td><td>-1</td><td>-1</td><td>-1</td><td></td><td></td><td>1.88713</td><td>0.251973</td><td>21.8033</td><td>-1</td><td>234.17324759204493,16.253291652637596</td></tr>\n",
       "</table>"
      ],
      "text/plain": [
       "<Table length=4>\n",
       "       OBJID        HOST_NSAID ...                 coord                \n",
       "                               ...                deg,deg               \n",
       "       int64          int32    ...                 object               \n",
       "------------------- ---------- ... -------------------------------------\n",
       "1237668367995765229     166313 ... 234.17072121654434,16.252397409748877\n",
       "1237668367995765227     166313 ...  234.17075987995355,16.25275332126862\n",
       "1237668367995765228     166313 ... 234.16988504667972,16.251519462432398\n",
       "1237668367995765577     166313 ... 234.17324759204493,16.253291652637596"
      ]
     },
     "metadata": {},
     "output_type": "display_data"
    }
   ],
   "source": [
    "i = kn[1]\n",
    "display(find_near_objid(bo, i, 15))\n",
    "display(find_near_objid(bn, i, 15))"
   ]
  },
  {
   "cell_type": "code",
   "execution_count": null,
   "metadata": {
    "collapsed": true
   },
   "outputs": [],
   "source": []
  }
 ],
 "metadata": {
  "kernelspec": {
   "display_name": "Python 3",
   "language": "python",
   "name": "python3"
  },
  "language_info": {
   "codemirror_mode": {
    "name": "ipython",
    "version": 3
   },
   "file_extension": ".py",
   "mimetype": "text/x-python",
   "name": "python",
   "nbconvert_exporter": "python",
   "pygments_lexer": "ipython3",
   "version": "3.6.2"
  }
 },
 "nbformat": 4,
 "nbformat_minor": 2
}
