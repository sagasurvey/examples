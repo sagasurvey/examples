{
 "cells": [
  {
   "cell_type": "code",
   "execution_count": 1,
   "metadata": {},
   "outputs": [
    {
     "name": "stdout",
     "output_type": "stream",
     "text": [
      "0.6.16\n"
     ]
    }
   ],
   "source": [
    "import SAGA\n",
    "from SAGA.targets import prepare_aat_catalog\n",
    "print(SAGA.__version__)"
   ]
  },
  {
   "cell_type": "code",
   "execution_count": 2,
   "metadata": {},
   "outputs": [
    {
     "name": "stdout",
     "output_type": "stream",
     "text": [
      "Downloading https://docs.google.com/spreadsheets/d/1b3k2eyFjHFDtmHce1xi6JKuj3ATOWYduTBFftx5oPp8/export?format=csv&gid=1471095077 [Done]\n",
      "Downloading https://docs.google.com/spreadsheets/d/1Z8HISgp6ScJ0YZiFK5_TrGDZXY9t2OL3hkCSFJUiC6w/export?format=csv&gid=0 [Done]\n"
     ]
    }
   ],
   "source": [
    "saga_database = SAGA.Database('/home/yymao/Dropbox/Academia/Collaborations/SAGA', '/home/yymao/Documents/Research/SAGA')\n",
    "\n",
    "saga_host_catalog = SAGA.HostCatalog(saga_database)\n",
    "saga_object_catalog = SAGA.ObjectCatalog(saga_database)\n",
    "saga_targets = SAGA.TargetSelection(saga_database, \n",
    "                                    manual_selected_objids='manual_targets_aat2018a',\n",
    "                                    gmm_parameters={'sdss':'gmm_parameters_no_outlier', 'des': 'gmm_parameters_no_outlier_no_u'}, \n",
    "                                    version=2)"
   ]
  },
  {
   "cell_type": "code",
   "execution_count": null,
   "metadata": {},
   "outputs": [],
   "source": [
    "# ONLY IF you haven't rebuilt with 0.6.16\n",
    "saga_object_catalog.build_and_write_to_database('aat_2018', overwrite=True)"
   ]
  },
  {
   "cell_type": "code",
   "execution_count": 6,
   "metadata": {},
   "outputs": [
    {
     "name": "stdout",
     "output_type": "stream",
     "text": [
      "pgc2052\n",
      "# of Priority=1 targets = 0\n",
      "# of Priority=2 targets = 40\n",
      "# of Priority=3 targets = 249\n",
      "# of Priority=4 targets = 571\n",
      "# of Priority=5 targets = 50\n",
      "# of Priority=6 targets = 82\n",
      "# of Priority=7 targets = 449\n",
      "# of Priority=8 targets = 0\n",
      "Writing to /home/yymao/Downloads/pgc2052.txt\n"
     ]
    }
   ],
   "source": [
    "for host in saga_host_catalog.resolve_id('aat_2018', 'str'):\n",
    "    print(host)\n",
    "    prepare_aat_catalog(saga_targets.build_target_catalogs(host, return_as='list').pop(), '/home/yymao/Downloads/{}.txt'.format(host))"
   ]
  },
  {
   "cell_type": "code",
   "execution_count": null,
   "metadata": {},
   "outputs": [],
   "source": []
  }
 ],
 "metadata": {
  "kernelspec": {
   "display_name": "Python 3",
   "language": "python",
   "name": "python3"
  },
  "language_info": {
   "codemirror_mode": {
    "name": "ipython",
    "version": 3
   },
   "file_extension": ".py",
   "mimetype": "text/x-python",
   "name": "python",
   "nbconvert_exporter": "python",
   "pygments_lexer": "ipython3",
   "version": "3.6.5"
  }
 },
 "nbformat": 4,
 "nbformat_minor": 2
}
