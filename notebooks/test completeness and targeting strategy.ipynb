{
 "cells": [
  {
   "cell_type": "code",
   "execution_count": 2,
   "metadata": {},
   "outputs": [
    {
     "name": "stdout",
     "output_type": "stream",
     "text": [
      "SAGA code version 0.2.4\n"
     ]
    }
   ],
   "source": [
    "# import SAGA code\n",
    "\n",
    "import SAGA\n",
    "from SAGA import ObjectCuts as C\n",
    "from SAGA.utils import get_sdss_bands, get_sdss_colors\n",
    "from SAGA.targets import TargetSelection, calc_simple_satellite_probability\n",
    "\n",
    "print('SAGA code version', SAGA.__version__)"
   ]
  },
  {
   "cell_type": "code",
   "execution_count": 3,
   "metadata": {
    "collapsed": true
   },
   "outputs": [],
   "source": [
    "# import other modules\n",
    "\n",
    "from collections import defaultdict\n",
    "import numpy as np\n",
    "from scipy.stats import poisson, norm\n",
    "from astropy.table import Table\n",
    "from easyquery import Query"
   ]
  },
  {
   "cell_type": "code",
   "execution_count": 4,
   "metadata": {},
   "outputs": [
    {
     "name": "stdout",
     "output_type": "stream",
     "text": [
      "Downloading https://docs.google.com/spreadsheets/d/1b3k2eyFjHFDtmHce1xi6JKuj3ATOWYduTBFftx5oPp8/export?format=csv&gid=1136984451 [Done]\n",
      "Downloading https://docs.google.com/spreadsheets/d/1GJYuhqfKeuJr-IyyGF_NDLb_ezL6zBiX2aeZFHHPr_s/export?format=csv&gid=0 [Done]\n"
     ]
    }
   ],
   "source": [
    "# initialize SAGA objects (Database, HostCatalog, ObjectCatalog)\n",
    "# NOTE: change the path of `root_dir` to your SAGA dropbox path\n",
    "\n",
    "saga_database = SAGA.Database(root_dir='/home/yymao/Dropbox/Academia/Collaborations/SAGA')\n",
    "saga_host_catalog = SAGA.HostCatalog(saga_database)\n",
    "saga_object_catalog = SAGA.ObjectCatalog(saga_database)"
   ]
  },
  {
   "cell_type": "markdown",
   "metadata": {},
   "source": [
    "## check completeness for 16 paper1 hosts"
   ]
  },
  {
   "cell_type": "code",
   "execution_count": 5,
   "metadata": {
    "collapsed": true
   },
   "outputs": [],
   "source": [
    "columns = 'HOST_NSAID SATS SPEC_Z ZQUALITY gr ri r_mag'.split()\n",
    "cuts = C.basic_cut & C.gri_cut & (~C.sdss_limit)\n",
    "\n",
    "base_paper1 = saga_object_catalog.load(hosts='paper1', cuts=cuts, columns=columns)"
   ]
  },
  {
   "cell_type": "code",
   "execution_count": 6,
   "metadata": {},
   "outputs": [
    {
     "name": "stderr",
     "output_type": "stream",
     "text": [
      "/home/yymao/Dropbox/Academia/Collaborations/SAGA-local/code/saga/SAGA/targets/assign_targeting_score.py:13: RuntimeWarning: overflow encountered in exp\n",
      "  return np.where(x > model_parameters[2], np.minimum(np.exp((x-model_parameters[3])*model_parameters[4]), model_parameters[5]), 0.0)\n"
     ]
    },
    {
     "data": {
      "text/html": [
       "&lt;Table length=16&gt;\n",
       "<table id=\"table139953528699312-727000\" class=\"table-striped table-bordered table-condensed\">\n",
       "<thead><tr><th>idx</th><th>SAGA_name</th><th>NSAID</th><th>N_gri_no_spec</th><th>mean_miss_uniform</th><th>N_miss_1s_uniform</th><th>N_miss_3s_uniform</th><th>mean_miss_model</th><th>N_miss_1s_model</th><th>N_miss_3s_model</th></tr></thead>\n",
       "<tr><td>0</td><td>Gilgamesh</td><td>166313</td><td>29</td><td>0.0234817813765</td><td>0.0</td><td>1.0</td><td>0.303176</td><td>1.0</td><td>3.0</td></tr>\n",
       "<tr><td>1</td><td>Odyssey</td><td>147100</td><td>26</td><td>0.133676092545</td><td>0.0</td><td>2.0</td><td>0.0646097</td><td>0.0</td><td>2.0</td></tr>\n",
       "<tr><td>2</td><td>Dune</td><td>165536</td><td>47</td><td>0.0336194563662</td><td>0.0</td><td>1.0</td><td>0.282921</td><td>1.0</td><td>3.0</td></tr>\n",
       "<tr><td>3</td><td>AnaK</td><td>61945</td><td>62</td><td>0.0697412823397</td><td>0.0</td><td>2.0</td><td>0.458542</td><td>1.0</td><td>3.0</td></tr>\n",
       "<tr><td>4</td><td>Narnia</td><td>132339</td><td>71</td><td>0.186842105263</td><td>1.0</td><td>2.0</td><td>0.0816284</td><td>0.0</td><td>2.0</td></tr>\n",
       "<tr><td>5</td><td>OBrother</td><td>149781</td><td>88</td><td>0.244105409154</td><td>1.0</td><td>3.0</td><td>0.153209</td><td>0.0</td><td>2.0</td></tr>\n",
       "<tr><td>6</td><td>StarTrek</td><td>33446</td><td>126</td><td>0.185294117647</td><td>1.0</td><td>2.0</td><td>0.525959</td><td>1.0</td><td>4.0</td></tr>\n",
       "<tr><td>7</td><td>Catch22</td><td>150887</td><td>159</td><td>0.936671575847</td><td>2.0</td><td>5.0</td><td>0.217914</td><td>1.0</td><td>3.0</td></tr>\n",
       "<tr><td>8</td><td>ScoobyDoo</td><td>161174</td><td>405</td><td>3.80877742947</td><td>6.0</td><td>11.0</td><td>0.534678</td><td>1.0</td><td>4.0</td></tr>\n",
       "<tr><td>9</td><td>MobyDick</td><td>85746</td><td>993</td><td>3.50264550265</td><td>5.0</td><td>10.0</td><td>1.18967</td><td>2.0</td><td>6.0</td></tr>\n",
       "<tr><td>10</td><td>Othello</td><td>145729</td><td>1062</td><td>3.19879518072</td><td>5.0</td><td>10.0</td><td>1.34407</td><td>2.0</td><td>6.0</td></tr>\n",
       "<tr><td>11</td><td>Alice</td><td>140594</td><td>2022</td><td>3.68306010929</td><td>6.0</td><td>11.0</td><td>2.71973</td><td>4.0</td><td>9.0</td></tr>\n",
       "<tr><td>12</td><td>Bandamanna</td><td>126115</td><td>697</td><td>3.0704845815</td><td>5.0</td><td>9.0</td><td>1.19401</td><td>2.0</td><td>6.0</td></tr>\n",
       "<tr><td>13</td><td>Sopranos</td><td>13927</td><td>1565</td><td>8.02564102564</td><td>11.0</td><td>18.0</td><td>3.11854</td><td>5.0</td><td>10.0</td></tr>\n",
       "<tr><td>14</td><td>Oz</td><td>137625</td><td>1546</td><td>31.8762886598</td><td>38.0</td><td>50.0</td><td>2.55861</td><td>4.0</td><td>8.0</td></tr>\n",
       "<tr><td>15</td><td>HarryPotter</td><td>129237</td><td>753</td><td>52.5348837209</td><td>60.0</td><td>76.0</td><td>1.177</td><td>2.0</td><td>6.0</td></tr>\n",
       "</table><style>table.dataTable {clear: both; width: auto !important; margin: 0 !important;}\n",
       ".dataTables_info, .dataTables_length, .dataTables_filter, .dataTables_paginate{\n",
       "display: inline-block; margin-right: 1em; }\n",
       ".paginate_button { margin-right: 5px; }\n",
       "</style>\n",
       "<script>\n",
       "\n",
       "var astropy_sort_num = function(a, b) {\n",
       "    var a_num = parseFloat(a);\n",
       "    var b_num = parseFloat(b);\n",
       "\n",
       "    if (isNaN(a_num) && isNaN(b_num))\n",
       "        return ((a < b) ? -1 : ((a > b) ? 1 : 0));\n",
       "    else if (!isNaN(a_num) && !isNaN(b_num))\n",
       "        return ((a_num < b_num) ? -1 : ((a_num > b_num) ? 1 : 0));\n",
       "    else\n",
       "        return isNaN(a_num) ? -1 : 1;\n",
       "}\n",
       "\n",
       "require.config({paths: {\n",
       "    datatables: 'https://cdn.datatables.net/1.10.12/js/jquery.dataTables.min'\n",
       "}});\n",
       "require([\"datatables\"], function(){\n",
       "    console.log(\"$('#table139953528699312-727000').dataTable()\");\n",
       "    \n",
       "jQuery.extend( jQuery.fn.dataTableExt.oSort, {\n",
       "    \"optionalnum-asc\": astropy_sort_num,\n",
       "    \"optionalnum-desc\": function (a,b) { return -astropy_sort_num(a, b); }\n",
       "});\n",
       "\n",
       "    $('#table139953528699312-727000').dataTable({\n",
       "        order: [],\n",
       "        pageLength: 50,\n",
       "        lengthMenu: [[10, 25, 50, 100, 500, 1000, -1], [10, 25, 50, 100, 500, 1000, 'All']],\n",
       "        pagingType: \"full_numbers\",\n",
       "        columnDefs: [{targets: [0, 2, 3, 4, 5, 6, 7, 8, 9], type: \"optionalnum\"}]\n",
       "    });\n",
       "});\n",
       "</script>\n"
      ],
      "text/plain": [
       "<IPython.core.display.HTML object>"
      ]
     },
     "execution_count": 6,
     "metadata": {},
     "output_type": "execute_result"
    }
   ],
   "source": [
    "data = defaultdict(list)\n",
    "\n",
    "for t in base_paper1:\n",
    "    host_id = t['HOST_NSAID'][0]\n",
    "    data['SAGA_name'].append(saga_host_catalog.id_to_name(host_id))\n",
    "    data['NSAID'].append(host_id)\n",
    "    data['N_gri_no_spec'].append((~C.has_spec).count(t))\n",
    "    \n",
    "    m = (C.is_sat.count(t)+1)/(C.has_spec.count(t)+2) * (~C.has_spec).count(t)\n",
    "    data['mean_miss_uniform'].append(m)\n",
    "    \n",
    "    data['N_miss_1s_uniform'].append(poisson.isf(norm.sf(1.0), m))\n",
    "    data['N_miss_3s_uniform'].append(poisson.isf(norm.sf(3.0), m))\n",
    "    \n",
    "    m = calc_simple_satellite_probability((~C.has_spec).filter(t)).sum()\n",
    "    data['mean_miss_model'].append(m)\n",
    "    data['N_miss_1s_model'].append(poisson.isf(norm.sf(1.0), m))\n",
    "    data['N_miss_3s_model'].append(poisson.isf(norm.sf(3.0), m))\n",
    "    \n",
    "data = Table(data)\n",
    "data.show_in_notebook()"
   ]
  },
  {
   "cell_type": "markdown",
   "metadata": {},
   "source": [
    "## Target Selection"
   ]
  },
  {
   "cell_type": "code",
   "execution_count": 7,
   "metadata": {
    "collapsed": true
   },
   "outputs": [],
   "source": [
    "saga_target_selection = TargetSelection(saga_database)"
   ]
  },
  {
   "cell_type": "code",
   "execution_count": 8,
   "metadata": {},
   "outputs": [
    {
     "name": "stderr",
     "output_type": "stream",
     "text": [
      "/home/yymao/Dropbox/Academia/Collaborations/SAGA-local/code/saga/SAGA/targets/assign_targeting_score.py:13: RuntimeWarning: overflow encountered in exp\n",
      "  return np.where(x > model_parameters[2], np.minimum(np.exp((x-model_parameters[3])*model_parameters[4]), model_parameters[5]), 0.0)\n",
      "/home/yymao/Dropbox/Academia/Collaborations/SAGA-local/code/saga/SAGA/targets/gmm.py:64: RuntimeWarning: invalid value encountered in true_divide\n",
      "  p_sat /= p_notsat\n"
     ]
    }
   ],
   "source": [
    "targets_all = saga_target_selection.compile_preliminary_targets('all', \n",
    "                                                  cuts=(C.basic_cut & ~C.has_spec & C.gri_cut), \n",
    "                                                  columns=['HOST_NSAID', 'r_mag'])"
   ]
  },
  {
   "cell_type": "code",
   "execution_count": 9,
   "metadata": {},
   "outputs": [
    {
     "data": {
      "text/html": [
       "&lt;Table length=71&gt;\n",
       "<table id=\"table139953528699312-619434\" class=\"table-striped table-bordered table-condensed\">\n",
       "<thead><tr><th>idx</th><th>SAGA_name</th><th>NSAID</th><th>bright</th><th>GMM_high_p</th><th>mean_miss_200</th><th>mean_miss_250</th><th>mean_miss_350</th><th>mean_miss_450</th></tr></thead>\n",
       "<tr><td>0</td><td>Othello</td><td>145729</td><td>0</td><td>105</td><td>0.284131407738</td><td>0.266798377037</td><td>0.237104177475</td><td>0.206756234169</td></tr>\n",
       "<tr><td>1</td><td>Catch22</td><td>150887</td><td>0</td><td>17</td><td>0.0</td><td>0.0</td><td>0.0</td><td>0.0</td></tr>\n",
       "<tr><td>2</td><td>Alice</td><td>140594</td><td>2</td><td>229</td><td>1.01773166656</td><td>0.739386737347</td><td>0.707082211971</td><td>0.673094391823</td></tr>\n",
       "<tr><td>3</td><td></td><td>142722</td><td>3</td><td>143</td><td>0.391233384609</td><td>0.377351999283</td><td>0.350806683302</td><td>0.31782361865</td></tr>\n",
       "<tr><td>4</td><td></td><td>150578</td><td>34</td><td>145</td><td>0.368648946285</td><td>0.347841501236</td><td>0.320305973291</td><td>0.289687126875</td></tr>\n",
       "<tr><td>5</td><td></td><td>163956</td><td>4</td><td>85</td><td>0.219741046429</td><td>0.203430622816</td><td>0.164902821183</td><td>0.127585157752</td></tr>\n",
       "<tr><td>6</td><td></td><td>165153</td><td>7</td><td>177</td><td>0.480910122395</td><td>0.458345174789</td><td>0.402512013912</td><td>0.351835846901</td></tr>\n",
       "<tr><td>7</td><td></td><td>135879</td><td>2</td><td>164</td><td>0.518700242043</td><td>0.506344199181</td><td>0.469969600439</td><td>0.416244208813</td></tr>\n",
       "<tr><td>8</td><td>Bandamanna</td><td>126115</td><td>21</td><td>74</td><td>0.165192708373</td><td>0.15013858676</td><td>0.122020274401</td><td>0.0800482258201</td></tr>\n",
       "<tr><td>9</td><td></td><td>144151</td><td>1</td><td>87</td><td>0.278940677643</td><td>0.261721789837</td><td>0.200519680977</td><td>0.135404646397</td></tr>\n",
       "<tr><td>10</td><td></td><td>163136</td><td>5</td><td>85</td><td>0.268391788006</td><td>0.24635002017</td><td>0.204897373915</td><td>0.145700871944</td></tr>\n",
       "<tr><td>11</td><td></td><td>164995</td><td>7</td><td>153</td><td>0.477389216423</td><td>0.463048636913</td><td>0.42102086544</td><td>0.387990176678</td></tr>\n",
       "<tr><td>12</td><td>Odyssey</td><td>147100</td><td>1</td><td>5</td><td>0.0</td><td>0.0</td><td>0.0</td><td>0.0</td></tr>\n",
       "<tr><td>13</td><td></td><td>140458</td><td>6</td><td>94</td><td>0.274188518524</td><td>0.247858539224</td><td>0.190465137362</td><td>0.131302833557</td></tr>\n",
       "<tr><td>14</td><td></td><td>127226</td><td>67</td><td>305</td><td>2.11968040466</td><td>1.89054727554</td><td>1.51539218426</td><td>0.903432786465</td></tr>\n",
       "<tr><td>15</td><td></td><td>147606</td><td>5</td><td>108</td><td>0.247943341732</td><td>0.23112487793</td><td>0.177200168371</td><td>0.130886971951</td></tr>\n",
       "<tr><td>16</td><td></td><td>144121</td><td>2</td><td>140</td><td>0.464921921492</td><td>0.454017311335</td><td>0.413585662842</td><td>0.381243675947</td></tr>\n",
       "<tr><td>17</td><td></td><td>138201</td><td>12</td><td>249</td><td>1.27285134792</td><td>1.01207327843</td><td>0.711058557034</td><td>0.648453474045</td></tr>\n",
       "<tr><td>18</td><td></td><td>135440</td><td>3</td><td>123</td><td>0.456900060177</td><td>0.43033260107</td><td>0.388719975948</td><td>0.332281112671</td></tr>\n",
       "<tr><td>19</td><td></td><td>143856</td><td>6</td><td>99</td><td>0.249703645706</td><td>0.233077302575</td><td>0.198120549321</td><td>0.160263687372</td></tr>\n",
       "<tr><td>20</td><td></td><td>52773</td><td>3</td><td>95</td><td>0.219609588385</td><td>0.194473922253</td><td>0.156760707498</td><td>0.106010466814</td></tr>\n",
       "<tr><td>21</td><td></td><td>160302</td><td>3</td><td>129</td><td>0.434152007103</td><td>0.40218231082</td><td>0.357951879501</td><td>0.296768635511</td></tr>\n",
       "<tr><td>22</td><td>OBrother</td><td>149781</td><td>2</td><td>12</td><td>0.0</td><td>0.0</td><td>0.0</td><td>0.0</td></tr>\n",
       "<tr><td>23</td><td></td><td>139467</td><td>6</td><td>118</td><td>0.417368382215</td><td>0.40421974659</td><td>0.342964112759</td><td>0.279728084803</td></tr>\n",
       "<tr><td>24</td><td></td><td>157374</td><td>4</td><td>144</td><td>0.446982830763</td><td>0.423491030931</td><td>0.386919260025</td><td>0.348256886005</td></tr>\n",
       "<tr><td>25</td><td></td><td>165980</td><td>3</td><td>48</td><td>0.14819778502</td><td>0.130347311497</td><td>0.0994911193848</td><td>0.0724395737052</td></tr>\n",
       "<tr><td>26</td><td></td><td>138642</td><td>6</td><td>227</td><td>1.04577922821</td><td>0.672680735588</td><td>0.615609407425</td><td>0.565805315971</td></tr>\n",
       "<tr><td>27</td><td></td><td>158541</td><td>10</td><td>194</td><td>1.17988836765</td><td>0.69896030426</td><td>0.656209111214</td><td>0.62079846859</td></tr>\n",
       "<tr><td>28</td><td></td><td>150307</td><td>15</td><td>60</td><td>0.172194004059</td><td>0.148696288466</td><td>0.105776265264</td><td>0.0642952099442</td></tr>\n",
       "<tr><td>29</td><td></td><td>165082</td><td>16</td><td>290</td><td>1.68433773518</td><td>1.48877668381</td><td>0.860695958138</td><td>0.809566557407</td></tr>\n",
       "<tr><td>30</td><td></td><td>145398</td><td>17</td><td>301</td><td>1.91643226147</td><td>1.66176259518</td><td>0.830127954483</td><td>0.773775935173</td></tr>\n",
       "<tr><td>31</td><td></td><td>129387</td><td>18</td><td>82</td><td>0.263617813587</td><td>0.22795727849</td><td>0.195469737053</td><td>0.163131564856</td></tr>\n",
       "<tr><td>32</td><td>Gilgamesh</td><td>166313</td><td>0</td><td>8</td><td>0.0</td><td>0.0</td><td>0.0</td><td>0.0</td></tr>\n",
       "<tr><td>33</td><td></td><td>166141</td><td>26</td><td>405</td><td>2.87440609932</td><td>2.42926883698</td><td>1.83365786076</td><td>1.18891108036</td></tr>\n",
       "<tr><td>34</td><td></td><td>69028</td><td>5</td><td>122</td><td>0.485783338547</td><td>0.470468252897</td><td>0.44078323245</td><td>0.391768991947</td></tr>\n",
       "<tr><td>35</td><td></td><td>141465</td><td>9</td><td>105</td><td>0.265964031219</td><td>0.257214307785</td><td>0.188030928373</td><td>0.153777346015</td></tr>\n",
       "<tr><td>36</td><td></td><td>145879</td><td>9</td><td>208</td><td>0.789597690105</td><td>0.644771397114</td><td>0.589247584343</td><td>0.541210532188</td></tr>\n",
       "<tr><td>37</td><td></td><td>145297</td><td>4</td><td>140</td><td>0.461332321167</td><td>0.43850082159</td><td>0.396142601967</td><td>0.346626758575</td></tr>\n",
       "<tr><td>38</td><td>Sopranos</td><td>13927</td><td>9</td><td>233</td><td>1.10849702358</td><td>0.569594502449</td><td>0.486257731915</td><td>0.454403042793</td></tr>\n",
       "<tr><td>39</td><td>Dune</td><td>165536</td><td>0</td><td>8</td><td>0.0</td><td>0.0</td><td>0.0</td><td>0.0</td></tr>\n",
       "<tr><td>40</td><td></td><td>140301</td><td>4</td><td>190</td><td>0.851947367191</td><td>0.600338876247</td><td>0.554251194</td><td>0.498146593571</td></tr>\n",
       "<tr><td>41</td><td>HarryPotter</td><td>129237</td><td>26</td><td>84</td><td>0.221027478576</td><td>0.202360332012</td><td>0.166742324829</td><td>0.129892885685</td></tr>\n",
       "<tr><td>42</td><td></td><td>32</td><td>8</td><td>167</td><td>0.511445879936</td><td>0.491801917553</td><td>0.451411724091</td><td>0.42193749547</td></tr>\n",
       "<tr><td>43</td><td>Narnia</td><td>132339</td><td>0</td><td>7</td><td>0.0</td><td>0.0</td><td>0.0</td><td>0.0</td></tr>\n",
       "<tr><td>44</td><td></td><td>130133</td><td>83</td><td>275</td><td>1.91372728348</td><td>1.56378912926</td><td>1.13732194901</td><td>0.839309811592</td></tr>\n",
       "<tr><td>45</td><td>StarTrek</td><td>33446</td><td>0</td><td>11</td><td>0.0</td><td>0.0</td><td>0.0</td><td>0.0</td></tr>\n",
       "<tr><td>46</td><td></td><td>94217</td><td>4</td><td>128</td><td>0.361059248447</td><td>0.339297473431</td><td>0.303178787231</td><td>0.236404716969</td></tr>\n",
       "<tr><td>47</td><td></td><td>165707</td><td>4</td><td>75</td><td>0.199116021395</td><td>0.181824028492</td><td>0.142730712891</td><td>0.110518530011</td></tr>\n",
       "<tr><td>48</td><td>AnaK</td><td>61945</td><td>0</td><td>13</td><td>0.0</td><td>0.0</td><td>0.0</td><td>0.0</td></tr>\n",
       "<tr><td>49</td><td></td><td>16235</td><td>5</td><td>115</td><td>0.353550434113</td><td>0.337648451328</td><td>0.299075722694</td><td>0.262152284384</td></tr>\n",
       "<tr><td>50</td><td></td><td>135129</td><td>8</td><td>123</td><td>0.355023384094</td><td>0.330371975899</td><td>0.292988717556</td><td>0.255055606365</td></tr>\n",
       "<tr><td>51</td><td></td><td>149977</td><td>34</td><td>82</td><td>0.14192160964</td><td>0.128184586763</td><td>0.0894365236163</td><td>0.0602065548301</td></tr>\n",
       "<tr><td>52</td><td></td><td>153017</td><td>30</td><td>91</td><td>0.286727786064</td><td>0.271924614906</td><td>0.2512819767</td><td>0.224531590939</td></tr>\n",
       "<tr><td>53</td><td></td><td>135594</td><td>8</td><td>180</td><td>0.524375557899</td><td>0.500609636307</td><td>0.448575258255</td><td>0.404706865549</td></tr>\n",
       "<tr><td>54</td><td></td><td>16559</td><td>11</td><td>128</td><td>0.296703219414</td><td>0.276983082294</td><td>0.23545512557</td><td>0.199338912964</td></tr>\n",
       "<tr><td>55</td><td></td><td>136403</td><td>2</td><td>90</td><td>0.177349627018</td><td>0.164292946458</td><td>0.118077605963</td><td>0.0748261883855</td></tr>\n",
       "<tr><td>56</td><td></td><td>165316</td><td>6</td><td>133</td><td>0.402460277081</td><td>0.382304549217</td><td>0.299125760794</td><td>0.25536814332</td></tr>\n",
       "<tr><td>57</td><td></td><td>138375</td><td>10</td><td>137</td><td>0.437339603901</td><td>0.405573070049</td><td>0.348217457533</td><td>0.293904662132</td></tr>\n",
       "<tr><td>58</td><td></td><td>159593</td><td>7</td><td>109</td><td>0.39343470335</td><td>0.376397818327</td><td>0.322417736053</td><td>0.281330525875</td></tr>\n",
       "<tr><td>59</td><td></td><td>101649</td><td>3</td><td>75</td><td>0.195816785097</td><td>0.182229205966</td><td>0.126433059573</td><td>0.0706263482571</td></tr>\n",
       "<tr><td>60</td><td></td><td>140065</td><td>10</td><td>198</td><td>1.01717793941</td><td>0.728815257549</td><td>0.684071362019</td><td>0.645089030266</td></tr>\n",
       "<tr><td>61</td><td>MobyDick</td><td>85746</td><td>3</td><td>77</td><td>0.307379186153</td><td>0.279699325562</td><td>0.243157684803</td><td>0.197814047337</td></tr>\n",
       "<tr><td>62</td><td></td><td>163975</td><td>7</td><td>222</td><td>0.918958842754</td><td>0.725531697273</td><td>0.676992058754</td><td>0.629478752613</td></tr>\n",
       "<tr><td>63</td><td></td><td>144953</td><td>3</td><td>77</td><td>0.21440269053</td><td>0.202487289906</td><td>0.175825208426</td><td>0.14018933475</td></tr>\n",
       "<tr><td>64</td><td>ScoobyDoo</td><td>161174</td><td>0</td><td>38</td><td>0.103518307209</td><td>0.0933094471693</td><td>0.0494138151407</td><td>0.0</td></tr>\n",
       "<tr><td>65</td><td></td><td>131531</td><td>68</td><td>251</td><td>2.0933842659</td><td>1.7932318449</td><td>0.91590321064</td><td>0.874650061131</td></tr>\n",
       "<tr><td>66</td><td></td><td>94340</td><td>16</td><td>170</td><td>0.478564888239</td><td>0.452197402716</td><td>0.387083441019</td><td>0.346650183201</td></tr>\n",
       "<tr><td>67</td><td></td><td>130625</td><td>62</td><td>226</td><td>1.59527397156</td><td>1.47937560081</td><td>0.641642272472</td><td>0.586352169514</td></tr>\n",
       "<tr><td>68</td><td></td><td>139281</td><td>6</td><td>165</td><td>0.463705867529</td><td>0.448510080576</td><td>0.384400606155</td><td>0.332540184259</td></tr>\n",
       "<tr><td>69</td><td></td><td>135739</td><td>10</td><td>128</td><td>0.392409563065</td><td>0.362012922764</td><td>0.313203990459</td><td>0.275098741055</td></tr>\n",
       "<tr><td>70</td><td>Oz</td><td>137625</td><td>6</td><td>158</td><td>0.629580974579</td><td>0.605660319328</td><td>0.564876794815</td><td>0.500691413879</td></tr>\n",
       "</table><style>table.dataTable {clear: both; width: auto !important; margin: 0 !important;}\n",
       ".dataTables_info, .dataTables_length, .dataTables_filter, .dataTables_paginate{\n",
       "display: inline-block; margin-right: 1em; }\n",
       ".paginate_button { margin-right: 5px; }\n",
       "</style>\n",
       "<script>\n",
       "\n",
       "var astropy_sort_num = function(a, b) {\n",
       "    var a_num = parseFloat(a);\n",
       "    var b_num = parseFloat(b);\n",
       "\n",
       "    if (isNaN(a_num) && isNaN(b_num))\n",
       "        return ((a < b) ? -1 : ((a > b) ? 1 : 0));\n",
       "    else if (!isNaN(a_num) && !isNaN(b_num))\n",
       "        return ((a_num < b_num) ? -1 : ((a_num > b_num) ? 1 : 0));\n",
       "    else\n",
       "        return isNaN(a_num) ? -1 : 1;\n",
       "}\n",
       "\n",
       "require.config({paths: {\n",
       "    datatables: 'https://cdn.datatables.net/1.10.12/js/jquery.dataTables.min'\n",
       "}});\n",
       "require([\"datatables\"], function(){\n",
       "    console.log(\"$('#table139953528699312-619434').dataTable()\");\n",
       "    \n",
       "jQuery.extend( jQuery.fn.dataTableExt.oSort, {\n",
       "    \"optionalnum-asc\": astropy_sort_num,\n",
       "    \"optionalnum-desc\": function (a,b) { return -astropy_sort_num(a, b); }\n",
       "});\n",
       "\n",
       "    $('#table139953528699312-619434').dataTable({\n",
       "        order: [],\n",
       "        pageLength: 100,\n",
       "        lengthMenu: [[10, 25, 50, 100, 500, 1000, -1], [10, 25, 50, 100, 500, 1000, 'All']],\n",
       "        pagingType: \"full_numbers\",\n",
       "        columnDefs: [{targets: [0, 2, 3, 4, 5, 6, 7, 8], type: \"optionalnum\"}]\n",
       "    });\n",
       "});\n",
       "</script>\n"
      ],
      "text/plain": [
       "<IPython.core.display.HTML object>"
      ]
     },
     "execution_count": 9,
     "metadata": {},
     "output_type": "execute_result"
    }
   ],
   "source": [
    "gmm_high_p = Query('TARGETING_SCORE >= 300.0', 'TARGETING_SCORE < 400.0')\n",
    "\n",
    "data = defaultdict(list)\n",
    "\n",
    "for t in targets_all:\n",
    "    host_id = t['HOST_NSAID'][0]\n",
    "    try:\n",
    "        name = saga_host_catalog.id_to_name(host_id)\n",
    "    except KeyError:\n",
    "        name = ''\n",
    "    data['SAGA_name'].append(name)\n",
    "    data['NSAID'].append(host_id)\n",
    "    data['bright'].append(C.sdss_limit.count(t))\n",
    "    data['GMM_high_p'].append(gmm_high_p.count(t))\n",
    "    for n in (200, 250, 350, 450):\n",
    "        data['mean_miss_{}'.format(n)].append(t['P_SIMPLE'][n:].sum() if len(t) > n else 0)\n",
    "\n",
    "data = Table(data)\n",
    "data.show_in_notebook(display_length=100)"
   ]
  },
  {
   "cell_type": "code",
   "execution_count": null,
   "metadata": {
    "collapsed": true
   },
   "outputs": [],
   "source": []
  }
 ],
 "metadata": {
  "kernelspec": {
   "display_name": "Python 3",
   "language": "python",
   "name": "python3"
  },
  "language_info": {
   "codemirror_mode": {
    "name": "ipython",
    "version": 3
   },
   "file_extension": ".py",
   "mimetype": "text/x-python",
   "name": "python",
   "nbconvert_exporter": "python",
   "pygments_lexer": "ipython3",
   "version": "3.6.2"
  }
 },
 "nbformat": 4,
 "nbformat_minor": 2
}
