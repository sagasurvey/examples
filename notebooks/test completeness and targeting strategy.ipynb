{
 "cells": [
  {
   "cell_type": "code",
   "execution_count": 1,
   "metadata": {},
   "outputs": [
    {
     "name": "stdout",
     "output_type": "stream",
     "text": [
      "SAGA code version 0.2.4\n"
     ]
    }
   ],
   "source": [
    "# import SAGA code\n",
    "\n",
    "import SAGA\n",
    "from SAGA import ObjectCuts as C\n",
    "from SAGA.utils import get_sdss_bands, get_sdss_colors\n",
    "from SAGA.targets import TargetSelection, calc_simple_satellite_probability\n",
    "\n",
    "print('SAGA code version', SAGA.__version__)"
   ]
  },
  {
   "cell_type": "code",
   "execution_count": 2,
   "metadata": {
    "collapsed": true
   },
   "outputs": [],
   "source": [
    "# import other modules\n",
    "\n",
    "from collections import defaultdict\n",
    "import numpy as np\n",
    "from scipy.stats import poisson, norm\n",
    "from astropy.table import Table\n",
    "from easyquery import Query"
   ]
  },
  {
   "cell_type": "code",
   "execution_count": 3,
   "metadata": {},
   "outputs": [
    {
     "name": "stdout",
     "output_type": "stream",
     "text": [
      "Downloading https://docs.google.com/spreadsheets/d/1b3k2eyFjHFDtmHce1xi6JKuj3ATOWYduTBFftx5oPp8/export?format=csv&gid=1136984451 [Done]\n",
      "Downloading https://docs.google.com/spreadsheets/d/1GJYuhqfKeuJr-IyyGF_NDLb_ezL6zBiX2aeZFHHPr_s/export?format=csv&gid=0 [Done]\n"
     ]
    }
   ],
   "source": [
    "# initialize SAGA objects (Database, HostCatalog, ObjectCatalog)\n",
    "# NOTE: change the path of `root_dir` to your SAGA dropbox path\n",
    "\n",
    "saga_database = SAGA.Database(root_dir='/home/yymao/Dropbox/Academia/Collaborations/SAGA')\n",
    "saga_host_catalog = SAGA.HostCatalog(saga_database)\n",
    "saga_object_catalog = SAGA.ObjectCatalog(saga_database)"
   ]
  },
  {
   "cell_type": "markdown",
   "metadata": {},
   "source": [
    "## check completeness for 16 paper1 hosts"
   ]
  },
  {
   "cell_type": "code",
   "execution_count": 5,
   "metadata": {
    "collapsed": true
   },
   "outputs": [],
   "source": [
    "columns = 'HOST_NSAID SATS SPEC_Z ZQUALITY gr ri r_mag'.split()\n",
    "cuts = C.basic_cut & C.gri_cut & (~C.sdss_limit)\n",
    "\n",
    "base_paper1 = saga_object_catalog.load(hosts='paper1', cuts=cuts, columns=columns)"
   ]
  },
  {
   "cell_type": "code",
   "execution_count": 6,
   "metadata": {},
   "outputs": [
    {
     "name": "stderr",
     "output_type": "stream",
     "text": [
      "/home/yymao/Dropbox/Academia/Collaborations/SAGA-local/code/saga/SAGA/targets/assign_targeting_score.py:13: RuntimeWarning: overflow encountered in exp\n",
      "  return np.where(x > model_parameters[2], np.minimum(np.exp((x-model_parameters[3])*model_parameters[4]), model_parameters[5]), 0.0)\n"
     ]
    },
    {
     "data": {
      "text/html": [
       "&lt;Table length=16&gt;\n",
       "<table id=\"table139953528699312-727000\" class=\"table-striped table-bordered table-condensed\">\n",
       "<thead><tr><th>idx</th><th>SAGA_name</th><th>NSAID</th><th>N_gri_no_spec</th><th>mean_miss_uniform</th><th>N_miss_1s_uniform</th><th>N_miss_3s_uniform</th><th>mean_miss_model</th><th>N_miss_1s_model</th><th>N_miss_3s_model</th></tr></thead>\n",
       "<tr><td>0</td><td>Gilgamesh</td><td>166313</td><td>29</td><td>0.0234817813765</td><td>0.0</td><td>1.0</td><td>0.303176</td><td>1.0</td><td>3.0</td></tr>\n",
       "<tr><td>1</td><td>Odyssey</td><td>147100</td><td>26</td><td>0.133676092545</td><td>0.0</td><td>2.0</td><td>0.0646097</td><td>0.0</td><td>2.0</td></tr>\n",
       "<tr><td>2</td><td>Dune</td><td>165536</td><td>47</td><td>0.0336194563662</td><td>0.0</td><td>1.0</td><td>0.282921</td><td>1.0</td><td>3.0</td></tr>\n",
       "<tr><td>3</td><td>AnaK</td><td>61945</td><td>62</td><td>0.0697412823397</td><td>0.0</td><td>2.0</td><td>0.458542</td><td>1.0</td><td>3.0</td></tr>\n",
       "<tr><td>4</td><td>Narnia</td><td>132339</td><td>71</td><td>0.186842105263</td><td>1.0</td><td>2.0</td><td>0.0816284</td><td>0.0</td><td>2.0</td></tr>\n",
       "<tr><td>5</td><td>OBrother</td><td>149781</td><td>88</td><td>0.244105409154</td><td>1.0</td><td>3.0</td><td>0.153209</td><td>0.0</td><td>2.0</td></tr>\n",
       "<tr><td>6</td><td>StarTrek</td><td>33446</td><td>126</td><td>0.185294117647</td><td>1.0</td><td>2.0</td><td>0.525959</td><td>1.0</td><td>4.0</td></tr>\n",
       "<tr><td>7</td><td>Catch22</td><td>150887</td><td>159</td><td>0.936671575847</td><td>2.0</td><td>5.0</td><td>0.217914</td><td>1.0</td><td>3.0</td></tr>\n",
       "<tr><td>8</td><td>ScoobyDoo</td><td>161174</td><td>405</td><td>3.80877742947</td><td>6.0</td><td>11.0</td><td>0.534678</td><td>1.0</td><td>4.0</td></tr>\n",
       "<tr><td>9</td><td>MobyDick</td><td>85746</td><td>993</td><td>3.50264550265</td><td>5.0</td><td>10.0</td><td>1.18967</td><td>2.0</td><td>6.0</td></tr>\n",
       "<tr><td>10</td><td>Othello</td><td>145729</td><td>1062</td><td>3.19879518072</td><td>5.0</td><td>10.0</td><td>1.34407</td><td>2.0</td><td>6.0</td></tr>\n",
       "<tr><td>11</td><td>Alice</td><td>140594</td><td>2022</td><td>3.68306010929</td><td>6.0</td><td>11.0</td><td>2.71973</td><td>4.0</td><td>9.0</td></tr>\n",
       "<tr><td>12</td><td>Bandamanna</td><td>126115</td><td>697</td><td>3.0704845815</td><td>5.0</td><td>9.0</td><td>1.19401</td><td>2.0</td><td>6.0</td></tr>\n",
       "<tr><td>13</td><td>Sopranos</td><td>13927</td><td>1565</td><td>8.02564102564</td><td>11.0</td><td>18.0</td><td>3.11854</td><td>5.0</td><td>10.0</td></tr>\n",
       "<tr><td>14</td><td>Oz</td><td>137625</td><td>1546</td><td>31.8762886598</td><td>38.0</td><td>50.0</td><td>2.55861</td><td>4.0</td><td>8.0</td></tr>\n",
       "<tr><td>15</td><td>HarryPotter</td><td>129237</td><td>753</td><td>52.5348837209</td><td>60.0</td><td>76.0</td><td>1.177</td><td>2.0</td><td>6.0</td></tr>\n",
       "</table><style>table.dataTable {clear: both; width: auto !important; margin: 0 !important;}\n",
       ".dataTables_info, .dataTables_length, .dataTables_filter, .dataTables_paginate{\n",
       "display: inline-block; margin-right: 1em; }\n",
       ".paginate_button { margin-right: 5px; }\n",
       "</style>\n",
       "<script>\n",
       "\n",
       "var astropy_sort_num = function(a, b) {\n",
       "    var a_num = parseFloat(a);\n",
       "    var b_num = parseFloat(b);\n",
       "\n",
       "    if (isNaN(a_num) && isNaN(b_num))\n",
       "        return ((a < b) ? -1 : ((a > b) ? 1 : 0));\n",
       "    else if (!isNaN(a_num) && !isNaN(b_num))\n",
       "        return ((a_num < b_num) ? -1 : ((a_num > b_num) ? 1 : 0));\n",
       "    else\n",
       "        return isNaN(a_num) ? -1 : 1;\n",
       "}\n",
       "\n",
       "require.config({paths: {\n",
       "    datatables: 'https://cdn.datatables.net/1.10.12/js/jquery.dataTables.min'\n",
       "}});\n",
       "require([\"datatables\"], function(){\n",
       "    console.log(\"$('#table139953528699312-727000').dataTable()\");\n",
       "    \n",
       "jQuery.extend( jQuery.fn.dataTableExt.oSort, {\n",
       "    \"optionalnum-asc\": astropy_sort_num,\n",
       "    \"optionalnum-desc\": function (a,b) { return -astropy_sort_num(a, b); }\n",
       "});\n",
       "\n",
       "    $('#table139953528699312-727000').dataTable({\n",
       "        order: [],\n",
       "        pageLength: 50,\n",
       "        lengthMenu: [[10, 25, 50, 100, 500, 1000, -1], [10, 25, 50, 100, 500, 1000, 'All']],\n",
       "        pagingType: \"full_numbers\",\n",
       "        columnDefs: [{targets: [0, 2, 3, 4, 5, 6, 7, 8, 9], type: \"optionalnum\"}]\n",
       "    });\n",
       "});\n",
       "</script>\n"
      ],
      "text/plain": [
       "<IPython.core.display.HTML object>"
      ]
     },
     "execution_count": 6,
     "metadata": {},
     "output_type": "execute_result"
    }
   ],
   "source": [
    "data = defaultdict(list)\n",
    "\n",
    "for t in base_paper1:\n",
    "    host_id = t['HOST_NSAID'][0]\n",
    "    data['SAGA_name'].append(saga_host_catalog.id_to_name(host_id))\n",
    "    data['NSAID'].append(host_id)\n",
    "    data['N_gri_no_spec'].append((~C.has_spec).count(t))\n",
    "    \n",
    "    m = (C.is_sat.count(t)+1)/(C.has_spec.count(t)+2) * (~C.has_spec).count(t)\n",
    "    data['mean_miss_uniform'].append(m)\n",
    "    \n",
    "    data['N_miss_1s_uniform'].append(poisson.isf(norm.sf(1.0), m))\n",
    "    data['N_miss_3s_uniform'].append(poisson.isf(norm.sf(3.0), m))\n",
    "    \n",
    "    m = calc_simple_satellite_probability((~C.has_spec).filter(t)).sum()\n",
    "    data['mean_miss_model'].append(m)\n",
    "    data['N_miss_1s_model'].append(poisson.isf(norm.sf(1.0), m))\n",
    "    data['N_miss_3s_model'].append(poisson.isf(norm.sf(3.0), m))\n",
    "    \n",
    "data = Table(data)\n",
    "data.show_in_notebook()"
   ]
  },
  {
   "cell_type": "markdown",
   "metadata": {},
   "source": [
    "## Target Selection"
   ]
  },
  {
   "cell_type": "code",
   "execution_count": 4,
   "metadata": {
    "collapsed": true
   },
   "outputs": [],
   "source": [
    "saga_target_selection = TargetSelection(saga_database)"
   ]
  },
  {
   "cell_type": "code",
   "execution_count": 5,
   "metadata": {},
   "outputs": [
    {
     "name": "stderr",
     "output_type": "stream",
     "text": [
      "/home/yymao/miniconda3/lib/python3.6/site-packages/SAGA/targets/assign_targeting_score.py:13: RuntimeWarning: overflow encountered in exp\n",
      "  return np.where(x > model_parameters[2], np.minimum(np.exp((x-model_parameters[3])*model_parameters[4]), model_parameters[5]), 0.0)\n",
      "/home/yymao/miniconda3/lib/python3.6/site-packages/SAGA/targets/gmm.py:64: RuntimeWarning: invalid value encountered in true_divide\n",
      "  p_sat /= p_notsat\n"
     ]
    }
   ],
   "source": [
    "targets_all = saga_target_selection.compile_preliminary_targets('all', \n",
    "                                                  cuts=(C.basic_cut & ~C.has_spec & C.gri_cut), \n",
    "                                                  columns=['HOST_NSAID', 'r_mag'])"
   ]
  },
  {
   "cell_type": "code",
   "execution_count": 9,
   "metadata": {},
   "outputs": [
    {
     "data": {
      "text/html": [
       "&lt;Table length=71&gt;\n",
       "<table id=\"table140549853690400-573655\" class=\"table-striped table-bordered table-condensed\">\n",
       "<thead><tr><th>idx</th><th>SAGA_name</th><th>NSAID</th><th>bright</th><th>GMM_high_p</th><th>mean_miss_0</th><th>mean_miss_220</th><th>mean_miss_440</th></tr></thead>\n",
       "<tr><td>0</td><td>Othello</td><td>145729</td><td>0</td><td>105</td><td>1.34407</td><td>0.282261639833</td><td>0.211919814348</td></tr>\n",
       "<tr><td>1</td><td>Catch22</td><td>150887</td><td>0</td><td>17</td><td>0.217914</td><td>0.0</td><td>0.0</td></tr>\n",
       "<tr><td>2</td><td>Alice</td><td>140594</td><td>2</td><td>229</td><td>2.71973</td><td>0.958287060261</td><td>0.67477530241</td></tr>\n",
       "<tr><td>3</td><td></td><td>142722</td><td>3</td><td>143</td><td>2.22047</td><td>0.386226773262</td><td>0.320298194885</td></tr>\n",
       "<tr><td>4</td><td></td><td>150578</td><td>34</td><td>145</td><td>1.93602</td><td>0.354953169823</td><td>0.293871611357</td></tr>\n",
       "<tr><td>5</td><td></td><td>163956</td><td>4</td><td>85</td><td>0.954159</td><td>0.213318794966</td><td>0.134725540876</td></tr>\n",
       "<tr><td>6</td><td></td><td>165153</td><td>7</td><td>177</td><td>2.01491</td><td>0.473405987024</td><td>0.354754149914</td></tr>\n",
       "<tr><td>7</td><td></td><td>135879</td><td>2</td><td>164</td><td>2.55283</td><td>0.514372110367</td><td>0.418890446424</td></tr>\n",
       "<tr><td>8</td><td>Bandamanna</td><td>126115</td><td>21</td><td>74</td><td>1.19401</td><td>0.154394030571</td><td>0.0823659673333</td></tr>\n",
       "<tr><td>9</td><td></td><td>144151</td><td>1</td><td>87</td><td>0.900392</td><td>0.269932299852</td><td>0.139383554459</td></tr>\n",
       "<tr><td>10</td><td></td><td>163136</td><td>5</td><td>85</td><td>1.22735</td><td>0.262106478214</td><td>0.152881085873</td></tr>\n",
       "<tr><td>11</td><td></td><td>164995</td><td>7</td><td>153</td><td>1.94012</td><td>0.470776200294</td><td>0.389787137508</td></tr>\n",
       "<tr><td>12</td><td>Odyssey</td><td>147100</td><td>1</td><td>5</td><td>0.0646097</td><td>0.0</td><td>0.0</td></tr>\n",
       "<tr><td>13</td><td></td><td>140458</td><td>6</td><td>94</td><td>1.10827</td><td>0.270343631506</td><td>0.144055023789</td></tr>\n",
       "<tr><td>14</td><td></td><td>127226</td><td>67</td><td>305</td><td>4.25587</td><td>2.03985929489</td><td>0.904843747616</td></tr>\n",
       "<tr><td>15</td><td></td><td>147606</td><td>5</td><td>108</td><td>2.0544</td><td>0.240899294615</td><td>0.135786473751</td></tr>\n",
       "<tr><td>16</td><td></td><td>144121</td><td>2</td><td>140</td><td>1.79379</td><td>0.462705820799</td><td>0.381890952587</td></tr>\n",
       "<tr><td>17</td><td></td><td>138201</td><td>12</td><td>249</td><td>3.39758</td><td>1.14210677147</td><td>0.652974665165</td></tr>\n",
       "<tr><td>18</td><td></td><td>135440</td><td>3</td><td>123</td><td>1.95473</td><td>0.446150630713</td><td>0.334421098232</td></tr>\n",
       "<tr><td>19</td><td></td><td>143856</td><td>6</td><td>99</td><td>1.26498</td><td>0.243577480316</td><td>0.164438486099</td></tr>\n",
       "<tr><td>20</td><td></td><td>52773</td><td>3</td><td>95</td><td>1.71348</td><td>0.211956501007</td><td>0.107468508184</td></tr>\n",
       "<tr><td>21</td><td></td><td>160302</td><td>3</td><td>129</td><td>1.62145</td><td>0.415018320084</td><td>0.300085991621</td></tr>\n",
       "<tr><td>22</td><td>OBrother</td><td>149781</td><td>2</td><td>12</td><td>0.153209</td><td>0.0</td><td>0.0</td></tr>\n",
       "<tr><td>23</td><td></td><td>139467</td><td>6</td><td>118</td><td>1.85928</td><td>0.413111567497</td><td>0.286787003279</td></tr>\n",
       "<tr><td>24</td><td></td><td>157374</td><td>4</td><td>144</td><td>2.02496</td><td>0.430314958096</td><td>0.350497484207</td></tr>\n",
       "<tr><td>25</td><td></td><td>165980</td><td>3</td><td>48</td><td>0.792889</td><td>0.143044486642</td><td>0.0781548917294</td></tr>\n",
       "<tr><td>26</td><td></td><td>138642</td><td>6</td><td>227</td><td>3.64877</td><td>0.990941464901</td><td>0.5669298172</td></tr>\n",
       "<tr><td>27</td><td></td><td>158541</td><td>10</td><td>194</td><td>2.79401</td><td>0.719663143158</td><td>0.624320149422</td></tr>\n",
       "<tr><td>28</td><td></td><td>150307</td><td>15</td><td>60</td><td>0.771259</td><td>0.155690103769</td><td>0.0666996687651</td></tr>\n",
       "<tr><td>29</td><td></td><td>165082</td><td>16</td><td>290</td><td>4.28885</td><td>1.5953707695</td><td>0.816915035248</td></tr>\n",
       "<tr><td>30</td><td></td><td>145398</td><td>17</td><td>301</td><td>4.90135</td><td>1.76306962967</td><td>0.777224183083</td></tr>\n",
       "<tr><td>31</td><td></td><td>129387</td><td>18</td><td>82</td><td>1.41581</td><td>0.251733988523</td><td>0.164536863565</td></tr>\n",
       "<tr><td>32</td><td>Gilgamesh</td><td>166313</td><td>0</td><td>8</td><td>0.303176</td><td>0.0</td><td>0.0</td></tr>\n",
       "<tr><td>33</td><td></td><td>166141</td><td>26</td><td>405</td><td>6.05285</td><td>2.62785768509</td><td>1.19463324547</td></tr>\n",
       "<tr><td>34</td><td></td><td>69028</td><td>5</td><td>122</td><td>1.42837</td><td>0.481176763773</td><td>0.395891815424</td></tr>\n",
       "<tr><td>35</td><td></td><td>141465</td><td>9</td><td>105</td><td>1.35166</td><td>0.259881079197</td><td>0.155018284917</td></tr>\n",
       "<tr><td>36</td><td></td><td>145879</td><td>9</td><td>208</td><td>2.53416</td><td>0.655009031296</td><td>0.546784043312</td></tr>\n",
       "<tr><td>37</td><td></td><td>145297</td><td>4</td><td>140</td><td>1.88212</td><td>0.45415353775</td><td>0.349976718426</td></tr>\n",
       "<tr><td>38</td><td>Sopranos</td><td>13927</td><td>9</td><td>233</td><td>3.11854</td><td>1.04212617874</td><td>0.460933923721</td></tr>\n",
       "<tr><td>39</td><td>Dune</td><td>165536</td><td>0</td><td>8</td><td>0.282921</td><td>0.0</td><td>0.0</td></tr>\n",
       "<tr><td>40</td><td></td><td>140301</td><td>4</td><td>190</td><td>3.01871</td><td>0.61138021946</td><td>0.508086442947</td></tr>\n",
       "<tr><td>41</td><td>HarryPotter</td><td>129237</td><td>26</td><td>84</td><td>1.177</td><td>0.214944392443</td><td>0.135386154056</td></tr>\n",
       "<tr><td>42</td><td></td><td>32</td><td>8</td><td>167</td><td>2.16792</td><td>0.505309998989</td><td>0.423532903194</td></tr>\n",
       "<tr><td>43</td><td>Narnia</td><td>132339</td><td>0</td><td>7</td><td>0.0816284</td><td>0.0</td><td>0.0</td></tr>\n",
       "<tr><td>44</td><td></td><td>130133</td><td>83</td><td>275</td><td>3.47121</td><td>1.73278927803</td><td>0.841720342636</td></tr>\n",
       "<tr><td>45</td><td>StarTrek</td><td>33446</td><td>0</td><td>11</td><td>0.525959</td><td>0.0</td><td>0.0</td></tr>\n",
       "<tr><td>46</td><td></td><td>94217</td><td>4</td><td>128</td><td>1.66609</td><td>0.352450311184</td><td>0.246613159776</td></tr>\n",
       "<tr><td>47</td><td></td><td>165707</td><td>4</td><td>75</td><td>1.06869</td><td>0.190341204405</td><td>0.112514212728</td></tr>\n",
       "<tr><td>48</td><td>AnaK</td><td>61945</td><td>0</td><td>13</td><td>0.458542</td><td>0.0</td><td>0.0</td></tr>\n",
       "<tr><td>49</td><td></td><td>16235</td><td>5</td><td>115</td><td>1.63779</td><td>0.345106810331</td><td>0.264578163624</td></tr>\n",
       "<tr><td>50</td><td></td><td>135129</td><td>8</td><td>123</td><td>1.9108</td><td>0.348931521177</td><td>0.259656310081</td></tr>\n",
       "<tr><td>51</td><td></td><td>149977</td><td>34</td><td>82</td><td>1.11165</td><td>0.138315558434</td><td>0.061441719532</td></tr>\n",
       "<tr><td>52</td><td></td><td>153017</td><td>30</td><td>91</td><td>1.50163</td><td>0.282390534878</td><td>0.22746488452</td></tr>\n",
       "<tr><td>53</td><td></td><td>135594</td><td>8</td><td>180</td><td>2.54351</td><td>0.508703351021</td><td>0.409868776798</td></tr>\n",
       "<tr><td>54</td><td></td><td>16559</td><td>11</td><td>128</td><td>1.85457</td><td>0.293267428875</td><td>0.20183211565</td></tr>\n",
       "<tr><td>55</td><td></td><td>136403</td><td>2</td><td>90</td><td>1.3702</td><td>0.1725256145</td><td>0.0793461799622</td></tr>\n",
       "<tr><td>56</td><td></td><td>165316</td><td>6</td><td>133</td><td>1.89641</td><td>0.39327159524</td><td>0.257985234261</td></tr>\n",
       "<tr><td>57</td><td></td><td>138375</td><td>10</td><td>137</td><td>1.8735</td><td>0.41673541069</td><td>0.298470407724</td></tr>\n",
       "<tr><td>58</td><td></td><td>159593</td><td>7</td><td>109</td><td>1.7374</td><td>0.384944677353</td><td>0.284126847982</td></tr>\n",
       "<tr><td>59</td><td></td><td>101649</td><td>3</td><td>75</td><td>1.13361</td><td>0.191354423761</td><td>0.0754714012146</td></tr>\n",
       "<tr><td>60</td><td></td><td>140065</td><td>10</td><td>198</td><td>3.08224</td><td>0.747788012028</td><td>0.65051150322</td></tr>\n",
       "<tr><td>61</td><td>MobyDick</td><td>85746</td><td>3</td><td>77</td><td>1.18967</td><td>0.292267620564</td><td>0.202925622463</td></tr>\n",
       "<tr><td>62</td><td></td><td>163975</td><td>7</td><td>222</td><td>2.90453</td><td>0.840160787106</td><td>0.633273005486</td></tr>\n",
       "<tr><td>63</td><td></td><td>144953</td><td>3</td><td>77</td><td>1.02145</td><td>0.211945042014</td><td>0.141931191087</td></tr>\n",
       "<tr><td>64</td><td>ScoobyDoo</td><td>161174</td><td>0</td><td>38</td><td>0.534678</td><td>0.100031517446</td><td>0.0</td></tr>\n",
       "<tr><td>65</td><td></td><td>131531</td><td>68</td><td>251</td><td>4.43846</td><td>1.99143838882</td><td>0.875504851341</td></tr>\n",
       "<tr><td>66</td><td></td><td>94340</td><td>16</td><td>170</td><td>2.14038</td><td>0.467059254646</td><td>0.35184943676</td></tr>\n",
       "<tr><td>67</td><td></td><td>130625</td><td>62</td><td>226</td><td>3.28069</td><td>1.54302823544</td><td>0.588884234428</td></tr>\n",
       "<tr><td>68</td><td></td><td>139281</td><td>6</td><td>165</td><td>2.17851</td><td>0.457709312439</td><td>0.336000055075</td></tr>\n",
       "<tr><td>69</td><td></td><td>135739</td><td>10</td><td>128</td><td>1.89838</td><td>0.378603994846</td><td>0.278528034687</td></tr>\n",
       "<tr><td>70</td><td>Oz</td><td>137625</td><td>6</td><td>158</td><td>2.55861</td><td>0.61275100708</td><td>0.502986907959</td></tr>\n",
       "</table><style>table.dataTable {clear: both; width: auto !important; margin: 0 !important;}\n",
       ".dataTables_info, .dataTables_length, .dataTables_filter, .dataTables_paginate{\n",
       "display: inline-block; margin-right: 1em; }\n",
       ".paginate_button { margin-right: 5px; }\n",
       "</style>\n",
       "<script>\n",
       "\n",
       "var astropy_sort_num = function(a, b) {\n",
       "    var a_num = parseFloat(a);\n",
       "    var b_num = parseFloat(b);\n",
       "\n",
       "    if (isNaN(a_num) && isNaN(b_num))\n",
       "        return ((a < b) ? -1 : ((a > b) ? 1 : 0));\n",
       "    else if (!isNaN(a_num) && !isNaN(b_num))\n",
       "        return ((a_num < b_num) ? -1 : ((a_num > b_num) ? 1 : 0));\n",
       "    else\n",
       "        return isNaN(a_num) ? -1 : 1;\n",
       "}\n",
       "\n",
       "require.config({paths: {\n",
       "    datatables: 'https://cdn.datatables.net/1.10.12/js/jquery.dataTables.min'\n",
       "}});\n",
       "require([\"datatables\"], function(){\n",
       "    console.log(\"$('#table140549853690400-573655').dataTable()\");\n",
       "    \n",
       "jQuery.extend( jQuery.fn.dataTableExt.oSort, {\n",
       "    \"optionalnum-asc\": astropy_sort_num,\n",
       "    \"optionalnum-desc\": function (a,b) { return -astropy_sort_num(a, b); }\n",
       "});\n",
       "\n",
       "    $('#table140549853690400-573655').dataTable({\n",
       "        order: [],\n",
       "        pageLength: 100,\n",
       "        lengthMenu: [[10, 25, 50, 100, 500, 1000, -1], [10, 25, 50, 100, 500, 1000, 'All']],\n",
       "        pagingType: \"full_numbers\",\n",
       "        columnDefs: [{targets: [0, 2, 3, 4, 5, 6, 7], type: \"optionalnum\"}]\n",
       "    });\n",
       "});\n",
       "</script>\n"
      ],
      "text/plain": [
       "<IPython.core.display.HTML object>"
      ]
     },
     "execution_count": 9,
     "metadata": {},
     "output_type": "execute_result"
    }
   ],
   "source": [
    "gmm_high_p = Query('TARGETING_SCORE >= 300.0', 'TARGETING_SCORE < 400.0')\n",
    "\n",
    "data = defaultdict(list)\n",
    "\n",
    "for t in targets_all:\n",
    "    host_id = t['HOST_NSAID'][0]\n",
    "    try:\n",
    "        name = saga_host_catalog.id_to_name(host_id)\n",
    "    except KeyError:\n",
    "        name = ''\n",
    "    data['SAGA_name'].append(name)\n",
    "    data['NSAID'].append(host_id)\n",
    "    data['bright'].append(C.sdss_limit.count(t))\n",
    "    data['GMM_high_p'].append(gmm_high_p.count(t))\n",
    "    data['mean_miss_0'].append(t['P_SIMPLE'][C.sdss_limit.count(t):].sum())\n",
    "    for n in (220, 440):\n",
    "        data['mean_miss_{}'.format(n)].append(t['P_SIMPLE'][n:].sum() if len(t) > n else 0)\n",
    "\n",
    "data = Table(data)\n",
    "data.show_in_notebook(display_length=100)"
   ]
  },
  {
   "cell_type": "code",
   "execution_count": null,
   "metadata": {
    "collapsed": true
   },
   "outputs": [],
   "source": []
  }
 ],
 "metadata": {
  "kernelspec": {
   "display_name": "Python 3",
   "language": "python",
   "name": "python3"
  },
  "language_info": {
   "codemirror_mode": {
    "name": "ipython",
    "version": 3
   },
   "file_extension": ".py",
   "mimetype": "text/x-python",
   "name": "python",
   "nbconvert_exporter": "python",
   "pygments_lexer": "ipython3",
   "version": "3.6.2"
  }
 },
 "nbformat": 4,
 "nbformat_minor": 2
}
